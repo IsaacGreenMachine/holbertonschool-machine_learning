{
  "cells": [
    {
      "cell_type": "markdown",
      "metadata": {
        "id": "euo-M5bTifti"
      },
      "source": [
        "Bitcoin (BTC) became a trending topic after its [price peaked in 2018](https://intranet.hbtn.io/rltoken/l0VAZKyAwAswj2P_IeN3PA). Many have sought to predict its value in order to accrue wealth. This is an attempt to use my knowledge of RNNs to attempt just that, given the [coinbase](https://drive.google.com/file/d/16MgiuBfQKzXPoWFWi2w-LKJuZ7LgivpE/view) and [bitstamp](https://drive.google.com/file/d/15A-rLSrfZ0td7muSrYHy0WX9ZqrMweES/view) datasets"
      ]
    },
    {
      "cell_type": "code",
      "execution_count": null,
      "metadata": {
        "id": "urv7csQ8v1OY"
      },
      "outputs": [],
      "source": [
        "import pandas as pd\n",
        "from typing import Tuple\n",
        "import tensorflow as tf\n",
        "import tensorflow.keras as K\n",
        "import numpy as np\n",
        "import os\n",
        "import datetime\n",
        "import matplotlib.pyplot as plt\n",
        "import seaborn as sns"
      ]
    },
    {
      "cell_type": "markdown",
      "metadata": {
        "id": "33x0Ue1qG5kj"
      },
      "source": [
        "- [x] Data loading (tf dataset)\n",
        "- [] test RNN in Keras\n",
        "- [] RNN architecture in Keras\n",
        "- [] RNN training"
      ]
    },
    {
      "cell_type": "markdown",
      "metadata": {
        "id": "zfehng1Ut-aX"
      },
      "source": [
        "## forecast_btc.py in Keras"
      ]
    },
    {
      "cell_type": "code",
      "execution_count": null,
      "metadata": {
        "id": "knWjKj9qhqLg"
      },
      "outputs": [],
      "source": [
        "\"\"\"creates, trains, and validates a keras model for the forecasting of BTC\"\"\"\n",
        "\n",
        "\"\"\"\n",
        "Your model should use the past 24 hours of BTC data to predict the value of BTC at the close of the following hour (approximately how long the average transaction takes):\n",
        "Your model should use an RNN architecture of your choosing\n",
        "Your model should use mean-squared error (MSE) as its cost function\n",
        "You should use a tf.data.Dataset to feed data to your model\n",
        "Because the dataset is raw, you will need to create a script, preprocess_data.py to preprocess this data. Here are some things to consider:\n",
        "\n",
        "Are all of the data points useful?\n",
        "Are all of the data features useful?\n",
        "Should you rescale the data?\n",
        "Is the current time window relevant?\n",
        "How should you save this preprocessed data?\n",
        "\"\"\""
      ]
    },
    {
      "cell_type": "code",
      "execution_count": null,
      "metadata": {
        "id": "xQ7-Wik8SWq3"
      },
      "outputs": [],
      "source": [
        "coinBaseLink = \"https://drive.google.com/u/0/uc?id=16MgiuBfQKzXPoWFWi2w-LKJuZ7LgivpE&export=download&confirm=t&uuid=4024be5f-e199-414e-a288-6f7101cbb902\"\n",
        "bitStampLink = \"https://drive.google.com/u/0/uc?id=15A-rLSrfZ0td7muSrYHy0WX9ZqrMweES&export=download&confirm=t&uuid=a9086e47-7a2e-4794-bc95-1c7b98fa174b\"\n"
      ]
    },
    {
      "cell_type": "markdown",
      "metadata": {
        "id": "DpjdRk1FHyXi"
      },
      "source": [
        "### Experiments"
      ]
    },
    {
      "cell_type": "code",
      "execution_count": null,
      "metadata": {
        "colab": {
          "base_uri": "https://localhost:8080/"
        },
        "id": "7yuqFispSfbd",
        "outputId": "f9bc794b-e132-46ed-e93a-5eca68263e16"
      },
      "outputs": [
        {
          "name": "stdout",
          "output_type": "stream",
          "text": [
            "(4363457, 8)\n",
            "(1745383, 8)\n"
          ]
        }
      ],
      "source": [
        "print(bit_df.shape)\n",
        "bit_df2 = bit_df.tail(round(bit_df.shape[0] * 0.35))\n",
        "print(bit_df2.shape)"
      ]
    },
    {
      "cell_type": "code",
      "execution_count": null,
      "metadata": {
        "id": "QMIoVmn2V2Yy"
      },
      "outputs": [],
      "source": [
        "coin_df2 = coin_df.tail(round(coin_df.shape[0] * 0.35))\n",
        "bit_df2 = bit_df.tail(round(bit_df.shape[0] * 0.35))"
      ]
    },
    {
      "cell_type": "code",
      "execution_count": null,
      "metadata": {
        "colab": {
          "base_uri": "https://localhost:8080/",
          "height": 344
        },
        "id": "pN8VgWBXmYuU",
        "outputId": "9f50c9a8-ab9a-4bcd-af78-6f2414f1dfdc"
      },
      "outputs": [
        {
          "data": {
            "text/plain": [
              "array([<matplotlib.axes._subplots.AxesSubplot object at 0x7fd23ed85b50>,\n",
              "       <matplotlib.axes._subplots.AxesSubplot object at 0x7fd1f658aa50>,\n",
              "       <matplotlib.axes._subplots.AxesSubplot object at 0x7fd23c6ae250>],\n",
              "      dtype=object)"
            ]
          },
          "execution_count": 317,
          "metadata": {},
          "output_type": "execute_result"
        },
        {
          "data": {
            "image/png": "[encoded data removed]",
            "text/plain": [
              "<Figure size 432x288 with 3 Axes>"
            ]
          },
          "metadata": {},
          "output_type": "display_data"
        }
      ],
      "source": [
        "coin_df2.loc[:, ~coin_df2.columns.isin(['Open', 'High', 'Low', 'Close'])].plot(subplots=True, x=\"Timestamp\")"
      ]
    },
    {
      "cell_type": "code",
      "execution_count": null,
      "metadata": {
        "colab": {
          "base_uri": "https://localhost:8080/"
        },
        "id": "8sYOtpJanS3y",
        "outputId": "c9b9bc82-a8a2-4893-9e4d-93b7620c801d"
      },
      "outputs": [
        {
          "name": "stdout",
          "output_type": "stream",
          "text": [
            "Downloading data from https://storage.googleapis.com/tensorflow/tf-keras-datasets/train-labels-idx1-ubyte.gz\n",
            "32768/29515 [=================================] - 0s 0us/step\n",
            "40960/29515 [=========================================] - 0s 0us/step\n",
            "Downloading data from https://storage.googleapis.com/tensorflow/tf-keras-datasets/train-images-idx3-ubyte.gz\n",
            "26427392/26421880 [==============================] - 2s 0us/step\n",
            "26435584/26421880 [==============================] - 2s 0us/step\n",
            "Downloading data from https://storage.googleapis.com/tensorflow/tf-keras-datasets/t10k-labels-idx1-ubyte.gz\n",
            "16384/5148 [===============================================================================================] - 0s 0us/step\n",
            "Downloading data from https://storage.googleapis.com/tensorflow/tf-keras-datasets/t10k-images-idx3-ubyte.gz\n",
            "4423680/4422102 [==============================] - 0s 0us/step\n",
            "4431872/4422102 [==============================] - 0s 0us/step\n"
          ]
        }
      ],
      "source": [
        "train, test = tf.keras.datasets.fashion_mnist.load_data()\n",
        "\n",
        "images, labels = train\n",
        "images = images/255.0\n",
        "labels = labels.astype(np.int32)"
      ]
    },
    {
      "cell_type": "code",
      "execution_count": null,
      "metadata": {
        "colab": {
          "base_uri": "https://localhost:8080/",
          "height": 502
        },
        "id": "Od75an-nZ6Lj",
        "outputId": "7bd3b05b-18e3-470d-e536-5c3b2a540c49"
      },
      "outputs": [
        {
          "data": {
            "text/plain": [
              "<matplotlib.axes._subplots.AxesSubplot at 0x7fd1dd19a590>"
            ]
          },
          "execution_count": 329,
          "metadata": {},
          "output_type": "execute_result"
        },
        {
          "data": {
            "image/png": "[encoded data removed]",
            "text/plain": [
              "<Figure size 1080x576 with 1 Axes>"
            ]
          },
          "metadata": {},
          "output_type": "display_data"
        }
      ],
      "source": [
        "bit_df3 = bit_df2.copy()\n",
        "for column in bit_df2:\n",
        "  bit_df3[column] = (bit_df2[column]-bit_df2[column].min())/(bit_df2[column].max()-bit_df2[column].min())\n",
        "sns.set(rc = {'figure.figsize':(15,8)})\n",
        "sns.violinplot(data=bit_df3)\n"
      ]
    },
    {
      "cell_type": "markdown",
      "metadata": {
        "id": "mAtDwm4JEJuQ"
      },
      "source": [
        "### Raw Data to TF Dataset ready for RNN"
      ]
    },
    {
      "cell_type": "code",
      "execution_count": null,
      "metadata": {
        "id": "mMSNkULUSFsM"
      },
      "outputs": [],
      "source": [
        "def load_tf_dataset(url: str, printInfo: bool=False) -> tf.data.Dataset:\n",
        "    zip_path = tf.keras.utils.get_file(\n",
        "    origin=coinBaseLink,\n",
        "    fname='coinbase.zip',\n",
        "    extract=True)\n",
        "    df = pd.read_csv(zip_path)\n",
        "    if printInfo:\n",
        "      print(df.describe())\n",
        "    return df"
      ]
    },
    {
      "cell_type": "code",
      "execution_count": null,
      "metadata": {
        "colab": {
          "base_uri": "https://localhost:8080/"
        },
        "id": "L6DYTH0vSI1f",
        "outputId": "67e0a371-212b-4a83-e342-4dd34d4cc2e0"
      },
      "outputs": [
        {
          "name": "stdout",
          "output_type": "stream",
          "text": [
            "Downloading data from https://drive.google.com/u/0/uc?id=16MgiuBfQKzXPoWFWi2w-LKJuZ7LgivpE&export=download&confirm=t&uuid=4024be5f-e199-414e-a288-6f7101cbb902\n",
            "52609024/52602556 [==============================] - 3s 0us/step\n",
            "52617216/52602556 [==============================] - 3s 0us/step\n",
            "          Timestamp          Open          High           Low         Close  \\\n",
            "count  2.099760e+06  1.990691e+06  1.990691e+06  1.990691e+06  1.990691e+06   \n",
            "mean   1.483899e+09  3.246403e+03  3.247829e+03  3.244856e+03  3.246403e+03   \n",
            "std    3.638214e+07  3.799154e+03  3.801394e+03  3.796761e+03  3.799150e+03   \n",
            "min    1.417412e+09  6.000000e-02  6.000000e-02  6.000000e-02  6.000000e-02   \n",
            "25%    1.452410e+09  4.195800e+02  4.196400e+02  4.195000e+02  4.195700e+02   \n",
            "50%    1.483906e+09  1.014580e+03  1.014890e+03  1.014150e+03  1.014530e+03   \n",
            "75%    1.515402e+09  6.322630e+03  6.324010e+03  6.321090e+03  6.322670e+03   \n",
            "max    1.546899e+09  1.989199e+04  1.989199e+04  1.989198e+04  1.989199e+04   \n",
            "\n",
            "       Volume_(BTC)  Volume_(Currency)  Weighted_Price  \n",
            "count  1.990691e+06       1.990691e+06    1.990691e+06  \n",
            "mean   7.849139e+00       3.600157e+04    3.246341e+03  \n",
            "std    1.873222e+01       1.401879e+05    3.799078e+03  \n",
            "min    1.000000e-08       2.641700e-06    6.000000e-02  \n",
            "25%    9.024000e-01       6.440031e+02    4.195645e+02  \n",
            "50%    2.692900e+00       3.695642e+03    1.014512e+03  \n",
            "75%    7.600965e+00       1.972392e+04    6.322550e+03  \n",
            "max    1.563267e+03       1.997076e+07    1.989199e+04  \n"
          ]
        }
      ],
      "source": [
        "coin_df = load_tf_dataset(coinBaseLink, True)\n",
        "bit_df = load_tf_dataset(bitStampLink)\n",
        "\n",
        "# only getting last 35% of data\n",
        "bit_df2 = bit_df.tail(round(coin_df.shape[0] * 0.35))\n",
        "coin_df2 = coin_df.tail(round(coin_df.shape[0] * 0.35))\n",
        "\n",
        "# normalize data\n",
        "bit_df3 = bit_df2.copy()\n",
        "coin_df3 = coin_df2.copy()\n",
        "for column in bit_df2:\n",
        "  bit_df3[column] = (bit_df2[column]-bit_df2[column].min())/(bit_df2[column].max()-bit_df2[column].min())\n",
        "for column in coin_df2:\n",
        "  coin_df3[column] = (coin_df2[column]-coin_df2[column].min())/(coin_df2[column].max()-coin_df2[column].min())"
      ]
    },
    {
      "cell_type": "code",
      "execution_count": null,
      "metadata": {
        "id": "k6fC4nK7vlqM"
      },
      "outputs": [],
      "source": [
        "def PrepData(df: pd.DataFrame, input_width: int, offset: int, label_width: int, batch_size: int) -> Tuple[pd.DataFrame, pd.DataFrame]:\n",
        "  \"\"\"\n",
        "  df : pandas DataFrame to prepare for time series RNN model\n",
        "  input_width : how much past data will be used to make prediction \n",
        "  offset : how much into the future prediction will be\n",
        "  label width : how many steps predicted\n",
        "  batch size : how much data is stacked\n",
        "\n",
        "  Returns : a train, val, and test Tensorflow datasets where each iterable element is (inputs, label)\n",
        "  \"\"\"\n",
        "  n = len(df)\n",
        "  train_ds = df_to_ds(df[0:int(n*0.7)], input_width, offset, batch_size, label_width)\n",
        "  val_ds = df_to_ds(df[int(n*0.7):int(n*0.9)], input_width, offset, batch_size, label_width)\n",
        "  test_ds = df_to_ds(df[int(n*0.9):], input_width, offset, batch_size, label_width)\n",
        "  return train_ds, val_ds, test_ds\n",
        "\n",
        "def df_to_ds(df, input_width, offset, batch_size, label_width):\n",
        "    np_data = np.array(df, dtype=np.float32)\n",
        "    ds = tf.keras.utils.timeseries_dataset_from_array(\n",
        "    data=np_data,\n",
        "    targets=None,\n",
        "    sequence_length = input_width + offset,\n",
        "    sequence_stride = 1,\n",
        "    shuffle=True,\n",
        "    batch_size=batch_size,)\n",
        "    ds = ds.map(lambda x: split_window(x, input_width, offset, label_width))\n",
        "    return ds\n",
        "\n",
        "def split_window(features, input_width, offset, label_width):\n",
        "  \"\"\" splits combined data and labels into (data, labels)\"\"\"\n",
        "  inputs = features[:, slice(0, input_width), :]\n",
        "  labels = features[:, slice(input_width + offset - label_width, input_width + offset), :]\n",
        "  return inputs, labels"
      ]
    },
    {
      "cell_type": "code",
      "execution_count": null,
      "metadata": {
        "id": "1J67blCIvnHZ"
      },
      "outputs": [],
      "source": [
        "# df, input shape, offset, label size, batch size\n",
        "train, val, test = PrepData(bit_df3, 1, 1, 1, 32)"
      ]
    },
    {
      "cell_type": "code",
      "execution_count": null,
      "metadata": {
        "colab": {
          "base_uri": "https://localhost:8080/"
        },
        "id": "JiBCnveM-WW6",
        "outputId": "60a1a193-2d0a-41d4-a51c-c979da9903d2"
      },
      "outputs": [
        {
          "name": "stdout",
          "output_type": "stream",
          "text": [
            "(32, 1, 8) (32, 1, 8)\n",
            "(32, 1, 8) (32, 1, 8)\n",
            "(32, 1, 8) (32, 1, 8)\n"
          ]
        }
      ],
      "source": [
        "for i, j in train.take(1):\n",
        "  print(i.shape, j.shape)\n",
        "for i, j in val.take(1):\n",
        "  print(i.shape, j.shape)\n",
        "for i, j in test.take(1):\n",
        "  print(i.shape, j.shape)"
      ]
    },
    {
      "cell_type": "code",
      "execution_count": null,
      "metadata": {
        "colab": {
          "base_uri": "https://localhost:8080/"
        },
        "id": "e4ucHF2zQ_mc",
        "outputId": "feeb6461-3854-4b50-f0cc-655bda435916"
      },
      "outputs": [
        {
          "name": "stdout",
          "output_type": "stream",
          "text": [
            "(<tf.Tensor: shape=(32, 1, 8), dtype=float32, numpy=\n",
            "array([[[0.34504536, 0.3053394 , 0.3052207 , 0.3037311 , 0.30472282,\n",
            "         0.02696663, 0.01268138, 0.30423978]],\n",
            "\n",
            "       [[0.4857106 , 0.3262629 , 0.32653442, 0.32616124, 0.3266304 ,\n",
            "         0.03659004, 0.0180017 , 0.32641625]],\n",
            "\n",
            "       [[0.21198098, 0.440891  , 0.44161075, 0.43989673, 0.44047695,\n",
            "         0.02052228, 0.01239602, 0.4408055 ]],\n",
            "\n",
            "       [[0.65086436, 0.19455656, 0.19441894, 0.19456084, 0.19456074,\n",
            "         0.0006841 , 0.00024821, 0.19455764]],\n",
            "\n",
            "       [[0.43457544, 0.33055565, 0.33044124, 0.3305598 , 0.33055958,\n",
            "         0.00015729, 0.00007802, 0.33055672]],\n",
            "\n",
            "       [[0.6211276 , 0.1845228 , 0.18438405, 0.18452772, 0.18452762,\n",
            "         0.00255682, 0.00090256, 0.18452418]],\n",
            "\n",
            "       [[0.65402395, 0.19604738, 0.19591   , 0.19605166, 0.19605154,\n",
            "         0.00018731, 0.00006823, 0.19604844]],\n",
            "\n",
            "       [[0.31548002, 0.4324716 , 0.43408385, 0.43079406, 0.4307938 ,\n",
            "         0.01076727, 0.00641417, 0.43231362]],\n",
            "\n",
            "       [[0.17326085, 0.19929798, 0.19970627, 0.19930284, 0.19984655,\n",
            "         0.00517192, 0.00190061, 0.19931264]],\n",
            "\n",
            "       [[0.13001503, 0.17703678, 0.17689617, 0.17704116, 0.17704165,\n",
            "         0.00128046, 0.00044261, 0.17703804]],\n",
            "\n",
            "       [[0.09531987, 0.08496425, 0.0848079 , 0.08496912, 0.08496965,\n",
            "         0.00179849, 0.00045948, 0.08496568]],\n",
            "\n",
            "       [[0.69513345, 0.23451133, 0.23438053, 0.23443855, 0.23444197,\n",
            "         0.00079073, 0.0003178 , 0.2344489 ]],\n",
            "\n",
            "       [[0.03318207, 0.10913242, 0.10902218, 0.10913716, 0.10917965,\n",
            "         0.03159532, 0.00882014, 0.10913786]],\n",
            "\n",
            "       [[0.46743366, 0.22858174, 0.22845054, 0.22858645, 0.2285869 ,\n",
            "         0.00111448, 0.00044151, 0.2285835 ]],\n",
            "\n",
            "       [[0.63831735, 0.21369424, 0.21356049, 0.21369903, 0.21369949,\n",
            "         0.00382287, 0.00145871, 0.21369609]],\n",
            "\n",
            "       [[0.59032404, 0.20990336, 0.20976837, 0.20990698, 0.20990685,\n",
            "         0.01219981, 0.00460982, 0.20990397]],\n",
            "\n",
            "       [[0.5613411 , 0.24487257, 0.24479972, 0.24472408, 0.2449326 ,\n",
            "         0.00261772, 0.00107867, 0.24482235]],\n",
            "\n",
            "       [[0.5009736 , 0.36412743, 0.36401877, 0.36413082, 0.36413118,\n",
            "         0.00072912, 0.00038565, 0.36412847]],\n",
            "\n",
            "       [[0.26565114, 0.70493907, 0.7070236 , 0.7049413 , 0.7049426 ,\n",
            "         0.0041258 , 0.00356212, 0.7055841 ]],\n",
            "\n",
            "       [[0.33946374, 0.30626157, 0.3084429 , 0.30626583, 0.3085651 ,\n",
            "         0.03165289, 0.01496613, 0.30685198]],\n",
            "\n",
            "       [[0.5321255 , 0.3277732 , 0.32765895, 0.3277774 , 0.32777718,\n",
            "         0.00439908, 0.00217013, 0.3277747 ]],\n",
            "\n",
            "       [[0.28459346, 0.7798004 , 0.7797628 , 0.7798016 , 0.7798017 ,\n",
            "         0.00411911, 0.00385579, 0.7798007 ]],\n",
            "\n",
            "       [[0.48973963, 0.3535451 , 0.35343465, 0.3534315 , 0.35343188,\n",
            "         0.00206978, 0.00107316, 0.35347953]],\n",
            "\n",
            "       [[0.5371165 , 0.31518164, 0.31506523, 0.3146793 , 0.3147128 ,\n",
            "         0.01057665, 0.00508445, 0.31492063]],\n",
            "\n",
            "       [[0.08512821, 0.07268834, 0.0725299 , 0.07269328, 0.07269324,\n",
            "         0.00514944, 0.00125368, 0.07268973]],\n",
            "\n",
            "       [[0.45097595, 0.23561615, 0.23572202, 0.23562022, 0.23585652,\n",
            "         0.00251321, 0.00101312, 0.23569092]],\n",
            "\n",
            "       [[0.46252152, 0.24055855, 0.24042878, 0.24017657, 0.24017644,\n",
            "         0.01266974, 0.00516425, 0.24027185]],\n",
            "\n",
            "       [[0.13157712, 0.1779406 , 0.1797518 , 0.17794499, 0.17981283,\n",
            "         0.10765909, 0.03739174, 0.17872095]],\n",
            "\n",
            "       [[0.100232  , 0.07861379, 0.07845636, 0.07861928, 0.07861923,\n",
            "         0.00371364, 0.00092567, 0.07861523]],\n",
            "\n",
            "       [[0.55313605, 0.2688705 , 0.26969332, 0.26887497, 0.26943758,\n",
            "         0.00358579, 0.00156272, 0.2690668 ]],\n",
            "\n",
            "       [[0.6971364 , 0.23608314, 0.2364238 , 0.23608719, 0.23655818,\n",
            "         0.00250501, 0.00101127, 0.23628555]],\n",
            "\n",
            "       [[0.02540022, 0.07837734, 0.07821986, 0.07838224, 0.07838278,\n",
            "         0.00227883, 0.0005675 , 0.07837871]]], dtype=float32)>, <tf.Tensor: shape=(32, 1, 8), dtype=float32, numpy=\n",
            "array([[[0.3450467 , 0.3047193 , 0.30578297, 0.3037311 , 0.30422452,\n",
            "         0.02689932, 0.0126813 , 0.30543816]],\n",
            "\n",
            "       [[0.48571196, 0.32662582, 0.3265108 , 0.3264763 , 0.32647672,\n",
            "         0.00624437, 0.00307279, 0.32652357]],\n",
            "\n",
            "       [[0.21198234, 0.4405913 , 0.4404957 , 0.44030994, 0.44058338,\n",
            "         0.01359004, 0.00820554, 0.44056368]],\n",
            "\n",
            "       [[0.65086573, 0.19455597, 0.19441894, 0.19418313, 0.19456132,\n",
            "         0.01510794, 0.0054802 , 0.19446437]],\n",
            "\n",
            "       [[0.43457678, 0.33055565, 0.33044124, 0.32996392, 0.32996434,\n",
            "         0.01310134, 0.00649448, 0.3302221 ]],\n",
            "\n",
            "       [[0.621129  , 0.18452339, 0.18438405, 0.18452772, 0.1845282 ,\n",
            "         0.00180785, 0.00063817, 0.18452467]],\n",
            "\n",
            "       [[0.6540253 , 0.19604678, 0.19597977, 0.19605166, 0.19612189,\n",
            "         0.00017481, 0.00006369, 0.19609435]],\n",
            "\n",
            "       [[0.3154814 , 0.43192893, 0.43350327, 0.43087503, 0.4336028 ,\n",
            "         0.00250343, 0.00149174, 0.4324849 ]],\n",
            "\n",
            "       [[0.17326221, 0.19984181, 0.1999002 , 0.19984667, 0.20002387,\n",
            "         0.00505023, 0.00185927, 0.19999515]],\n",
            "\n",
            "       [[0.1300164 , 0.17703678, 0.17689617, 0.17704116, 0.17704105,\n",
            "         0.00226463, 0.00078281, 0.17703785]],\n",
            "\n",
            "       [[0.09532123, 0.08496425, 0.0848079 , 0.08496971, 0.08496965,\n",
            "         0.00073183, 0.00018697, 0.08496568]],\n",
            "\n",
            "       [[0.6951348 , 0.23443449, 0.23430367, 0.23443855, 0.234439  ,\n",
            "         0.00037207, 0.00014953, 0.23443565]],\n",
            "\n",
            "       [[0.03318343, 0.10917439, 0.10902218, 0.10917972, 0.10917965,\n",
            "         0.00186784, 0.0005215 , 0.10917579]],\n",
            "\n",
            "       [[0.467435  , 0.22858234, 0.22845112, 0.22858645, 0.2285863 ,\n",
            "         0.00973552, 0.00385679, 0.22858359]],\n",
            "\n",
            "       [[0.6383187 , 0.21369484, 0.21356049, 0.21369903, 0.21369949,\n",
            "         0.00106344, 0.00040578, 0.21369608]],\n",
            "\n",
            "       [[0.5903254 , 0.20990278, 0.20976777, 0.20990698, 0.20990685,\n",
            "         0.00636645, 0.00240562, 0.20990367]],\n",
            "\n",
            "       [[0.5613425 , 0.24492873, 0.24479972, 0.24472408, 0.24472453,\n",
            "         0.00185235, 0.00076312, 0.24473467]],\n",
            "\n",
            "       [[0.50097495, 0.36412683, 0.36401877, 0.36413082, 0.3641306 ,\n",
            "         0.00096331, 0.00050952, 0.36412793]],\n",
            "\n",
            "       [[0.26565248, 0.70494086, 0.70489043, 0.7049129 , 0.7049131 ,\n",
            "         0.00489898, 0.00422647, 0.704917  ]],\n",
            "\n",
            "       [[0.3394651 , 0.30826133, 0.3084435 , 0.30625993, 0.30625975,\n",
            "         0.03450914, 0.01633669, 0.30744565]],\n",
            "\n",
            "       [[0.53212684, 0.3277738 , 0.32788894, 0.3277774 , 0.32800773,\n",
            "         0.00747727, 0.00368872, 0.32778507]],\n",
            "\n",
            "       [[0.2845948 , 0.7798004 , 0.7803723 , 0.7798022 , 0.78041   ,\n",
            "         0.00261477, 0.00244894, 0.78031516]],\n",
            "\n",
            "       [[0.489741  , 0.35342747, 0.353317  , 0.3526039 , 0.3526037 ,\n",
            "         0.0028346 , 0.00146807, 0.35288623]],\n",
            "\n",
            "       [[0.5371179 , 0.31470874, 0.31459165, 0.3139451 , 0.31394494,\n",
            "         0.01819207, 0.00873311, 0.31423357]],\n",
            "\n",
            "       [[0.08512957, 0.07268834, 0.0725299 , 0.07269328, 0.07269382,\n",
            "         0.00094279, 0.00022953, 0.07268967]],\n",
            "\n",
            "       [[0.45097733, 0.2358526 , 0.2359532 , 0.23585725, 0.23608823,\n",
            "         0.00285585, 0.00115234, 0.2360814 ]],\n",
            "\n",
            "       [[0.46252286, 0.24017195, 0.24004272, 0.24017657, 0.24017644,\n",
            "         0.00304503, 0.00124088, 0.2401734 ]],\n",
            "\n",
            "       [[0.13157848, 0.17988956, 0.18062267, 0.1798945 , 0.18076749,\n",
            "         0.02006207, 0.0069959 , 0.18014681]],\n",
            "\n",
            "       [[0.10023336, 0.07861379, 0.07846109, 0.07861928, 0.07862337,\n",
            "         0.003861  , 0.00096241, 0.07861629]],\n",
            "\n",
            "       [[0.5531374 , 0.26943326, 0.26968387, 0.26943713, 0.26943758,\n",
            "         0.00097941, 0.00042729, 0.26953474]],\n",
            "\n",
            "       [[0.6971378 , 0.23655427, 0.23657162, 0.23655891, 0.23670596,\n",
            "         0.0010813 , 0.00043696, 0.23669742]],\n",
            "\n",
            "       [[0.02540158, 0.07837734, 0.07821986, 0.07838283, 0.07838278,\n",
            "         0.00169312, 0.00042164, 0.07837878]]], dtype=float32)>)\n"
          ]
        }
      ],
      "source": [
        "i = 0\n",
        "for poo in train.take(1):\n",
        "  print(poo)"
      ]
    },
    {
      "cell_type": "code",
      "execution_count": null,
      "metadata": {
        "id": "WkKCIpVcD89z"
      },
      "outputs": [],
      "source": [
        "dir(val)"
      ]
    },
    {
      "cell_type": "markdown",
      "metadata": {
        "id": "nbP63NL7Qoq2"
      },
      "source": [
        "### Raw Dataset to Pandas DF (TF Dataset did not work)"
      ]
    },
    {
      "cell_type": "code",
      "execution_count": null,
      "metadata": {
        "id": "tzJLxjO8bMq7"
      },
      "outputs": [],
      "source": [
        "np.set_printoptions(suppress=True)"
      ]
    },
    {
      "cell_type": "code",
      "execution_count": null,
      "metadata": {
        "id": "SW8MKW7BQsW7"
      },
      "outputs": [],
      "source": [
        "def data_to_np(df, input_width, offset, label_width):\n",
        "    \"\"\" \n",
        "    turns a data frame into np data for time series forecasting\n",
        "    inputs dataframe \n",
        "    returns:\n",
        "        np.ndarray(samples, input_width, features)\n",
        "        np.ndarray(samples, label_width, features)\n",
        "    \"\"\"    \n",
        "    np_data = np.array(df, dtype=np.float32)\n",
        "    windows = np.lib.stride_tricks.sliding_window_view(np_data, (input_width + offset + label_width, np_data.shape[1]))\n",
        "    windows = windows.reshape(((-1, input_width + offset + label_width, np_data.shape[1])))\n",
        "    return windows[:, :input_width], windows[:, input_width + offset:input_width + offset + label_width]\n",
        "\n",
        "def data_to_np_batches(df, input_width, offset, label_width, batch_size=32):\n",
        "    \"\"\" \n",
        "    turns a data frame into np data for time series forecasting\n",
        "    inputs dataframe \n",
        "    returns:\n",
        "        np.ndarray(samples, batch_size, input_width, features)\n",
        "        np.ndarray(samples, batch_size, label_width, features)\n",
        "    \"\"\"    \n",
        "    np_data = np.array(df, dtype=np.float32)\n",
        "    windows = np.lib.stride_tricks.sliding_window_view(np_data, (input_width + offset + label_width, np_data.shape[1]))\n",
        "    windows = windows.reshape(((-1, input_width + offset + label_width, np_data.shape[1])))\n",
        "    batches = windows[windows.shape[0] % batch_size:].reshape(-1, batch_size, input_width + offset + label_width, np_data.shape[1])\n",
        "    return batches[:, :, :input_width, :], batches[:, :, input_width + offset:, :]"
      ]
    },
    {
      "cell_type": "code",
      "execution_count": null,
      "metadata": {
        "colab": {
          "base_uri": "https://localhost:8080/"
        },
        "id": "BJEzJjEWkc9s",
        "outputId": "b4087140-ca22-44c1-c4b9-35e1f9028204"
      },
      "outputs": [
        {
          "name": "stdout",
          "output_type": "stream",
          "text": [
            "(22920, 32, 1440, 8)\n",
            "(22920, 32, 1, 8)\n"
          ]
        }
      ],
      "source": [
        "dat, lab = data_to_np_batches(bit_df2, 1440, 6, 1)\n",
        "print(dat.shape)\n",
        "print(lab.shape)"
      ]
    },
    {
      "cell_type": "markdown",
      "metadata": {
        "id": "Q1YBdqvkEmp5"
      },
      "source": [
        "### Build RNN Model"
      ]
    },
    {
      "cell_type": "code",
      "execution_count": null,
      "metadata": {
        "id": "o74qgy-iEoNW"
      },
      "outputs": [],
      "source": [
        "class Baseline(tf.keras.Model):\n",
        "  def __init__(self, label_index=None):\n",
        "    super().__init__()\n",
        "\n",
        "  def call(self, inputs):\n",
        "      return inputs"
      ]
    },
    {
      "cell_type": "code",
      "execution_count": null,
      "metadata": {
        "colab": {
          "base_uri": "https://localhost:8080/"
        },
        "id": "p3THHlVzE3Pm",
        "outputId": "dc25ecce-219a-4de5-d31b-33387654fa02"
      },
      "outputs": [
        {
          "name": "stdout",
          "output_type": "stream",
          "text": [
            "4594/4594 [==============================] - 54s 12ms/step - loss: nan - mean_absolute_error: nan\n"
          ]
        },
        {
          "data": {
            "text/plain": [
              "[nan, nan]"
            ]
          },
          "execution_count": 334,
          "metadata": {},
          "output_type": "execute_result"
        }
      ],
      "source": [
        "baseline = Baseline()\n",
        "\n",
        "baseline.compile(loss=tf.keras.losses.MeanSquaredError(),\n",
        "                 metrics=[tf.keras.metrics.MeanAbsoluteError()])\n",
        "\n",
        "baseline.evaluate(val)\n",
        "# baseline.evaluate(test, verbose=0)"
      ]
    },
    {
      "cell_type": "code",
      "execution_count": null,
      "metadata": {
        "colab": {
          "base_uri": "https://localhost:8080/"
        },
        "id": "YrQ4E9hRLPEu",
        "outputId": "b6a86bfb-3623-4b93-c987-9dea5bc85b24"
      },
      "outputs": [
        {
          "name": "stdout",
          "output_type": "stream",
          "text": [
            "['OVERLOADABLE_OPERATORS', '_USE_EQUALITY', '__abs__', '__add__', '__and__', '__array__', '__array_priority__', '__bool__', '__class__', '__complex__', '__copy__', '__deepcopy__', '__delattr__', '__dict__', '__dir__', '__div__', '__doc__', '__eq__', '__float__', '__floordiv__', '__format__', '__ge__', '__getattr__', '__getattribute__', '__getitem__', '__gt__', '__hash__', '__index__', '__init__', '__init_subclass__', '__int__', '__invert__', '__iter__', '__le__', '__len__', '__long__', '__lt__', '__matmul__', '__mod__', '__module__', '__mul__', '__ne__', '__neg__', '__new__', '__nonzero__', '__or__', '__pow__', '__radd__', '__rand__', '__rdiv__', '__reduce__', '__reduce_ex__', '__repr__', '__rfloordiv__', '__rmatmul__', '__rmod__', '__rmul__', '__ror__', '__round__', '__rpow__', '__rsub__', '__rtruediv__', '__rxor__', '__setattr__', '__sizeof__', '__str__', '__sub__', '__subclasshook__', '__tf_tracing_type__', '__truediv__', '__weakref__', '__xor__', '_add_consumer', '_as_node_def_input', '_as_tf_output', '_c_api_shape', '_copy', '_copy_nograd', '_copy_to_device', '_create_with_tf_output', '_datatype_enum', '_disallow_bool_casting', '_disallow_in_graph_mode', '_disallow_iteration', '_disallow_when_autograph_disabled', '_disallow_when_autograph_enabled', '_disallow_when_autograph_unavailable', '_handle_data', '_id', '_matmul', '_num_elements', '_numpy', '_numpy_internal', '_numpy_style_getitem', '_override_operator', '_prefer_custom_summarizer', '_rank', '_shape', '_shape_as_list', '_shape_tuple', '_summarize_value', '_tensor_shape', '_tf_api_names', '_tf_api_names_v1', '_with_index_add', '_with_index_max', '_with_index_min', '_with_index_update', 'backing_device', 'consumers', 'cpu', 'device', 'dtype', 'eval', 'experimental_ref', 'get_shape', 'gpu', 'graph', 'is_packed', 'name', 'ndim', 'numpy', 'op', 'ref', 'set_shape', 'shape', 'value_index']\n"
          ]
        }
      ],
      "source": []
    },
    {
      "cell_type": "code",
      "execution_count": null,
      "metadata": {
        "id": "b61esnryO6e5"
      },
      "outputs": [],
      "source": [
        "linear = tf.keras.Sequential([\n",
        "    tf.keras.layers.Dense(units=1)\n",
        "])"
      ]
    },
    {
      "cell_type": "code",
      "execution_count": null,
      "metadata": {
        "id": "yXx7fmtXO7aE"
      },
      "outputs": [],
      "source": [
        "MAX_EPOCHS = 20\n",
        "\n",
        "def compile_and_fit(model, val, test, train, patience=2):\n",
        "  early_stopping = tf.keras.callbacks.EarlyStopping(monitor='val_loss',\n",
        "                                                    patience=patience,\n",
        "                                                    mode='min')\n",
        "\n",
        "  model.compile(loss=tf.keras.losses.MeanSquaredError(),\n",
        "                optimizer=tf.keras.optimizers.Adam(),\n",
        "                metrics=[tf.keras.metrics.MeanAbsoluteError()])\n",
        "\n",
        "  history = model.fit(train, epochs=MAX_EPOCHS,\n",
        "                      validation_data=val,\n",
        "                      callbacks=[early_stopping])\n",
        "  return history"
      ]
    },
    {
      "cell_type": "markdown",
      "metadata": {
        "id": "3ETAzR6e9twk"
      },
      "source": [
        "## playground"
      ]
    },
    {
      "cell_type": "code",
      "execution_count": null,
      "metadata": {
        "colab": {
          "base_uri": "https://localhost:8080/"
        },
        "id": "nw63mJa___o5",
        "outputId": "508b1ce4-5610-44c5-8321-49dc37556f76"
      },
      "outputs": [
        {
          "name": "stdout",
          "output_type": "stream",
          "text": [
            "Downloading data from https://storage.googleapis.com/tensorflow/tf-keras-datasets/jena_climate_2009_2016.csv.zip\n",
            "13574144/13568290 [==============================] - 1s 0us/step\n",
            "13582336/13568290 [==============================] - 1s 0us/step\n"
          ]
        }
      ],
      "source": [
        "zip_path = tf.keras.utils.get_file(\n",
        "    origin='https://storage.googleapis.com/tensorflow/tf-keras-datasets/jena_climate_2009_2016.csv.zip',\n",
        "    fname='jena_climate_2009_2016.csv.zip',\n",
        "    extract=True)\n",
        "csv_path, _ = os.path.splitext(zip_path)\n",
        "df = pd.read_csv(csv_path)"
      ]
    },
    {
      "cell_type": "code",
      "execution_count": null,
      "metadata": {
        "colab": {
          "base_uri": "https://localhost:8080/"
        },
        "id": "iGxHxfk0AQS7",
        "outputId": "3932ca5d-3414-4100-af15-f62f21e0e000"
      },
      "outputs": [
        {
          "name": "stdout",
          "output_type": "stream",
          "text": [
            "0    01.01.2009 00:10:00\n",
            "1    01.01.2009 00:20:00\n",
            "2    01.01.2009 00:30:00\n",
            "3    01.01.2009 00:40:00\n",
            "4    01.01.2009 00:50:00\n",
            "5    01.01.2009 01:00:00\n",
            "6    01.01.2009 01:10:00\n",
            "7    01.01.2009 01:20:00\n",
            "8    01.01.2009 01:30:00\n",
            "9    01.01.2009 01:40:00\n",
            "Name: Date Time, dtype: object\n"
          ]
        }
      ],
      "source": [
        "# print(df.columns)\n",
        "# print(df.describe())\n",
        "print(df[\"Date Time\"].head(10))"
      ]
    },
    {
      "cell_type": "code",
      "execution_count": null,
      "metadata": {
        "id": "wI9-9KbYC4rj"
      },
      "outputs": [],
      "source": [
        "df = df[5::6]\n",
        "\n",
        "date_time = pd.to_datetime(df.pop('Date Time'), format='%d.%m.%Y %H:%M:%S')"
      ]
    },
    {
      "cell_type": "code",
      "execution_count": null,
      "metadata": {
        "colab": {
          "base_uri": "https://localhost:8080/",
          "height": 201
        },
        "id": "5wKZxPcRC616",
        "outputId": "6504f25b-8b65-486c-da26-ce2c41cd6f7c"
      },
      "outputs": [
        {
          "data": {
            "text/html": [
              "\n",
              "  <div id=\"df-1635ca46-15b3-4ef8-9475-75c7da9c8a3d\">\n",
              "    <div class=\"colab-df-container\">\n",
              "      <div>\n",
              "<style scoped>\n",
              "    .dataframe tbody tr th:only-of-type {\n",
              "        vertical-align: middle;\n",
              "    }\n",
              "\n",
              "    .dataframe tbody tr th {\n",
              "        vertical-align: top;\n",
              "    }\n",
              "\n",
              "    .dataframe thead th {\n",
              "        text-align: right;\n",
              "    }\n",
              "</style>\n",
              "<table border=\"1\" class=\"dataframe\">\n",
              "  <thead>\n",
              "    <tr style=\"text-align: right;\">\n",
              "      <th></th>\n",
              "      <th>p (mbar)</th>\n",
              "      <th>T (degC)</th>\n",
              "      <th>Tpot (K)</th>\n",
              "      <th>Tdew (degC)</th>\n",
              "      <th>rh (%)</th>\n",
              "      <th>VPmax (mbar)</th>\n",
              "      <th>VPact (mbar)</th>\n",
              "      <th>VPdef (mbar)</th>\n",
              "      <th>sh (g/kg)</th>\n",
              "      <th>H2OC (mmol/mol)</th>\n",
              "      <th>rho (g/m**3)</th>\n",
              "      <th>wv (m/s)</th>\n",
              "      <th>max. wv (m/s)</th>\n",
              "      <th>wd (deg)</th>\n",
              "    </tr>\n",
              "  </thead>\n",
              "  <tbody>\n",
              "    <tr>\n",
              "      <th>5</th>\n",
              "      <td>996.50</td>\n",
              "      <td>-8.05</td>\n",
              "      <td>265.38</td>\n",
              "      <td>-8.78</td>\n",
              "      <td>94.4</td>\n",
              "      <td>3.33</td>\n",
              "      <td>3.14</td>\n",
              "      <td>0.19</td>\n",
              "      <td>1.96</td>\n",
              "      <td>3.15</td>\n",
              "      <td>1307.86</td>\n",
              "      <td>0.21</td>\n",
              "      <td>0.63</td>\n",
              "      <td>192.7</td>\n",
              "    </tr>\n",
              "    <tr>\n",
              "      <th>11</th>\n",
              "      <td>996.62</td>\n",
              "      <td>-8.88</td>\n",
              "      <td>264.54</td>\n",
              "      <td>-9.77</td>\n",
              "      <td>93.2</td>\n",
              "      <td>3.12</td>\n",
              "      <td>2.90</td>\n",
              "      <td>0.21</td>\n",
              "      <td>1.81</td>\n",
              "      <td>2.91</td>\n",
              "      <td>1312.25</td>\n",
              "      <td>0.25</td>\n",
              "      <td>0.63</td>\n",
              "      <td>190.3</td>\n",
              "    </tr>\n",
              "    <tr>\n",
              "      <th>17</th>\n",
              "      <td>996.84</td>\n",
              "      <td>-8.81</td>\n",
              "      <td>264.59</td>\n",
              "      <td>-9.66</td>\n",
              "      <td>93.5</td>\n",
              "      <td>3.13</td>\n",
              "      <td>2.93</td>\n",
              "      <td>0.20</td>\n",
              "      <td>1.83</td>\n",
              "      <td>2.94</td>\n",
              "      <td>1312.18</td>\n",
              "      <td>0.18</td>\n",
              "      <td>0.63</td>\n",
              "      <td>167.2</td>\n",
              "    </tr>\n",
              "    <tr>\n",
              "      <th>23</th>\n",
              "      <td>996.99</td>\n",
              "      <td>-9.05</td>\n",
              "      <td>264.34</td>\n",
              "      <td>-10.02</td>\n",
              "      <td>92.6</td>\n",
              "      <td>3.07</td>\n",
              "      <td>2.85</td>\n",
              "      <td>0.23</td>\n",
              "      <td>1.78</td>\n",
              "      <td>2.85</td>\n",
              "      <td>1313.61</td>\n",
              "      <td>0.10</td>\n",
              "      <td>0.38</td>\n",
              "      <td>240.0</td>\n",
              "    </tr>\n",
              "    <tr>\n",
              "      <th>29</th>\n",
              "      <td>997.46</td>\n",
              "      <td>-9.63</td>\n",
              "      <td>263.72</td>\n",
              "      <td>-10.65</td>\n",
              "      <td>92.2</td>\n",
              "      <td>2.94</td>\n",
              "      <td>2.71</td>\n",
              "      <td>0.23</td>\n",
              "      <td>1.69</td>\n",
              "      <td>2.71</td>\n",
              "      <td>1317.19</td>\n",
              "      <td>0.40</td>\n",
              "      <td>0.88</td>\n",
              "      <td>157.0</td>\n",
              "    </tr>\n",
              "  </tbody>\n",
              "</table>\n",
              "</div>\n",
              "      <button class=\"colab-df-convert\" onclick=\"convertToInteractive('df-1635ca46-15b3-4ef8-9475-75c7da9c8a3d')\"\n",
              "              title=\"Convert this dataframe to an interactive table.\"\n",
              "              style=\"display:none;\">\n",
              "        \n",
              "  <svg xmlns=\"http://www.w3.org/2000/svg\" height=\"24px\"viewBox=\"0 0 24 24\"\n",
              "       width=\"24px\">\n",
              "    <path d=\"M0 0h24v24H0V0z\" fill=\"none\"/>\n",
              "    <path d=\"M18.56 5.44l.94 2.06.94-2.06 2.06-.94-2.06-.94-.94-2.06-.94 2.06-2.06.94zm-11 1L8.5 8.5l.94-2.06 2.06-.94-2.06-.94L8.5 2.5l-.94 2.06-2.06.94zm10 10l.94 2.06.94-2.06 2.06-.94-2.06-.94-.94-2.06-.94 2.06-2.06.94z\"/><path d=\"M17.41 7.96l-1.37-1.37c-.4-.4-.92-.59-1.43-.59-.52 0-1.04.2-1.43.59L10.3 9.45l-7.72 7.72c-.78.78-.78 2.05 0 2.83L4 21.41c.39.39.9.59 1.41.59.51 0 1.02-.2 1.41-.59l7.78-7.78 2.81-2.81c.8-.78.8-2.07 0-2.86zM5.41 20L4 18.59l7.72-7.72 1.47 1.35L5.41 20z\"/>\n",
              "  </svg>\n",
              "      </button>\n",
              "      \n",
              "  <style>\n",
              "    .colab-df-container {\n",
              "      display:flex;\n",
              "      flex-wrap:wrap;\n",
              "      gap: 12px;\n",
              "    }\n",
              "\n",
              "    .colab-df-convert {\n",
              "      background-color: #E8F0FE;\n",
              "      border: none;\n",
              "      border-radius: 50%;\n",
              "      cursor: pointer;\n",
              "      display: none;\n",
              "      fill: #1967D2;\n",
              "      height: 32px;\n",
              "      padding: 0 0 0 0;\n",
              "      width: 32px;\n",
              "    }\n",
              "\n",
              "    .colab-df-convert:hover {\n",
              "      background-color: #E2EBFA;\n",
              "      box-shadow: 0px 1px 2px rgba(60, 64, 67, 0.3), 0px 1px 3px 1px rgba(60, 64, 67, 0.15);\n",
              "      fill: #174EA6;\n",
              "    }\n",
              "\n",
              "    [theme=dark] .colab-df-convert {\n",
              "      background-color: #3B4455;\n",
              "      fill: #D2E3FC;\n",
              "    }\n",
              "\n",
              "    [theme=dark] .colab-df-convert:hover {\n",
              "      background-color: #434B5C;\n",
              "      box-shadow: 0px 1px 3px 1px rgba(0, 0, 0, 0.15);\n",
              "      filter: drop-shadow(0px 1px 2px rgba(0, 0, 0, 0.3));\n",
              "      fill: #FFFFFF;\n",
              "    }\n",
              "  </style>\n",
              "\n",
              "      <script>\n",
              "        const buttonEl =\n",
              "          document.querySelector('#df-1635ca46-15b3-4ef8-9475-75c7da9c8a3d button.colab-df-convert');\n",
              "        buttonEl.style.display =\n",
              "          google.colab.kernel.accessAllowed ? 'block' : 'none';\n",
              "\n",
              "        async function convertToInteractive(key) {\n",
              "          const element = document.querySelector('#df-1635ca46-15b3-4ef8-9475-75c7da9c8a3d');\n",
              "          const dataTable =\n",
              "            await google.colab.kernel.invokeFunction('convertToInteractive',\n",
              "                                                     [key], {});\n",
              "          if (!dataTable) return;\n",
              "\n",
              "          const docLinkHtml = 'Like what you see? Visit the ' +\n",
              "            '<a target=\"_blank\" href=https://colab.research.google.com/notebooks/data_table.ipynb>data table notebook</a>'\n",
              "            + ' to learn more about interactive tables.';\n",
              "          element.innerHTML = '';\n",
              "          dataTable['output_type'] = 'display_data';\n",
              "          await google.colab.output.renderOutput(dataTable, element);\n",
              "          const docLink = document.createElement('div');\n",
              "          docLink.innerHTML = docLinkHtml;\n",
              "          element.appendChild(docLink);\n",
              "        }\n",
              "      </script>\n",
              "    </div>\n",
              "  </div>\n",
              "  "
            ],
            "text/plain": [
              "    p (mbar)  T (degC)  Tpot (K)  Tdew (degC)  rh (%)  VPmax (mbar)  \\\n",
              "5     996.50     -8.05    265.38        -8.78    94.4          3.33   \n",
              "11    996.62     -8.88    264.54        -9.77    93.2          3.12   \n",
              "17    996.84     -8.81    264.59        -9.66    93.5          3.13   \n",
              "23    996.99     -9.05    264.34       -10.02    92.6          3.07   \n",
              "29    997.46     -9.63    263.72       -10.65    92.2          2.94   \n",
              "\n",
              "    VPact (mbar)  VPdef (mbar)  sh (g/kg)  H2OC (mmol/mol)  rho (g/m**3)  \\\n",
              "5           3.14          0.19       1.96             3.15       1307.86   \n",
              "11          2.90          0.21       1.81             2.91       1312.25   \n",
              "17          2.93          0.20       1.83             2.94       1312.18   \n",
              "23          2.85          0.23       1.78             2.85       1313.61   \n",
              "29          2.71          0.23       1.69             2.71       1317.19   \n",
              "\n",
              "    wv (m/s)  max. wv (m/s)  wd (deg)  \n",
              "5       0.21           0.63     192.7  \n",
              "11      0.25           0.63     190.3  \n",
              "17      0.18           0.63     167.2  \n",
              "23      0.10           0.38     240.0  \n",
              "29      0.40           0.88     157.0  "
            ]
          },
          "execution_count": 7,
          "metadata": {},
          "output_type": "execute_result"
        }
      ],
      "source": [
        "df.head()"
      ]
    },
    {
      "cell_type": "code",
      "execution_count": null,
      "metadata": {
        "colab": {
          "base_uri": "https://localhost:8080/",
          "height": 551
        },
        "id": "QtXMM5nADQtX",
        "outputId": "464e3c26-86b5-404e-a076-5d667817ee06"
      },
      "outputs": [
        {
          "data": {
            "image/png": "[encoded data removed]",
            "text/plain": [
              "<Figure size 432x288 with 3 Axes>"
            ]
          },
          "metadata": {},
          "output_type": "display_data"
        },
        {
          "data": {
            "image/png": "[encoded data removed]",
            "text/plain": [
              "<Figure size 432x288 with 3 Axes>"
            ]
          },
          "metadata": {},
          "output_type": "display_data"
        }
      ],
      "source": [
        "plot_cols = ['T (degC)', 'p (mbar)', 'rho (g/m**3)']\n",
        "plot_features = df[plot_cols]\n",
        "plot_features.index = date_time\n",
        "_ = plot_features.plot(subplots=True)\n",
        "\n",
        "plot_features = df[plot_cols][:480]\n",
        "plot_features.index = date_time[:480]\n",
        "_ = plot_features.plot(subplots=True)"
      ]
    },
    {
      "cell_type": "code",
      "execution_count": null,
      "metadata": {
        "colab": {
          "base_uri": "https://localhost:8080/",
          "height": 475
        },
        "id": "CSc6c-Y-DbWb",
        "outputId": "b2a6bbae-2e4b-4ea5-ad25-3be96f33be61"
      },
      "outputs": [
        {
          "data": {
            "text/html": [
              "\n",
              "  <div id=\"df-b7fbcc6d-5d82-4aa8-8687-8103d9051820\">\n",
              "    <div class=\"colab-df-container\">\n",
              "      <div>\n",
              "<style scoped>\n",
              "    .dataframe tbody tr th:only-of-type {\n",
              "        vertical-align: middle;\n",
              "    }\n",
              "\n",
              "    .dataframe tbody tr th {\n",
              "        vertical-align: top;\n",
              "    }\n",
              "\n",
              "    .dataframe thead th {\n",
              "        text-align: right;\n",
              "    }\n",
              "</style>\n",
              "<table border=\"1\" class=\"dataframe\">\n",
              "  <thead>\n",
              "    <tr style=\"text-align: right;\">\n",
              "      <th></th>\n",
              "      <th>count</th>\n",
              "      <th>mean</th>\n",
              "      <th>std</th>\n",
              "      <th>min</th>\n",
              "      <th>25%</th>\n",
              "      <th>50%</th>\n",
              "      <th>75%</th>\n",
              "      <th>max</th>\n",
              "    </tr>\n",
              "  </thead>\n",
              "  <tbody>\n",
              "    <tr>\n",
              "      <th>p (mbar)</th>\n",
              "      <td>70091.0</td>\n",
              "      <td>989.212842</td>\n",
              "      <td>8.358886</td>\n",
              "      <td>913.60</td>\n",
              "      <td>984.20</td>\n",
              "      <td>989.57</td>\n",
              "      <td>994.720</td>\n",
              "      <td>1015.29</td>\n",
              "    </tr>\n",
              "    <tr>\n",
              "      <th>T (degC)</th>\n",
              "      <td>70091.0</td>\n",
              "      <td>9.450482</td>\n",
              "      <td>8.423384</td>\n",
              "      <td>-22.76</td>\n",
              "      <td>3.35</td>\n",
              "      <td>9.41</td>\n",
              "      <td>15.480</td>\n",
              "      <td>37.28</td>\n",
              "    </tr>\n",
              "    <tr>\n",
              "      <th>Tpot (K)</th>\n",
              "      <td>70091.0</td>\n",
              "      <td>283.493086</td>\n",
              "      <td>8.504424</td>\n",
              "      <td>250.85</td>\n",
              "      <td>277.44</td>\n",
              "      <td>283.46</td>\n",
              "      <td>289.530</td>\n",
              "      <td>311.21</td>\n",
              "    </tr>\n",
              "    <tr>\n",
              "      <th>Tdew (degC)</th>\n",
              "      <td>70091.0</td>\n",
              "      <td>4.956471</td>\n",
              "      <td>6.730081</td>\n",
              "      <td>-24.80</td>\n",
              "      <td>0.24</td>\n",
              "      <td>5.21</td>\n",
              "      <td>10.080</td>\n",
              "      <td>23.06</td>\n",
              "    </tr>\n",
              "    <tr>\n",
              "      <th>rh (%)</th>\n",
              "      <td>70091.0</td>\n",
              "      <td>76.009788</td>\n",
              "      <td>16.474920</td>\n",
              "      <td>13.88</td>\n",
              "      <td>65.21</td>\n",
              "      <td>79.30</td>\n",
              "      <td>89.400</td>\n",
              "      <td>100.00</td>\n",
              "    </tr>\n",
              "    <tr>\n",
              "      <th>VPmax (mbar)</th>\n",
              "      <td>70091.0</td>\n",
              "      <td>13.576576</td>\n",
              "      <td>7.739883</td>\n",
              "      <td>0.97</td>\n",
              "      <td>7.77</td>\n",
              "      <td>11.82</td>\n",
              "      <td>17.610</td>\n",
              "      <td>63.77</td>\n",
              "    </tr>\n",
              "    <tr>\n",
              "      <th>VPact (mbar)</th>\n",
              "      <td>70091.0</td>\n",
              "      <td>9.533968</td>\n",
              "      <td>4.183658</td>\n",
              "      <td>0.81</td>\n",
              "      <td>6.22</td>\n",
              "      <td>8.86</td>\n",
              "      <td>12.360</td>\n",
              "      <td>28.25</td>\n",
              "    </tr>\n",
              "    <tr>\n",
              "      <th>VPdef (mbar)</th>\n",
              "      <td>70091.0</td>\n",
              "      <td>4.042536</td>\n",
              "      <td>4.898549</td>\n",
              "      <td>0.00</td>\n",
              "      <td>0.87</td>\n",
              "      <td>2.19</td>\n",
              "      <td>5.300</td>\n",
              "      <td>46.01</td>\n",
              "    </tr>\n",
              "    <tr>\n",
              "      <th>sh (g/kg)</th>\n",
              "      <td>70091.0</td>\n",
              "      <td>6.022560</td>\n",
              "      <td>2.655812</td>\n",
              "      <td>0.51</td>\n",
              "      <td>3.92</td>\n",
              "      <td>5.59</td>\n",
              "      <td>7.800</td>\n",
              "      <td>18.07</td>\n",
              "    </tr>\n",
              "    <tr>\n",
              "      <th>H2OC (mmol/mol)</th>\n",
              "      <td>70091.0</td>\n",
              "      <td>9.640437</td>\n",
              "      <td>4.234862</td>\n",
              "      <td>0.81</td>\n",
              "      <td>6.29</td>\n",
              "      <td>8.96</td>\n",
              "      <td>12.490</td>\n",
              "      <td>28.74</td>\n",
              "    </tr>\n",
              "    <tr>\n",
              "      <th>rho (g/m**3)</th>\n",
              "      <td>70091.0</td>\n",
              "      <td>1216.061232</td>\n",
              "      <td>39.974263</td>\n",
              "      <td>1059.45</td>\n",
              "      <td>1187.47</td>\n",
              "      <td>1213.80</td>\n",
              "      <td>1242.765</td>\n",
              "      <td>1393.54</td>\n",
              "    </tr>\n",
              "    <tr>\n",
              "      <th>wv (m/s)</th>\n",
              "      <td>70091.0</td>\n",
              "      <td>1.702567</td>\n",
              "      <td>65.447512</td>\n",
              "      <td>-9999.00</td>\n",
              "      <td>0.99</td>\n",
              "      <td>1.76</td>\n",
              "      <td>2.860</td>\n",
              "      <td>14.01</td>\n",
              "    </tr>\n",
              "    <tr>\n",
              "      <th>max. wv (m/s)</th>\n",
              "      <td>70091.0</td>\n",
              "      <td>2.963041</td>\n",
              "      <td>75.597657</td>\n",
              "      <td>-9999.00</td>\n",
              "      <td>1.76</td>\n",
              "      <td>2.98</td>\n",
              "      <td>4.740</td>\n",
              "      <td>23.50</td>\n",
              "    </tr>\n",
              "    <tr>\n",
              "      <th>wd (deg)</th>\n",
              "      <td>70091.0</td>\n",
              "      <td>174.789095</td>\n",
              "      <td>86.619431</td>\n",
              "      <td>0.00</td>\n",
              "      <td>125.30</td>\n",
              "      <td>198.10</td>\n",
              "      <td>234.000</td>\n",
              "      <td>360.00</td>\n",
              "    </tr>\n",
              "  </tbody>\n",
              "</table>\n",
              "</div>\n",
              "      <button class=\"colab-df-convert\" onclick=\"convertToInteractive('df-b7fbcc6d-5d82-4aa8-8687-8103d9051820')\"\n",
              "              title=\"Convert this dataframe to an interactive table.\"\n",
              "              style=\"display:none;\">\n",
              "        \n",
              "  <svg xmlns=\"http://www.w3.org/2000/svg\" height=\"24px\"viewBox=\"0 0 24 24\"\n",
              "       width=\"24px\">\n",
              "    <path d=\"M0 0h24v24H0V0z\" fill=\"none\"/>\n",
              "    <path d=\"M18.56 5.44l.94 2.06.94-2.06 2.06-.94-2.06-.94-.94-2.06-.94 2.06-2.06.94zm-11 1L8.5 8.5l.94-2.06 2.06-.94-2.06-.94L8.5 2.5l-.94 2.06-2.06.94zm10 10l.94 2.06.94-2.06 2.06-.94-2.06-.94-.94-2.06-.94 2.06-2.06.94z\"/><path d=\"M17.41 7.96l-1.37-1.37c-.4-.4-.92-.59-1.43-.59-.52 0-1.04.2-1.43.59L10.3 9.45l-7.72 7.72c-.78.78-.78 2.05 0 2.83L4 21.41c.39.39.9.59 1.41.59.51 0 1.02-.2 1.41-.59l7.78-7.78 2.81-2.81c.8-.78.8-2.07 0-2.86zM5.41 20L4 18.59l7.72-7.72 1.47 1.35L5.41 20z\"/>\n",
              "  </svg>\n",
              "      </button>\n",
              "      \n",
              "  <style>\n",
              "    .colab-df-container {\n",
              "      display:flex;\n",
              "      flex-wrap:wrap;\n",
              "      gap: 12px;\n",
              "    }\n",
              "\n",
              "    .colab-df-convert {\n",
              "      background-color: #E8F0FE;\n",
              "      border: none;\n",
              "      border-radius: 50%;\n",
              "      cursor: pointer;\n",
              "      display: none;\n",
              "      fill: #1967D2;\n",
              "      height: 32px;\n",
              "      padding: 0 0 0 0;\n",
              "      width: 32px;\n",
              "    }\n",
              "\n",
              "    .colab-df-convert:hover {\n",
              "      background-color: #E2EBFA;\n",
              "      box-shadow: 0px 1px 2px rgba(60, 64, 67, 0.3), 0px 1px 3px 1px rgba(60, 64, 67, 0.15);\n",
              "      fill: #174EA6;\n",
              "    }\n",
              "\n",
              "    [theme=dark] .colab-df-convert {\n",
              "      background-color: #3B4455;\n",
              "      fill: #D2E3FC;\n",
              "    }\n",
              "\n",
              "    [theme=dark] .colab-df-convert:hover {\n",
              "      background-color: #434B5C;\n",
              "      box-shadow: 0px 1px 3px 1px rgba(0, 0, 0, 0.15);\n",
              "      filter: drop-shadow(0px 1px 2px rgba(0, 0, 0, 0.3));\n",
              "      fill: #FFFFFF;\n",
              "    }\n",
              "  </style>\n",
              "\n",
              "      <script>\n",
              "        const buttonEl =\n",
              "          document.querySelector('#df-b7fbcc6d-5d82-4aa8-8687-8103d9051820 button.colab-df-convert');\n",
              "        buttonEl.style.display =\n",
              "          google.colab.kernel.accessAllowed ? 'block' : 'none';\n",
              "\n",
              "        async function convertToInteractive(key) {\n",
              "          const element = document.querySelector('#df-b7fbcc6d-5d82-4aa8-8687-8103d9051820');\n",
              "          const dataTable =\n",
              "            await google.colab.kernel.invokeFunction('convertToInteractive',\n",
              "                                                     [key], {});\n",
              "          if (!dataTable) return;\n",
              "\n",
              "          const docLinkHtml = 'Like what you see? Visit the ' +\n",
              "            '<a target=\"_blank\" href=https://colab.research.google.com/notebooks/data_table.ipynb>data table notebook</a>'\n",
              "            + ' to learn more about interactive tables.';\n",
              "          element.innerHTML = '';\n",
              "          dataTable['output_type'] = 'display_data';\n",
              "          await google.colab.output.renderOutput(dataTable, element);\n",
              "          const docLink = document.createElement('div');\n",
              "          docLink.innerHTML = docLinkHtml;\n",
              "          element.appendChild(docLink);\n",
              "        }\n",
              "      </script>\n",
              "    </div>\n",
              "  </div>\n",
              "  "
            ],
            "text/plain": [
              "                   count         mean        std      min      25%      50%  \\\n",
              "p (mbar)         70091.0   989.212842   8.358886   913.60   984.20   989.57   \n",
              "T (degC)         70091.0     9.450482   8.423384   -22.76     3.35     9.41   \n",
              "Tpot (K)         70091.0   283.493086   8.504424   250.85   277.44   283.46   \n",
              "Tdew (degC)      70091.0     4.956471   6.730081   -24.80     0.24     5.21   \n",
              "rh (%)           70091.0    76.009788  16.474920    13.88    65.21    79.30   \n",
              "VPmax (mbar)     70091.0    13.576576   7.739883     0.97     7.77    11.82   \n",
              "VPact (mbar)     70091.0     9.533968   4.183658     0.81     6.22     8.86   \n",
              "VPdef (mbar)     70091.0     4.042536   4.898549     0.00     0.87     2.19   \n",
              "sh (g/kg)        70091.0     6.022560   2.655812     0.51     3.92     5.59   \n",
              "H2OC (mmol/mol)  70091.0     9.640437   4.234862     0.81     6.29     8.96   \n",
              "rho (g/m**3)     70091.0  1216.061232  39.974263  1059.45  1187.47  1213.80   \n",
              "wv (m/s)         70091.0     1.702567  65.447512 -9999.00     0.99     1.76   \n",
              "max. wv (m/s)    70091.0     2.963041  75.597657 -9999.00     1.76     2.98   \n",
              "wd (deg)         70091.0   174.789095  86.619431     0.00   125.30   198.10   \n",
              "\n",
              "                      75%      max  \n",
              "p (mbar)          994.720  1015.29  \n",
              "T (degC)           15.480    37.28  \n",
              "Tpot (K)          289.530   311.21  \n",
              "Tdew (degC)        10.080    23.06  \n",
              "rh (%)             89.400   100.00  \n",
              "VPmax (mbar)       17.610    63.77  \n",
              "VPact (mbar)       12.360    28.25  \n",
              "VPdef (mbar)        5.300    46.01  \n",
              "sh (g/kg)           7.800    18.07  \n",
              "H2OC (mmol/mol)    12.490    28.74  \n",
              "rho (g/m**3)     1242.765  1393.54  \n",
              "wv (m/s)            2.860    14.01  \n",
              "max. wv (m/s)       4.740    23.50  \n",
              "wd (deg)          234.000   360.00  "
            ]
          },
          "execution_count": 9,
          "metadata": {},
          "output_type": "execute_result"
        }
      ],
      "source": [
        "df.describe().transpose()"
      ]
    },
    {
      "cell_type": "code",
      "execution_count": null,
      "metadata": {
        "colab": {
          "base_uri": "https://localhost:8080/"
        },
        "id": "1Q2swbEpDqHl",
        "outputId": "30dbbbe5-4829-442c-96d5-94fd079e85e6"
      },
      "outputs": [
        {
          "data": {
            "text/plain": [
              "0.0"
            ]
          },
          "execution_count": 10,
          "metadata": {},
          "output_type": "execute_result"
        }
      ],
      "source": [
        "wv = df['wv (m/s)']\n",
        "bad_wv = wv == -9999.0\n",
        "wv[bad_wv] = 0.0\n",
        "\n",
        "max_wv = df['max. wv (m/s)']\n",
        "bad_max_wv = max_wv == -9999.0\n",
        "max_wv[bad_max_wv] = 0.0\n",
        "\n",
        "# The above inplace edits are reflected in the DataFrame.\n",
        "df['wv (m/s)'].min()"
      ]
    },
    {
      "cell_type": "code",
      "execution_count": null,
      "metadata": {
        "colab": {
          "base_uri": "https://localhost:8080/",
          "height": 298
        },
        "id": "dDISUFiDFdh1",
        "outputId": "d01056e0-a0f1-46b0-8042-1d1ca13bcdff"
      },
      "outputs": [
        {
          "data": {
            "text/plain": [
              "Text(0, 0.5, 'Wind Velocity [m/s]')"
            ]
          },
          "execution_count": 11,
          "metadata": {},
          "output_type": "execute_result"
        },
        {
          "data": {
            "image/png": "[encoded data removed]",
            "text/plain": [
              "<Figure size 432x288 with 2 Axes>"
            ]
          },
          "metadata": {},
          "output_type": "display_data"
        }
      ],
      "source": [
        "plt.hist2d(df['wd (deg)'], df['wv (m/s)'], bins=(50, 50), vmax=400)\n",
        "plt.colorbar()\n",
        "plt.xlabel('Wind Direction [deg]')\n",
        "plt.ylabel('Wind Velocity [m/s]')"
      ]
    },
    {
      "cell_type": "code",
      "execution_count": null,
      "metadata": {
        "id": "7dnGXmTtFfML"
      },
      "outputs": [],
      "source": [
        "wv = df.pop('wv (m/s)')\n",
        "max_wv = df.pop('max. wv (m/s)')\n",
        "\n",
        "# Convert to radians.\n",
        "wd_rad = df.pop('wd (deg)')*np.pi / 180\n",
        "\n",
        "# Calculate the wind x and y components.\n",
        "df['Wx'] = wv*np.cos(wd_rad)\n",
        "df['Wy'] = wv*np.sin(wd_rad)\n",
        "\n",
        "# Calculate the max wind x and y components.\n",
        "df['max Wx'] = max_wv*np.cos(wd_rad)\n",
        "df['max Wy'] = max_wv*np.sin(wd_rad)"
      ]
    },
    {
      "cell_type": "code",
      "execution_count": null,
      "metadata": {
        "colab": {
          "base_uri": "https://localhost:8080/",
          "height": 298
        },
        "id": "o-6woYMrFpfy",
        "outputId": "7b23813e-ff87-431e-b25c-6baba15f8450"
      },
      "outputs": [
        {
          "data": {
            "text/plain": [
              "(-11.305513973134667, 8.24469928549079, -8.27438540335515, 7.7338312955467785)"
            ]
          },
          "execution_count": 13,
          "metadata": {},
          "output_type": "execute_result"
        },
        {
          "data": {
            "image/png": "[encoded data removed]",
            "text/plain": [
              "<Figure size 432x288 with 2 Axes>"
            ]
          },
          "metadata": {},
          "output_type": "display_data"
        }
      ],
      "source": [
        "plt.hist2d(df['Wx'], df['Wy'], bins=(50, 50), vmax=400)\n",
        "plt.colorbar()\n",
        "plt.xlabel('Wind X [m/s]')\n",
        "plt.ylabel('Wind Y [m/s]')\n",
        "ax = plt.gca()\n",
        "ax.axis('tight')"
      ]
    },
    {
      "cell_type": "code",
      "execution_count": null,
      "metadata": {
        "id": "SJrKIG2-Fycw"
      },
      "outputs": [],
      "source": [
        "timestamp_s = date_time.map(pd.Timestamp.timestamp)"
      ]
    },
    {
      "cell_type": "code",
      "execution_count": null,
      "metadata": {
        "id": "G9AHP4SqF39W"
      },
      "outputs": [],
      "source": [
        "day = 24*60*60\n",
        "year = (365.2425)*day\n",
        "\n",
        "df['Day sin'] = np.sin(timestamp_s * (2 * np.pi / day))\n",
        "df['Day cos'] = np.cos(timestamp_s * (2 * np.pi / day))\n",
        "df['Year sin'] = np.sin(timestamp_s * (2 * np.pi / year))\n",
        "df['Year cos'] = np.cos(timestamp_s * (2 * np.pi / year))"
      ]
    },
    {
      "cell_type": "code",
      "execution_count": null,
      "metadata": {
        "colab": {
          "base_uri": "https://localhost:8080/",
          "height": 310
        },
        "id": "yMJZCKoFF46j",
        "outputId": "ce6fe4fe-a33e-4cfe-875d-8d6d0e19b1ca"
      },
      "outputs": [
        {
          "data": {
            "text/plain": [
              "Text(0.5, 1.0, 'Time of day signal')"
            ]
          },
          "execution_count": 16,
          "metadata": {},
          "output_type": "execute_result"
        },
        {
          "data": {
            "image/png": "[encoded data removed]",
            "text/plain": [
              "<Figure size 432x288 with 1 Axes>"
            ]
          },
          "metadata": {},
          "output_type": "display_data"
        }
      ],
      "source": [
        "plt.plot(np.array(df['Day sin'])[:25])\n",
        "plt.plot(np.array(df['Day cos'])[:25])\n",
        "plt.xlabel('Time [h]')\n",
        "plt.title('Time of day signal')"
      ]
    },
    {
      "cell_type": "code",
      "execution_count": null,
      "metadata": {
        "colab": {
          "base_uri": "https://localhost:8080/",
          "height": 282
        },
        "id": "yTLs_EP4GmBh",
        "outputId": "73c33cd8-df43-4c4f-b6f0-8dbde77f0cdd"
      },
      "outputs": [
        {
          "data": {
            "image/png": "[encoded data removed]",
            "text/plain": [
              "<Figure size 432x288 with 1 Axes>"
            ]
          },
          "metadata": {},
          "output_type": "display_data"
        }
      ],
      "source": [
        "fft = tf.signal.rfft(df['T (degC)'])\n",
        "f_per_dataset = np.arange(0, len(fft))\n",
        "\n",
        "n_samples_h = len(df['T (degC)'])\n",
        "hours_per_year = 24*365.2524\n",
        "years_per_dataset = n_samples_h/(hours_per_year)\n",
        "\n",
        "f_per_year = f_per_dataset/years_per_dataset\n",
        "plt.step(f_per_year, np.abs(fft))\n",
        "plt.xscale('log')\n",
        "plt.ylim(0, 400000)\n",
        "plt.xlim([0.1, max(plt.xlim())])\n",
        "plt.xticks([1, 365.2524], labels=['1/Year', '1/day'])\n",
        "_ = plt.xlabel('Frequency (log scale)')"
      ]
    },
    {
      "cell_type": "code",
      "execution_count": null,
      "metadata": {
        "id": "fSyt4WuwGzH6"
      },
      "outputs": [],
      "source": [
        "column_indices = {name: i for i, name in enumerate(df.columns)}\n",
        "\n",
        "n = len(df)\n",
        "train_df = df[0:int(n*0.7)]\n",
        "val_df = df[int(n*0.7):int(n*0.9)]\n",
        "test_df = df[int(n*0.9):]\n",
        "\n",
        "num_features = df.shape[1]"
      ]
    },
    {
      "cell_type": "code",
      "execution_count": null,
      "metadata": {
        "id": "_OPPgBlrG38n"
      },
      "outputs": [],
      "source": [
        "train_mean = train_df.mean()\n",
        "train_std = train_df.std()\n",
        "\n",
        "train_df = (train_df - train_mean) / train_std\n",
        "val_df = (val_df - train_mean) / train_std\n",
        "test_df = (test_df - train_mean) / train_std"
      ]
    },
    {
      "cell_type": "code",
      "execution_count": null,
      "metadata": {
        "colab": {
          "base_uri": "https://localhost:8080/",
          "height": 467
        },
        "id": "Sjj-gXrrG9ON",
        "outputId": "feaa5345-c566-420a-d99a-632e961aa7ae"
      },
      "outputs": [
        {
          "data": {
            "image/png": "[encoded data removed]",
            "text/plain": [
              "<Figure size 864x432 with 1 Axes>"
            ]
          },
          "metadata": {},
          "output_type": "display_data"
        }
      ],
      "source": [
        "df_std = (df - train_mean) / train_std\n",
        "df_std = df_std.melt(var_name='Column', value_name='Normalized')\n",
        "plt.figure(figsize=(12, 6))\n",
        "ax = sns.violinplot(x='Column', y='Normalized', data=df_std)\n",
        "_ = ax.set_xticklabels(df.keys(), rotation=90)"
      ]
    },
    {
      "cell_type": "code",
      "execution_count": null,
      "metadata": {
        "id": "nOmf8L4zEXf2"
      },
      "outputs": [],
      "source": [
        "class WindowGenerator():\n",
        "  def __init__(self, input_width, label_width, shift,\n",
        "               train_df=train_df, val_df=val_df, test_df=test_df,\n",
        "               label_columns=None):\n",
        "    # Store the raw data.\n",
        "    self.train_df = train_df\n",
        "    self.val_df = val_df\n",
        "    self.test_df = test_df\n",
        "\n",
        "    # Work out the label column indices.\n",
        "    self.label_columns = label_columns\n",
        "    if label_columns is not None:\n",
        "      self.label_columns_indices = {name: i for i, name in\n",
        "                                    enumerate(label_columns)}\n",
        "    self.column_indices = {name: i for i, name in\n",
        "                           enumerate(train_df.columns)}\n",
        "\n",
        "    # Work out the window parameters.\n",
        "    self.input_width = input_width\n",
        "    self.label_width = label_width\n",
        "    self.shift = shift\n",
        "\n",
        "    self.total_window_size = input_width + shift\n",
        "\n",
        "    self.input_slice = slice(0, input_width)\n",
        "    self.input_indices = np.arange(self.total_window_size)[self.input_slice]\n",
        "\n",
        "    self.label_start = self.total_window_size - self.label_width\n",
        "    self.labels_slice = slice(self.label_start, None)\n",
        "    self.label_indices = np.arange(self.total_window_size)[self.labels_slice]\n",
        "\n",
        "\n",
        "  def __repr__(self):\n",
        "    return '\\n'.join([\n",
        "        f'Total window size: {self.total_window_size}',\n",
        "        f'Input indices: {self.input_indices}',\n",
        "        f'Label indices: {self.label_indices}',\n",
        "        f'Label column name(s): {self.label_columns}'])\n",
        "  \n",
        "  def split_window(self, features):\n",
        "    inputs = features[:, self.input_slice, :]\n",
        "    labels = features[:, self.labels_slice, :]\n",
        "    if self.label_columns is not None:\n",
        "      labels = tf.stack(\n",
        "          [labels[:, :, self.column_indices[name]] for name in self.label_columns],\n",
        "          axis=-1)\n",
        "\n",
        "    # Slicing doesn't preserve static shape information, so set the shapes\n",
        "    # manually. This way the `tf.data.Datasets` are easier to inspect.\n",
        "    inputs.set_shape([None, self.input_width, None])\n",
        "    labels.set_shape([None, self.label_width, None])\n",
        "    \n",
        "    return inputs, labels\n",
        "  \n",
        "  def plot(self, model=None, plot_col='T (degC)', max_subplots=3):\n",
        "    inputs, labels = self.example\n",
        "    plt.figure(figsize=(12, 8))\n",
        "    plot_col_index = self.column_indices[plot_col]\n",
        "    max_n = min(max_subplots, len(inputs))\n",
        "    for n in range(max_n):\n",
        "      plt.subplot(max_n, 1, n+1)\n",
        "      plt.ylabel(f'{plot_col} [normed]')\n",
        "      plt.plot(self.input_indices, inputs[n, :, plot_col_index],\n",
        "              label='Inputs', marker='.', zorder=-10)\n",
        "\n",
        "      if self.label_columns:\n",
        "        label_col_index = self.label_columns_indices.get(plot_col, None)\n",
        "      else:\n",
        "        label_col_index = plot_col_index\n",
        "\n",
        "      if label_col_index is None:\n",
        "        continue\n",
        "\n",
        "      plt.scatter(self.label_indices, labels[n, :, label_col_index],\n",
        "                  edgecolors='k', label='Labels', c='#2ca02c', s=64)\n",
        "      if model is not None:\n",
        "        predictions = model(inputs)\n",
        "        plt.scatter(self.label_indices, predictions[n, :, label_col_index],\n",
        "                    marker='X', edgecolors='k', label='Predictions',\n",
        "                    c='#ff7f0e', s=64)\n",
        "\n",
        "      if n == 0:\n",
        "        plt.legend()\n",
        "\n",
        "    plt.xlabel('Time [h]')\n",
        "\n",
        "\n",
        "    return inputs, labels\n",
        "\n",
        "  def make_dataset(self, data):\n",
        "    data = np.array(data, dtype=np.float32)\n",
        "    ds = tf.keras.utils.timeseries_dataset_from_array(\n",
        "        data=data,\n",
        "        targets=None,\n",
        "        sequence_length=self.total_window_size,\n",
        "        sequence_stride=1,\n",
        "        shuffle=True,\n",
        "        batch_size=32,)\n",
        "\n",
        "    ds = ds.map(self.split_window)\n",
        "\n",
        "    return ds\n",
        "\n",
        "  @property\n",
        "  def train(self):\n",
        "    return self.make_dataset(self.train_df)\n",
        "\n",
        "  @property\n",
        "  def val(self):\n",
        "    return self.make_dataset(self.val_df)\n",
        "\n",
        "  @property\n",
        "  def test(self):\n",
        "    return self.make_dataset(self.test_df)\n",
        "\n",
        "  @property\n",
        "  def example(self):\n",
        "    \"\"\"Get and cache an example batch of `inputs, labels` for plotting.\"\"\"\n",
        "    result = getattr(self, '_example', None)\n",
        "    if result is None:\n",
        "      # No example batch was found, so get one from the `.train` dataset\n",
        "      result = next(iter(self.train))\n",
        "      # And cache it for next time\n",
        "      self._example = result\n",
        "    return result\n"
      ]
    },
    {
      "cell_type": "code",
      "execution_count": null,
      "metadata": {
        "colab": {
          "base_uri": "https://localhost:8080/"
        },
        "id": "nxHFsvafEeOw",
        "outputId": "e911d535-e93c-4638-da1e-807a5f6773c5"
      },
      "outputs": [
        {
          "name": "stdout",
          "output_type": "stream",
          "text": [
            "Total window size: 48\n",
            "Input indices: [ 0  1  2  3  4  5  6  7  8  9 10 11 12 13 14 15 16 17 18 19 20 21 22 23]\n",
            "Label indices: [47]\n",
            "Label column name(s): ['T (degC)']\n",
            "\n",
            "Total window size: 7\n",
            "Input indices: [0 1 2 3 4 5]\n",
            "Label indices: [6]\n",
            "Label column name(s): ['T (degC)']\n"
          ]
        }
      ],
      "source": [
        "w1 = WindowGenerator(input_width=24, label_width=1, shift=24,\n",
        "                     label_columns=['T (degC)'])\n",
        "w2 = WindowGenerator(input_width=6, label_width=1, shift=1,\n",
        "                     label_columns=['T (degC)'])\n",
        "print(w1)\n",
        "print()\n",
        "print(w2)"
      ]
    },
    {
      "cell_type": "code",
      "execution_count": null,
      "metadata": {
        "colab": {
          "base_uri": "https://localhost:8080/"
        },
        "id": "7nIn-2gEGuZx",
        "outputId": "8cbe6466-69c2-4568-9812-268ab99a3a5c"
      },
      "outputs": [
        {
          "name": "stdout",
          "output_type": "stream",
          "text": [
            "All shapes are: (batch, time, features)\n",
            "Window shape: (3, 7, 19)\n",
            "Inputs shape: (3, 6, 19)\n",
            "Labels shape: (3, 1, 1)\n"
          ]
        }
      ],
      "source": [
        "# Stack three slices, the length of the total window.\n",
        "example_window = tf.stack([np.array(train_df[:w2.total_window_size]),\n",
        "                           np.array(train_df[100:100+w2.total_window_size]),\n",
        "                           np.array(train_df[200:200+w2.total_window_size])])\n",
        "\n",
        "example_inputs, example_labels = w2.split_window(example_window)\n",
        "\n",
        "print('All shapes are: (batch, time, features)')\n",
        "print(f'Window shape: {example_window.shape}')\n",
        "print(f'Inputs shape: {example_inputs.shape}')\n",
        "print(f'Labels shape: {example_labels.shape}')"
      ]
    },
    {
      "cell_type": "code",
      "execution_count": null,
      "metadata": {
        "colab": {
          "base_uri": "https://localhost:8080/",
          "height": 175
        },
        "id": "rnfkpgLiHQPn",
        "outputId": "30648ff1-c67f-48b4-8276-c5ab04c3b77e"
      },
      "outputs": [
        {
          "ename": "AttributeError",
          "evalue": "ignored",
          "output_type": "error",
          "traceback": [
            "\u001b[0;31m---------------------------------------------------------------------------\u001b[0m",
            "\u001b[0;31mAttributeError\u001b[0m                            Traceback (most recent call last)",
            "\u001b[0;32m<ipython-input-25-5bcaf77df0aa>\u001b[0m in \u001b[0;36m<module>\u001b[0;34m\u001b[0m\n\u001b[0;32m----> 1\u001b[0;31m \u001b[0mw2\u001b[0m\u001b[0;34m.\u001b[0m\u001b[0mexample\u001b[0m \u001b[0;34m=\u001b[0m \u001b[0mexample_inputs\u001b[0m\u001b[0;34m,\u001b[0m \u001b[0mexample_labels\u001b[0m\u001b[0;34m\u001b[0m\u001b[0;34m\u001b[0m\u001b[0m\n\u001b[0m\u001b[1;32m      2\u001b[0m \u001b[0mw2\u001b[0m\u001b[0;34m.\u001b[0m\u001b[0mplot\u001b[0m\u001b[0;34m(\u001b[0m\u001b[0;34m)\u001b[0m\u001b[0;34m\u001b[0m\u001b[0;34m\u001b[0m\u001b[0m\n",
            "\u001b[0;31mAttributeError\u001b[0m: can't set attribute"
          ]
        }
      ],
      "source": [
        "w2.example = example_inputs, example_labels\n",
        "w2.plot()"
      ]
    },
    {
      "cell_type": "code",
      "execution_count": null,
      "metadata": {
        "colab": {
          "base_uri": "https://localhost:8080/",
          "height": 1000
        },
        "id": "NSB9No31Hmfi",
        "outputId": "2ca2587f-abd6-4348-a753-4bd271c08887"
      },
      "outputs": [
        {
          "data": {
            "text/plain": [
              "(<tf.Tensor: shape=(32, 6, 19), dtype=float32, numpy=\n",
              " array([[[ 0.5222869 , -0.07951596, -0.11976942, ...,  0.9091021 ,\n",
              "           0.3282631 , -1.3254553 ],\n",
              "         [ 0.50661945, -0.09800249, -0.13696189, ...,  0.59774905,\n",
              "           0.32728168, -1.3257399 ],\n",
              "         [ 0.52590245, -0.11186738, -0.15300821, ...,  0.24566741,\n",
              "           0.32630008, -1.3260238 ],\n",
              "         [ 0.50420904, -0.02290095, -0.06246116, ..., -0.12314909,\n",
              "           0.32531828, -1.326307  ],\n",
              "         [ 0.45118082,  0.1966266 ,  0.1598949 , ..., -0.48356622,\n",
              "           0.32433623, -1.3265896 ],\n",
              "         [ 0.39694738,  0.5201409 ,  0.4854058 , ..., -0.8110221 ,\n",
              "           0.323354  , -1.3268714 ]],\n",
              " \n",
              "        [[ 1.0200292 , -0.56016576, -0.63554376, ...,  0.12335392,\n",
              "           0.13448294,  1.4132249 ],\n",
              "         [ 1.0477486 , -0.5255035 , -0.60345113, ...,  0.48377106,\n",
              "           0.13549481,  1.4130765 ],\n",
              "         [ 1.0742626 , -0.47582096, -0.55645835, ...,  0.81122696,\n",
              "           0.1365066 ,  1.4129273 ],\n",
              "         [ 1.0200292 , -0.45502362, -0.5312427 , ...,  1.0834061 ,\n",
              "           0.13751827,  1.4127773 ],\n",
              "         [ 1.0272603 , -0.4238276 , -0.50144243, ...,  1.2817599 ,\n",
              "           0.13852984,  1.4126266 ],\n",
              "         [ 1.0212344 , -0.41458434, -0.49112692, ...,  1.3927708 ,\n",
              "           0.13954128,  1.4124752 ]],\n",
              " \n",
              "        [[ 0.8030955 , -0.594828  , -0.6538824 , ..., -1.4086688 ,\n",
              "           1.1720638 ,  0.70588917],\n",
              "         [ 0.71391165, -0.512794  , -0.5644815 , ..., -1.3287662 ,\n",
              "           1.1725607 ,  0.7050084 ],\n",
              "         [ 0.66690934, -0.5971388 , -0.64585924, ..., -1.1583035 ,\n",
              "           1.1730568 ,  0.70412725],\n",
              "         [ 0.5849566 , -0.46426687, -0.50717324, ..., -0.9088973 ,\n",
              "           1.1735524 ,  0.70324576],\n",
              "         [ 0.55241656, -0.57865226, -0.6183513 , ..., -0.59754425,\n",
              "           1.1740472 ,  0.7023639 ],\n",
              "         [ 0.49456757, -0.7288554 , -0.7627681 , ..., -0.24546258,\n",
              "           1.1745415 ,  0.70148176]],\n",
              " \n",
              "        ...,\n",
              " \n",
              "        [[ 0.75368285, -0.05409697, -0.11289243, ...,  0.9091021 ,\n",
              "           1.3519036 ,  0.02559415],\n",
              "         [ 0.7669399 , -0.04485371, -0.10486927, ...,  0.59774905,\n",
              "           1.3519052 ,  0.02458659],\n",
              "         [ 0.7428361 , -0.1003133 , -0.15759286, ...,  0.24566741,\n",
              "           1.3519061 ,  0.02357902],\n",
              "         [ 0.73078424, -0.1846581 , -0.24011676, ..., -0.12314909,\n",
              "           1.3519063 ,  0.02257146],\n",
              "         [ 0.7187324 , -0.10146871, -0.15759286, ..., -0.48356622,\n",
              "           1.3519057 ,  0.0215639 ],\n",
              "         [ 0.69462866,  0.17120762,  0.11519445, ..., -0.8110221 ,\n",
              "           1.3519044 ,  0.02055634]],\n",
              " \n",
              "        [[ 2.248115  , -1.0304168 , -1.19258   , ..., -0.5410703 ,\n",
              "           1.2626364 ,  0.512154  ],\n",
              "         [ 2.3095796 , -1.0061533 , -1.1742414 , ..., -0.86077905,\n",
              "           1.2629921 ,  0.5112093 ],\n",
              "         [ 2.3577871 , -0.92643017, -1.0997406 , ..., -1.1218202 ,\n",
              "           1.2633473 ,  0.5102644 ],\n",
              "         [ 2.3674285 , -0.7519635 , -0.9266697 , ..., -1.3064041 ,\n",
              "           1.2637017 ,  0.5093192 ],\n",
              "         [ 2.3071692 , -0.42267218, -0.5965741 , ..., -1.4019518 ,\n",
              "           1.2640554 ,  0.5083738 ],\n",
              "         [ 2.2505255 , -0.1268877 , -0.29971734, ..., -1.4019518 ,\n",
              "           1.2644085 ,  0.5074281 ]],\n",
              " \n",
              "        [[ 0.44515488,  0.8609863 ,  0.8212322 , ...,  0.81122696,\n",
              "          -1.13324   , -0.9208525 ],\n",
              "         [ 0.54277503,  0.60101944,  0.55417573, ...,  1.0834061 ,\n",
              "          -1.1339265 , -0.92010546],\n",
              "         [ 0.6042396 ,  0.45312724,  0.40288192, ...,  1.2817599 ,\n",
              "          -1.1346126 , -0.919358  ],\n",
              "         [ 0.64642113,  0.36993784,  0.31691954, ...,  1.3927708 ,\n",
              "          -1.135298  , -0.91861004],\n",
              "         [ 0.66570413,  0.2255118 ,  0.17250271, ...,  1.4088736 ,\n",
              "          -1.1359829 , -0.9178616 ],\n",
              "         [ 0.69221824,  0.14809945,  0.09341731, ...,  1.328971  ,\n",
              "          -1.1366673 , -0.91711265]]], dtype=float32)>,\n",
              " <tf.Tensor: shape=(32, 1, 1), dtype=float32, numpy=\n",
              " array([[[ 0.8656079 ]],\n",
              " \n",
              "        [[-0.33832738]],\n",
              " \n",
              "        [[-0.81204474]],\n",
              " \n",
              "        [[-0.25860423]],\n",
              " \n",
              "        [[ 0.89795935]],\n",
              " \n",
              "        [[ 1.1602371 ]],\n",
              " \n",
              "        [[ 2.0487459 ]],\n",
              " \n",
              "        [[-1.2233701 ]],\n",
              " \n",
              "        [[-0.7288554 ]],\n",
              " \n",
              "        [[ 0.8702296 ]],\n",
              " \n",
              "        [[-0.9876668 ]],\n",
              " \n",
              "        [[-1.7987633 ]],\n",
              " \n",
              "        [[-0.18234728]],\n",
              " \n",
              "        [[ 1.0481625 ]],\n",
              " \n",
              "        [[ 0.73851305]],\n",
              " \n",
              "        [[ 0.7466009 ]],\n",
              " \n",
              "        [[ 0.45774886]],\n",
              " \n",
              "        [[ 0.20124824]],\n",
              " \n",
              "        [[-0.06218483]],\n",
              " \n",
              "        [[ 2.0533676 ]],\n",
              " \n",
              "        [[ 1.2076088 ]],\n",
              " \n",
              "        [[ 1.0423853 ]],\n",
              " \n",
              "        [[ 0.13423456]],\n",
              " \n",
              "        [[-0.46311146]],\n",
              " \n",
              "        [[-0.6190916 ]],\n",
              " \n",
              "        [[ 0.55942476]],\n",
              " \n",
              "        [[-0.64219975]],\n",
              " \n",
              "        [[-1.721351  ]],\n",
              " \n",
              "        [[-2.018291  ]],\n",
              " \n",
              "        [[ 0.43810692]],\n",
              " \n",
              "        [[ 0.24861997]],\n",
              " \n",
              "        [[ 0.11459262]]], dtype=float32)>)"
            ]
          },
          "execution_count": 26,
          "metadata": {},
          "output_type": "execute_result"
        },
        {
          "data": {
            "image/png": "[encoded data removed]",
            "text/plain": [
              "<Figure size 864x576 with 3 Axes>"
            ]
          },
          "metadata": {},
          "output_type": "display_data"
        }
      ],
      "source": [
        "w2.plot(plot_col='p (mbar)')"
      ]
    },
    {
      "cell_type": "code",
      "execution_count": null,
      "metadata": {
        "colab": {
          "base_uri": "https://localhost:8080/"
        },
        "id": "WL362zIgJmGZ",
        "outputId": "170d0bec-3968-45ef-e6fd-096bc9e0414b"
      },
      "outputs": [
        {
          "data": {
            "text/plain": [
              "(TensorSpec(shape=(None, 6, 19), dtype=tf.float32, name=None),\n",
              " TensorSpec(shape=(None, 1, 1), dtype=tf.float32, name=None))"
            ]
          },
          "execution_count": 27,
          "metadata": {},
          "output_type": "execute_result"
        }
      ],
      "source": [
        "w2.train.element_spec"
      ]
    },
    {
      "cell_type": "code",
      "execution_count": null,
      "metadata": {
        "colab": {
          "base_uri": "https://localhost:8080/"
        },
        "id": "n_ZALRnIJphW",
        "outputId": "147f500a-f6c4-4ce5-f614-c799856b994f"
      },
      "outputs": [
        {
          "name": "stdout",
          "output_type": "stream",
          "text": [
            "Inputs shape (batch, time, features): (32, 6, 19)\n",
            "Labels shape (batch, time, features): (32, 1, 1)\n"
          ]
        }
      ],
      "source": [
        "for example_inputs, example_labels in w2.train.take(1):\n",
        "  print(f'Inputs shape (batch, time, features): {example_inputs.shape}')\n",
        "  print(f'Labels shape (batch, time, features): {example_labels.shape}')"
      ]
    },
    {
      "cell_type": "code",
      "execution_count": null,
      "metadata": {
        "colab": {
          "base_uri": "https://localhost:8080/"
        },
        "id": "_eKWxvXBJ8Jp",
        "outputId": "268630fd-33eb-40b8-e91e-df9c5286b484"
      },
      "outputs": [
        {
          "data": {
            "text/plain": [
              "Total window size: 2\n",
              "Input indices: [0]\n",
              "Label indices: [1]\n",
              "Label column name(s): ['T (degC)']"
            ]
          },
          "execution_count": 29,
          "metadata": {},
          "output_type": "execute_result"
        }
      ],
      "source": [
        "single_step_window = WindowGenerator(\n",
        "    input_width=1, label_width=1, shift=1,\n",
        "    label_columns=['T (degC)'])\n",
        "single_step_window"
      ]
    },
    {
      "cell_type": "code",
      "execution_count": null,
      "metadata": {
        "colab": {
          "base_uri": "https://localhost:8080/"
        },
        "id": "2SP1cuA6KB1c",
        "outputId": "e319ca33-dfa5-4773-9a1e-3ecef19e7785"
      },
      "outputs": [
        {
          "name": "stdout",
          "output_type": "stream",
          "text": [
            "Inputs shape (batch, time, features): (32, 1, 19)\n",
            "Labels shape (batch, time, features): (32, 1, 1)\n"
          ]
        }
      ],
      "source": [
        "for example_inputs, example_labels in single_step_window.train.take(1):\n",
        "  print(f'Inputs shape (batch, time, features): {example_inputs.shape}')\n",
        "  print(f'Labels shape (batch, time, features): {example_labels.shape}')"
      ]
    },
    {
      "cell_type": "code",
      "execution_count": null,
      "metadata": {
        "id": "JINrktvoKGe1"
      },
      "outputs": [],
      "source": [
        "class Baseline(tf.keras.Model):\n",
        "  def __init__(self, label_index=None):\n",
        "    super().__init__()\n",
        "    self.label_index = label_index\n",
        "\n",
        "  def call(self, inputs):\n",
        "    if self.label_index is None:\n",
        "      return inputs\n",
        "    result = inputs[:, :, self.label_index]\n",
        "    return result[:, :, tf.newaxis]"
      ]
    },
    {
      "cell_type": "code",
      "execution_count": null,
      "metadata": {
        "colab": {
          "base_uri": "https://localhost:8080/"
        },
        "id": "pAiEpofUKJLP",
        "outputId": "2ad591fd-5155-4fdc-95fd-51a5af53a078"
      },
      "outputs": [
        {
          "name": "stdout",
          "output_type": "stream",
          "text": [
            "439/439 [==============================] - 9s 17ms/step - loss: 0.0128 - mean_absolute_error: 0.0785\n"
          ]
        }
      ],
      "source": [
        "baseline = Baseline(label_index=column_indices['T (degC)'])\n",
        "\n",
        "baseline.compile(loss=tf.keras.losses.MeanSquaredError(),\n",
        "                 metrics=[tf.keras.metrics.MeanAbsoluteError()])\n",
        "\n",
        "val_performance = {}\n",
        "performance = {}\n",
        "val_performance['Baseline'] = baseline.evaluate(single_step_window.val)\n",
        "performance['Baseline'] = baseline.evaluate(single_step_window.test, verbose=0)"
      ]
    },
    {
      "cell_type": "code",
      "execution_count": null,
      "metadata": {
        "colab": {
          "base_uri": "https://localhost:8080/"
        },
        "id": "1OQE0ek_KQ97",
        "outputId": "266f9c52-f41c-4716-c061-894b3e2098f7"
      },
      "outputs": [
        {
          "data": {
            "text/plain": [
              "Total window size: 25\n",
              "Input indices: [ 0  1  2  3  4  5  6  7  8  9 10 11 12 13 14 15 16 17 18 19 20 21 22 23]\n",
              "Label indices: [ 1  2  3  4  5  6  7  8  9 10 11 12 13 14 15 16 17 18 19 20 21 22 23 24]\n",
              "Label column name(s): ['T (degC)']"
            ]
          },
          "execution_count": 33,
          "metadata": {},
          "output_type": "execute_result"
        }
      ],
      "source": [
        "wide_window = WindowGenerator(\n",
        "    input_width=24, label_width=24, shift=1,\n",
        "    label_columns=['T (degC)'])\n",
        "\n",
        "wide_window"
      ]
    },
    {
      "cell_type": "code",
      "execution_count": null,
      "metadata": {
        "colab": {
          "base_uri": "https://localhost:8080/"
        },
        "id": "I-r5i417KsbN",
        "outputId": "17bb04bf-53f8-4d74-9b98-4c1a0d23dd22"
      },
      "outputs": [
        {
          "name": "stdout",
          "output_type": "stream",
          "text": [
            "Input shape: (32, 24, 19)\n",
            "Output shape: (32, 24, 1)\n"
          ]
        }
      ],
      "source": [
        "print('Input shape:', wide_window.example[0].shape)\n",
        "print('Output shape:', baseline(wide_window.example[0]).shape)"
      ]
    },
    {
      "cell_type": "code",
      "execution_count": null,
      "metadata": {
        "colab": {
          "base_uri": "https://localhost:8080/",
          "height": 1000
        },
        "id": "IvDOiGA1KuRt",
        "outputId": "501241cf-33f1-4f42-d727-39596ccffa12"
      },
      "outputs": [
        {
          "data": {
            "text/plain": [
              "(<tf.Tensor: shape=(32, 24, 19), dtype=float32, numpy=\n",
              " array([[[-0.07789639,  1.2191628 ,  1.2189516 , ..., -1.1218202 ,\n",
              "           0.32792288, -1.325554  ],\n",
              "         [-0.152618  ,  1.2792441 ,  1.2854291 , ..., -1.3064041 ,\n",
              "           0.32694143, -1.3258384 ],\n",
              "         [-0.15502837,  1.3162172 ,  1.3221064 , ..., -1.4019518 ,\n",
              "           0.32595974, -1.326122  ],\n",
              "         ...,\n",
              "         [ 0.2450938 ,  0.61835057,  0.59543765, ..., -0.18448152,\n",
              "           0.30726922, -1.33138   ],\n",
              "         [ 0.24147823,  0.7500671 ,  0.72724664, ..., -0.5410703 ,\n",
              "           0.3062835 , -1.3316498 ],\n",
              "         [ 0.2258108 ,  0.90027016,  0.8773943 , ..., -0.86077905,\n",
              "           0.30529758, -1.3319188 ]],\n",
              " \n",
              "        [[ 0.2535301 ,  0.6368371 ,  0.6137763 , ..., -1.2815549 ,\n",
              "          -1.2681595 ,  0.7948563 ],\n",
              "         [ 0.30896872,  0.75353336,  0.7249543 , ..., -1.3925658 ,\n",
              "          -1.2675973 ,  0.7956981 ],\n",
              "         [ 0.33307245,  0.8009051 ,  0.76965475, ..., -1.4086688 ,\n",
              "          -1.2670344 ,  0.79653955],\n",
              "         ...,\n",
              "         [ 0.49336237,  0.38264734,  0.340989  , ..., -0.48356622,\n",
              "          -1.2562251 ,  0.8124501 ],\n",
              "         [ 0.55121136,  0.43926233,  0.39371258, ..., -0.8110221 ,\n",
              "          -1.2556502 ,  0.8132835 ],\n",
              "         [ 0.60303444,  0.4762354 ,  0.4258052 , ..., -1.0832012 ,\n",
              "          -1.2550745 ,  0.8141165 ]],\n",
              " \n",
              "        [[ 1.3827906 , -0.00325901, -0.11060009, ...,  1.3927708 ,\n",
              "           0.03607995,  1.4242113 ],\n",
              "         [ 1.3815854 , -0.02867799, -0.13581572, ...,  1.4088736 ,\n",
              "           0.03709986,  1.4241322 ],\n",
              "         [ 1.28276   , -0.1291985 , -0.22750895, ...,  1.328971  ,\n",
              "           0.03811972,  1.4240524 ],\n",
              "         ...,\n",
              "         [ 1.6792667 , -0.23665147, -0.36504877, ...,  0.81122696,\n",
              "           0.05748525,  1.4224    ],\n",
              "         [ 1.6949341 , -0.24242851, -0.37192577, ...,  1.0834061 ,\n",
              "           0.05850384,  1.4223058 ],\n",
              "         [ 1.66842   , -0.26438126, -0.39141056, ...,  1.2817599 ,\n",
              "           0.05952236,  1.4222109 ]],\n",
              " \n",
              "        ...,\n",
              " \n",
              "        [[ 0.33789322, -2.740421  , -2.7513647 , ..., -0.48356622,\n",
              "          -0.728704  ,  1.2726089 ],\n",
              "         [ 0.40176815, -2.6768734 , -2.6929102 , ..., -0.8110221 ,\n",
              "          -0.72779423,  1.2730697 ],\n",
              "         [ 0.45720676, -2.5544002 , -2.5760014 , ..., -1.0832012 ,\n",
              "          -0.7268841 ,  1.2735299 ],\n",
              "         ...,\n",
              "         [-0.50814825, -1.4613842 , -1.4172285 , ...,  0.59774905,\n",
              "          -0.70952904,  1.2821517 ],\n",
              "         [-0.570818  , -1.4001476 , -1.3507508 , ...,  0.24566741,\n",
              "          -0.7086124 ,  1.2825991 ],\n",
              "         [-0.667233  , -1.3966813 , -1.3404354 , ..., -0.12314909,\n",
              "          -0.7076953 ,  1.2830458 ]],\n",
              " \n",
              "        [[ 0.3957422 , -0.58096313, -0.60918194, ..., -1.3287662 ,\n",
              "           1.3284867 , -0.23076414],\n",
              "         [ 0.3571762 , -0.47235474, -0.49800393, ..., -1.1583035 ,\n",
              "           1.3283018 , -0.2317551 ],\n",
              "         [ 0.29571167, -0.25167176, -0.2745017 , ..., -0.9088973 ,\n",
              "           1.3281162 , -0.23274593],\n",
              "         ...,\n",
              "         [ 0.23063155, -0.17888106, -0.19656248, ..., -1.2815549 ,\n",
              "           1.3244519 , -0.25154623],\n",
              "         [ 0.17157736, -0.02405636, -0.03724552, ..., -1.3925658 ,\n",
              "           1.3242518 , -0.25253436],\n",
              "         [ 0.10408688,  0.16196436,  0.1530179 , ..., -1.4086688 ,\n",
              "           1.324051  , -0.2535223 ]],\n",
              " \n",
              "        [[ 1.1682673 , -0.01019146, -0.10143077, ..., -1.2815549 ,\n",
              "           0.6530104 , -1.1860108 ],\n",
              "         [ 1.2261162 ,  0.0267816 , -0.06933815, ..., -1.3925658 ,\n",
              "           0.6521304 , -1.1865247 ],\n",
              "         [ 1.2550408 ,  0.10419395,  0.00630876, ..., -1.4086688 ,\n",
              "           0.65125   , -1.1870381 ],\n",
              "         ...,\n",
              "         [ 1.9046366 ,  0.3387418 ,  0.18854903, ..., -0.48356622,\n",
              "           0.6344526 , -1.1966717 ],\n",
              "         [ 1.9468182 ,  0.44388396,  0.28941154, ..., -0.8110221 ,\n",
              "           0.63356483, -1.1971724 ],\n",
              "         [ 1.9769479 ,  0.537472  ,  0.3799586 , ..., -1.0832012 ,\n",
              "           0.6326767 , -1.1976726 ]]], dtype=float32)>,\n",
              " <tf.Tensor: shape=(32, 24, 1), dtype=float32, numpy=\n",
              " array([[[ 1.27924407e+00],\n",
              "         [ 1.31621718e+00],\n",
              "         [ 1.38092005e+00],\n",
              "         [ 1.44677830e+00],\n",
              "         [ 1.47219729e+00],\n",
              "         [ 1.50339329e+00],\n",
              "         [ 1.53112304e+00],\n",
              "         [ 1.48721755e+00],\n",
              "         [ 1.37052131e+00],\n",
              "         [ 1.27000082e+00],\n",
              "         [ 1.12673020e+00],\n",
              "         [ 1.07935846e+00],\n",
              "         [ 9.92702842e-01],\n",
              "         [ 8.35567355e-01],\n",
              "         [ 6.79587245e-01],\n",
              "         [ 4.80857015e-01],\n",
              "         [ 4.98188138e-01],\n",
              "         [ 3.89579773e-01],\n",
              "         [ 3.53762120e-01],\n",
              "         [ 3.96512210e-01],\n",
              "         [ 6.18350565e-01],\n",
              "         [ 7.50067115e-01],\n",
              "         [ 9.00270164e-01],\n",
              "         [ 1.00310147e+00]],\n",
              " \n",
              "        [[ 7.53533363e-01],\n",
              "         [ 8.00905108e-01],\n",
              "         [ 9.03736413e-01],\n",
              "         [ 8.59830916e-01],\n",
              "         [ 8.40188980e-01],\n",
              "         [ 7.95128047e-01],\n",
              "         [ 7.80107737e-01],\n",
              "         [ 7.61621177e-01],\n",
              "         [ 7.02695370e-01],\n",
              "         [ 6.95762932e-01],\n",
              "         [ 6.70343935e-01],\n",
              "         [ 6.71499372e-01],\n",
              "         [ 6.24127626e-01],\n",
              "         [ 6.50702000e-01],\n",
              "         [ 5.83688319e-01],\n",
              "         [ 5.28228760e-01],\n",
              "         [ 4.83167827e-01],\n",
              "         [ 5.09742200e-01],\n",
              "         [ 4.20775801e-01],\n",
              "         [ 3.81491899e-01],\n",
              "         [ 3.82647336e-01],\n",
              "         [ 4.39262331e-01],\n",
              "         [ 4.76235390e-01],\n",
              "         [ 5.35161197e-01]],\n",
              " \n",
              "        [[-2.86779925e-02],\n",
              "         [-1.29198506e-01],\n",
              "         [-1.44218817e-01],\n",
              "         [-1.65016159e-01],\n",
              "         [-1.82347283e-01],\n",
              "         [-1.90435141e-01],\n",
              "         [-1.98523000e-01],\n",
              "         [-2.08921671e-01],\n",
              "         [-2.17009529e-01],\n",
              "         [-2.21631154e-01],\n",
              "         [-2.03144625e-01],\n",
              "         [-1.98523000e-01],\n",
              "         [-1.76570237e-01],\n",
              "         [-1.71948612e-01],\n",
              "         [-1.68482378e-01],\n",
              "         [-1.74259424e-01],\n",
              "         [-1.89279735e-01],\n",
              "         [-1.99678406e-01],\n",
              "         [-2.11232483e-01],\n",
              "         [-2.17009529e-01],\n",
              "         [-2.36651465e-01],\n",
              "         [-2.42428511e-01],\n",
              "         [-2.64381260e-01],\n",
              "         [-2.86334008e-01]],\n",
              " \n",
              "        [[ 1.72523165e+00],\n",
              "         [ 1.80264401e+00],\n",
              "         [ 1.88583338e+00],\n",
              "         [ 1.79224527e+00],\n",
              "         [ 1.55076504e+00],\n",
              "         [ 1.36012268e+00],\n",
              "         [ 1.16601408e+00],\n",
              "         [ 1.06549358e+00],\n",
              "         [ 9.60351408e-01],\n",
              "         [ 7.45445490e-01],\n",
              "         [ 6.92296743e-01],\n",
              "         [ 6.85364246e-01],\n",
              "         [ 6.53012812e-01],\n",
              "         [ 7.44290054e-01],\n",
              "         [ 7.13094056e-01],\n",
              "         [ 6.77276433e-01],\n",
              "         [ 7.05006182e-01],\n",
              "         [ 7.91661799e-01],\n",
              "         [ 9.31466222e-01],\n",
              "         [ 1.15099370e+00],\n",
              "         [ 1.38900781e+00],\n",
              "         [ 1.38438618e+00],\n",
              "         [ 1.58196104e+00],\n",
              "         [ 1.74256277e+00]],\n",
              " \n",
              "        [[-4.34226274e-01],\n",
              "         [-5.01239955e-01],\n",
              "         [-6.04071259e-01],\n",
              "         [-6.32956445e-01],\n",
              "         [-6.45665944e-01],\n",
              "         [-6.84949815e-01],\n",
              "         [-7.02280939e-01],\n",
              "         [-7.28855371e-01],\n",
              "         [-7.39253998e-01],\n",
              "         [-7.46186495e-01],\n",
              "         [-7.18456686e-01],\n",
              "         [-6.97659314e-01],\n",
              "         [-7.11524248e-01],\n",
              "         [-7.91247368e-01],\n",
              "         [-8.25909615e-01],\n",
              "         [-9.24119353e-01],\n",
              "         [-9.79578912e-01],\n",
              "         [-9.96910036e-01],\n",
              "         [-1.04081559e+00],\n",
              "         [-1.08009946e+00],\n",
              "         [-1.08009946e+00],\n",
              "         [-1.01193035e+00],\n",
              "         [-9.86511350e-01],\n",
              "         [-8.45551550e-01]],\n",
              " \n",
              "        [[-8.29821751e-02],\n",
              "         [ 3.67343635e-03],\n",
              "         [ 6.72208890e-02],\n",
              "         [-6.68064654e-02],\n",
              "         [ 2.79370081e-02],\n",
              "         [-6.68064654e-02],\n",
              "         [-1.07245751e-01],\n",
              "         [-1.95056766e-01],\n",
              "         [-2.65536666e-01],\n",
              "         [-3.52192283e-01],\n",
              "         [-3.38327378e-01],\n",
              "         [-4.08807278e-01],\n",
              "         [-4.66577709e-01],\n",
              "         [-4.96618301e-01],\n",
              "         [-5.22037268e-01],\n",
              "         [-5.39368391e-01],\n",
              "         [-6.14469945e-01],\n",
              "         [-6.39888942e-01],\n",
              "         [-6.64152503e-01],\n",
              "         [-6.59530878e-01],\n",
              "         [-6.07537508e-01],\n",
              "         [-5.70564449e-01],\n",
              "         [-5.04706144e-01],\n",
              "         [-2.70158291e-01]],\n",
              " \n",
              "        [[-5.02395332e-01],\n",
              "         [-5.24348080e-01],\n",
              "         [-5.19726455e-01],\n",
              "         [-5.32435954e-01],\n",
              "         [-5.40523827e-01],\n",
              "         [-5.34746766e-01],\n",
              "         [-5.13949454e-01],\n",
              "         [-4.86219645e-01],\n",
              "         [-4.93152082e-01],\n",
              "         [-4.87375051e-01],\n",
              "         [-4.78131771e-01],\n",
              "         [-5.09327769e-01],\n",
              "         [-5.45145452e-01],\n",
              "         [-5.62476575e-01],\n",
              "         [-5.62476575e-01],\n",
              "         [-5.55544138e-01],\n",
              "         [-5.20881891e-01],\n",
              "         [-4.63111460e-01],\n",
              "         [-3.19840848e-01],\n",
              "         [-1.48840442e-01],\n",
              "         [-5.56982914e-03],\n",
              "         [ 3.37140486e-02],\n",
              "         [ 2.44707838e-02],\n",
              "         [-2.98334006e-02]],\n",
              " \n",
              "        [[-8.99146274e-02],\n",
              "         [ 2.78660595e-01],\n",
              "         [ 3.23721498e-01],\n",
              "         [ 4.33485270e-01],\n",
              "         [ 5.29384136e-01],\n",
              "         [ 5.97553253e-01],\n",
              "         [ 5.98708630e-01],\n",
              "         [ 5.57113945e-01],\n",
              "         [ 4.69302922e-01],\n",
              "         [ 2.90214658e-01],\n",
              "         [ 1.45788640e-01],\n",
              "         [-7.02726841e-02],\n",
              "         [-2.47050136e-01],\n",
              "         [-4.71199334e-01],\n",
              "         [-5.85584760e-01],\n",
              "         [-6.43355131e-01],\n",
              "         [-7.28855371e-01],\n",
              "         [-7.35787809e-01],\n",
              "         [-8.30531299e-01],\n",
              "         [-9.17186916e-01],\n",
              "         [-9.32207167e-01],\n",
              "         [-9.47227478e-01],\n",
              "         [-8.16666365e-01],\n",
              "         [-4.51557398e-01]],\n",
              " \n",
              "        [[ 4.17309552e-01],\n",
              "         [ 4.54282641e-01],\n",
              "         [ 5.47870696e-01],\n",
              "         [ 7.00384557e-01],\n",
              "         [ 7.77796924e-01],\n",
              "         [ 9.21067536e-01],\n",
              "         [ 8.94493163e-01],\n",
              "         [ 9.75371718e-01],\n",
              "         [ 1.01350021e+00],\n",
              "         [ 1.03314209e+00],\n",
              "         [ 1.07358146e+00],\n",
              "         [ 9.95013654e-01],\n",
              "         [ 8.15925419e-01],\n",
              "         [ 7.50067115e-01],\n",
              "         [ 6.76120996e-01],\n",
              "         [ 5.83688319e-01],\n",
              "         [ 5.07431388e-01],\n",
              "         [ 4.39262331e-01],\n",
              "         [ 3.67627025e-01],\n",
              "         [ 2.95991719e-01],\n",
              "         [ 2.71728128e-01],\n",
              "         [ 2.05869868e-01],\n",
              "         [ 1.37700781e-01],\n",
              "         [ 2.90924162e-02]],\n",
              " \n",
              "        [[-5.01239955e-01],\n",
              "         [-4.20361370e-01],\n",
              "         [-4.70043927e-01],\n",
              "         [-5.22037268e-01],\n",
              "         [-3.63746375e-01],\n",
              "         [-1.53462082e-01],\n",
              "         [-9.22254398e-02],\n",
              "         [-9.10700336e-02],\n",
              "         [-5.29415645e-02],\n",
              "         [-8.06713626e-02],\n",
              "         [-9.56916660e-02],\n",
              "         [-1.23421460e-01],\n",
              "         [-1.44218817e-01],\n",
              "         [-2.49360949e-01],\n",
              "         [-3.36016566e-01],\n",
              "         [-4.18050557e-01],\n",
              "         [-4.14584339e-01],\n",
              "         [-4.70043927e-01],\n",
              "         [-4.86219645e-01],\n",
              "         [-4.43469524e-01],\n",
              "         [-5.08172393e-01],\n",
              "         [-4.86219645e-01],\n",
              "         [-5.90206385e-01],\n",
              "         [-5.87895572e-01]],\n",
              " \n",
              "        [[ 7.70864487e-01],\n",
              "         [ 7.76641488e-01],\n",
              "         [ 7.30425179e-01],\n",
              "         [ 7.06161618e-01],\n",
              "         [ 7.10783243e-01],\n",
              "         [ 6.74965620e-01],\n",
              "         [ 6.61100686e-01],\n",
              "         [ 6.51857436e-01],\n",
              "         [ 6.18350565e-01],\n",
              "         [ 6.04485691e-01],\n",
              "         [ 5.82532942e-01],\n",
              "         [ 7.69709051e-01],\n",
              "         [ 7.65087426e-01],\n",
              "         [ 9.74216282e-01],\n",
              "         [ 1.14637208e+00],\n",
              "         [ 1.22725070e+00],\n",
              "         [ 1.21107495e+00],\n",
              "         [ 8.93337727e-01],\n",
              "         [ 8.76006603e-01],\n",
              "         [ 9.77682531e-01],\n",
              "         [ 9.78837967e-01],\n",
              "         [ 9.61506844e-01],\n",
              "         [ 8.45965981e-01],\n",
              "         [ 7.63932049e-01]],\n",
              " \n",
              "        [[ 3.29498559e-01],\n",
              "         [ 3.34120184e-01],\n",
              "         [ 2.39376709e-01],\n",
              "         [ 1.30768344e-01],\n",
              "         [ 1.22680478e-01],\n",
              "         [ 1.14592619e-01],\n",
              "         [ 8.91736448e-02],\n",
              "         [ 1.28457516e-01],\n",
              "         [ 3.64160776e-01],\n",
              "         [ 3.51451308e-01],\n",
              "         [ 6.61100686e-01],\n",
              "         [ 6.94607556e-01],\n",
              "         [ 7.24648118e-01],\n",
              "         [ 6.99229181e-01],\n",
              "         [ 8.39033544e-01],\n",
              "         [ 8.97959352e-01],\n",
              "         [ 8.60986292e-01],\n",
              "         [ 8.02060485e-01],\n",
              "         [ 7.38513052e-01],\n",
              "         [ 6.57634497e-01],\n",
              "         [ 5.51336944e-01],\n",
              "         [ 4.70458329e-01],\n",
              "         [ 3.65316212e-01],\n",
              "         [ 3.27187717e-01]],\n",
              " \n",
              "        [[-2.63671763e-02],\n",
              "         [-2.17455439e-02],\n",
              "         [-1.01914620e-02],\n",
              "         [-1.48130944e-02],\n",
              "         [-7.72051364e-02],\n",
              "         [-1.13022789e-01],\n",
              "         [-1.11867383e-01],\n",
              "         [-8.76038074e-02],\n",
              "         [-1.24576874e-01],\n",
              "         [-1.40752584e-01],\n",
              "         [-1.52306676e-01],\n",
              "         [-1.73104018e-01],\n",
              "         [-2.38962278e-01],\n",
              "         [-2.66692072e-01],\n",
              "         [-2.49360949e-01],\n",
              "         [-1.98523000e-01],\n",
              "         [-1.52306676e-01],\n",
              "         [-1.13022789e-01],\n",
              "         [-1.07245751e-01],\n",
              "         [ 6.60654753e-02],\n",
              "         [ 3.60694557e-01],\n",
              "         [ 5.52492321e-01],\n",
              "         [ 6.59945309e-01],\n",
              "         [ 6.74965620e-01]],\n",
              " \n",
              "        [[-1.94347277e-02],\n",
              "         [-4.25428897e-02],\n",
              "         [-1.90435141e-01],\n",
              "         [-3.37171972e-01],\n",
              "         [-3.26773316e-01],\n",
              "         [-3.14063817e-01],\n",
              "         [-3.30239534e-01],\n",
              "         [-3.14063817e-01],\n",
              "         [-3.05975944e-01],\n",
              "         [-2.74779946e-01],\n",
              "         [-2.25097388e-01],\n",
              "         [-2.21631154e-01],\n",
              "         [-1.91590548e-01],\n",
              "         [-1.46529630e-01],\n",
              "         [-1.41907990e-01],\n",
              "         [-1.80036470e-01],\n",
              "         [-1.36130959e-01],\n",
              "         [-1.52306676e-01],\n",
              "         [-1.66171566e-01],\n",
              "         [-1.73104018e-01],\n",
              "         [-1.98523000e-01],\n",
              "         [-2.36651465e-01],\n",
              "         [-2.57448822e-01],\n",
              "         [-2.50516355e-01]],\n",
              " \n",
              "        [[ 9.14844573e-02],\n",
              "         [ 1.52721092e-01],\n",
              "         [ 2.48619974e-01],\n",
              "         [ 2.97147125e-01],\n",
              "         [ 3.34120184e-01],\n",
              "         [ 3.74559462e-01],\n",
              "         [ 4.30019051e-01],\n",
              "         [ 4.24242020e-01],\n",
              "         [ 4.18464988e-01],\n",
              "         [ 4.14998740e-01],\n",
              "         [ 4.23086613e-01],\n",
              "         [ 3.89579773e-01],\n",
              "         [ 3.83802742e-01],\n",
              "         [ 3.78025681e-01],\n",
              "         [ 3.63005370e-01],\n",
              "         [ 3.59539151e-01],\n",
              "         [ 3.50295901e-01],\n",
              "         [ 3.14478248e-01],\n",
              "         [ 2.12802321e-01],\n",
              "         [ 1.92004964e-01],\n",
              "         [ 1.83917120e-01],\n",
              "         [ 1.34234563e-01],\n",
              "         [ 1.34234563e-01],\n",
              "         [ 1.64275169e-01]],\n",
              " \n",
              "        [[ 1.01465559e+00],\n",
              "         [ 8.70229602e-01],\n",
              "         [ 7.55844176e-01],\n",
              "         [ 5.42093635e-01],\n",
              "         [ 4.72769171e-01],\n",
              "         [ 3.93045992e-01],\n",
              "         [ 3.28343123e-01],\n",
              "         [ 4.47350174e-01],\n",
              "         [ 6.16039753e-01],\n",
              "         [ 9.34932411e-01],\n",
              "         [ 1.41673768e+00],\n",
              "         [ 1.87427926e+00],\n",
              "         [ 2.03025937e+00],\n",
              "         [ 2.16890836e+00],\n",
              "         [ 2.26365185e+00],\n",
              "         [ 2.40230083e+00],\n",
              "         [ 2.45198345e+00],\n",
              "         [ 2.41847658e+00],\n",
              "         [ 2.42656446e+00],\n",
              "         [ 2.23938823e+00],\n",
              "         [ 2.10189462e+00],\n",
              "         [ 1.92511725e+00],\n",
              "         [ 1.73909652e+00],\n",
              "         [ 1.49415004e+00]],\n",
              " \n",
              "        [[-1.36895144e+00],\n",
              "         [-1.35855281e+00],\n",
              "         [-1.36086369e+00],\n",
              "         [-1.35739744e+00],\n",
              "         [-1.40130293e+00],\n",
              "         [-1.02001822e+00],\n",
              "         [-7.13835061e-01],\n",
              "         [-5.99449635e-01],\n",
              "         [-3.99564028e-01],\n",
              "         [-2.33185247e-01],\n",
              "         [-1.18799828e-01],\n",
              "         [-7.25835040e-02],\n",
              "         [-5.40969744e-02],\n",
              "         [-1.98523000e-01],\n",
              "         [-3.16374630e-01],\n",
              "         [-4.12273496e-01],\n",
              "         [-5.32435954e-01],\n",
              "         [-6.74551189e-01],\n",
              "         [-7.36943185e-01],\n",
              "         [-8.37463737e-01],\n",
              "         [-9.59936976e-01],\n",
              "         [-1.01539660e+00],\n",
              "         [-1.05352509e+00],\n",
              "         [-1.05352509e+00]],\n",
              " \n",
              "        [[-1.57692492e+00],\n",
              "         [-1.57230330e+00],\n",
              "         [-1.56421542e+00],\n",
              "         [-1.54803979e+00],\n",
              "         [-1.57923579e+00],\n",
              "         [-1.56421542e+00],\n",
              "         [-1.55035055e+00],\n",
              "         [-1.54919517e+00],\n",
              "         [-1.53995192e+00],\n",
              "         [-1.50297880e+00],\n",
              "         [-1.48564768e+00],\n",
              "         [-1.44867468e+00],\n",
              "         [-1.46485043e+00],\n",
              "         [-1.41863406e+00],\n",
              "         [-1.43134356e+00],\n",
              "         [-1.37010694e+00],\n",
              "         [-1.36432981e+00],\n",
              "         [-1.34237707e+00],\n",
              "         [-1.31002569e+00],\n",
              "         [-1.31695807e+00],\n",
              "         [-1.31811357e+00],\n",
              "         [-1.31926894e+00],\n",
              "         [-1.33428919e+00],\n",
              "         [-1.37819481e+00]],\n",
              " \n",
              "        [[ 2.83282220e-01],\n",
              "         [ 3.39897215e-01],\n",
              "         [ 4.32329863e-01],\n",
              "         [ 5.94087005e-01],\n",
              "         [ 6.73810184e-01],\n",
              "         [ 6.78431809e-01],\n",
              "         [ 7.01539993e-01],\n",
              "         [ 7.54688740e-01],\n",
              "         [ 8.74851227e-01],\n",
              "         [ 8.66763353e-01],\n",
              "         [ 7.91661799e-01],\n",
              "         [ 7.59310365e-01],\n",
              "         [ 7.54688740e-01],\n",
              "         [ 7.33891428e-01],\n",
              "         [ 6.81898057e-01],\n",
              "         [ 6.11418128e-01],\n",
              "         [ 5.85999191e-01],\n",
              "         [ 5.39782822e-01],\n",
              "         [ 4.31174457e-01],\n",
              "         [ 3.80336493e-01],\n",
              "         [ 3.59539151e-01],\n",
              "         [ 2.53241599e-01],\n",
              "         [ 2.53241599e-01],\n",
              "         [ 3.65316212e-01]],\n",
              " \n",
              "        [[ 8.30945671e-01],\n",
              "         [ 8.91026914e-01],\n",
              "         [ 9.23378348e-01],\n",
              "         [ 1.07935846e+00],\n",
              "         [ 1.57618403e+00],\n",
              "         [ 1.63279903e+00],\n",
              "         [ 1.60275841e+00],\n",
              "         [ 1.84423864e+00],\n",
              "         [ 1.85001576e+00],\n",
              "         [ 1.90316451e+00],\n",
              "         [ 1.95400250e+00],\n",
              "         [ 2.02679324e+00],\n",
              "         [ 2.05105662e+00],\n",
              "         [ 1.85925901e+00],\n",
              "         [ 1.73909652e+00],\n",
              "         [ 1.51841354e+00],\n",
              "         [ 1.44908905e+00],\n",
              "         [ 1.34163606e+00],\n",
              "         [ 1.13481808e+00],\n",
              "         [ 1.21223044e+00],\n",
              "         [ 1.26537919e+00],\n",
              "         [ 1.14406133e+00],\n",
              "         [ 1.16139245e+00],\n",
              "         [ 1.14983833e+00]],\n",
              " \n",
              "        [[ 1.56925154e+00],\n",
              "         [ 1.42135930e+00],\n",
              "         [ 1.24573720e+00],\n",
              "         [ 9.99635279e-01],\n",
              "         [ 8.30945671e-01],\n",
              "         [ 7.05006182e-01],\n",
              "         [ 6.01019442e-01],\n",
              "         [ 4.97032732e-01],\n",
              "         [ 4.26552832e-01],\n",
              "         [ 3.30653965e-01],\n",
              "         [ 2.85593033e-01],\n",
              "         [ 3.45674247e-01],\n",
              "         [ 5.45559883e-01],\n",
              "         [ 7.81263173e-01],\n",
              "         [ 1.13250721e+00],\n",
              "         [ 1.47681892e+00],\n",
              "         [ 1.63279903e+00],\n",
              "         [ 1.71136677e+00],\n",
              "         [ 1.78069127e+00],\n",
              "         [ 1.79224527e+00],\n",
              "         [ 1.83615077e+00],\n",
              "         [ 1.85232651e+00],\n",
              "         [ 1.85579276e+00],\n",
              "         [ 1.83730626e+00]],\n",
              " \n",
              "        [[ 2.16082048e+00],\n",
              "         [ 1.90316451e+00],\n",
              "         [ 1.75989389e+00],\n",
              "         [ 1.60275841e+00],\n",
              "         [ 1.55307579e+00],\n",
              "         [ 1.50223780e+00],\n",
              "         [ 1.30119681e+00],\n",
              "         [ 1.28617656e+00],\n",
              "         [ 1.38900781e+00],\n",
              "         [ 1.55538666e+00],\n",
              "         [ 1.79686689e+00],\n",
              "         [ 2.12153673e+00],\n",
              "         [ 2.33875346e+00],\n",
              "         [ 2.48202395e+00],\n",
              "         [ 2.68537593e+00],\n",
              "         [ 2.81478167e+00],\n",
              "         [ 2.81015992e+00],\n",
              "         [ 2.94418716e+00],\n",
              "         [ 2.95227504e+00],\n",
              "         [ 2.93032241e+00],\n",
              "         [ 2.90143728e+00],\n",
              "         [ 2.62182832e+00],\n",
              "         [ 2.22783422e+00],\n",
              "         [ 2.12384748e+00]],\n",
              " \n",
              "        [[-9.99220848e-01],\n",
              "         [-9.95754659e-01],\n",
              "         [-9.92288411e-01],\n",
              "         [-9.91133034e-01],\n",
              "         [-9.98065472e-01],\n",
              "         [-9.91133034e-01],\n",
              "         [-9.87666786e-01],\n",
              "         [-1.00037622e+00],\n",
              "         [-1.00615335e+00],\n",
              "         [-1.01539660e+00],\n",
              "         [-1.02117360e+00],\n",
              "         [-1.02232897e+00],\n",
              "         [-1.02926147e+00],\n",
              "         [-1.04428184e+00],\n",
              "         [-1.04543722e+00],\n",
              "         [-1.04659259e+00],\n",
              "         [-1.06045747e+00],\n",
              "         [-1.06045747e+00],\n",
              "         [-1.04543722e+00],\n",
              "         [-1.06045747e+00],\n",
              "         [-1.06045747e+00],\n",
              "         [-1.05930209e+00],\n",
              "         [-1.05121422e+00],\n",
              "         [-1.06045747e+00]],\n",
              " \n",
              "        [[ 2.37065896e-01],\n",
              "         [ 1.03038542e-01],\n",
              "         [ 4.82884469e-03],\n",
              "         [-4.13874835e-02],\n",
              "         [-2.98334006e-02],\n",
              "         [ 2.51802825e-03],\n",
              "         [-5.40969744e-02],\n",
              "         [-1.70793205e-01],\n",
              "         [-2.00833812e-01],\n",
              "         [-2.44739324e-01],\n",
              "         [-2.92111069e-01],\n",
              "         [-3.72989625e-01],\n",
              "         [-5.99449635e-01],\n",
              "         [-6.74551189e-01],\n",
              "         [-5.56699514e-01],\n",
              "         [-3.47570658e-01],\n",
              "         [-1.44218817e-01],\n",
              "         [ 1.59653544e-01],\n",
              "         [ 2.91370064e-01],\n",
              "         [ 3.17944467e-01],\n",
              "         [ 4.63525891e-01],\n",
              "         [ 4.42728549e-01],\n",
              "         [ 5.85999191e-01],\n",
              "         [ 4.30019051e-01]],\n",
              " \n",
              "        [[-4.12273496e-01],\n",
              "         [-5.17415643e-01],\n",
              "         [-5.65942824e-01],\n",
              "         [-6.22557819e-01],\n",
              "         [-6.29490256e-01],\n",
              "         [-6.65307879e-01],\n",
              "         [-6.86105251e-01],\n",
              "         [-6.75706565e-01],\n",
              "         [-6.95348501e-01],\n",
              "         [-6.84949815e-01],\n",
              "         [-6.61841691e-01],\n",
              "         [-5.90206385e-01],\n",
              "         [-5.41679204e-01],\n",
              "         [-5.32435954e-01],\n",
              "         [-5.49767077e-01],\n",
              "         [-5.89050949e-01],\n",
              "         [-5.92517197e-01],\n",
              "         [-5.59010327e-01],\n",
              "         [-4.91996676e-01],\n",
              "         [-4.13428932e-01],\n",
              "         [-3.14063817e-01],\n",
              "         [-2.00833812e-01],\n",
              "         [-2.70158291e-01],\n",
              "         [-2.89800256e-01]],\n",
              " \n",
              "        [[ 8.67918730e-01],\n",
              "         [ 8.39033544e-01],\n",
              "         [ 7.28114367e-01],\n",
              "         [ 6.50702000e-01],\n",
              "         [ 5.60580194e-01],\n",
              "         [ 5.10897636e-01],\n",
              "         [ 4.18464988e-01],\n",
              "         [ 3.88424367e-01],\n",
              "         [ 4.45039362e-01],\n",
              "         [ 6.22972250e-01],\n",
              "         [ 9.29155409e-01],\n",
              "         [ 1.18681145e+00],\n",
              "         [ 1.48837292e+00],\n",
              "         [ 1.51956892e+00],\n",
              "         [ 1.65706253e+00],\n",
              "         [ 1.52534604e+00],\n",
              "         [ 1.29195356e+00],\n",
              "         [ 1.58080566e+00],\n",
              "         [ 1.76336014e+00],\n",
              "         [ 9.40709472e-01],\n",
              "         [ 8.89871538e-01],\n",
              "         [ 9.07202661e-01],\n",
              "         [ 8.43655169e-01],\n",
              "         [ 8.30945671e-01]],\n",
              " \n",
              "        [[-6.08692884e-01],\n",
              "         [-7.77382493e-01],\n",
              "         [-6.94193125e-01],\n",
              "         [-4.18050557e-01],\n",
              "         [-2.47050136e-01],\n",
              "         [ 1.44633234e-01],\n",
              "         [ 4.82012421e-01],\n",
              "         [ 5.42093635e-01],\n",
              "         [ 6.65722311e-01],\n",
              "         [ 7.51222551e-01],\n",
              "         [ 7.66242862e-01],\n",
              "         [ 7.85884798e-01],\n",
              "         [ 6.94607556e-01],\n",
              "         [ 6.04485691e-01],\n",
              "         [ 4.12687927e-01],\n",
              "         [ 2.07025275e-01],\n",
              "         [ 8.68628249e-02],\n",
              "         [ 2.51802825e-03],\n",
              "         [-7.02726841e-02],\n",
              "         [-2.59759635e-01],\n",
              "         [-3.31394941e-01],\n",
              "         [-4.20361370e-01],\n",
              "         [-5.24348080e-01],\n",
              "         [-5.98294199e-01]],\n",
              " \n",
              "        [[ 5.29384136e-01],\n",
              "         [ 6.43769562e-01],\n",
              "         [ 6.19506001e-01],\n",
              "         [ 5.82532942e-01],\n",
              "         [ 5.98708630e-01],\n",
              "         [ 6.34526312e-01],\n",
              "         [ 7.33891428e-01],\n",
              "         [ 8.02060485e-01],\n",
              "         [ 8.86405289e-01],\n",
              "         [ 8.28634858e-01],\n",
              "         [ 9.78837967e-01],\n",
              "         [ 9.85770404e-01],\n",
              "         [ 1.02620971e+00],\n",
              "         [ 1.02158809e+00],\n",
              "         [ 1.02274346e+00],\n",
              "         [ 9.96169090e-01],\n",
              "         [ 9.81148779e-01],\n",
              "         [ 9.74216282e-01],\n",
              "         [ 9.53418970e-01],\n",
              "         [ 8.95648539e-01],\n",
              "         [ 8.56364667e-01],\n",
              "         [ 8.32101107e-01],\n",
              "         [ 8.11303735e-01],\n",
              "         [ 8.19391608e-01]],\n",
              " \n",
              "        [[ 7.35046804e-01],\n",
              "         [ 8.02060485e-01],\n",
              "         [ 7.99749672e-01],\n",
              "         [ 7.98594296e-01],\n",
              "         [ 7.53533363e-01],\n",
              "         [ 7.43134677e-01],\n",
              "         [ 7.36202240e-01],\n",
              "         [ 8.50587606e-01],\n",
              "         [ 1.04585159e+00],\n",
              "         [ 1.13481808e+00],\n",
              "         [ 1.31390631e+00],\n",
              "         [ 1.35550106e+00],\n",
              "         [ 1.51032567e+00],\n",
              "         [ 1.65359628e+00],\n",
              "         [ 1.69519103e+00],\n",
              "         [ 1.80842102e+00],\n",
              "         [ 1.89854288e+00],\n",
              "         [ 1.88121176e+00],\n",
              "         [ 1.91587400e+00],\n",
              "         [ 1.92049563e+00],\n",
              "         [ 1.76104927e+00],\n",
              "         [ 1.43291330e+00],\n",
              "         [ 1.24227107e+00],\n",
              "         [ 1.17410195e+00]],\n",
              " \n",
              "        [[-2.67687345e+00],\n",
              "         [-2.55440021e+00],\n",
              "         [-2.41690660e+00],\n",
              "         [-2.15693998e+00],\n",
              "         [-1.85884452e+00],\n",
              "         [-1.69708741e+00],\n",
              "         [-1.60349929e+00],\n",
              "         [-1.63353992e+00],\n",
              "         [-1.80454040e+00],\n",
              "         [-1.83111477e+00],\n",
              "         [-1.80454040e+00],\n",
              "         [-1.83458102e+00],\n",
              "         [-1.85075665e+00],\n",
              "         [-1.75023615e+00],\n",
              "         [-1.71904016e+00],\n",
              "         [-1.61274266e+00],\n",
              "         [-1.60696554e+00],\n",
              "         [-1.46716118e+00],\n",
              "         [-1.48564768e+00],\n",
              "         [-1.45560706e+00],\n",
              "         [-1.46138418e+00],\n",
              "         [-1.40014756e+00],\n",
              "         [-1.39668131e+00],\n",
              "         [-1.39783669e+00]],\n",
              " \n",
              "        [[-4.72354740e-01],\n",
              "         [-2.51671761e-01],\n",
              "         [-1.01468712e-01],\n",
              "         [-6.91172779e-02],\n",
              "         [-1.32664725e-01],\n",
              "         [-1.48840442e-01],\n",
              "         [-2.08921671e-01],\n",
              "         [-1.96212173e-01],\n",
              "         [-1.77725643e-01],\n",
              "         [-1.77725643e-01],\n",
              "         [-2.50516355e-01],\n",
              "         [-3.49881470e-01],\n",
              "         [-3.89165342e-01],\n",
              "         [-4.24982995e-01],\n",
              "         [-4.90841269e-01],\n",
              "         [-5.63632011e-01],\n",
              "         [-6.23713195e-01],\n",
              "         [-5.54388702e-01],\n",
              "         [-4.30760056e-01],\n",
              "         [-2.88644820e-01],\n",
              "         [-1.78881064e-01],\n",
              "         [-2.40563601e-02],\n",
              "         [ 1.61964357e-01],\n",
              "         [ 1.70052215e-01]],\n",
              " \n",
              "        [[ 2.67816000e-02],\n",
              "         [ 1.04193948e-01],\n",
              "         [ 1.86227933e-01],\n",
              "         [ 3.16789061e-01],\n",
              "         [ 3.34120184e-01],\n",
              "         [ 4.10377115e-01],\n",
              "         [ 4.23086613e-01],\n",
              "         [ 4.71613765e-01],\n",
              "         [ 4.73924577e-01],\n",
              "         [ 4.09221709e-01],\n",
              "         [ 3.63005370e-01],\n",
              "         [ 3.14478248e-01],\n",
              "         [ 3.34120184e-01],\n",
              "         [ 3.81491899e-01],\n",
              "         [ 2.43998334e-01],\n",
              "         [ 1.49254873e-01],\n",
              "         [ 9.84169096e-02],\n",
              "         [ 6.25992566e-02],\n",
              "         [ 1.50410280e-01],\n",
              "         [ 2.27822632e-01],\n",
              "         [ 3.38741809e-01],\n",
              "         [ 4.43883955e-01],\n",
              "         [ 5.37472010e-01],\n",
              "         [ 6.53012812e-01]]], dtype=float32)>)"
            ]
          },
          "execution_count": 35,
          "metadata": {},
          "output_type": "execute_result"
        },
        {
          "data": {
            "image/png": "[encoded data removed]",
            "text/plain": [
              "<Figure size 864x576 with 3 Axes>"
            ]
          },
          "metadata": {},
          "output_type": "display_data"
        }
      ],
      "source": [
        "wide_window.plot(baseline)"
      ]
    },
    {
      "cell_type": "code",
      "execution_count": null,
      "metadata": {
        "id": "y6_PJF4aMDMI"
      },
      "outputs": [],
      "source": [
        "linear = tf.keras.Sequential([\n",
        "    tf.keras.layers.Dense(units=1)\n",
        "])"
      ]
    },
    {
      "cell_type": "code",
      "execution_count": null,
      "metadata": {
        "colab": {
          "base_uri": "https://localhost:8080/"
        },
        "id": "KUQrgUbnMjP0",
        "outputId": "6a1d3abf-f3b4-4c95-b91f-eca1e875aaa8"
      },
      "outputs": [
        {
          "name": "stdout",
          "output_type": "stream",
          "text": [
            "Input shape: (32, 1, 19)\n",
            "Output shape: (32, 1, 1)\n"
          ]
        }
      ],
      "source": [
        "print('Input shape:', single_step_window.example[0].shape)\n",
        "print('Output shape:', linear(single_step_window.example[0]).shape)"
      ]
    },
    {
      "cell_type": "code",
      "execution_count": null,
      "metadata": {
        "id": "wyJFNTQkMnCx"
      },
      "outputs": [],
      "source": [
        "MAX_EPOCHS = 20\n",
        "\n",
        "def compile_and_fit(model, window, patience=2):\n",
        "  early_stopping = tf.keras.callbacks.EarlyStopping(monitor='val_loss',\n",
        "                                                    patience=patience,\n",
        "                                                    mode='min')\n",
        "\n",
        "  model.compile(loss=tf.keras.losses.MeanSquaredError(),\n",
        "                optimizer=tf.keras.optimizers.Adam(),\n",
        "                metrics=[tf.keras.metrics.MeanAbsoluteError()])\n",
        "\n",
        "  history = model.fit(window.train, epochs=MAX_EPOCHS,\n",
        "                      validation_data=window.val,\n",
        "                      callbacks=[early_stopping])\n",
        "  return history"
      ]
    },
    {
      "cell_type": "code",
      "execution_count": null,
      "metadata": {
        "colab": {
          "base_uri": "https://localhost:8080/"
        },
        "id": "QFscscf1MnwH",
        "outputId": "f90dd5ea-b8b4-4fdb-9ea4-972fb545ad93"
      },
      "outputs": [
        {
          "name": "stdout",
          "output_type": "stream",
          "text": [
            "Epoch 1/20\n",
            "1534/1534 [==============================] - 38s 24ms/step - loss: 0.2285 - mean_absolute_error: 0.2786 - val_loss: 0.0154 - val_mean_absolute_error: 0.0938\n",
            "Epoch 2/20\n",
            "1534/1534 [==============================] - 23s 15ms/step - loss: 0.0122 - mean_absolute_error: 0.0820 - val_loss: 0.0097 - val_mean_absolute_error: 0.0733\n",
            "Epoch 3/20\n",
            "1534/1534 [==============================] - 29s 19ms/step - loss: 0.0098 - mean_absolute_error: 0.0731 - val_loss: 0.0093 - val_mean_absolute_error: 0.0715\n",
            "Epoch 4/20\n",
            "1534/1534 [==============================] - 31s 20ms/step - loss: 0.0096 - mean_absolute_error: 0.0720 - val_loss: 0.0091 - val_mean_absolute_error: 0.0708\n",
            "Epoch 5/20\n",
            "1534/1534 [==============================] - 28s 19ms/step - loss: 0.0095 - mean_absolute_error: 0.0715 - val_loss: 0.0090 - val_mean_absolute_error: 0.0700\n",
            "Epoch 6/20\n",
            "1534/1534 [==============================] - 28s 18ms/step - loss: 0.0093 - mean_absolute_error: 0.0710 - val_loss: 0.0089 - val_mean_absolute_error: 0.0697\n",
            "Epoch 7/20\n",
            "1534/1534 [==============================] - 31s 20ms/step - loss: 0.0093 - mean_absolute_error: 0.0708 - val_loss: 0.0090 - val_mean_absolute_error: 0.0705\n",
            "Epoch 8/20\n",
            "1534/1534 [==============================] - 27s 17ms/step - loss: 0.0092 - mean_absolute_error: 0.0705 - val_loss: 0.0088 - val_mean_absolute_error: 0.0697\n",
            "Epoch 9/20\n",
            "1534/1534 [==============================] - 30s 20ms/step - loss: 0.0092 - mean_absolute_error: 0.0703 - val_loss: 0.0089 - val_mean_absolute_error: 0.0698\n",
            "Epoch 10/20\n",
            "1534/1534 [==============================] - 25s 16ms/step - loss: 0.0092 - mean_absolute_error: 0.0702 - val_loss: 0.0088 - val_mean_absolute_error: 0.0694\n",
            "Epoch 11/20\n",
            "1534/1534 [==============================] - 20s 13ms/step - loss: 0.0091 - mean_absolute_error: 0.0700 - val_loss: 0.0088 - val_mean_absolute_error: 0.0694\n",
            "Epoch 12/20\n",
            "1534/1534 [==============================] - 18s 12ms/step - loss: 0.0091 - mean_absolute_error: 0.0699 - val_loss: 0.0086 - val_mean_absolute_error: 0.0684\n",
            "Epoch 13/20\n",
            "1534/1534 [==============================] - 16s 10ms/step - loss: 0.0091 - mean_absolute_error: 0.0699 - val_loss: 0.0091 - val_mean_absolute_error: 0.0711\n",
            "Epoch 14/20\n",
            "1534/1534 [==============================] - 15s 10ms/step - loss: 0.0091 - mean_absolute_error: 0.0698 - val_loss: 0.0087 - val_mean_absolute_error: 0.0692\n",
            "439/439 [==============================] - 4s 9ms/step - loss: 0.0087 - mean_absolute_error: 0.0692\n"
          ]
        }
      ],
      "source": [
        "history = compile_and_fit(linear, single_step_window)\n",
        "\n",
        "val_performance['Linear'] = linear.evaluate(single_step_window.val)\n",
        "performance['Linear'] = linear.evaluate(single_step_window.test, verbose=0)"
      ]
    },
    {
      "cell_type": "code",
      "execution_count": null,
      "metadata": {
        "colab": {
          "base_uri": "https://localhost:8080/"
        },
        "id": "iR28v7E9MvSA",
        "outputId": "74b8a8e5-e2c6-4593-a307-c7f5fffd7bac"
      },
      "outputs": [
        {
          "name": "stdout",
          "output_type": "stream",
          "text": [
            "Input shape: (32, 24, 19)\n",
            "Output shape: (32, 24, 1)\n"
          ]
        }
      ],
      "source": [
        "print('Input shape:', wide_window.example[0].shape)\n",
        "print('Output shape:', baseline(wide_window.example[0]).shape)"
      ]
    },
    {
      "cell_type": "code",
      "execution_count": null,
      "metadata": {
        "colab": {
          "base_uri": "https://localhost:8080/",
          "height": 1000
        },
        "id": "OK96OnqIMzX7",
        "outputId": "ffd36243-b49c-4c7e-f3cd-185dc7220739"
      },
      "outputs": [
        {
          "data": {
            "text/plain": [
              "(<tf.Tensor: shape=(32, 24, 19), dtype=float32, numpy=\n",
              " array([[[-0.07789639,  1.2191628 ,  1.2189516 , ..., -1.1218202 ,\n",
              "           0.32792288, -1.325554  ],\n",
              "         [-0.152618  ,  1.2792441 ,  1.2854291 , ..., -1.3064041 ,\n",
              "           0.32694143, -1.3258384 ],\n",
              "         [-0.15502837,  1.3162172 ,  1.3221064 , ..., -1.4019518 ,\n",
              "           0.32595974, -1.326122  ],\n",
              "         ...,\n",
              "         [ 0.2450938 ,  0.61835057,  0.59543765, ..., -0.18448152,\n",
              "           0.30726922, -1.33138   ],\n",
              "         [ 0.24147823,  0.7500671 ,  0.72724664, ..., -0.5410703 ,\n",
              "           0.3062835 , -1.3316498 ],\n",
              "         [ 0.2258108 ,  0.90027016,  0.8773943 , ..., -0.86077905,\n",
              "           0.30529758, -1.3319188 ]],\n",
              " \n",
              "        [[ 0.2535301 ,  0.6368371 ,  0.6137763 , ..., -1.2815549 ,\n",
              "          -1.2681595 ,  0.7948563 ],\n",
              "         [ 0.30896872,  0.75353336,  0.7249543 , ..., -1.3925658 ,\n",
              "          -1.2675973 ,  0.7956981 ],\n",
              "         [ 0.33307245,  0.8009051 ,  0.76965475, ..., -1.4086688 ,\n",
              "          -1.2670344 ,  0.79653955],\n",
              "         ...,\n",
              "         [ 0.49336237,  0.38264734,  0.340989  , ..., -0.48356622,\n",
              "          -1.2562251 ,  0.8124501 ],\n",
              "         [ 0.55121136,  0.43926233,  0.39371258, ..., -0.8110221 ,\n",
              "          -1.2556502 ,  0.8132835 ],\n",
              "         [ 0.60303444,  0.4762354 ,  0.4258052 , ..., -1.0832012 ,\n",
              "          -1.2550745 ,  0.8141165 ]],\n",
              " \n",
              "        [[ 1.3827906 , -0.00325901, -0.11060009, ...,  1.3927708 ,\n",
              "           0.03607995,  1.4242113 ],\n",
              "         [ 1.3815854 , -0.02867799, -0.13581572, ...,  1.4088736 ,\n",
              "           0.03709986,  1.4241322 ],\n",
              "         [ 1.28276   , -0.1291985 , -0.22750895, ...,  1.328971  ,\n",
              "           0.03811972,  1.4240524 ],\n",
              "         ...,\n",
              "         [ 1.6792667 , -0.23665147, -0.36504877, ...,  0.81122696,\n",
              "           0.05748525,  1.4224    ],\n",
              "         [ 1.6949341 , -0.24242851, -0.37192577, ...,  1.0834061 ,\n",
              "           0.05850384,  1.4223058 ],\n",
              "         [ 1.66842   , -0.26438126, -0.39141056, ...,  1.2817599 ,\n",
              "           0.05952236,  1.4222109 ]],\n",
              " \n",
              "        ...,\n",
              " \n",
              "        [[ 0.33789322, -2.740421  , -2.7513647 , ..., -0.48356622,\n",
              "          -0.728704  ,  1.2726089 ],\n",
              "         [ 0.40176815, -2.6768734 , -2.6929102 , ..., -0.8110221 ,\n",
              "          -0.72779423,  1.2730697 ],\n",
              "         [ 0.45720676, -2.5544002 , -2.5760014 , ..., -1.0832012 ,\n",
              "          -0.7268841 ,  1.2735299 ],\n",
              "         ...,\n",
              "         [-0.50814825, -1.4613842 , -1.4172285 , ...,  0.59774905,\n",
              "          -0.70952904,  1.2821517 ],\n",
              "         [-0.570818  , -1.4001476 , -1.3507508 , ...,  0.24566741,\n",
              "          -0.7086124 ,  1.2825991 ],\n",
              "         [-0.667233  , -1.3966813 , -1.3404354 , ..., -0.12314909,\n",
              "          -0.7076953 ,  1.2830458 ]],\n",
              " \n",
              "        [[ 0.3957422 , -0.58096313, -0.60918194, ..., -1.3287662 ,\n",
              "           1.3284867 , -0.23076414],\n",
              "         [ 0.3571762 , -0.47235474, -0.49800393, ..., -1.1583035 ,\n",
              "           1.3283018 , -0.2317551 ],\n",
              "         [ 0.29571167, -0.25167176, -0.2745017 , ..., -0.9088973 ,\n",
              "           1.3281162 , -0.23274593],\n",
              "         ...,\n",
              "         [ 0.23063155, -0.17888106, -0.19656248, ..., -1.2815549 ,\n",
              "           1.3244519 , -0.25154623],\n",
              "         [ 0.17157736, -0.02405636, -0.03724552, ..., -1.3925658 ,\n",
              "           1.3242518 , -0.25253436],\n",
              "         [ 0.10408688,  0.16196436,  0.1530179 , ..., -1.4086688 ,\n",
              "           1.324051  , -0.2535223 ]],\n",
              " \n",
              "        [[ 1.1682673 , -0.01019146, -0.10143077, ..., -1.2815549 ,\n",
              "           0.6530104 , -1.1860108 ],\n",
              "         [ 1.2261162 ,  0.0267816 , -0.06933815, ..., -1.3925658 ,\n",
              "           0.6521304 , -1.1865247 ],\n",
              "         [ 1.2550408 ,  0.10419395,  0.00630876, ..., -1.4086688 ,\n",
              "           0.65125   , -1.1870381 ],\n",
              "         ...,\n",
              "         [ 1.9046366 ,  0.3387418 ,  0.18854903, ..., -0.48356622,\n",
              "           0.6344526 , -1.1966717 ],\n",
              "         [ 1.9468182 ,  0.44388396,  0.28941154, ..., -0.8110221 ,\n",
              "           0.63356483, -1.1971724 ],\n",
              "         [ 1.9769479 ,  0.537472  ,  0.3799586 , ..., -1.0832012 ,\n",
              "           0.6326767 , -1.1976726 ]]], dtype=float32)>,\n",
              " <tf.Tensor: shape=(32, 24, 1), dtype=float32, numpy=\n",
              " array([[[ 1.27924407e+00],\n",
              "         [ 1.31621718e+00],\n",
              "         [ 1.38092005e+00],\n",
              "         [ 1.44677830e+00],\n",
              "         [ 1.47219729e+00],\n",
              "         [ 1.50339329e+00],\n",
              "         [ 1.53112304e+00],\n",
              "         [ 1.48721755e+00],\n",
              "         [ 1.37052131e+00],\n",
              "         [ 1.27000082e+00],\n",
              "         [ 1.12673020e+00],\n",
              "         [ 1.07935846e+00],\n",
              "         [ 9.92702842e-01],\n",
              "         [ 8.35567355e-01],\n",
              "         [ 6.79587245e-01],\n",
              "         [ 4.80857015e-01],\n",
              "         [ 4.98188138e-01],\n",
              "         [ 3.89579773e-01],\n",
              "         [ 3.53762120e-01],\n",
              "         [ 3.96512210e-01],\n",
              "         [ 6.18350565e-01],\n",
              "         [ 7.50067115e-01],\n",
              "         [ 9.00270164e-01],\n",
              "         [ 1.00310147e+00]],\n",
              " \n",
              "        [[ 7.53533363e-01],\n",
              "         [ 8.00905108e-01],\n",
              "         [ 9.03736413e-01],\n",
              "         [ 8.59830916e-01],\n",
              "         [ 8.40188980e-01],\n",
              "         [ 7.95128047e-01],\n",
              "         [ 7.80107737e-01],\n",
              "         [ 7.61621177e-01],\n",
              "         [ 7.02695370e-01],\n",
              "         [ 6.95762932e-01],\n",
              "         [ 6.70343935e-01],\n",
              "         [ 6.71499372e-01],\n",
              "         [ 6.24127626e-01],\n",
              "         [ 6.50702000e-01],\n",
              "         [ 5.83688319e-01],\n",
              "         [ 5.28228760e-01],\n",
              "         [ 4.83167827e-01],\n",
              "         [ 5.09742200e-01],\n",
              "         [ 4.20775801e-01],\n",
              "         [ 3.81491899e-01],\n",
              "         [ 3.82647336e-01],\n",
              "         [ 4.39262331e-01],\n",
              "         [ 4.76235390e-01],\n",
              "         [ 5.35161197e-01]],\n",
              " \n",
              "        [[-2.86779925e-02],\n",
              "         [-1.29198506e-01],\n",
              "         [-1.44218817e-01],\n",
              "         [-1.65016159e-01],\n",
              "         [-1.82347283e-01],\n",
              "         [-1.90435141e-01],\n",
              "         [-1.98523000e-01],\n",
              "         [-2.08921671e-01],\n",
              "         [-2.17009529e-01],\n",
              "         [-2.21631154e-01],\n",
              "         [-2.03144625e-01],\n",
              "         [-1.98523000e-01],\n",
              "         [-1.76570237e-01],\n",
              "         [-1.71948612e-01],\n",
              "         [-1.68482378e-01],\n",
              "         [-1.74259424e-01],\n",
              "         [-1.89279735e-01],\n",
              "         [-1.99678406e-01],\n",
              "         [-2.11232483e-01],\n",
              "         [-2.17009529e-01],\n",
              "         [-2.36651465e-01],\n",
              "         [-2.42428511e-01],\n",
              "         [-2.64381260e-01],\n",
              "         [-2.86334008e-01]],\n",
              " \n",
              "        [[ 1.72523165e+00],\n",
              "         [ 1.80264401e+00],\n",
              "         [ 1.88583338e+00],\n",
              "         [ 1.79224527e+00],\n",
              "         [ 1.55076504e+00],\n",
              "         [ 1.36012268e+00],\n",
              "         [ 1.16601408e+00],\n",
              "         [ 1.06549358e+00],\n",
              "         [ 9.60351408e-01],\n",
              "         [ 7.45445490e-01],\n",
              "         [ 6.92296743e-01],\n",
              "         [ 6.85364246e-01],\n",
              "         [ 6.53012812e-01],\n",
              "         [ 7.44290054e-01],\n",
              "         [ 7.13094056e-01],\n",
              "         [ 6.77276433e-01],\n",
              "         [ 7.05006182e-01],\n",
              "         [ 7.91661799e-01],\n",
              "         [ 9.31466222e-01],\n",
              "         [ 1.15099370e+00],\n",
              "         [ 1.38900781e+00],\n",
              "         [ 1.38438618e+00],\n",
              "         [ 1.58196104e+00],\n",
              "         [ 1.74256277e+00]],\n",
              " \n",
              "        [[-4.34226274e-01],\n",
              "         [-5.01239955e-01],\n",
              "         [-6.04071259e-01],\n",
              "         [-6.32956445e-01],\n",
              "         [-6.45665944e-01],\n",
              "         [-6.84949815e-01],\n",
              "         [-7.02280939e-01],\n",
              "         [-7.28855371e-01],\n",
              "         [-7.39253998e-01],\n",
              "         [-7.46186495e-01],\n",
              "         [-7.18456686e-01],\n",
              "         [-6.97659314e-01],\n",
              "         [-7.11524248e-01],\n",
              "         [-7.91247368e-01],\n",
              "         [-8.25909615e-01],\n",
              "         [-9.24119353e-01],\n",
              "         [-9.79578912e-01],\n",
              "         [-9.96910036e-01],\n",
              "         [-1.04081559e+00],\n",
              "         [-1.08009946e+00],\n",
              "         [-1.08009946e+00],\n",
              "         [-1.01193035e+00],\n",
              "         [-9.86511350e-01],\n",
              "         [-8.45551550e-01]],\n",
              " \n",
              "        [[-8.29821751e-02],\n",
              "         [ 3.67343635e-03],\n",
              "         [ 6.72208890e-02],\n",
              "         [-6.68064654e-02],\n",
              "         [ 2.79370081e-02],\n",
              "         [-6.68064654e-02],\n",
              "         [-1.07245751e-01],\n",
              "         [-1.95056766e-01],\n",
              "         [-2.65536666e-01],\n",
              "         [-3.52192283e-01],\n",
              "         [-3.38327378e-01],\n",
              "         [-4.08807278e-01],\n",
              "         [-4.66577709e-01],\n",
              "         [-4.96618301e-01],\n",
              "         [-5.22037268e-01],\n",
              "         [-5.39368391e-01],\n",
              "         [-6.14469945e-01],\n",
              "         [-6.39888942e-01],\n",
              "         [-6.64152503e-01],\n",
              "         [-6.59530878e-01],\n",
              "         [-6.07537508e-01],\n",
              "         [-5.70564449e-01],\n",
              "         [-5.04706144e-01],\n",
              "         [-2.70158291e-01]],\n",
              " \n",
              "        [[-5.02395332e-01],\n",
              "         [-5.24348080e-01],\n",
              "         [-5.19726455e-01],\n",
              "         [-5.32435954e-01],\n",
              "         [-5.40523827e-01],\n",
              "         [-5.34746766e-01],\n",
              "         [-5.13949454e-01],\n",
              "         [-4.86219645e-01],\n",
              "         [-4.93152082e-01],\n",
              "         [-4.87375051e-01],\n",
              "         [-4.78131771e-01],\n",
              "         [-5.09327769e-01],\n",
              "         [-5.45145452e-01],\n",
              "         [-5.62476575e-01],\n",
              "         [-5.62476575e-01],\n",
              "         [-5.55544138e-01],\n",
              "         [-5.20881891e-01],\n",
              "         [-4.63111460e-01],\n",
              "         [-3.19840848e-01],\n",
              "         [-1.48840442e-01],\n",
              "         [-5.56982914e-03],\n",
              "         [ 3.37140486e-02],\n",
              "         [ 2.44707838e-02],\n",
              "         [-2.98334006e-02]],\n",
              " \n",
              "        [[-8.99146274e-02],\n",
              "         [ 2.78660595e-01],\n",
              "         [ 3.23721498e-01],\n",
              "         [ 4.33485270e-01],\n",
              "         [ 5.29384136e-01],\n",
              "         [ 5.97553253e-01],\n",
              "         [ 5.98708630e-01],\n",
              "         [ 5.57113945e-01],\n",
              "         [ 4.69302922e-01],\n",
              "         [ 2.90214658e-01],\n",
              "         [ 1.45788640e-01],\n",
              "         [-7.02726841e-02],\n",
              "         [-2.47050136e-01],\n",
              "         [-4.71199334e-01],\n",
              "         [-5.85584760e-01],\n",
              "         [-6.43355131e-01],\n",
              "         [-7.28855371e-01],\n",
              "         [-7.35787809e-01],\n",
              "         [-8.30531299e-01],\n",
              "         [-9.17186916e-01],\n",
              "         [-9.32207167e-01],\n",
              "         [-9.47227478e-01],\n",
              "         [-8.16666365e-01],\n",
              "         [-4.51557398e-01]],\n",
              " \n",
              "        [[ 4.17309552e-01],\n",
              "         [ 4.54282641e-01],\n",
              "         [ 5.47870696e-01],\n",
              "         [ 7.00384557e-01],\n",
              "         [ 7.77796924e-01],\n",
              "         [ 9.21067536e-01],\n",
              "         [ 8.94493163e-01],\n",
              "         [ 9.75371718e-01],\n",
              "         [ 1.01350021e+00],\n",
              "         [ 1.03314209e+00],\n",
              "         [ 1.07358146e+00],\n",
              "         [ 9.95013654e-01],\n",
              "         [ 8.15925419e-01],\n",
              "         [ 7.50067115e-01],\n",
              "         [ 6.76120996e-01],\n",
              "         [ 5.83688319e-01],\n",
              "         [ 5.07431388e-01],\n",
              "         [ 4.39262331e-01],\n",
              "         [ 3.67627025e-01],\n",
              "         [ 2.95991719e-01],\n",
              "         [ 2.71728128e-01],\n",
              "         [ 2.05869868e-01],\n",
              "         [ 1.37700781e-01],\n",
              "         [ 2.90924162e-02]],\n",
              " \n",
              "        [[-5.01239955e-01],\n",
              "         [-4.20361370e-01],\n",
              "         [-4.70043927e-01],\n",
              "         [-5.22037268e-01],\n",
              "         [-3.63746375e-01],\n",
              "         [-1.53462082e-01],\n",
              "         [-9.22254398e-02],\n",
              "         [-9.10700336e-02],\n",
              "         [-5.29415645e-02],\n",
              "         [-8.06713626e-02],\n",
              "         [-9.56916660e-02],\n",
              "         [-1.23421460e-01],\n",
              "         [-1.44218817e-01],\n",
              "         [-2.49360949e-01],\n",
              "         [-3.36016566e-01],\n",
              "         [-4.18050557e-01],\n",
              "         [-4.14584339e-01],\n",
              "         [-4.70043927e-01],\n",
              "         [-4.86219645e-01],\n",
              "         [-4.43469524e-01],\n",
              "         [-5.08172393e-01],\n",
              "         [-4.86219645e-01],\n",
              "         [-5.90206385e-01],\n",
              "         [-5.87895572e-01]],\n",
              " \n",
              "        [[ 7.70864487e-01],\n",
              "         [ 7.76641488e-01],\n",
              "         [ 7.30425179e-01],\n",
              "         [ 7.06161618e-01],\n",
              "         [ 7.10783243e-01],\n",
              "         [ 6.74965620e-01],\n",
              "         [ 6.61100686e-01],\n",
              "         [ 6.51857436e-01],\n",
              "         [ 6.18350565e-01],\n",
              "         [ 6.04485691e-01],\n",
              "         [ 5.82532942e-01],\n",
              "         [ 7.69709051e-01],\n",
              "         [ 7.65087426e-01],\n",
              "         [ 9.74216282e-01],\n",
              "         [ 1.14637208e+00],\n",
              "         [ 1.22725070e+00],\n",
              "         [ 1.21107495e+00],\n",
              "         [ 8.93337727e-01],\n",
              "         [ 8.76006603e-01],\n",
              "         [ 9.77682531e-01],\n",
              "         [ 9.78837967e-01],\n",
              "         [ 9.61506844e-01],\n",
              "         [ 8.45965981e-01],\n",
              "         [ 7.63932049e-01]],\n",
              " \n",
              "        [[ 3.29498559e-01],\n",
              "         [ 3.34120184e-01],\n",
              "         [ 2.39376709e-01],\n",
              "         [ 1.30768344e-01],\n",
              "         [ 1.22680478e-01],\n",
              "         [ 1.14592619e-01],\n",
              "         [ 8.91736448e-02],\n",
              "         [ 1.28457516e-01],\n",
              "         [ 3.64160776e-01],\n",
              "         [ 3.51451308e-01],\n",
              "         [ 6.61100686e-01],\n",
              "         [ 6.94607556e-01],\n",
              "         [ 7.24648118e-01],\n",
              "         [ 6.99229181e-01],\n",
              "         [ 8.39033544e-01],\n",
              "         [ 8.97959352e-01],\n",
              "         [ 8.60986292e-01],\n",
              "         [ 8.02060485e-01],\n",
              "         [ 7.38513052e-01],\n",
              "         [ 6.57634497e-01],\n",
              "         [ 5.51336944e-01],\n",
              "         [ 4.70458329e-01],\n",
              "         [ 3.65316212e-01],\n",
              "         [ 3.27187717e-01]],\n",
              " \n",
              "        [[-2.63671763e-02],\n",
              "         [-2.17455439e-02],\n",
              "         [-1.01914620e-02],\n",
              "         [-1.48130944e-02],\n",
              "         [-7.72051364e-02],\n",
              "         [-1.13022789e-01],\n",
              "         [-1.11867383e-01],\n",
              "         [-8.76038074e-02],\n",
              "         [-1.24576874e-01],\n",
              "         [-1.40752584e-01],\n",
              "         [-1.52306676e-01],\n",
              "         [-1.73104018e-01],\n",
              "         [-2.38962278e-01],\n",
              "         [-2.66692072e-01],\n",
              "         [-2.49360949e-01],\n",
              "         [-1.98523000e-01],\n",
              "         [-1.52306676e-01],\n",
              "         [-1.13022789e-01],\n",
              "         [-1.07245751e-01],\n",
              "         [ 6.60654753e-02],\n",
              "         [ 3.60694557e-01],\n",
              "         [ 5.52492321e-01],\n",
              "         [ 6.59945309e-01],\n",
              "         [ 6.74965620e-01]],\n",
              " \n",
              "        [[-1.94347277e-02],\n",
              "         [-4.25428897e-02],\n",
              "         [-1.90435141e-01],\n",
              "         [-3.37171972e-01],\n",
              "         [-3.26773316e-01],\n",
              "         [-3.14063817e-01],\n",
              "         [-3.30239534e-01],\n",
              "         [-3.14063817e-01],\n",
              "         [-3.05975944e-01],\n",
              "         [-2.74779946e-01],\n",
              "         [-2.25097388e-01],\n",
              "         [-2.21631154e-01],\n",
              "         [-1.91590548e-01],\n",
              "         [-1.46529630e-01],\n",
              "         [-1.41907990e-01],\n",
              "         [-1.80036470e-01],\n",
              "         [-1.36130959e-01],\n",
              "         [-1.52306676e-01],\n",
              "         [-1.66171566e-01],\n",
              "         [-1.73104018e-01],\n",
              "         [-1.98523000e-01],\n",
              "         [-2.36651465e-01],\n",
              "         [-2.57448822e-01],\n",
              "         [-2.50516355e-01]],\n",
              " \n",
              "        [[ 9.14844573e-02],\n",
              "         [ 1.52721092e-01],\n",
              "         [ 2.48619974e-01],\n",
              "         [ 2.97147125e-01],\n",
              "         [ 3.34120184e-01],\n",
              "         [ 3.74559462e-01],\n",
              "         [ 4.30019051e-01],\n",
              "         [ 4.24242020e-01],\n",
              "         [ 4.18464988e-01],\n",
              "         [ 4.14998740e-01],\n",
              "         [ 4.23086613e-01],\n",
              "         [ 3.89579773e-01],\n",
              "         [ 3.83802742e-01],\n",
              "         [ 3.78025681e-01],\n",
              "         [ 3.63005370e-01],\n",
              "         [ 3.59539151e-01],\n",
              "         [ 3.50295901e-01],\n",
              "         [ 3.14478248e-01],\n",
              "         [ 2.12802321e-01],\n",
              "         [ 1.92004964e-01],\n",
              "         [ 1.83917120e-01],\n",
              "         [ 1.34234563e-01],\n",
              "         [ 1.34234563e-01],\n",
              "         [ 1.64275169e-01]],\n",
              " \n",
              "        [[ 1.01465559e+00],\n",
              "         [ 8.70229602e-01],\n",
              "         [ 7.55844176e-01],\n",
              "         [ 5.42093635e-01],\n",
              "         [ 4.72769171e-01],\n",
              "         [ 3.93045992e-01],\n",
              "         [ 3.28343123e-01],\n",
              "         [ 4.47350174e-01],\n",
              "         [ 6.16039753e-01],\n",
              "         [ 9.34932411e-01],\n",
              "         [ 1.41673768e+00],\n",
              "         [ 1.87427926e+00],\n",
              "         [ 2.03025937e+00],\n",
              "         [ 2.16890836e+00],\n",
              "         [ 2.26365185e+00],\n",
              "         [ 2.40230083e+00],\n",
              "         [ 2.45198345e+00],\n",
              "         [ 2.41847658e+00],\n",
              "         [ 2.42656446e+00],\n",
              "         [ 2.23938823e+00],\n",
              "         [ 2.10189462e+00],\n",
              "         [ 1.92511725e+00],\n",
              "         [ 1.73909652e+00],\n",
              "         [ 1.49415004e+00]],\n",
              " \n",
              "        [[-1.36895144e+00],\n",
              "         [-1.35855281e+00],\n",
              "         [-1.36086369e+00],\n",
              "         [-1.35739744e+00],\n",
              "         [-1.40130293e+00],\n",
              "         [-1.02001822e+00],\n",
              "         [-7.13835061e-01],\n",
              "         [-5.99449635e-01],\n",
              "         [-3.99564028e-01],\n",
              "         [-2.33185247e-01],\n",
              "         [-1.18799828e-01],\n",
              "         [-7.25835040e-02],\n",
              "         [-5.40969744e-02],\n",
              "         [-1.98523000e-01],\n",
              "         [-3.16374630e-01],\n",
              "         [-4.12273496e-01],\n",
              "         [-5.32435954e-01],\n",
              "         [-6.74551189e-01],\n",
              "         [-7.36943185e-01],\n",
              "         [-8.37463737e-01],\n",
              "         [-9.59936976e-01],\n",
              "         [-1.01539660e+00],\n",
              "         [-1.05352509e+00],\n",
              "         [-1.05352509e+00]],\n",
              " \n",
              "        [[-1.57692492e+00],\n",
              "         [-1.57230330e+00],\n",
              "         [-1.56421542e+00],\n",
              "         [-1.54803979e+00],\n",
              "         [-1.57923579e+00],\n",
              "         [-1.56421542e+00],\n",
              "         [-1.55035055e+00],\n",
              "         [-1.54919517e+00],\n",
              "         [-1.53995192e+00],\n",
              "         [-1.50297880e+00],\n",
              "         [-1.48564768e+00],\n",
              "         [-1.44867468e+00],\n",
              "         [-1.46485043e+00],\n",
              "         [-1.41863406e+00],\n",
              "         [-1.43134356e+00],\n",
              "         [-1.37010694e+00],\n",
              "         [-1.36432981e+00],\n",
              "         [-1.34237707e+00],\n",
              "         [-1.31002569e+00],\n",
              "         [-1.31695807e+00],\n",
              "         [-1.31811357e+00],\n",
              "         [-1.31926894e+00],\n",
              "         [-1.33428919e+00],\n",
              "         [-1.37819481e+00]],\n",
              " \n",
              "        [[ 2.83282220e-01],\n",
              "         [ 3.39897215e-01],\n",
              "         [ 4.32329863e-01],\n",
              "         [ 5.94087005e-01],\n",
              "         [ 6.73810184e-01],\n",
              "         [ 6.78431809e-01],\n",
              "         [ 7.01539993e-01],\n",
              "         [ 7.54688740e-01],\n",
              "         [ 8.74851227e-01],\n",
              "         [ 8.66763353e-01],\n",
              "         [ 7.91661799e-01],\n",
              "         [ 7.59310365e-01],\n",
              "         [ 7.54688740e-01],\n",
              "         [ 7.33891428e-01],\n",
              "         [ 6.81898057e-01],\n",
              "         [ 6.11418128e-01],\n",
              "         [ 5.85999191e-01],\n",
              "         [ 5.39782822e-01],\n",
              "         [ 4.31174457e-01],\n",
              "         [ 3.80336493e-01],\n",
              "         [ 3.59539151e-01],\n",
              "         [ 2.53241599e-01],\n",
              "         [ 2.53241599e-01],\n",
              "         [ 3.65316212e-01]],\n",
              " \n",
              "        [[ 8.30945671e-01],\n",
              "         [ 8.91026914e-01],\n",
              "         [ 9.23378348e-01],\n",
              "         [ 1.07935846e+00],\n",
              "         [ 1.57618403e+00],\n",
              "         [ 1.63279903e+00],\n",
              "         [ 1.60275841e+00],\n",
              "         [ 1.84423864e+00],\n",
              "         [ 1.85001576e+00],\n",
              "         [ 1.90316451e+00],\n",
              "         [ 1.95400250e+00],\n",
              "         [ 2.02679324e+00],\n",
              "         [ 2.05105662e+00],\n",
              "         [ 1.85925901e+00],\n",
              "         [ 1.73909652e+00],\n",
              "         [ 1.51841354e+00],\n",
              "         [ 1.44908905e+00],\n",
              "         [ 1.34163606e+00],\n",
              "         [ 1.13481808e+00],\n",
              "         [ 1.21223044e+00],\n",
              "         [ 1.26537919e+00],\n",
              "         [ 1.14406133e+00],\n",
              "         [ 1.16139245e+00],\n",
              "         [ 1.14983833e+00]],\n",
              " \n",
              "        [[ 1.56925154e+00],\n",
              "         [ 1.42135930e+00],\n",
              "         [ 1.24573720e+00],\n",
              "         [ 9.99635279e-01],\n",
              "         [ 8.30945671e-01],\n",
              "         [ 7.05006182e-01],\n",
              "         [ 6.01019442e-01],\n",
              "         [ 4.97032732e-01],\n",
              "         [ 4.26552832e-01],\n",
              "         [ 3.30653965e-01],\n",
              "         [ 2.85593033e-01],\n",
              "         [ 3.45674247e-01],\n",
              "         [ 5.45559883e-01],\n",
              "         [ 7.81263173e-01],\n",
              "         [ 1.13250721e+00],\n",
              "         [ 1.47681892e+00],\n",
              "         [ 1.63279903e+00],\n",
              "         [ 1.71136677e+00],\n",
              "         [ 1.78069127e+00],\n",
              "         [ 1.79224527e+00],\n",
              "         [ 1.83615077e+00],\n",
              "         [ 1.85232651e+00],\n",
              "         [ 1.85579276e+00],\n",
              "         [ 1.83730626e+00]],\n",
              " \n",
              "        [[ 2.16082048e+00],\n",
              "         [ 1.90316451e+00],\n",
              "         [ 1.75989389e+00],\n",
              "         [ 1.60275841e+00],\n",
              "         [ 1.55307579e+00],\n",
              "         [ 1.50223780e+00],\n",
              "         [ 1.30119681e+00],\n",
              "         [ 1.28617656e+00],\n",
              "         [ 1.38900781e+00],\n",
              "         [ 1.55538666e+00],\n",
              "         [ 1.79686689e+00],\n",
              "         [ 2.12153673e+00],\n",
              "         [ 2.33875346e+00],\n",
              "         [ 2.48202395e+00],\n",
              "         [ 2.68537593e+00],\n",
              "         [ 2.81478167e+00],\n",
              "         [ 2.81015992e+00],\n",
              "         [ 2.94418716e+00],\n",
              "         [ 2.95227504e+00],\n",
              "         [ 2.93032241e+00],\n",
              "         [ 2.90143728e+00],\n",
              "         [ 2.62182832e+00],\n",
              "         [ 2.22783422e+00],\n",
              "         [ 2.12384748e+00]],\n",
              " \n",
              "        [[-9.99220848e-01],\n",
              "         [-9.95754659e-01],\n",
              "         [-9.92288411e-01],\n",
              "         [-9.91133034e-01],\n",
              "         [-9.98065472e-01],\n",
              "         [-9.91133034e-01],\n",
              "         [-9.87666786e-01],\n",
              "         [-1.00037622e+00],\n",
              "         [-1.00615335e+00],\n",
              "         [-1.01539660e+00],\n",
              "         [-1.02117360e+00],\n",
              "         [-1.02232897e+00],\n",
              "         [-1.02926147e+00],\n",
              "         [-1.04428184e+00],\n",
              "         [-1.04543722e+00],\n",
              "         [-1.04659259e+00],\n",
              "         [-1.06045747e+00],\n",
              "         [-1.06045747e+00],\n",
              "         [-1.04543722e+00],\n",
              "         [-1.06045747e+00],\n",
              "         [-1.06045747e+00],\n",
              "         [-1.05930209e+00],\n",
              "         [-1.05121422e+00],\n",
              "         [-1.06045747e+00]],\n",
              " \n",
              "        [[ 2.37065896e-01],\n",
              "         [ 1.03038542e-01],\n",
              "         [ 4.82884469e-03],\n",
              "         [-4.13874835e-02],\n",
              "         [-2.98334006e-02],\n",
              "         [ 2.51802825e-03],\n",
              "         [-5.40969744e-02],\n",
              "         [-1.70793205e-01],\n",
              "         [-2.00833812e-01],\n",
              "         [-2.44739324e-01],\n",
              "         [-2.92111069e-01],\n",
              "         [-3.72989625e-01],\n",
              "         [-5.99449635e-01],\n",
              "         [-6.74551189e-01],\n",
              "         [-5.56699514e-01],\n",
              "         [-3.47570658e-01],\n",
              "         [-1.44218817e-01],\n",
              "         [ 1.59653544e-01],\n",
              "         [ 2.91370064e-01],\n",
              "         [ 3.17944467e-01],\n",
              "         [ 4.63525891e-01],\n",
              "         [ 4.42728549e-01],\n",
              "         [ 5.85999191e-01],\n",
              "         [ 4.30019051e-01]],\n",
              " \n",
              "        [[-4.12273496e-01],\n",
              "         [-5.17415643e-01],\n",
              "         [-5.65942824e-01],\n",
              "         [-6.22557819e-01],\n",
              "         [-6.29490256e-01],\n",
              "         [-6.65307879e-01],\n",
              "         [-6.86105251e-01],\n",
              "         [-6.75706565e-01],\n",
              "         [-6.95348501e-01],\n",
              "         [-6.84949815e-01],\n",
              "         [-6.61841691e-01],\n",
              "         [-5.90206385e-01],\n",
              "         [-5.41679204e-01],\n",
              "         [-5.32435954e-01],\n",
              "         [-5.49767077e-01],\n",
              "         [-5.89050949e-01],\n",
              "         [-5.92517197e-01],\n",
              "         [-5.59010327e-01],\n",
              "         [-4.91996676e-01],\n",
              "         [-4.13428932e-01],\n",
              "         [-3.14063817e-01],\n",
              "         [-2.00833812e-01],\n",
              "         [-2.70158291e-01],\n",
              "         [-2.89800256e-01]],\n",
              " \n",
              "        [[ 8.67918730e-01],\n",
              "         [ 8.39033544e-01],\n",
              "         [ 7.28114367e-01],\n",
              "         [ 6.50702000e-01],\n",
              "         [ 5.60580194e-01],\n",
              "         [ 5.10897636e-01],\n",
              "         [ 4.18464988e-01],\n",
              "         [ 3.88424367e-01],\n",
              "         [ 4.45039362e-01],\n",
              "         [ 6.22972250e-01],\n",
              "         [ 9.29155409e-01],\n",
              "         [ 1.18681145e+00],\n",
              "         [ 1.48837292e+00],\n",
              "         [ 1.51956892e+00],\n",
              "         [ 1.65706253e+00],\n",
              "         [ 1.52534604e+00],\n",
              "         [ 1.29195356e+00],\n",
              "         [ 1.58080566e+00],\n",
              "         [ 1.76336014e+00],\n",
              "         [ 9.40709472e-01],\n",
              "         [ 8.89871538e-01],\n",
              "         [ 9.07202661e-01],\n",
              "         [ 8.43655169e-01],\n",
              "         [ 8.30945671e-01]],\n",
              " \n",
              "        [[-6.08692884e-01],\n",
              "         [-7.77382493e-01],\n",
              "         [-6.94193125e-01],\n",
              "         [-4.18050557e-01],\n",
              "         [-2.47050136e-01],\n",
              "         [ 1.44633234e-01],\n",
              "         [ 4.82012421e-01],\n",
              "         [ 5.42093635e-01],\n",
              "         [ 6.65722311e-01],\n",
              "         [ 7.51222551e-01],\n",
              "         [ 7.66242862e-01],\n",
              "         [ 7.85884798e-01],\n",
              "         [ 6.94607556e-01],\n",
              "         [ 6.04485691e-01],\n",
              "         [ 4.12687927e-01],\n",
              "         [ 2.07025275e-01],\n",
              "         [ 8.68628249e-02],\n",
              "         [ 2.51802825e-03],\n",
              "         [-7.02726841e-02],\n",
              "         [-2.59759635e-01],\n",
              "         [-3.31394941e-01],\n",
              "         [-4.20361370e-01],\n",
              "         [-5.24348080e-01],\n",
              "         [-5.98294199e-01]],\n",
              " \n",
              "        [[ 5.29384136e-01],\n",
              "         [ 6.43769562e-01],\n",
              "         [ 6.19506001e-01],\n",
              "         [ 5.82532942e-01],\n",
              "         [ 5.98708630e-01],\n",
              "         [ 6.34526312e-01],\n",
              "         [ 7.33891428e-01],\n",
              "         [ 8.02060485e-01],\n",
              "         [ 8.86405289e-01],\n",
              "         [ 8.28634858e-01],\n",
              "         [ 9.78837967e-01],\n",
              "         [ 9.85770404e-01],\n",
              "         [ 1.02620971e+00],\n",
              "         [ 1.02158809e+00],\n",
              "         [ 1.02274346e+00],\n",
              "         [ 9.96169090e-01],\n",
              "         [ 9.81148779e-01],\n",
              "         [ 9.74216282e-01],\n",
              "         [ 9.53418970e-01],\n",
              "         [ 8.95648539e-01],\n",
              "         [ 8.56364667e-01],\n",
              "         [ 8.32101107e-01],\n",
              "         [ 8.11303735e-01],\n",
              "         [ 8.19391608e-01]],\n",
              " \n",
              "        [[ 7.35046804e-01],\n",
              "         [ 8.02060485e-01],\n",
              "         [ 7.99749672e-01],\n",
              "         [ 7.98594296e-01],\n",
              "         [ 7.53533363e-01],\n",
              "         [ 7.43134677e-01],\n",
              "         [ 7.36202240e-01],\n",
              "         [ 8.50587606e-01],\n",
              "         [ 1.04585159e+00],\n",
              "         [ 1.13481808e+00],\n",
              "         [ 1.31390631e+00],\n",
              "         [ 1.35550106e+00],\n",
              "         [ 1.51032567e+00],\n",
              "         [ 1.65359628e+00],\n",
              "         [ 1.69519103e+00],\n",
              "         [ 1.80842102e+00],\n",
              "         [ 1.89854288e+00],\n",
              "         [ 1.88121176e+00],\n",
              "         [ 1.91587400e+00],\n",
              "         [ 1.92049563e+00],\n",
              "         [ 1.76104927e+00],\n",
              "         [ 1.43291330e+00],\n",
              "         [ 1.24227107e+00],\n",
              "         [ 1.17410195e+00]],\n",
              " \n",
              "        [[-2.67687345e+00],\n",
              "         [-2.55440021e+00],\n",
              "         [-2.41690660e+00],\n",
              "         [-2.15693998e+00],\n",
              "         [-1.85884452e+00],\n",
              "         [-1.69708741e+00],\n",
              "         [-1.60349929e+00],\n",
              "         [-1.63353992e+00],\n",
              "         [-1.80454040e+00],\n",
              "         [-1.83111477e+00],\n",
              "         [-1.80454040e+00],\n",
              "         [-1.83458102e+00],\n",
              "         [-1.85075665e+00],\n",
              "         [-1.75023615e+00],\n",
              "         [-1.71904016e+00],\n",
              "         [-1.61274266e+00],\n",
              "         [-1.60696554e+00],\n",
              "         [-1.46716118e+00],\n",
              "         [-1.48564768e+00],\n",
              "         [-1.45560706e+00],\n",
              "         [-1.46138418e+00],\n",
              "         [-1.40014756e+00],\n",
              "         [-1.39668131e+00],\n",
              "         [-1.39783669e+00]],\n",
              " \n",
              "        [[-4.72354740e-01],\n",
              "         [-2.51671761e-01],\n",
              "         [-1.01468712e-01],\n",
              "         [-6.91172779e-02],\n",
              "         [-1.32664725e-01],\n",
              "         [-1.48840442e-01],\n",
              "         [-2.08921671e-01],\n",
              "         [-1.96212173e-01],\n",
              "         [-1.77725643e-01],\n",
              "         [-1.77725643e-01],\n",
              "         [-2.50516355e-01],\n",
              "         [-3.49881470e-01],\n",
              "         [-3.89165342e-01],\n",
              "         [-4.24982995e-01],\n",
              "         [-4.90841269e-01],\n",
              "         [-5.63632011e-01],\n",
              "         [-6.23713195e-01],\n",
              "         [-5.54388702e-01],\n",
              "         [-4.30760056e-01],\n",
              "         [-2.88644820e-01],\n",
              "         [-1.78881064e-01],\n",
              "         [-2.40563601e-02],\n",
              "         [ 1.61964357e-01],\n",
              "         [ 1.70052215e-01]],\n",
              " \n",
              "        [[ 2.67816000e-02],\n",
              "         [ 1.04193948e-01],\n",
              "         [ 1.86227933e-01],\n",
              "         [ 3.16789061e-01],\n",
              "         [ 3.34120184e-01],\n",
              "         [ 4.10377115e-01],\n",
              "         [ 4.23086613e-01],\n",
              "         [ 4.71613765e-01],\n",
              "         [ 4.73924577e-01],\n",
              "         [ 4.09221709e-01],\n",
              "         [ 3.63005370e-01],\n",
              "         [ 3.14478248e-01],\n",
              "         [ 3.34120184e-01],\n",
              "         [ 3.81491899e-01],\n",
              "         [ 2.43998334e-01],\n",
              "         [ 1.49254873e-01],\n",
              "         [ 9.84169096e-02],\n",
              "         [ 6.25992566e-02],\n",
              "         [ 1.50410280e-01],\n",
              "         [ 2.27822632e-01],\n",
              "         [ 3.38741809e-01],\n",
              "         [ 4.43883955e-01],\n",
              "         [ 5.37472010e-01],\n",
              "         [ 6.53012812e-01]]], dtype=float32)>)"
            ]
          },
          "execution_count": 41,
          "metadata": {},
          "output_type": "execute_result"
        },
        {
          "data": {
            "image/png": "[encoded data removed]",
            "text/plain": [
              "<Figure size 864x576 with 3 Axes>"
            ]
          },
          "metadata": {},
          "output_type": "display_data"
        }
      ],
      "source": [
        "wide_window.plot(linear)"
      ]
    },
    {
      "cell_type": "markdown",
      "metadata": {
        "id": "AeY7vtBvqbiG"
      },
      "source": [
        "## From [Time Series Forecasting](https://www.tensorflow.org/tutorials/structured_data/time_series#recurrent_neural_network)"
      ]
    },
    {
      "cell_type": "markdown",
      "metadata": {
        "id": "YWYyut71KLb6"
      },
      "source": [
        "### Data Cleaning"
      ]
    },
    {
      "cell_type": "code",
      "execution_count": null,
      "metadata": {
        "id": "PfW60Fehqcpm"
      },
      "outputs": [],
      "source": [
        "# coinBaseLink = \"https://drive.google.com/u/0/uc?id=16MgiuBfQKzXPoWFWi2w-LKJuZ7LgivpE&export=download&confirm=t&uuid=4024be5f-e199-414e-a288-6f7101cbb902\"\n",
        "bitStampLink = \"https://drive.google.com/u/0/uc?id=15A-rLSrfZ0td7muSrYHy0WX9ZqrMweES&export=download&confirm=t&uuid=a9086e47-7a2e-4794-bc95-1c7b98fa174b\"\n",
        "\n",
        "\n",
        "def load_tf_dataset(url: str, printInfo: bool=False) -> tf.data.Dataset:\n",
        "    zip_path = tf.keras.utils.get_file(\n",
        "    origin=coinBaseLink,\n",
        "    fname='coinbase.zip',\n",
        "    extract=True)\n",
        "    df = pd.read_csv(zip_path)\n",
        "    if printInfo:\n",
        "      print(df.describe())\n",
        "    return df\n",
        "\n",
        "# coin_df = load_tf_dataset(coinBaseLink, True)\n",
        "bit_df = load_tf_dataset(bitStampLink)"
      ]
    },
    {
      "cell_type": "code",
      "execution_count": null,
      "metadata": {
        "colab": {
          "base_uri": "https://localhost:8080/",
          "height": 170
        },
        "id": "_FVpn80grYmC",
        "outputId": "9edc7750-2443-4614-d17a-60541365360f"
      },
      "outputs": [
        {
          "output_type": "execute_result",
          "data": {
            "text/plain": [
              "                       count          mean           std           min  \\\n",
              "Timestamp          2099760.0  1.483899e+09  3.638214e+07  1.417412e+09   \n",
              "Close              2099760.0  3.077721e+03  3.768705e+03 -1.000000e+00   \n",
              "Volume_(BTC)       2099760.0  7.389484e+00  1.834464e+01 -1.000000e+00   \n",
              "Volume_(Currency)  2099760.0  3.413147e+04  1.367321e+05 -1.000000e+00   \n",
              "\n",
              "                            25%           50%           75%           max  \n",
              "Timestamp          1.452410e+09  1.483906e+09  1.515402e+09  1.546899e+09  \n",
              "Close              3.790600e+02  8.936300e+02  6.205620e+03  1.989199e+04  \n",
              "Volume_(BTC)       7.027299e-01  2.415276e+00  7.120792e+00  1.563267e+03  \n",
              "Volume_(Currency)  4.703089e+02  3.067300e+03  1.787428e+04  1.997076e+07  "
            ],
            "text/html": [
              "\n",
              "  <div id=\"df-d0374924-d14c-4d9a-8cf0-941d6110d659\">\n",
              "    <div class=\"colab-df-container\">\n",
              "      <div>\n",
              "<style scoped>\n",
              "    .dataframe tbody tr th:only-of-type {\n",
              "        vertical-align: middle;\n",
              "    }\n",
              "\n",
              "    .dataframe tbody tr th {\n",
              "        vertical-align: top;\n",
              "    }\n",
              "\n",
              "    .dataframe thead th {\n",
              "        text-align: right;\n",
              "    }\n",
              "</style>\n",
              "<table border=\"1\" class=\"dataframe\">\n",
              "  <thead>\n",
              "    <tr style=\"text-align: right;\">\n",
              "      <th></th>\n",
              "      <th>count</th>\n",
              "      <th>mean</th>\n",
              "      <th>std</th>\n",
              "      <th>min</th>\n",
              "      <th>25%</th>\n",
              "      <th>50%</th>\n",
              "      <th>75%</th>\n",
              "      <th>max</th>\n",
              "    </tr>\n",
              "  </thead>\n",
              "  <tbody>\n",
              "    <tr>\n",
              "      <th>Timestamp</th>\n",
              "      <td>2099760.0</td>\n",
              "      <td>1.483899e+09</td>\n",
              "      <td>3.638214e+07</td>\n",
              "      <td>1.417412e+09</td>\n",
              "      <td>1.452410e+09</td>\n",
              "      <td>1.483906e+09</td>\n",
              "      <td>1.515402e+09</td>\n",
              "      <td>1.546899e+09</td>\n",
              "    </tr>\n",
              "    <tr>\n",
              "      <th>Close</th>\n",
              "      <td>2099760.0</td>\n",
              "      <td>3.077721e+03</td>\n",
              "      <td>3.768705e+03</td>\n",
              "      <td>-1.000000e+00</td>\n",
              "      <td>3.790600e+02</td>\n",
              "      <td>8.936300e+02</td>\n",
              "      <td>6.205620e+03</td>\n",
              "      <td>1.989199e+04</td>\n",
              "    </tr>\n",
              "    <tr>\n",
              "      <th>Volume_(BTC)</th>\n",
              "      <td>2099760.0</td>\n",
              "      <td>7.389484e+00</td>\n",
              "      <td>1.834464e+01</td>\n",
              "      <td>-1.000000e+00</td>\n",
              "      <td>7.027299e-01</td>\n",
              "      <td>2.415276e+00</td>\n",
              "      <td>7.120792e+00</td>\n",
              "      <td>1.563267e+03</td>\n",
              "    </tr>\n",
              "    <tr>\n",
              "      <th>Volume_(Currency)</th>\n",
              "      <td>2099760.0</td>\n",
              "      <td>3.413147e+04</td>\n",
              "      <td>1.367321e+05</td>\n",
              "      <td>-1.000000e+00</td>\n",
              "      <td>4.703089e+02</td>\n",
              "      <td>3.067300e+03</td>\n",
              "      <td>1.787428e+04</td>\n",
              "      <td>1.997076e+07</td>\n",
              "    </tr>\n",
              "  </tbody>\n",
              "</table>\n",
              "</div>\n",
              "      <button class=\"colab-df-convert\" onclick=\"convertToInteractive('df-d0374924-d14c-4d9a-8cf0-941d6110d659')\"\n",
              "              title=\"Convert this dataframe to an interactive table.\"\n",
              "              style=\"display:none;\">\n",
              "        \n",
              "  <svg xmlns=\"http://www.w3.org/2000/svg\" height=\"24px\"viewBox=\"0 0 24 24\"\n",
              "       width=\"24px\">\n",
              "    <path d=\"M0 0h24v24H0V0z\" fill=\"none\"/>\n",
              "    <path d=\"M18.56 5.44l.94 2.06.94-2.06 2.06-.94-2.06-.94-.94-2.06-.94 2.06-2.06.94zm-11 1L8.5 8.5l.94-2.06 2.06-.94-2.06-.94L8.5 2.5l-.94 2.06-2.06.94zm10 10l.94 2.06.94-2.06 2.06-.94-2.06-.94-.94-2.06-.94 2.06-2.06.94z\"/><path d=\"M17.41 7.96l-1.37-1.37c-.4-.4-.92-.59-1.43-.59-.52 0-1.04.2-1.43.59L10.3 9.45l-7.72 7.72c-.78.78-.78 2.05 0 2.83L4 21.41c.39.39.9.59 1.41.59.51 0 1.02-.2 1.41-.59l7.78-7.78 2.81-2.81c.8-.78.8-2.07 0-2.86zM5.41 20L4 18.59l7.72-7.72 1.47 1.35L5.41 20z\"/>\n",
              "  </svg>\n",
              "      </button>\n",
              "      \n",
              "  <style>\n",
              "    .colab-df-container {\n",
              "      display:flex;\n",
              "      flex-wrap:wrap;\n",
              "      gap: 12px;\n",
              "    }\n",
              "\n",
              "    .colab-df-convert {\n",
              "      background-color: #E8F0FE;\n",
              "      border: none;\n",
              "      border-radius: 50%;\n",
              "      cursor: pointer;\n",
              "      display: none;\n",
              "      fill: #1967D2;\n",
              "      height: 32px;\n",
              "      padding: 0 0 0 0;\n",
              "      width: 32px;\n",
              "    }\n",
              "\n",
              "    .colab-df-convert:hover {\n",
              "      background-color: #E2EBFA;\n",
              "      box-shadow: 0px 1px 2px rgba(60, 64, 67, 0.3), 0px 1px 3px 1px rgba(60, 64, 67, 0.15);\n",
              "      fill: #174EA6;\n",
              "    }\n",
              "\n",
              "    [theme=dark] .colab-df-convert {\n",
              "      background-color: #3B4455;\n",
              "      fill: #D2E3FC;\n",
              "    }\n",
              "\n",
              "    [theme=dark] .colab-df-convert:hover {\n",
              "      background-color: #434B5C;\n",
              "      box-shadow: 0px 1px 3px 1px rgba(0, 0, 0, 0.15);\n",
              "      filter: drop-shadow(0px 1px 2px rgba(0, 0, 0, 0.3));\n",
              "      fill: #FFFFFF;\n",
              "    }\n",
              "  </style>\n",
              "\n",
              "      <script>\n",
              "        const buttonEl =\n",
              "          document.querySelector('#df-d0374924-d14c-4d9a-8cf0-941d6110d659 button.colab-df-convert');\n",
              "        buttonEl.style.display =\n",
              "          google.colab.kernel.accessAllowed ? 'block' : 'none';\n",
              "\n",
              "        async function convertToInteractive(key) {\n",
              "          const element = document.querySelector('#df-d0374924-d14c-4d9a-8cf0-941d6110d659');\n",
              "          const dataTable =\n",
              "            await google.colab.kernel.invokeFunction('convertToInteractive',\n",
              "                                                     [key], {});\n",
              "          if (!dataTable) return;\n",
              "\n",
              "          const docLinkHtml = 'Like what you see? Visit the ' +\n",
              "            '<a target=\"_blank\" href=https://colab.research.google.com/notebooks/data_table.ipynb>data table notebook</a>'\n",
              "            + ' to learn more about interactive tables.';\n",
              "          element.innerHTML = '';\n",
              "          dataTable['output_type'] = 'display_data';\n",
              "          await google.colab.output.renderOutput(dataTable, element);\n",
              "          const docLink = document.createElement('div');\n",
              "          docLink.innerHTML = docLinkHtml;\n",
              "          element.appendChild(docLink);\n",
              "        }\n",
              "      </script>\n",
              "    </div>\n",
              "  </div>\n",
              "  "
            ]
          },
          "metadata": {},
          "execution_count": 4
        }
      ],
      "source": [
        "# dropping \"nan\" rows\n",
        "bit_df = bit_df.fillna(-1)\n",
        "# coin_df = coin_df.fillna(-1)\n",
        "\n",
        "bit_df = bit_df.drop(columns=[\"Open\", \"High\", \"Low\", \"Weighted_Price\"])\n",
        "\n",
        "# only using most recent, relevant data\n",
        "# bit_df = bit_df.tail(round(bit_df.shape[0] * .35))\n",
        "# coin_df = coin_df.tail(round(coin_df.shape[0] * .35))\n",
        "\n",
        "bit_df.describe().transpose()"
      ]
    },
    {
      "cell_type": "code",
      "execution_count": null,
      "metadata": {
        "id": "2h0vZ0fuss0D"
      },
      "outputs": [],
      "source": [
        "def split_data(df, train_size, val_size, test_size):\n",
        "    n = df.shape[0]\n",
        "    train_df = df[0:int(n*train_size)]\n",
        "    val_df = df[int(n*train_size):int(n*(train_size + val_size))]\n",
        "    test_df = df[int(n* (train_size + val_size)):]\n",
        "    num_features = df.shape[1]\n",
        "    return train_df, val_df, test_df, num_features\n",
        "\n",
        "bit_train, bit_val, bit_test, bit_feat = split_data(bit_df, 0.85, 0.15, 0)"
      ]
    },
    {
      "cell_type": "code",
      "execution_count": null,
      "metadata": {
        "id": "LgYhEB_2uI0V"
      },
      "outputs": [],
      "source": [
        "def normalize_df(df):\n",
        "    mean = df.mean()\n",
        "    std = df.std()\n",
        "    return (df - mean) / std\n",
        "\n",
        "bit_train = normalize_df(bit_train)\n",
        "bit_val = normalize_df(bit_val)\n",
        "bit_test = normalize_df(bit_test)"
      ]
    },
    {
      "cell_type": "code",
      "execution_count": null,
      "metadata": {
        "colab": {
          "base_uri": "https://localhost:8080/",
          "height": 476
        },
        "id": "n7Od363Mub2p",
        "outputId": "28434896-9392-45a8-dcd1-faade0aece4d"
      },
      "outputs": [
        {
          "output_type": "display_data",
          "data": {
            "text/plain": [
              "<Figure size 864x432 with 1 Axes>"
            ],
            "image/png": "[encoded data removed]"
          },
          "metadata": {
            "needs_background": "light"
          }
        }
      ],
      "source": [
        "graph_bit_train = bit_train.copy()\n",
        "graph_bit_train = graph_bit_train.drop(columns=[\"Timestamp\"])\n",
        "graph_bit_train = graph_bit_train.melt(var_name='Column', value_name='Normalized')\n",
        "plt.figure(figsize=(12, 6))\n",
        "ax = sns.violinplot(x='Column', y='Normalized', data=graph_bit_train)\n",
        "_ = ax.set_xticklabels([\"Volume_(BTC)\", \"Volume_(Currency)\", \"Close\"], rotation=90)\n",
        "_ = ax.set_ylim(-1, 4)"
      ]
    },
    {
      "cell_type": "markdown",
      "metadata": {
        "id": "uU4UAajXKObg"
      },
      "source": [
        "### Setup"
      ]
    },
    {
      "cell_type": "code",
      "execution_count": null,
      "metadata": {
        "id": "xFt4Os7h0I9B"
      },
      "outputs": [],
      "source": [
        "class WindowGenerator():\n",
        "  def __init__(self, input_width, label_width, shift,\n",
        "               train_df, val_df, test_df,\n",
        "               label_columns=None):\n",
        "    # Store the raw data.\n",
        "    self.train_df = train_df\n",
        "    self.val_df = val_df\n",
        "    self.test_df = test_df\n",
        "\n",
        "    # Work out the label column indices.\n",
        "    self.label_columns = label_columns\n",
        "    if label_columns is not None:\n",
        "      self.label_columns_indices = {name: i for i, name in\n",
        "                                    enumerate(label_columns)}\n",
        "    self.column_indices = {name: i for i, name in\n",
        "                           enumerate(train_df.columns)}\n",
        "\n",
        "    # Work out the window parameters.\n",
        "    self.input_width = input_width\n",
        "    self.label_width = label_width\n",
        "    self.shift = shift\n",
        "\n",
        "    self.total_window_size = input_width + shift\n",
        "\n",
        "    self.input_slice = slice(0, input_width)\n",
        "    self.input_indices = np.arange(self.total_window_size)[self.input_slice]\n",
        "\n",
        "    self.label_start = self.total_window_size - self.label_width\n",
        "    self.labels_slice = slice(self.label_start, None)\n",
        "    self.label_indices = np.arange(self.total_window_size)[self.labels_slice]\n",
        "\n",
        "  def __repr__(self):\n",
        "    return '\\n'.join([\n",
        "        f'Total window size: {self.total_window_size}',\n",
        "        f'Input indices: {self.input_indices}',\n",
        "        f'Label indices: {self.label_indices}',\n",
        "        f'Label column name(s): {self.label_columns}'])\n",
        "  \n",
        "  def split_window(self, features):\n",
        "    inputs = features[:, self.input_slice, :]\n",
        "    labels = features[:, self.labels_slice, :]\n",
        "    if self.label_columns is not None:\n",
        "      labels = tf.stack(\n",
        "          [labels[:, :, self.column_indices[name]] for name in self.label_columns],\n",
        "          axis=-1)\n",
        "\n",
        "    # Slicing doesn't preserve static shape information, so set the shapes\n",
        "    # manually. This way the `tf.data.Datasets` are easier to inspect.\n",
        "    inputs.set_shape([None, self.input_width, None])\n",
        "    labels.set_shape([None, self.label_width, None])\n",
        "\n",
        "    return inputs, labels\n",
        "  \n",
        "  def make_dataset(self, data):\n",
        "    data = np.array(data, dtype=np.float32)\n",
        "    ds = tf.keras.utils.timeseries_dataset_from_array(\n",
        "        data=data,\n",
        "        targets=None,\n",
        "        sequence_length=self.total_window_size,\n",
        "        sequence_stride=1,\n",
        "        shuffle=True,\n",
        "        batch_size=32,)\n",
        "\n",
        "    ds = ds.map(self.split_window)\n",
        "\n",
        "    return ds\n",
        "  \n",
        "  @property\n",
        "  def train(self):\n",
        "    return self.make_dataset(self.train_df)\n",
        "\n",
        "  @property\n",
        "  def val(self):\n",
        "    return self.make_dataset(self.val_df)\n",
        "\n",
        "  @property\n",
        "  def test(self):\n",
        "    return self.make_dataset(self.test_df)\n",
        "\n",
        "  @property\n",
        "  def example(self):\n",
        "    \"\"\"Get and cache an example batch of `inputs, labels` for plotting.\"\"\"\n",
        "    result = getattr(self, '_example', None)\n",
        "    if result is None:\n",
        "      # No example batch was found, so get one from the `.train` dataset\n",
        "      result = next(iter(self.train))\n",
        "      # And cache it for next time\n",
        "      self._example = result\n",
        "    return result"
      ]
    },
    {
      "cell_type": "code",
      "execution_count": null,
      "metadata": {
        "id": "RoIBrEFU0vLO"
      },
      "outputs": [],
      "source": [
        "single_step_window = WindowGenerator(144, 1, 6, bit_train, bit_val, bit_test, [\"Weighted_Price\"])"
      ]
    },
    {
      "cell_type": "code",
      "execution_count": null,
      "metadata": {
        "colab": {
          "base_uri": "https://localhost:8080/"
        },
        "id": "w7Lo9PcQ3A0M",
        "outputId": "de84863a-eadb-477c-aa9e-1101ee52fa49"
      },
      "outputs": [
        {
          "output_type": "execute_result",
          "data": {
            "text/plain": [
              "Total window size: 150\n",
              "Input indices: [  0   1   2   3   4   5   6   7   8   9  10  11  12  13  14  15  16  17\n",
              "  18  19  20  21  22  23  24  25  26  27  28  29  30  31  32  33  34  35\n",
              "  36  37  38  39  40  41  42  43  44  45  46  47  48  49  50  51  52  53\n",
              "  54  55  56  57  58  59  60  61  62  63  64  65  66  67  68  69  70  71\n",
              "  72  73  74  75  76  77  78  79  80  81  82  83  84  85  86  87  88  89\n",
              "  90  91  92  93  94  95  96  97  98  99 100 101 102 103 104 105 106 107\n",
              " 108 109 110 111 112 113 114 115 116 117 118 119 120 121 122 123 124 125\n",
              " 126 127 128 129 130 131 132 133 134 135 136 137 138 139 140 141 142 143]\n",
              "Label indices: [149]\n",
              "Label column name(s): ['Weighted_Price']"
            ]
          },
          "metadata": {},
          "execution_count": 9
        }
      ],
      "source": [
        "single_step_window"
      ]
    },
    {
      "cell_type": "code",
      "execution_count": null,
      "metadata": {
        "colab": {
          "base_uri": "https://localhost:8080/"
        },
        "id": "1BEYR4lD3TEE",
        "outputId": "e5ade79d-3779-4e39-8aa0-1e4a760c8a96"
      },
      "outputs": [
        {
          "name": "stdout",
          "output_type": "stream",
          "text": [
            "(32, 144, 8) (32, 1, 1)\n",
            "(32, 144, 8) (32, 1, 1)\n"
          ]
        }
      ],
      "source": [
        "for i, j in single_step_window.train.take(2):\n",
        "  print(i.shape, j.shape)"
      ]
    },
    {
      "cell_type": "markdown",
      "metadata": {
        "id": "KtYzyxHFKGjC"
      },
      "source": [
        "### Baseline Model"
      ]
    },
    {
      "cell_type": "code",
      "execution_count": null,
      "metadata": {
        "id": "Em2n_0413uqS"
      },
      "outputs": [],
      "source": [
        "class Baseline(tf.keras.Model):\n",
        "  def __init__(self, label_index=None):\n",
        "    super().__init__()\n",
        "    self.label_index = label_index\n",
        "\n",
        "  def call(self, inputs):\n",
        "    if self.label_index is None:\n",
        "      return inputs\n",
        "    result = inputs[:, :, self.label_index]\n",
        "    return result[:, -1:, tf.newaxis]"
      ]
    },
    {
      "cell_type": "code",
      "execution_count": null,
      "metadata": {
        "colab": {
          "base_uri": "https://localhost:8080/",
          "height": 224
        },
        "id": "7oiHK02H36ie",
        "outputId": "6df30f3e-ff9d-4137-b8ff-a18d8d47ab31"
      },
      "outputs": [
        {
          "output_type": "error",
          "ename": "KeyError",
          "evalue": "ignored",
          "traceback": [
            "\u001b[0;31m---------------------------------------------------------------------------\u001b[0m",
            "\u001b[0;31mKeyError\u001b[0m                                  Traceback (most recent call last)",
            "\u001b[0;32m<ipython-input-37-8ee6ee82d028>\u001b[0m in \u001b[0;36m<module>\u001b[0;34m\u001b[0m\n\u001b[1;32m      1\u001b[0m \u001b[0mcolumn_indices\u001b[0m \u001b[0;34m=\u001b[0m \u001b[0;34m{\u001b[0m\u001b[0mname\u001b[0m\u001b[0;34m:\u001b[0m \u001b[0mi\u001b[0m \u001b[0;32mfor\u001b[0m \u001b[0mi\u001b[0m\u001b[0;34m,\u001b[0m \u001b[0mname\u001b[0m \u001b[0;32min\u001b[0m \u001b[0menumerate\u001b[0m\u001b[0;34m(\u001b[0m\u001b[0mbit_df\u001b[0m\u001b[0;34m.\u001b[0m\u001b[0mcolumns\u001b[0m\u001b[0;34m)\u001b[0m\u001b[0;34m}\u001b[0m\u001b[0;34m\u001b[0m\u001b[0;34m\u001b[0m\u001b[0m\n\u001b[0;32m----> 2\u001b[0;31m \u001b[0mbaseline\u001b[0m \u001b[0;34m=\u001b[0m \u001b[0mBaseline\u001b[0m\u001b[0;34m(\u001b[0m\u001b[0mlabel_index\u001b[0m\u001b[0;34m=\u001b[0m\u001b[0mcolumn_indices\u001b[0m\u001b[0;34m[\u001b[0m\u001b[0;34m'Weighted_Price'\u001b[0m\u001b[0;34m]\u001b[0m\u001b[0;34m)\u001b[0m\u001b[0;34m\u001b[0m\u001b[0;34m\u001b[0m\u001b[0m\n\u001b[0m\u001b[1;32m      3\u001b[0m \u001b[0;34m\u001b[0m\u001b[0m\n\u001b[1;32m      4\u001b[0m baseline.compile(loss=tf.keras.losses.MeanSquaredError(),\n\u001b[1;32m      5\u001b[0m                  metrics=[tf.keras.metrics.MeanAbsoluteError()])\n",
            "\u001b[0;31mKeyError\u001b[0m: 'Weighted_Price'"
          ]
        }
      ],
      "source": [
        "column_indices = {name: i for i, name in enumerate(bit_df.columns)}\n",
        "baseline = Baseline(label_index=column_indices['Weighted_Price'])\n",
        "\n",
        "baseline.compile(loss=tf.keras.losses.MeanSquaredError(),\n",
        "                 metrics=[tf.keras.metrics.MeanAbsoluteError()])\n",
        "\n",
        "val_performance = {}\n",
        "performance = {}\n",
        "val_performance['Baseline'] = baseline.evaluate(single_step_window.val)\n",
        "performance['Baseline'] = baseline.evaluate(single_step_window.test, verbose=0)"
      ]
    },
    {
      "cell_type": "markdown",
      "metadata": {
        "id": "FTyNPV8WJ7eY"
      },
      "source": [
        "### Plotting"
      ]
    },
    {
      "cell_type": "code",
      "execution_count": null,
      "metadata": {
        "id": "_jWB_pjr7g6T"
      },
      "outputs": [],
      "source": [
        "def plot(inputs, labels, predictions):\n",
        "  \n",
        "  flat_inputs = inputs.flatten()\n",
        "  flat_labels = labels.flatten()\n",
        "  flat_predictions = predictions.flatten()\n",
        "  plt.figure(figsize=(30, 8))\n",
        "  plt.plot(np.arange(len(flat_inputs)), flat_inputs, label='Inputs', marker='.', zorder=-10)\n",
        "  plt.scatter(np.arange(inputs.shape[2], flat_inputs.shape[0] + 1, inputs.shape[2]), flat_labels, edgecolors='k', label='Labels', c='#2ca02c', s=64)  \n",
        "  plt.scatter(np.arange(inputs.shape[2], flat_inputs.shape[0] + 1, inputs.shape[2]), flat_predictions, marker='X', edgecolors='k', label='Predictions', c='#ff7f0e', s=64)\n",
        "  plt.ylabel('Price')\n",
        "  plt.legend()\n",
        "  plt.xlabel('Time')"
      ]
    },
    {
      "cell_type": "code",
      "execution_count": null,
      "metadata": {
        "colab": {
          "base_uri": "https://localhost:8080/",
          "height": 347
        },
        "id": "wE0bjurP_E40",
        "outputId": "c8c19d3b-d96d-465a-b3c0-7c958d81f1a1"
      },
      "outputs": [
        {
          "data": {
            "image/png": "[encoded data removed]",
            "text/plain": [
              "<Figure size 2160x576 with 1 Axes>"
            ]
          },
          "metadata": {},
          "output_type": "display_data"
        }
      ],
      "source": [
        "inputs = []\n",
        "labels = []\n",
        "predictions = []\n",
        "for dat, lab in single_step_window.train.take(1):\n",
        "  inputs.append(dat[:, :, 7])\n",
        "  labels.append(lab)\n",
        "  predictions.append(baseline(dat))\n",
        "plot(np.array(inputs), np.array(labels), np.array(predictions))"
      ]
    },
    {
      "cell_type": "markdown",
      "metadata": {
        "id": "YvJZPeryKU9N"
      },
      "source": [
        "### RNN"
      ]
    },
    {
      "cell_type": "markdown",
      "metadata": {
        "id": "JoB0F4JtMeSF"
      },
      "source": [
        "#### LSTM"
      ]
    },
    {
      "cell_type": "code",
      "execution_count": null,
      "metadata": {
        "id": "lJ5owL8HKWGK"
      },
      "outputs": [],
      "source": [
        "lstm_model = tf.keras.models.Sequential([\n",
        "    # Shape [batch, time, features] => [batch, time, lstm_units]\n",
        "    tf.keras.layers.LSTM(32, return_sequences=True),\n",
        "    # Shape => [batch, time, features]\n",
        "    tf.keras.layers.Dense(units=1)\n",
        "])\n",
        "\n",
        "\n",
        "lstm_model.compile(loss=tf.keras.losses.MeanSquaredError(),\n",
        "              optimizer=tf.keras.optimizers.Adam(),\n",
        "              metrics=[tf.keras.metrics.MeanAbsoluteError()])"
      ]
    },
    {
      "cell_type": "code",
      "execution_count": null,
      "metadata": {
        "colab": {
          "base_uri": "https://localhost:8080/"
        },
        "id": "72Kw_BVkKiGA",
        "outputId": "fc179af4-87d4-4a15-9e16-8be310049053"
      },
      "outputs": [
        {
          "data": {
            "text/plain": [
              "Total window size: 150\n",
              "Input indices: [  0   1   2   3   4   5   6   7   8   9  10  11  12  13  14  15  16  17\n",
              "  18  19  20  21  22  23  24  25  26  27  28  29  30  31  32  33  34  35\n",
              "  36  37  38  39  40  41  42  43  44  45  46  47  48  49  50  51  52  53\n",
              "  54  55  56  57  58  59  60  61  62  63  64  65  66  67  68  69  70  71\n",
              "  72  73  74  75  76  77  78  79  80  81  82  83  84  85  86  87  88  89\n",
              "  90  91  92  93  94  95  96  97  98  99 100 101 102 103 104 105 106 107\n",
              " 108 109 110 111 112 113 114 115 116 117 118 119 120 121 122 123 124 125\n",
              " 126 127 128 129 130 131 132 133 134 135 136 137 138 139 140 141 142 143]\n",
              "Label indices: [149]\n",
              "Label column name(s): ['Close']"
            ]
          },
          "execution_count": 290,
          "metadata": {},
          "output_type": "execute_result"
        }
      ],
      "source": [
        "wide_window = WindowGenerator(144, 1, 6, bit_train, bit_val, bit_test, label_columns=['Close'])\n",
        "\n",
        "wide_window"
      ]
    },
    {
      "cell_type": "code",
      "execution_count": null,
      "metadata": {
        "colab": {
          "base_uri": "https://localhost:8080/",
          "height": 397
        },
        "id": "fG-5CcPsLRb5",
        "outputId": "6059eb0a-99b8-48ad-cd36-5d70d8f96790"
      },
      "outputs": [
        {
          "name": "stdout",
          "output_type": "stream",
          "text": [
            "Epoch 1/20\n",
            " 3790/43542 [=>............................] - ETA: 42:39 - loss: 0.0025 - mean_absolute_error: 0.0143"
          ]
        },
        {
          "ename": "KeyboardInterrupt",
          "evalue": "ignored",
          "output_type": "error",
          "traceback": [
            "\u001b[0;31m---------------------------------------------------------------------------\u001b[0m",
            "\u001b[0;31mKeyboardInterrupt\u001b[0m                         Traceback (most recent call last)",
            "\u001b[0;32m<ipython-input-292-351c0942b919>\u001b[0m in \u001b[0;36m<module>\u001b[0;34m\u001b[0m\n\u001b[1;32m      4\u001b[0m lstm_model.fit(wide_window.train, epochs=20,\n\u001b[1;32m      5\u001b[0m                       \u001b[0mvalidation_data\u001b[0m\u001b[0;34m=\u001b[0m\u001b[0mwide_window\u001b[0m\u001b[0;34m.\u001b[0m\u001b[0mval\u001b[0m\u001b[0;34m,\u001b[0m\u001b[0;34m\u001b[0m\u001b[0;34m\u001b[0m\u001b[0m\n\u001b[0;32m----> 6\u001b[0;31m                       callbacks=[early_stopping])\n\u001b[0m\u001b[1;32m      7\u001b[0m \u001b[0;34m\u001b[0m\u001b[0m\n\u001b[1;32m      8\u001b[0m \u001b[0mval_performance\u001b[0m\u001b[0;34m[\u001b[0m\u001b[0;34m'LSTM'\u001b[0m\u001b[0;34m]\u001b[0m \u001b[0;34m=\u001b[0m \u001b[0mlstm_model\u001b[0m\u001b[0;34m.\u001b[0m\u001b[0mevaluate\u001b[0m\u001b[0;34m(\u001b[0m\u001b[0mwide_window\u001b[0m\u001b[0;34m.\u001b[0m\u001b[0mval\u001b[0m\u001b[0;34m)\u001b[0m\u001b[0;34m\u001b[0m\u001b[0;34m\u001b[0m\u001b[0m\n",
            "\u001b[0;32m/usr/local/lib/python3.7/dist-packages/keras/utils/traceback_utils.py\u001b[0m in \u001b[0;36merror_handler\u001b[0;34m(*args, **kwargs)\u001b[0m\n\u001b[1;32m     62\u001b[0m     \u001b[0mfiltered_tb\u001b[0m \u001b[0;34m=\u001b[0m \u001b[0;32mNone\u001b[0m\u001b[0;34m\u001b[0m\u001b[0;34m\u001b[0m\u001b[0m\n\u001b[1;32m     63\u001b[0m     \u001b[0;32mtry\u001b[0m\u001b[0;34m:\u001b[0m\u001b[0;34m\u001b[0m\u001b[0;34m\u001b[0m\u001b[0m\n\u001b[0;32m---> 64\u001b[0;31m       \u001b[0;32mreturn\u001b[0m \u001b[0mfn\u001b[0m\u001b[0;34m(\u001b[0m\u001b[0;34m*\u001b[0m\u001b[0margs\u001b[0m\u001b[0;34m,\u001b[0m \u001b[0;34m**\u001b[0m\u001b[0mkwargs\u001b[0m\u001b[0;34m)\u001b[0m\u001b[0;34m\u001b[0m\u001b[0;34m\u001b[0m\u001b[0m\n\u001b[0m\u001b[1;32m     65\u001b[0m     \u001b[0;32mexcept\u001b[0m \u001b[0mException\u001b[0m \u001b[0;32mas\u001b[0m \u001b[0me\u001b[0m\u001b[0;34m:\u001b[0m  \u001b[0;31m# pylint: disable=broad-except\u001b[0m\u001b[0;34m\u001b[0m\u001b[0;34m\u001b[0m\u001b[0m\n\u001b[1;32m     66\u001b[0m       \u001b[0mfiltered_tb\u001b[0m \u001b[0;34m=\u001b[0m \u001b[0m_process_traceback_frames\u001b[0m\u001b[0;34m(\u001b[0m\u001b[0me\u001b[0m\u001b[0;34m.\u001b[0m\u001b[0m__traceback__\u001b[0m\u001b[0;34m)\u001b[0m\u001b[0;34m\u001b[0m\u001b[0;34m\u001b[0m\u001b[0m\n",
            "\u001b[0;32m/usr/local/lib/python3.7/dist-packages/keras/engine/training.py\u001b[0m in \u001b[0;36mfit\u001b[0;34m(self, x, y, batch_size, epochs, verbose, callbacks, validation_split, validation_data, shuffle, class_weight, sample_weight, initial_epoch, steps_per_epoch, validation_steps, validation_batch_size, validation_freq, max_queue_size, workers, use_multiprocessing)\u001b[0m\n\u001b[1;32m   1382\u001b[0m                 _r=1):\n\u001b[1;32m   1383\u001b[0m               \u001b[0mcallbacks\u001b[0m\u001b[0;34m.\u001b[0m\u001b[0mon_train_batch_begin\u001b[0m\u001b[0;34m(\u001b[0m\u001b[0mstep\u001b[0m\u001b[0;34m)\u001b[0m\u001b[0;34m\u001b[0m\u001b[0;34m\u001b[0m\u001b[0m\n\u001b[0;32m-> 1384\u001b[0;31m               \u001b[0mtmp_logs\u001b[0m \u001b[0;34m=\u001b[0m \u001b[0mself\u001b[0m\u001b[0;34m.\u001b[0m\u001b[0mtrain_function\u001b[0m\u001b[0;34m(\u001b[0m\u001b[0miterator\u001b[0m\u001b[0;34m)\u001b[0m\u001b[0;34m\u001b[0m\u001b[0;34m\u001b[0m\u001b[0m\n\u001b[0m\u001b[1;32m   1385\u001b[0m               \u001b[0;32mif\u001b[0m \u001b[0mdata_handler\u001b[0m\u001b[0;34m.\u001b[0m\u001b[0mshould_sync\u001b[0m\u001b[0;34m:\u001b[0m\u001b[0;34m\u001b[0m\u001b[0;34m\u001b[0m\u001b[0m\n\u001b[1;32m   1386\u001b[0m                 \u001b[0mcontext\u001b[0m\u001b[0;34m.\u001b[0m\u001b[0masync_wait\u001b[0m\u001b[0;34m(\u001b[0m\u001b[0;34m)\u001b[0m\u001b[0;34m\u001b[0m\u001b[0;34m\u001b[0m\u001b[0m\n",
            "\u001b[0;32m/usr/local/lib/python3.7/dist-packages/keras/callbacks.py\u001b[0m in \u001b[0;36mon_train_batch_end\u001b[0;34m(self, batch, logs)\u001b[0m\n\u001b[1;32m    436\u001b[0m     \"\"\"\n\u001b[1;32m    437\u001b[0m     \u001b[0;32mif\u001b[0m \u001b[0mself\u001b[0m\u001b[0;34m.\u001b[0m\u001b[0m_should_call_train_batch_hooks\u001b[0m\u001b[0;34m:\u001b[0m\u001b[0;34m\u001b[0m\u001b[0;34m\u001b[0m\u001b[0m\n\u001b[0;32m--> 438\u001b[0;31m       \u001b[0mself\u001b[0m\u001b[0;34m.\u001b[0m\u001b[0m_call_batch_hook\u001b[0m\u001b[0;34m(\u001b[0m\u001b[0mModeKeys\u001b[0m\u001b[0;34m.\u001b[0m\u001b[0mTRAIN\u001b[0m\u001b[0;34m,\u001b[0m \u001b[0;34m'end'\u001b[0m\u001b[0;34m,\u001b[0m \u001b[0mbatch\u001b[0m\u001b[0;34m,\u001b[0m \u001b[0mlogs\u001b[0m\u001b[0;34m=\u001b[0m\u001b[0mlogs\u001b[0m\u001b[0;34m)\u001b[0m\u001b[0;34m\u001b[0m\u001b[0;34m\u001b[0m\u001b[0m\n\u001b[0m\u001b[1;32m    439\u001b[0m \u001b[0;34m\u001b[0m\u001b[0m\n\u001b[1;32m    440\u001b[0m   \u001b[0;32mdef\u001b[0m \u001b[0mon_test_batch_begin\u001b[0m\u001b[0;34m(\u001b[0m\u001b[0mself\u001b[0m\u001b[0;34m,\u001b[0m \u001b[0mbatch\u001b[0m\u001b[0;34m,\u001b[0m \u001b[0mlogs\u001b[0m\u001b[0;34m=\u001b[0m\u001b[0;32mNone\u001b[0m\u001b[0;34m)\u001b[0m\u001b[0;34m:\u001b[0m\u001b[0;34m\u001b[0m\u001b[0;34m\u001b[0m\u001b[0m\n",
            "\u001b[0;32m/usr/local/lib/python3.7/dist-packages/keras/callbacks.py\u001b[0m in \u001b[0;36m_call_batch_hook\u001b[0;34m(self, mode, hook, batch, logs)\u001b[0m\n\u001b[1;32m    295\u001b[0m       \u001b[0mself\u001b[0m\u001b[0;34m.\u001b[0m\u001b[0m_call_batch_begin_hook\u001b[0m\u001b[0;34m(\u001b[0m\u001b[0mmode\u001b[0m\u001b[0;34m,\u001b[0m \u001b[0mbatch\u001b[0m\u001b[0;34m,\u001b[0m \u001b[0mlogs\u001b[0m\u001b[0;34m)\u001b[0m\u001b[0;34m\u001b[0m\u001b[0;34m\u001b[0m\u001b[0m\n\u001b[1;32m    296\u001b[0m     \u001b[0;32melif\u001b[0m \u001b[0mhook\u001b[0m \u001b[0;34m==\u001b[0m \u001b[0;34m'end'\u001b[0m\u001b[0;34m:\u001b[0m\u001b[0;34m\u001b[0m\u001b[0;34m\u001b[0m\u001b[0m\n\u001b[0;32m--> 297\u001b[0;31m       \u001b[0mself\u001b[0m\u001b[0;34m.\u001b[0m\u001b[0m_call_batch_end_hook\u001b[0m\u001b[0;34m(\u001b[0m\u001b[0mmode\u001b[0m\u001b[0;34m,\u001b[0m \u001b[0mbatch\u001b[0m\u001b[0;34m,\u001b[0m \u001b[0mlogs\u001b[0m\u001b[0;34m)\u001b[0m\u001b[0;34m\u001b[0m\u001b[0;34m\u001b[0m\u001b[0m\n\u001b[0m\u001b[1;32m    298\u001b[0m     \u001b[0;32melse\u001b[0m\u001b[0;34m:\u001b[0m\u001b[0;34m\u001b[0m\u001b[0;34m\u001b[0m\u001b[0m\n\u001b[1;32m    299\u001b[0m       raise ValueError(\n",
            "\u001b[0;32m/usr/local/lib/python3.7/dist-packages/keras/callbacks.py\u001b[0m in \u001b[0;36m_call_batch_end_hook\u001b[0;34m(self, mode, batch, logs)\u001b[0m\n\u001b[1;32m    316\u001b[0m       \u001b[0mself\u001b[0m\u001b[0;34m.\u001b[0m\u001b[0m_batch_times\u001b[0m\u001b[0;34m.\u001b[0m\u001b[0mappend\u001b[0m\u001b[0;34m(\u001b[0m\u001b[0mbatch_time\u001b[0m\u001b[0;34m)\u001b[0m\u001b[0;34m\u001b[0m\u001b[0;34m\u001b[0m\u001b[0m\n\u001b[1;32m    317\u001b[0m \u001b[0;34m\u001b[0m\u001b[0m\n\u001b[0;32m--> 318\u001b[0;31m     \u001b[0mself\u001b[0m\u001b[0;34m.\u001b[0m\u001b[0m_call_batch_hook_helper\u001b[0m\u001b[0;34m(\u001b[0m\u001b[0mhook_name\u001b[0m\u001b[0;34m,\u001b[0m \u001b[0mbatch\u001b[0m\u001b[0;34m,\u001b[0m \u001b[0mlogs\u001b[0m\u001b[0;34m)\u001b[0m\u001b[0;34m\u001b[0m\u001b[0;34m\u001b[0m\u001b[0m\n\u001b[0m\u001b[1;32m    319\u001b[0m \u001b[0;34m\u001b[0m\u001b[0m\n\u001b[1;32m    320\u001b[0m     \u001b[0;32mif\u001b[0m \u001b[0mlen\u001b[0m\u001b[0;34m(\u001b[0m\u001b[0mself\u001b[0m\u001b[0;34m.\u001b[0m\u001b[0m_batch_times\u001b[0m\u001b[0;34m)\u001b[0m \u001b[0;34m>=\u001b[0m \u001b[0mself\u001b[0m\u001b[0;34m.\u001b[0m\u001b[0m_num_batches_for_timing_check\u001b[0m\u001b[0;34m:\u001b[0m\u001b[0;34m\u001b[0m\u001b[0;34m\u001b[0m\u001b[0m\n",
            "\u001b[0;32m/usr/local/lib/python3.7/dist-packages/keras/callbacks.py\u001b[0m in \u001b[0;36m_call_batch_hook_helper\u001b[0;34m(self, hook_name, batch, logs)\u001b[0m\n\u001b[1;32m    354\u001b[0m     \u001b[0;32mfor\u001b[0m \u001b[0mcallback\u001b[0m \u001b[0;32min\u001b[0m \u001b[0mself\u001b[0m\u001b[0;34m.\u001b[0m\u001b[0mcallbacks\u001b[0m\u001b[0;34m:\u001b[0m\u001b[0;34m\u001b[0m\u001b[0;34m\u001b[0m\u001b[0m\n\u001b[1;32m    355\u001b[0m       \u001b[0mhook\u001b[0m \u001b[0;34m=\u001b[0m \u001b[0mgetattr\u001b[0m\u001b[0;34m(\u001b[0m\u001b[0mcallback\u001b[0m\u001b[0;34m,\u001b[0m \u001b[0mhook_name\u001b[0m\u001b[0;34m)\u001b[0m\u001b[0;34m\u001b[0m\u001b[0;34m\u001b[0m\u001b[0m\n\u001b[0;32m--> 356\u001b[0;31m       \u001b[0mhook\u001b[0m\u001b[0;34m(\u001b[0m\u001b[0mbatch\u001b[0m\u001b[0;34m,\u001b[0m \u001b[0mlogs\u001b[0m\u001b[0;34m)\u001b[0m\u001b[0;34m\u001b[0m\u001b[0;34m\u001b[0m\u001b[0m\n\u001b[0m\u001b[1;32m    357\u001b[0m \u001b[0;34m\u001b[0m\u001b[0m\n\u001b[1;32m    358\u001b[0m     \u001b[0;32mif\u001b[0m \u001b[0mself\u001b[0m\u001b[0;34m.\u001b[0m\u001b[0m_check_timing\u001b[0m\u001b[0;34m:\u001b[0m\u001b[0;34m\u001b[0m\u001b[0;34m\u001b[0m\u001b[0m\n",
            "\u001b[0;32m/usr/local/lib/python3.7/dist-packages/keras/callbacks.py\u001b[0m in \u001b[0;36mon_train_batch_end\u001b[0;34m(self, batch, logs)\u001b[0m\n\u001b[1;32m   1032\u001b[0m \u001b[0;34m\u001b[0m\u001b[0m\n\u001b[1;32m   1033\u001b[0m   \u001b[0;32mdef\u001b[0m \u001b[0mon_train_batch_end\u001b[0m\u001b[0;34m(\u001b[0m\u001b[0mself\u001b[0m\u001b[0;34m,\u001b[0m \u001b[0mbatch\u001b[0m\u001b[0;34m,\u001b[0m \u001b[0mlogs\u001b[0m\u001b[0;34m=\u001b[0m\u001b[0;32mNone\u001b[0m\u001b[0;34m)\u001b[0m\u001b[0;34m:\u001b[0m\u001b[0;34m\u001b[0m\u001b[0;34m\u001b[0m\u001b[0m\n\u001b[0;32m-> 1034\u001b[0;31m     \u001b[0mself\u001b[0m\u001b[0;34m.\u001b[0m\u001b[0m_batch_update_progbar\u001b[0m\u001b[0;34m(\u001b[0m\u001b[0mbatch\u001b[0m\u001b[0;34m,\u001b[0m \u001b[0mlogs\u001b[0m\u001b[0;34m)\u001b[0m\u001b[0;34m\u001b[0m\u001b[0;34m\u001b[0m\u001b[0m\n\u001b[0m\u001b[1;32m   1035\u001b[0m \u001b[0;34m\u001b[0m\u001b[0m\n\u001b[1;32m   1036\u001b[0m   \u001b[0;32mdef\u001b[0m \u001b[0mon_test_batch_end\u001b[0m\u001b[0;34m(\u001b[0m\u001b[0mself\u001b[0m\u001b[0;34m,\u001b[0m \u001b[0mbatch\u001b[0m\u001b[0;34m,\u001b[0m \u001b[0mlogs\u001b[0m\u001b[0;34m=\u001b[0m\u001b[0;32mNone\u001b[0m\u001b[0;34m)\u001b[0m\u001b[0;34m:\u001b[0m\u001b[0;34m\u001b[0m\u001b[0;34m\u001b[0m\u001b[0m\n",
            "\u001b[0;32m/usr/local/lib/python3.7/dist-packages/keras/callbacks.py\u001b[0m in \u001b[0;36m_batch_update_progbar\u001b[0;34m(self, batch, logs)\u001b[0m\n\u001b[1;32m   1105\u001b[0m       \u001b[0;31m# Only block async when verbose = 1.\u001b[0m\u001b[0;34m\u001b[0m\u001b[0;34m\u001b[0m\u001b[0;34m\u001b[0m\u001b[0m\n\u001b[1;32m   1106\u001b[0m       \u001b[0mlogs\u001b[0m \u001b[0;34m=\u001b[0m \u001b[0mtf_utils\u001b[0m\u001b[0;34m.\u001b[0m\u001b[0msync_to_numpy_or_python_type\u001b[0m\u001b[0;34m(\u001b[0m\u001b[0mlogs\u001b[0m\u001b[0;34m)\u001b[0m\u001b[0;34m\u001b[0m\u001b[0;34m\u001b[0m\u001b[0m\n\u001b[0;32m-> 1107\u001b[0;31m       \u001b[0mself\u001b[0m\u001b[0;34m.\u001b[0m\u001b[0mprogbar\u001b[0m\u001b[0;34m.\u001b[0m\u001b[0mupdate\u001b[0m\u001b[0;34m(\u001b[0m\u001b[0mself\u001b[0m\u001b[0;34m.\u001b[0m\u001b[0mseen\u001b[0m\u001b[0;34m,\u001b[0m \u001b[0mlist\u001b[0m\u001b[0;34m(\u001b[0m\u001b[0mlogs\u001b[0m\u001b[0;34m.\u001b[0m\u001b[0mitems\u001b[0m\u001b[0;34m(\u001b[0m\u001b[0;34m)\u001b[0m\u001b[0;34m)\u001b[0m\u001b[0;34m,\u001b[0m \u001b[0mfinalize\u001b[0m\u001b[0;34m=\u001b[0m\u001b[0;32mFalse\u001b[0m\u001b[0;34m)\u001b[0m\u001b[0;34m\u001b[0m\u001b[0;34m\u001b[0m\u001b[0m\n\u001b[0m\u001b[1;32m   1108\u001b[0m \u001b[0;34m\u001b[0m\u001b[0m\n\u001b[1;32m   1109\u001b[0m   \u001b[0;32mdef\u001b[0m \u001b[0m_finalize_progbar\u001b[0m\u001b[0;34m(\u001b[0m\u001b[0mself\u001b[0m\u001b[0;34m,\u001b[0m \u001b[0mlogs\u001b[0m\u001b[0;34m,\u001b[0m \u001b[0mcounter\u001b[0m\u001b[0;34m)\u001b[0m\u001b[0;34m:\u001b[0m\u001b[0;34m\u001b[0m\u001b[0;34m\u001b[0m\u001b[0m\n",
            "\u001b[0;32m/usr/local/lib/python3.7/dist-packages/keras/utils/generic_utils.py\u001b[0m in \u001b[0;36mupdate\u001b[0;34m(self, current, values, finalize)\u001b[0m\n\u001b[1;32m    974\u001b[0m \u001b[0;34m\u001b[0m\u001b[0m\n\u001b[1;32m    975\u001b[0m       \u001b[0mmessage\u001b[0m \u001b[0;34m+=\u001b[0m \u001b[0minfo\u001b[0m\u001b[0;34m\u001b[0m\u001b[0;34m\u001b[0m\u001b[0m\n\u001b[0;32m--> 976\u001b[0;31m       \u001b[0mio_utils\u001b[0m\u001b[0;34m.\u001b[0m\u001b[0mprint_msg\u001b[0m\u001b[0;34m(\u001b[0m\u001b[0mmessage\u001b[0m\u001b[0;34m,\u001b[0m \u001b[0mline_break\u001b[0m\u001b[0;34m=\u001b[0m\u001b[0;32mFalse\u001b[0m\u001b[0;34m)\u001b[0m\u001b[0;34m\u001b[0m\u001b[0;34m\u001b[0m\u001b[0m\n\u001b[0m\u001b[1;32m    977\u001b[0m       \u001b[0mmessage\u001b[0m \u001b[0;34m=\u001b[0m \u001b[0;34m''\u001b[0m\u001b[0;34m\u001b[0m\u001b[0;34m\u001b[0m\u001b[0m\n\u001b[1;32m    978\u001b[0m \u001b[0;34m\u001b[0m\u001b[0m\n",
            "\u001b[0;32m/usr/local/lib/python3.7/dist-packages/keras/utils/io_utils.py\u001b[0m in \u001b[0;36mprint_msg\u001b[0;34m(message, line_break)\u001b[0m\n\u001b[1;32m     36\u001b[0m     \u001b[0;32melse\u001b[0m\u001b[0;34m:\u001b[0m\u001b[0;34m\u001b[0m\u001b[0;34m\u001b[0m\u001b[0m\n\u001b[1;32m     37\u001b[0m       \u001b[0msys\u001b[0m\u001b[0;34m.\u001b[0m\u001b[0mstdout\u001b[0m\u001b[0;34m.\u001b[0m\u001b[0mwrite\u001b[0m\u001b[0;34m(\u001b[0m\u001b[0mmessage\u001b[0m\u001b[0;34m)\u001b[0m\u001b[0;34m\u001b[0m\u001b[0;34m\u001b[0m\u001b[0m\n\u001b[0;32m---> 38\u001b[0;31m     \u001b[0msys\u001b[0m\u001b[0;34m.\u001b[0m\u001b[0mstdout\u001b[0m\u001b[0;34m.\u001b[0m\u001b[0mflush\u001b[0m\u001b[0;34m(\u001b[0m\u001b[0;34m)\u001b[0m\u001b[0;34m\u001b[0m\u001b[0;34m\u001b[0m\u001b[0m\n\u001b[0m\u001b[1;32m     39\u001b[0m \u001b[0;34m\u001b[0m\u001b[0m\n\u001b[1;32m     40\u001b[0m \u001b[0;34m\u001b[0m\u001b[0m\n",
            "\u001b[0;32m/usr/local/lib/python3.7/dist-packages/ipykernel/iostream.py\u001b[0m in \u001b[0;36mflush\u001b[0;34m(self)\u001b[0m\n\u001b[1;32m    350\u001b[0m                 \u001b[0mself\u001b[0m\u001b[0;34m.\u001b[0m\u001b[0mpub_thread\u001b[0m\u001b[0;34m.\u001b[0m\u001b[0mschedule\u001b[0m\u001b[0;34m(\u001b[0m\u001b[0mevt\u001b[0m\u001b[0;34m.\u001b[0m\u001b[0mset\u001b[0m\u001b[0;34m)\u001b[0m\u001b[0;34m\u001b[0m\u001b[0;34m\u001b[0m\u001b[0m\n\u001b[1;32m    351\u001b[0m                 \u001b[0;31m# and give a timeout to avoid\u001b[0m\u001b[0;34m\u001b[0m\u001b[0;34m\u001b[0m\u001b[0;34m\u001b[0m\u001b[0m\n\u001b[0;32m--> 352\u001b[0;31m                 \u001b[0;32mif\u001b[0m \u001b[0;32mnot\u001b[0m \u001b[0mevt\u001b[0m\u001b[0;34m.\u001b[0m\u001b[0mwait\u001b[0m\u001b[0;34m(\u001b[0m\u001b[0mself\u001b[0m\u001b[0;34m.\u001b[0m\u001b[0mflush_timeout\u001b[0m\u001b[0;34m)\u001b[0m\u001b[0;34m:\u001b[0m\u001b[0;34m\u001b[0m\u001b[0;34m\u001b[0m\u001b[0m\n\u001b[0m\u001b[1;32m    353\u001b[0m                     \u001b[0;31m# write directly to __stderr__ instead of warning because\u001b[0m\u001b[0;34m\u001b[0m\u001b[0;34m\u001b[0m\u001b[0;34m\u001b[0m\u001b[0m\n\u001b[1;32m    354\u001b[0m                     \u001b[0;31m# if this is happening sys.stderr may be the problem.\u001b[0m\u001b[0;34m\u001b[0m\u001b[0;34m\u001b[0m\u001b[0;34m\u001b[0m\u001b[0m\n",
            "\u001b[0;32m/usr/lib/python3.7/threading.py\u001b[0m in \u001b[0;36mwait\u001b[0;34m(self, timeout)\u001b[0m\n\u001b[1;32m    550\u001b[0m             \u001b[0msignaled\u001b[0m \u001b[0;34m=\u001b[0m \u001b[0mself\u001b[0m\u001b[0;34m.\u001b[0m\u001b[0m_flag\u001b[0m\u001b[0;34m\u001b[0m\u001b[0;34m\u001b[0m\u001b[0m\n\u001b[1;32m    551\u001b[0m             \u001b[0;32mif\u001b[0m \u001b[0;32mnot\u001b[0m \u001b[0msignaled\u001b[0m\u001b[0;34m:\u001b[0m\u001b[0;34m\u001b[0m\u001b[0;34m\u001b[0m\u001b[0m\n\u001b[0;32m--> 552\u001b[0;31m                 \u001b[0msignaled\u001b[0m \u001b[0;34m=\u001b[0m \u001b[0mself\u001b[0m\u001b[0;34m.\u001b[0m\u001b[0m_cond\u001b[0m\u001b[0;34m.\u001b[0m\u001b[0mwait\u001b[0m\u001b[0;34m(\u001b[0m\u001b[0mtimeout\u001b[0m\u001b[0;34m)\u001b[0m\u001b[0;34m\u001b[0m\u001b[0;34m\u001b[0m\u001b[0m\n\u001b[0m\u001b[1;32m    553\u001b[0m             \u001b[0;32mreturn\u001b[0m \u001b[0msignaled\u001b[0m\u001b[0;34m\u001b[0m\u001b[0;34m\u001b[0m\u001b[0m\n\u001b[1;32m    554\u001b[0m \u001b[0;34m\u001b[0m\u001b[0m\n",
            "\u001b[0;32m/usr/lib/python3.7/threading.py\u001b[0m in \u001b[0;36mwait\u001b[0;34m(self, timeout)\u001b[0m\n\u001b[1;32m    298\u001b[0m             \u001b[0;32melse\u001b[0m\u001b[0;34m:\u001b[0m\u001b[0;34m\u001b[0m\u001b[0;34m\u001b[0m\u001b[0m\n\u001b[1;32m    299\u001b[0m                 \u001b[0;32mif\u001b[0m \u001b[0mtimeout\u001b[0m \u001b[0;34m>\u001b[0m \u001b[0;36m0\u001b[0m\u001b[0;34m:\u001b[0m\u001b[0;34m\u001b[0m\u001b[0;34m\u001b[0m\u001b[0m\n\u001b[0;32m--> 300\u001b[0;31m                     \u001b[0mgotit\u001b[0m \u001b[0;34m=\u001b[0m \u001b[0mwaiter\u001b[0m\u001b[0;34m.\u001b[0m\u001b[0macquire\u001b[0m\u001b[0;34m(\u001b[0m\u001b[0;32mTrue\u001b[0m\u001b[0;34m,\u001b[0m \u001b[0mtimeout\u001b[0m\u001b[0;34m)\u001b[0m\u001b[0;34m\u001b[0m\u001b[0;34m\u001b[0m\u001b[0m\n\u001b[0m\u001b[1;32m    301\u001b[0m                 \u001b[0;32melse\u001b[0m\u001b[0;34m:\u001b[0m\u001b[0;34m\u001b[0m\u001b[0;34m\u001b[0m\u001b[0m\n\u001b[1;32m    302\u001b[0m                     \u001b[0mgotit\u001b[0m \u001b[0;34m=\u001b[0m \u001b[0mwaiter\u001b[0m\u001b[0;34m.\u001b[0m\u001b[0macquire\u001b[0m\u001b[0;34m(\u001b[0m\u001b[0;32mFalse\u001b[0m\u001b[0;34m)\u001b[0m\u001b[0;34m\u001b[0m\u001b[0;34m\u001b[0m\u001b[0m\n",
            "\u001b[0;31mKeyboardInterrupt\u001b[0m: "
          ]
        }
      ],
      "source": [
        "early_stopping = tf.keras.callbacks.EarlyStopping(monitor='val_loss',\n",
        "                                                  patience=2,\n",
        "                                                  mode='min')\n",
        "lstm_model.fit(wide_window.train, epochs=20,\n",
        "                      validation_data=wide_window.val,\n",
        "                      callbacks=[early_stopping])\n",
        "\n",
        "val_performance['LSTM'] = lstm_model.evaluate(wide_window.val)\n",
        "performance['LSTM'] = lstm_model.evaluate(wide_window.test, verbose=0)"
      ]
    },
    {
      "cell_type": "markdown",
      "metadata": {
        "id": "gK2LK4kHMhQk"
      },
      "source": [
        "#### GRU"
      ]
    },
    {
      "cell_type": "code",
      "execution_count": null,
      "metadata": {
        "colab": {
          "base_uri": "https://localhost:8080/"
        },
        "id": "_NWYPLrorOfP",
        "outputId": "cab82ed7-30d9-43ec-b681-8c5fe7332c7f"
      },
      "outputs": [
        {
          "output_type": "stream",
          "name": "stdout",
          "text": [
            "(1784796, 4)\n"
          ]
        }
      ],
      "source": [
        "print(bit_train.shape)"
      ]
    },
    {
      "cell_type": "code",
      "execution_count": null,
      "metadata": {
        "colab": {
          "base_uri": "https://localhost:8080/",
          "height": 208
        },
        "id": "ZGj6Li7tqUOQ",
        "outputId": "454c3d63-601e-43da-cbb8-a76a7c25690a"
      },
      "outputs": [
        {
          "output_type": "error",
          "ename": "NameError",
          "evalue": "ignored",
          "traceback": [
            "\u001b[0;31m---------------------------------------------------------------------------\u001b[0m",
            "\u001b[0;31mNameError\u001b[0m                                 Traceback (most recent call last)",
            "\u001b[0;32m<ipython-input-39-204106ea67dd>\u001b[0m in \u001b[0;36m<module>\u001b[0;34m\u001b[0m\n\u001b[1;32m      1\u001b[0m \u001b[0mi\u001b[0m \u001b[0;34m=\u001b[0m \u001b[0;36m0\u001b[0m\u001b[0;34m\u001b[0m\u001b[0;34m\u001b[0m\u001b[0m\n\u001b[0;32m----> 2\u001b[0;31m \u001b[0;32mfor\u001b[0m \u001b[0mtr\u001b[0m \u001b[0;32min\u001b[0m \u001b[0mwide_window\u001b[0m\u001b[0;34m.\u001b[0m\u001b[0mtrain\u001b[0m\u001b[0;34m:\u001b[0m\u001b[0;34m\u001b[0m\u001b[0;34m\u001b[0m\u001b[0m\n\u001b[0m\u001b[1;32m      3\u001b[0m   \u001b[0mi\u001b[0m \u001b[0;34m+=\u001b[0m \u001b[0;36m1\u001b[0m\u001b[0;34m\u001b[0m\u001b[0;34m\u001b[0m\u001b[0m\n\u001b[1;32m      4\u001b[0m \u001b[0mprint\u001b[0m\u001b[0;34m(\u001b[0m\u001b[0mi\u001b[0m\u001b[0;34m)\u001b[0m\u001b[0;34m\u001b[0m\u001b[0;34m\u001b[0m\u001b[0m\n",
            "\u001b[0;31mNameError\u001b[0m: name 'wide_window' is not defined"
          ]
        }
      ],
      "source": [
        "i = 0\n",
        "for tr in wide_window.train:\n",
        "  i += 1\n",
        "print(i)"
      ]
    },
    {
      "cell_type": "code",
      "execution_count": null,
      "metadata": {
        "colab": {
          "base_uri": "https://localhost:8080/"
        },
        "id": "C4QjQp2hOVJ4",
        "outputId": "0e456d27-02bb-4565-8214-0811b604eae9"
      },
      "outputs": [
        {
          "output_type": "execute_result",
          "data": {
            "text/plain": [
              "Total window size: 150\n",
              "Input indices: [  0   1   2   3   4   5   6   7   8   9  10  11  12  13  14  15  16  17\n",
              "  18  19  20  21  22  23  24  25  26  27  28  29  30  31  32  33  34  35\n",
              "  36  37  38  39  40  41  42  43  44  45  46  47  48  49  50  51  52  53\n",
              "  54  55  56  57  58  59  60  61  62  63  64  65  66  67  68  69  70  71\n",
              "  72  73  74  75  76  77  78  79  80  81  82  83  84  85  86  87  88  89\n",
              "  90  91  92  93  94  95  96  97  98  99 100 101 102 103 104 105 106 107\n",
              " 108 109 110 111 112 113 114 115 116 117 118 119 120 121 122 123 124 125\n",
              " 126 127 128 129 130 131 132 133 134 135 136 137 138 139 140 141 142 143]\n",
              "Label indices: [149]\n",
              "Label column name(s): ['Close']"
            ]
          },
          "metadata": {},
          "execution_count": 8
        }
      ],
      "source": [
        "wide_window = WindowGenerator(144, 1, 6, bit_train, bit_val, bit_test, label_columns=['Close'])\n",
        "\n",
        "wide_window"
      ]
    },
    {
      "cell_type": "code",
      "execution_count": null,
      "metadata": {
        "id": "OCbgwVkkMiN6"
      },
      "outputs": [],
      "source": [
        "GRU_model = tf.keras.models.Sequential([\n",
        "    # Shape [batch, time, features] => [batch, time, GRU_units]\n",
        "    tf.keras.layers.GRU(30, return_sequences=True, kernel_regularizer=\"l1_l2\", recurrent_regularizer=\"l1_l2\",),\n",
        "    K.layers.Dropout(0.3),\n",
        "    tf.keras.layers.GRU(10, return_sequences=True, kernel_regularizer=\"l1_l2\", recurrent_regularizer=\"l1_l2\"),\n",
        "    K.layers.Dropout(0.3),\n",
        "    # Shape => [batch, time, features]\n",
        "    tf.keras.layers.Dense(units=1)\n",
        "        ])\n",
        "\n",
        "\n",
        "GRU_model.compile(loss=tf.keras.losses.MeanSquaredError(),\n",
        "              optimizer=tf.keras.optimizers.Adam(), #clipnorm=1),\n",
        "              metrics=[tf.keras.metrics.MeanAbsoluteError()])\n",
        "\n",
        "checkpoint_filepath = '/content/drive/MyDrive/Colab Notebooks/Machine Learning/supervised learning/0x01 - Time Series/bitCoinModelnoNorm.h5'\n",
        "model_checkpoint_callback = tf.keras.callbacks.ModelCheckpoint(\n",
        "    filepath=checkpoint_filepath,\n",
        "    save_weights_only=False,\n",
        "    monitor='val_loss',\n",
        "    mode='min',\n",
        "    save_best_only=True)\n",
        "\n",
        "early_stopping = tf.keras.callbacks.EarlyStopping(monitor='val_loss',\n",
        "                                                  patience=3,\n",
        "                                                  mode='min')"
      ]
    },
    {
      "cell_type": "code",
      "execution_count": null,
      "metadata": {
        "colab": {
          "base_uri": "https://localhost:8080/",
          "height": 521
        },
        "id": "pOOi6TkGNM5O",
        "outputId": "29d828f8-7e46-4ad9-85ae-4ff35b86dbf8"
      },
      "outputs": [
        {
          "output_type": "stream",
          "name": "stdout",
          "text": [
            "Epoch 1/64\n",
            "55771/55771 [==============================] - 1701s 30ms/step - loss: 0.1212 - mean_absolute_error: 0.1629 - val_loss: 0.0822 - val_mean_absolute_error: 0.0469\n",
            "Epoch 2/64\n",
            "55771/55771 [==============================] - 1679s 30ms/step - loss: 0.0965 - mean_absolute_error: 0.1608 - val_loss: 0.0796 - val_mean_absolute_error: 0.0629\n",
            "Epoch 3/64\n",
            "55771/55771 [==============================] - 1687s 30ms/step - loss: 0.0943 - mean_absolute_error: 0.1613 - val_loss: 0.0798 - val_mean_absolute_error: 0.0754\n",
            "Epoch 4/64\n",
            "55771/55771 [==============================] - 1762s 32ms/step - loss: 0.0933 - mean_absolute_error: 0.1616 - val_loss: 0.0779 - val_mean_absolute_error: 0.0720\n",
            "Epoch 5/64\n",
            "55771/55771 [==============================] - 1694s 30ms/step - loss: 0.0926 - mean_absolute_error: 0.1611 - val_loss: 0.0792 - val_mean_absolute_error: 0.0821\n",
            "Epoch 6/64\n",
            "55771/55771 [==============================] - 1673s 30ms/step - loss: 0.0921 - mean_absolute_error: 0.1609 - val_loss: 0.0757 - val_mean_absolute_error: 0.0560\n",
            "Epoch 7/64\n",
            "55771/55771 [==============================] - 1663s 30ms/step - loss: 0.0917 - mean_absolute_error: 0.1612 - val_loss: 0.0772 - val_mean_absolute_error: 0.0786\n",
            "Epoch 8/64\n",
            "55771/55771 [==============================] - 1669s 30ms/step - loss: 0.0916 - mean_absolute_error: 0.1616 - val_loss: 0.0766 - val_mean_absolute_error: 0.0681\n",
            "Epoch 9/64\n",
            "55771/55771 [==============================] - 1662s 30ms/step - loss: 0.0913 - mean_absolute_error: 0.1617 - val_loss: 0.0762 - val_mean_absolute_error: 0.0658\n",
            "9838/9838 [==============================] - 167s 17ms/step - loss: 0.0762 - mean_absolute_error: 0.0658\n"
          ]
        },
        {
          "output_type": "error",
          "ename": "NameError",
          "evalue": "ignored",
          "traceback": [
            "\u001b[0;31m---------------------------------------------------------------------------\u001b[0m",
            "\u001b[0;31mNameError\u001b[0m                                 Traceback (most recent call last)",
            "\u001b[0;32m<ipython-input-11-c52a82780192>\u001b[0m in \u001b[0;36m<module>\u001b[0;34m\u001b[0m\n\u001b[1;32m      4\u001b[0m \u001b[0;34m\u001b[0m\u001b[0m\n\u001b[1;32m      5\u001b[0m \u001b[0;34m\u001b[0m\u001b[0m\n\u001b[0;32m----> 6\u001b[0;31m \u001b[0mval_performance\u001b[0m\u001b[0;34m[\u001b[0m\u001b[0;34m'GRU'\u001b[0m\u001b[0;34m]\u001b[0m \u001b[0;34m=\u001b[0m \u001b[0mGRU_model\u001b[0m\u001b[0;34m.\u001b[0m\u001b[0mevaluate\u001b[0m\u001b[0;34m(\u001b[0m\u001b[0mwide_window\u001b[0m\u001b[0;34m.\u001b[0m\u001b[0mval\u001b[0m\u001b[0;34m)\u001b[0m\u001b[0;34m\u001b[0m\u001b[0;34m\u001b[0m\u001b[0m\n\u001b[0m\u001b[1;32m      7\u001b[0m \u001b[0mperformance\u001b[0m\u001b[0;34m[\u001b[0m\u001b[0;34m'GRU'\u001b[0m\u001b[0;34m]\u001b[0m \u001b[0;34m=\u001b[0m \u001b[0mGRU_model\u001b[0m\u001b[0;34m.\u001b[0m\u001b[0mevaluate\u001b[0m\u001b[0;34m(\u001b[0m\u001b[0mwide_window\u001b[0m\u001b[0;34m.\u001b[0m\u001b[0mtest\u001b[0m\u001b[0;34m,\u001b[0m \u001b[0mverbose\u001b[0m\u001b[0;34m=\u001b[0m\u001b[0;36m0\u001b[0m\u001b[0;34m)\u001b[0m\u001b[0;34m\u001b[0m\u001b[0;34m\u001b[0m\u001b[0m\n",
            "\u001b[0;31mNameError\u001b[0m: name 'val_performance' is not defined"
          ]
        }
      ],
      "source": [
        "GRU_model.fit(wide_window.train, epochs=64,\n",
        "                      validation_data=wide_window.val,\n",
        "                      callbacks=[early_stopping, model_checkpoint_callback])\n",
        "\n",
        "\n",
        "val_performance['GRU'] = GRU_model.evaluate(wide_window.val)\n",
        "performance['GRU'] = GRU_model.evaluate(wide_window.test, verbose=0)"
      ]
    },
    {
      "cell_type": "code",
      "source": [
        "GRU_model.evaluate(wide_window.val)"
      ],
      "metadata": {
        "colab": {
          "base_uri": "https://localhost:8080/"
        },
        "id": "QYq-uK3WCQR3",
        "outputId": "8506a071-dba3-497f-fa96-c13939992823"
      },
      "execution_count": null,
      "outputs": [
        {
          "output_type": "stream",
          "name": "stdout",
          "text": [
            "11084/39352 [=======>......................] - ETA: 6:09 - loss: nan - mean_absolute_error: nan"
          ]
        }
      ]
    },
    {
      "cell_type": "code",
      "execution_count": null,
      "metadata": {
        "id": "9rPXNBxonfoQ"
      },
      "outputs": [],
      "source": [
        "GRU_model.save(\"/content/drive/MyDrive/Colab Notebooks/Machine Learning/supervised learning/0x01 - Time Series/bitCoinModelManualSave.h5\")"
      ]
    },
    {
      "cell_type": "code",
      "source": [
        "GRUmodel = K.models.load_model(\"/content/drive/MyDrive/Colab Notebooks/Machine Learning/supervised learning/0x01 - Time Series/bitCoinModel.h5\")"
      ],
      "metadata": {
        "id": "9xjDog61zV_G"
      },
      "execution_count": null,
      "outputs": []
    },
    {
      "cell_type": "code",
      "source": [
        "GRUmodel.evaluate(wide_window.val)"
      ],
      "metadata": {
        "colab": {
          "base_uri": "https://localhost:8080/"
        },
        "id": "LSa9wxEc5Oil",
        "outputId": "4c75898e-9aaa-4d43-c392-13a99c7024b9"
      },
      "execution_count": null,
      "outputs": [
        {
          "output_type": "stream",
          "name": "stdout",
          "text": [
            "9838/9838 [==============================] - 213s 21ms/step - loss: 0.0762 - mean_absolute_error: 0.0619\n"
          ]
        },
        {
          "output_type": "execute_result",
          "data": {
            "text/plain": [
              "[0.07622792571783066, 0.06190381571650505]"
            ]
          },
          "metadata": {},
          "execution_count": 11
        }
      ]
    },
    {
      "cell_type": "code",
      "source": [
        "print(GRU_model.get_weights())"
      ],
      "metadata": {
        "id": "KjrGLFfX7qY5"
      },
      "execution_count": null,
      "outputs": []
    },
    {
      "cell_type": "code",
      "source": [
        "print(dir(wide_window))"
      ],
      "metadata": {
        "colab": {
          "base_uri": "https://localhost:8080/"
        },
        "id": "Jk7zCPOmCH2p",
        "outputId": "2e703967-14cb-4b63-9ee4-6a2e8a5291e9"
      },
      "execution_count": null,
      "outputs": [
        {
          "output_type": "stream",
          "name": "stdout",
          "text": [
            "['__class__', '__delattr__', '__dict__', '__dir__', '__doc__', '__eq__', '__format__', '__ge__', '__getattribute__', '__gt__', '__hash__', '__init__', '__init_subclass__', '__le__', '__lt__', '__module__', '__ne__', '__new__', '__reduce__', '__reduce_ex__', '__repr__', '__setattr__', '__sizeof__', '__str__', '__subclasshook__', '__weakref__', 'column_indices', 'example', 'input_indices', 'input_slice', 'input_width', 'label_columns', 'label_columns_indices', 'label_indices', 'label_start', 'label_width', 'labels_slice', 'make_dataset', 'shift', 'split_window', 'test', 'test_df', 'total_window_size', 'train', 'train_df', 'val', 'val_df']\n"
          ]
        }
      ]
    },
    {
      "cell_type": "code",
      "source": [
        "GRUmodel.predict(wide_window.val)"
      ],
      "metadata": {
        "colab": {
          "base_uri": "https://localhost:8080/"
        },
        "id": "HzM-PZNbDxCr",
        "outputId": "b2cc9b8e-303b-4ccb-fb90-5a2c852031a4"
      },
      "execution_count": null,
      "outputs": [
        {
          "output_type": "execute_result",
          "data": {
            "text/plain": [
              "array([[[ 0.06171712],\n",
              "        [ 0.11654253],\n",
              "        [ 0.15361923],\n",
              "        ...,\n",
              "        [ 0.23086613],\n",
              "        [ 0.23114017],\n",
              "        [ 0.23222676]],\n",
              "\n",
              "       [[ 0.09544986],\n",
              "        [ 0.17307201],\n",
              "        [ 0.22556269],\n",
              "        ...,\n",
              "        [ 0.32840326],\n",
              "        [ 0.3276413 ],\n",
              "        [ 0.32707787]],\n",
              "\n",
              "       [[-0.55729365],\n",
              "        [-0.9207905 ],\n",
              "        [-1.166654  ],\n",
              "        ...,\n",
              "        [-1.6609534 ],\n",
              "        [-1.6611524 ],\n",
              "        [-1.6624328 ]],\n",
              "\n",
              "       ...,\n",
              "\n",
              "       [[ 0.17078295],\n",
              "        [ 0.29825383],\n",
              "        [ 0.38451788],\n",
              "        ...,\n",
              "        [ 0.5597783 ],\n",
              "        [ 0.5589175 ],\n",
              "        [ 0.5583374 ]],\n",
              "\n",
              "       [[-0.46365827],\n",
              "        [-0.7653447 ],\n",
              "        [-0.96922   ],\n",
              "        ...,\n",
              "        [-1.3654792 ],\n",
              "        [-1.3620081 ],\n",
              "        [-1.3582622 ]],\n",
              "\n",
              "       [[ 0.1851803 ],\n",
              "        [ 0.3256019 ],\n",
              "        [ 0.42051417],\n",
              "        ...,\n",
              "        [ 0.6070604 ],\n",
              "        [ 0.6064356 ],\n",
              "        [ 0.6059993 ]]], dtype=float32)"
            ]
          },
          "metadata": {},
          "execution_count": 14
        }
      ]
    },
    {
      "cell_type": "code",
      "source": [
        "for i in wide_window.val.take(5):\n",
        "  print(i[0])"
      ],
      "metadata": {
        "colab": {
          "base_uri": "https://localhost:8080/"
        },
        "id": "Igh9WNZ2EXvy",
        "outputId": "43490bce-98f6-4485-fe70-77f9deac1669"
      },
      "execution_count": null,
      "outputs": [
        {
          "output_type": "stream",
          "name": "stdout",
          "text": [
            "tf.Tensor(\n",
            "[[[-1.0069408   1.033975   -0.28367463 -0.2671561 ]\n",
            "  [-1.0069299   1.0362746  -0.21615814 -0.17525315]\n",
            "  [-1.0069189   1.0394745  -0.18836525 -0.137295  ]\n",
            "  ...\n",
            "  [-1.00539     1.0007102  -0.32146716 -0.3188718 ]\n",
            "  [-1.0053791   1.0007102  -0.30715522 -0.29951975]\n",
            "  [-1.0053681   1.0007176  -0.28721812 -0.27255267]]\n",
            "\n",
            " [[-0.25834662  0.95879805 -0.18279193 -0.13308907]\n",
            "  [-0.25833562  0.9587906  -0.3526099  -0.3610182 ]\n",
            "  [-0.25832462  0.9587906   0.9244502   1.3530478 ]\n",
            "  ...\n",
            "  [-0.25679585  0.97340626 -0.3152808  -0.3107741 ]\n",
            "  [-0.25678486  0.97340626 -0.35194677 -0.36012015]\n",
            "  [-0.25677386  0.9734137  -0.34457248 -0.3501956 ]]\n",
            "\n",
            " [[-0.16631211  0.22360842 -0.07252005 -0.03619865]\n",
            "  [-0.16630112  0.22527538 -0.1798428  -0.16092299]\n",
            "  [-0.16629012  0.22605677  0.08329779  0.14443703]\n",
            "  ...\n",
            "  [-0.16476135  0.24364917 -0.21343565 -0.19920881]\n",
            "  [-0.16475035  0.24364917 -0.2772105  -0.2734823 ]\n",
            "  [-0.16473934  0.24364917 -0.29394865 -0.2929759 ]]\n",
            "\n",
            " ...\n",
            "\n",
            " [[-1.2603217   0.47617543 -0.24353158 -0.22787154]\n",
            "  [-1.2603108   0.47617543  0.04566733  0.12563314]\n",
            "  [-1.2602997   0.47616798 -0.21822251 -0.19693476]\n",
            "  ...\n",
            "  [-1.258771    0.47599682 -0.3072521  -0.30576387]\n",
            "  [-1.25876     0.47614565 -0.26457414 -0.25359744]\n",
            "  [-1.258749    0.47517824 -0.30217645 -0.29956686]]\n",
            "\n",
            " [[-0.86664546  1.6707395  -0.25120863 -0.2067173 ]\n",
            "  [-0.8666344   1.6707395   0.0337331   0.22610301]\n",
            "  [-0.86662346  1.6707395  -0.25651723 -0.21478091]\n",
            "  ...\n",
            "  [-0.86509466  1.6818129  -0.29973358 -0.2802846 ]\n",
            "  [-0.8650837   1.6818129  -0.29241797 -0.2691436 ]\n",
            "  [-0.86507267  1.6873198  -0.06762954  0.07323587]]\n",
            "\n",
            " [[ 0.6334356   0.2127062  -0.2335366  -0.22354539]\n",
            "  [ 0.63344663  0.21271363 -0.23333445 -0.22331138]\n",
            "  [ 0.6334576   0.21271363 -0.31673548 -0.31980145]\n",
            "  ...\n",
            "  [ 0.6349864   0.21567547 -0.24273631 -0.23410662]\n",
            "  [ 0.6349974   0.21568291 -0.200282   -0.18495823]\n",
            "  [ 0.6350084   0.21568291 -0.30528215 -0.3065146 ]]], shape=(32, 144, 4), dtype=float32)\n",
            "tf.Tensor(\n",
            "[[[ 0.53384525  0.34590685  0.07174578  0.14371108]\n",
            "  [ 0.5338562   0.34590685 -0.33067417 -0.33515078]\n",
            "  [ 0.53386724  0.34590685 -0.25446364 -0.2444591 ]\n",
            "  ...\n",
            "  [ 0.535396    0.3414492  -0.34853667 -0.35641363]\n",
            "  [ 0.535407    0.34145665 -0.31874418 -0.32099313]\n",
            "  [ 0.535418    0.34145665 -0.18314233 -0.1597751 ]]\n",
            "\n",
            " [[ 0.23678978  0.4188513  -0.2989311  -0.29637578]\n",
            "  [ 0.23680077  0.41884387 -0.31959438 -0.3213396 ]\n",
            "  [ 0.23681179  0.41884387 -0.25090095 -0.23834926]\n",
            "  ...\n",
            "  [ 0.23834056  0.42545217 -0.2529136  -0.24061899]\n",
            "  [ 0.23835155  0.4260103  -0.24349484 -0.22921453]\n",
            "  [ 0.23836255  0.42564565 -0.14237301 -0.10688227]]\n",
            "\n",
            " [[-0.51685274  0.33540648  0.25524408  0.36053064]\n",
            "  [-0.5168417   0.3379739   0.7139337   0.90556073]\n",
            "  [-0.51683074  0.33332276  2.1481247   2.6089106 ]\n",
            "  ...\n",
            "  [-0.51530194  0.29641894 -0.22814082 -0.21468341]\n",
            "  [-0.515291    0.29679102 -0.30233383 -0.30206057]\n",
            "  [-0.51527995  0.29679102 -0.35006443 -0.35827547]]\n",
            "\n",
            " ...\n",
            "\n",
            " [[ 1.2647321  -1.9158996  -0.3116384  -0.33638096]\n",
            "  [ 1.2647431  -1.9178196  -0.1998461  -0.2661497 ]\n",
            "  [ 1.264754   -1.9178196  -0.33257017 -0.34954458]\n",
            "  ...\n",
            "  [ 1.2662828  -1.8905455  -0.34472063 -0.3571098 ]\n",
            "  [ 1.2662939  -1.8937007  -0.32029113 -0.3416227 ]\n",
            "  [ 1.2663049  -1.892004   -0.32790005 -0.34645182]]\n",
            "\n",
            " [[-0.2891091   0.9210086  -0.346583   -0.35300007]\n",
            "  [-0.2890981   0.9210086  -0.33870324 -0.3424978 ]\n",
            "  [-0.28908712  0.9210086  -0.34566686 -0.35177898]\n",
            "  ...\n",
            "  [-0.28755835  0.95616364 -0.25938255 -0.23595065]\n",
            "  [-0.28754735  0.95616364 -0.33152965 -0.3327391 ]\n",
            "  [-0.28753635  0.94530606  1.1413286   1.6419995 ]]\n",
            "\n",
            " [[ 0.5497049   0.31614712 -0.33938232 -0.34562287]\n",
            "  [ 0.5497159   0.31614712 -0.33789116 -0.34385934]\n",
            "  [ 0.5497269   0.31613967 -0.28767228 -0.28446937]\n",
            "  ...\n",
            "  [ 0.5512557   0.31918338 -0.349057   -0.3570605 ]\n",
            "  [ 0.5512667   0.31918338 -0.19697842 -0.17709416]\n",
            "  [ 0.5512777   0.31917593 -0.35169977 -0.36018792]]], shape=(32, 144, 4), dtype=float32)\n",
            "tf.Tensor(\n",
            "[[[-0.37086013  0.6810852   0.01867705  0.11161615]\n",
            "  [-0.37084913  0.6788006  -0.16841798 -0.1266329 ]\n",
            "  [-0.37083814  0.67879313 -0.16791265 -0.12606716]\n",
            "  ...\n",
            "  [-0.36930937  0.6919502  -0.31277868 -0.31029892]\n",
            "  [-0.36929837  0.69195765 -0.26397052 -0.24802269]\n",
            "  [-0.36928737  0.69195765 -0.31986693 -0.31934303]]\n",
            "\n",
            " [[-1.4872295   0.35707697 -0.19211082 -0.16980928]\n",
            "  [-1.4872185   0.35707697 -0.09286793 -0.0514337 ]\n",
            "  [-1.4872074   0.35707697 -0.18208791 -0.15785392]\n",
            "  ...\n",
            "  [-1.4856787   0.5736257  -0.20862086 -0.18167605]\n",
            "  [-1.4856677   0.5736257  -0.22178446 -0.19808525]\n",
            "  [-1.4856567   0.57363313 -0.10406675 -0.05134324]]\n",
            "\n",
            " [[-1.6096085   0.5803308   0.13140267  0.24296352]\n",
            "  [-1.6095976   0.58138007  0.09219602  0.19406594]\n",
            "  [-1.6095865   0.58114195 -0.1678165  -0.13045286]\n",
            "  ...\n",
            "  [-1.6080577   0.5726955  -0.0128508   0.0622722 ]\n",
            "  [-1.6080468   0.5726955  -0.14422849 -0.10145586]\n",
            "  [-1.6080357   0.5726955  -0.16973688 -0.13324763]]\n",
            "\n",
            " ...\n",
            "\n",
            " [[ 1.2822305  -1.8601904  -0.3197038  -0.3409725 ]\n",
            "  [ 1.2822415  -1.8601904  -0.17093053 -0.24542706]\n",
            "  [ 1.2822526  -1.8601978  -0.28306946 -0.31744513]\n",
            "  ...\n",
            "  [ 1.2837813  -1.8680266   0.00299991 -0.13430771]\n",
            "  [ 1.2837923  -1.8660172  -0.18366222 -0.25391695]\n",
            "  [ 1.2838032  -1.869753   -0.23412034 -0.28623307]]\n",
            "\n",
            " [[ 0.06711766  0.48954833 -0.1585056  -0.12328965]\n",
            "  [ 0.06712866  0.4895409  -0.32166633 -0.32327232]\n",
            "  [ 0.06713966  0.48954833 -0.2628977  -0.25124073]\n",
            "  ...\n",
            "  [ 0.06866843  0.4778052  -0.3052406  -0.30327883]\n",
            "  [ 0.06867943  0.47696427 -0.15848036 -0.12381569]\n",
            "  [ 0.06869043  0.48089352  0.46565953  0.64011896]]\n",
            "\n",
            " [[-1.3618149   0.13679247  0.07619254  0.12653363]\n",
            "  [-1.3618039   0.14588633  0.03367872  0.0790225 ]\n",
            "  [-1.3617928   0.13601108  0.36417717  0.4553651 ]\n",
            "  ...\n",
            "  [-1.3602641   0.17847395 -0.18481871 -0.16862138]\n",
            "  [-1.3602531   0.17548978  0.37038308  0.46896926]\n",
            "  [-1.3602421   0.1734805   0.20288827  0.27615988]]], shape=(32, 144, 4), dtype=float32)\n",
            "tf.Tensor(\n",
            "[[[ 0.81623983  0.28518182 -0.2776271  -0.27317825]\n",
            "  [ 0.8162508   0.2841474  -0.33926934 -0.3456057 ]\n",
            "  [ 0.8162618   0.28415486 -0.34104192 -0.34768975]\n",
            "  ...\n",
            "  [ 0.8177906   0.2809921  -0.18007952 -0.15873104]\n",
            "  [ 0.8178016   0.2809921  -0.2407612  -0.22998406]\n",
            "  [ 0.8178126   0.28182557 -0.22248055 -0.20849945]]\n",
            "\n",
            " [[ 1.360198   -2.1008282  -0.2852921  -0.32298195]\n",
            "  [ 1.3602091  -2.101803   -0.3496324  -0.36046502]\n",
            "  [ 1.3602201  -2.1029937  -0.14699273 -0.2426219 ]\n",
            "  ...\n",
            "  [ 1.3617488  -2.0964525  -0.2980771  -0.33038133]\n",
            "  [ 1.3617599  -2.0950384   0.6092498   0.1994432 ]\n",
            "  [ 1.3617709  -2.0949938  -0.28321248 -0.32167363]]\n",
            "\n",
            " [[-1.0822579   0.18532784 -0.33800396 -0.34451902]\n",
            "  [-1.0822468   0.18533528 -0.24995586 -0.24324459]\n",
            "  [-1.0822358   0.18533528 -0.3136123  -0.3164638 ]\n",
            "  ...\n",
            "  [-1.0807071   0.17849627 -0.26728442 -0.26332772]\n",
            "  [-1.0806961   0.1785037  -0.30203184 -0.303233  ]\n",
            "  [-1.080685    0.17851116 -0.32690364 -0.33179688]]\n",
            "\n",
            " ...\n",
            "\n",
            " [[-0.68728375  0.46126208 -0.30615434 -0.30459672]\n",
            "  [-0.6872727   0.46052533 -0.25156587 -0.23807353]\n",
            "  [-0.68726176  0.45606026 -0.20234261 -0.17821823]\n",
            "  ...\n",
            "  [-0.68573296  0.40939277 -0.24885236 -0.23623048]\n",
            "  [-0.685722    0.41205695 -0.25163728 -0.23945482]\n",
            "  [-0.68571097  0.4120495  -0.26851615 -0.25977513]]\n",
            "\n",
            " [[-1.469709    0.5487552  -0.22772706 -0.2062826 ]\n",
            "  [-1.4696981   0.55130035 -0.18876417 -0.15786749]\n",
            "  [-1.469687    0.55130035 -0.29283097 -0.28698885]\n",
            "  ...\n",
            "  [-1.4681582   0.55614495 -0.2797143  -0.27062076]\n",
            "  [-1.4681473   0.55610776 -0.25308082 -0.23753762]\n",
            "  [-1.4681363   0.5549617  -0.35014278 -0.35811   ]]\n",
            "\n",
            " [[-0.2907039   0.92060673 -0.33739313 -0.34075335]\n",
            "  [-0.29069287  0.91245055 -0.12596509 -0.05910644]\n",
            "  [-0.29068187  0.91245055 -0.3230966  -0.321763  ]\n",
            "  ...\n",
            "  [-0.2891531   0.92108303 -0.3012619  -0.29256332]\n",
            "  [-0.2891421   0.9210086  -0.34525144 -0.35122535]\n",
            "  [-0.2891311   0.92100114 -0.34836385 -0.3553736 ]]], shape=(32, 144, 4), dtype=float32)\n",
            "tf.Tensor(\n",
            "[[[ 1.503254   -1.3692106  -0.333401   -0.34723923]\n",
            "  [ 1.5032651  -1.3692106  -0.33314174 -0.34703985]\n",
            "  [ 1.5032761  -1.3692181  -0.13042733 -0.19215555]\n",
            "  ...\n",
            "  [ 1.5048048  -1.3586656  -0.29604843 -0.3185425 ]\n",
            "  [ 1.5048158  -1.3584126  -0.33431727 -0.34788606]\n",
            "  [ 1.5048269  -1.3569242  -0.04042035 -0.12241994]]\n",
            "\n",
            " [[-0.94168746  1.2352085   0.30917007  0.5714851 ]\n",
            "  [-0.94167644  1.2214934   0.5240277   0.87429005]\n",
            "  [-0.9416654   1.2091622   3.5716455   5.1501036 ]\n",
            "  ...\n",
            "  [-0.9401367   1.2724249   3.8684266   5.640669  ]\n",
            "  [-0.94012564  1.277277    0.15397589  0.35908586]\n",
            "  [-0.9401147   1.2798593   0.7332306   1.1835654 ]]\n",
            "\n",
            " [[-0.4172843   0.5719439  -0.03705088  0.03199066]\n",
            "  [-0.4172733   0.5719513  -0.02315205  0.04939867]\n",
            "  [-0.41726232  0.5719439  -0.3412831  -0.34705263]\n",
            "  ...\n",
            "  [-0.41573355  0.5178197  -0.28166825 -0.27371943]\n",
            "  [-0.41572255  0.51707554 -0.29903463 -0.29514608]\n",
            "  [-0.41571155  0.51558715 -0.32690012 -0.3295099 ]]\n",
            "\n",
            " ...\n",
            "\n",
            " [[-1.463       0.4625495  -0.30033296 -0.2974853 ]\n",
            "  [-1.462989    0.46254206 -0.28038812 -0.27317303]\n",
            "  [-1.462978    0.46254206 -0.34513235 -0.35209468]\n",
            "  ...\n",
            "  [-1.4614493   0.4787726  -0.28066328 -0.27324772]\n",
            "  [-1.4614382   0.47986656 -0.27326417 -0.26413488]\n",
            "  [-1.4614272   0.4798591  -0.32656282 -0.32934016]]\n",
            "\n",
            " [[ 1.2694614  -1.7617056   2.8490462   1.7747412 ]\n",
            "  [ 1.2694724  -1.7510713   1.32648     0.7584695 ]\n",
            "  [ 1.2694833  -1.7526863   2.5719604   1.59721   ]\n",
            "  ...\n",
            "  [ 1.2710122  -1.803283   -0.10093655 -0.19690317]\n",
            "  [ 1.2710232  -1.8064904   0.40225992  0.13310345]\n",
            "  [ 1.2710341  -1.8064978   0.22038364  0.01354493]]\n",
            "\n",
            " [[-1.3091105  -0.04035198 -0.15623827 -0.1463541 ]\n",
            "  [-1.3090996  -0.04035942 -0.25416678 -0.25369692]\n",
            "  [-1.3090886  -0.04035198 -0.29099426 -0.29398978]\n",
            "  ...\n",
            "  [-1.3075598   0.16906752 -0.06424159 -0.03082287]\n",
            "  [-1.3075488   0.16906752 -0.29960978 -0.30057925]\n",
            "  [-1.3075378   0.16861357 -0.2217389  -0.21133947]]], shape=(32, 144, 4), dtype=float32)\n"
          ]
        }
      ]
    }
  ],
  "metadata": {
    "accelerator": "GPU",
    "colab": {
      "collapsed_sections": [
        "zfehng1Ut-aX",
        "mAtDwm4JEJuQ",
        "nbP63NL7Qoq2",
        "Q1YBdqvkEmp5",
        "3ETAzR6e9twk",
        "KtYzyxHFKGjC",
        "FTyNPV8WJ7eY",
        "JoB0F4JtMeSF"
      ],
      "provenance": []
    },
    "gpuClass": "standard",
    "kernelspec": {
      "display_name": "Python 3",
      "name": "python3"
    },
    "language_info": {
      "name": "python"
    }
  },
  "nbformat": 4,
  "nbformat_minor": 0
}