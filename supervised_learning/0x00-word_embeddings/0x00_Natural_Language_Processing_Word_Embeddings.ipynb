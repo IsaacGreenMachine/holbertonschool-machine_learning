{
  "nbformat": 4,
  "nbformat_minor": 0,
  "metadata": {
    "colab": {
      "provenance": [],
      "collapsed_sections": [
        "pNthT86qA4cj"
      ]
    },
    "kernelspec": {
      "name": "python3",
      "display_name": "Python 3"
    },
    "language_info": {
      "name": "python"
    }
  },
  "cells": [
    {
      "cell_type": "code",
      "execution_count": null,
      "metadata": {
        "id": "B82sIaTEAzW0"
      },
      "outputs": [],
      "source": [
        "import numpy as np\n",
        "from gensim.test.utils import common_texts\n",
        "from gensim.models import word2vec, FastText\n",
        "from sklearn.feature_extraction.text import CountVectorizer, TfidfVectorizer"
      ]
    },
    {
      "cell_type": "markdown",
      "source": [
        "## 0. Bag Of Words"
      ],
      "metadata": {
        "id": "pNthT86qA4cj"
      }
    },
    {
      "cell_type": "markdown",
      "source": [
        "not using libraries:"
      ],
      "metadata": {
        "id": "rYlLqd1kQ0k-"
      }
    },
    {
      "cell_type": "code",
      "source": [
        "def bag_of_words(sentences, vocab=None):\n",
        "    \"\"\"\n",
        "    creates a bag of words embedding matrix:\n",
        "\n",
        "    sentences is a list of sentences to analyze\n",
        "    \n",
        "    vocab is a list of the vocabulary words to use for the analysis\n",
        "    \n",
        "    If None, all words within sentences should be used\n",
        "    \n",
        "    Returns: embeddings, features\n",
        "        embeddings is a numpy.ndarray of shape (s, f) containing the embeddings\n",
        "            s is the number of sentences in sentences\n",
        "            f is the number of features analyzed\n",
        "        features is a list of the features used for embeddings\n",
        "    \"\"\"\n",
        "    uniq = set()\n",
        "    words = []\n",
        "    count = []\n",
        "    removes = [\"!\", \",\", \".\", \"'\"]\n",
        "    for i, sentence in enumerate(sentences):\n",
        "      words.append([])\n",
        "      for word in sentence.split(\" \"):\n",
        "        if word[-2:] == \"'s\":\n",
        "          word = word[:-2]\n",
        "        if any(x in word for x in removes):\n",
        "          for character in removes:\n",
        "\t          word = word.replace(character, \"\")\n",
        "        if (not vocab) or (vocab and word.lower() in vocab):\n",
        "            words[i].append(word.lower())\n",
        "            uniq.add(word.lower())\n",
        "    uniq = (sorted(uniq))\n",
        "    # print(words)\n",
        "    # print(uniq)\n",
        "    for i, sent in enumerate(words):\n",
        "      count.append([])\n",
        "      for wrd in uniq:\n",
        "        count[i].append(sent.count(wrd))\n",
        "    # print(count)\n",
        "\n",
        "    return np.array(count), uniq\n"
      ],
      "metadata": {
        "id": "2ifWrkYiDfo9"
      },
      "execution_count": null,
      "outputs": []
    },
    {
      "cell_type": "markdown",
      "source": [
        "using libraries:"
      ],
      "metadata": {
        "id": "F-tFEisUQ2Is"
      }
    },
    {
      "cell_type": "code",
      "source": [
        "def bag_of_words(sentences, vocab=None):\n",
        "    \"\"\"creates a bag of words embedding matrix\"\"\"\n",
        "    vectorizer = CountVectorizer()\n",
        "    newArray = vectorizer.fit_transform(sentences)\n",
        "    embeddings = newArray.toarray()\n",
        "    features = vectorizer.get_feature_names_out()\n",
        "\n",
        "    return embeddings, features"
      ],
      "metadata": {
        "id": "2ScveSYgQ3Bu"
      },
      "execution_count": null,
      "outputs": []
    },
    {
      "cell_type": "code",
      "source": [
        "sentences = [\"Holberton school is Awesome!\",\n",
        "             \"Machine learning is awesome\",\n",
        "             \"NLP is the future!\",\n",
        "             \"The children are our future\",\n",
        "             \"Our children's children are our grandchildren\",\n",
        "             \"The cake was not very good\",\n",
        "             \"No one said that the cake was not very good\",\n",
        "             \"Life is beautiful\"]\n",
        "vocab = [\"holberton\", \"cake\"]\n",
        "E, F = bag_of_words(sentences, vocab)\n",
        "print(E)\n",
        "print(F)\n",
        "\n",
        "\n",
        "##############\n",
        "\n",
        "# [[0 1 0 0 0 0 0 0 1 1 0 0 0 0 0 0 0 0 0 1 0 0 0 0]\n",
        "#  [0 1 0 0 0 0 0 0 0 1 1 0 1 0 0 0 0 0 0 0 0 0 0 0]\n",
        "#  [0 0 0 0 0 1 0 0 0 1 0 0 0 1 0 0 0 0 0 0 0 1 0 0]\n",
        "#  [1 0 0 0 1 1 0 0 0 0 0 0 0 0 0 0 0 1 0 0 0 1 0 0]\n",
        "#  [1 0 0 0 2 0 0 1 0 0 0 0 0 0 0 0 0 2 0 0 0 0 0 0]\n",
        "#  [0 0 0 1 0 0 1 0 0 0 0 0 0 0 0 1 0 0 0 0 0 1 1 1]\n",
        "#  [0 0 0 1 0 0 1 0 0 0 0 0 0 0 1 1 1 0 1 0 1 1 1 1]\n",
        "#  [0 0 1 0 0 0 0 0 0 1 0 1 0 0 0 0 0 0 0 0 0 0 0 0]]\n",
        "# ['are', 'awesome', 'beautiful', 'cake', 'children', 'future', 'good', 'grandchildren', 'holberton', 'is', 'learning', 'life', 'machine', 'nlp', 'no', 'not', 'one', 'our', 'said', 'school', 'that', 'the', 'very', 'was']"
      ],
      "metadata": {
        "colab": {
          "base_uri": "https://localhost:8080/"
        },
        "id": "-IZZcJLsA5fu",
        "outputId": "8f551d9b-2e0f-4035-d057-7b9958277c93"
      },
      "execution_count": null,
      "outputs": [
        {
          "output_type": "stream",
          "name": "stdout",
          "text": [
            "[[0 1]\n",
            " [0 0]\n",
            " [0 0]\n",
            " [0 0]\n",
            " [0 0]\n",
            " [1 0]\n",
            " [1 0]\n",
            " [0 0]]\n",
            "['cake', 'holberton']\n"
          ]
        }
      ]
    },
    {
      "cell_type": "markdown",
      "source": [
        "## 1. TF-IDF"
      ],
      "metadata": {
        "id": "fIToRb2TA55Q"
      }
    },
    {
      "cell_type": "markdown",
      "source": [
        "not using libraries"
      ],
      "metadata": {
        "id": "w_WwtZ7xRF0X"
      }
    },
    {
      "cell_type": "code",
      "source": [
        "# t — term (word)\n",
        "# d — document (set of words)\n",
        "# N — count of corpus\n",
        "# corpus — the total document set\n",
        "\n",
        "\n",
        "# tf-idf(t, d) = tf(t, d) * log(N/(df + 1))\n",
        "\n",
        "# Log(number of sentences / number of sentences word occurs in)\n",
        "\n",
        "def tf_idf(sentences, vocab=None):\n",
        "    \"\"\"\n",
        "    sentences is a list of sentences to analyze\n",
        "\n",
        "    vocab is a list of the vocabulary words to use for the analysis\n",
        "\n",
        "    If None, all words within sentences should be used\n",
        "    \n",
        "    Returns: embeddings, features\n",
        "        embeddings is a numpy.ndarray of shape (s, f) containing the embeddings\n",
        "            s is the number of sentences in sentences\n",
        "            f is the number of features analyzed\n",
        "        features is a list of the features used for embeddings\n",
        "    \"\"\"\n",
        "\n",
        "    words = []\n",
        "    if vocab:\n",
        "      embeddings = vocab\n",
        "    else:\n",
        "      embeddings = set()\n",
        "    removes = [\"!\", \",\", \".\", \"'\"]\n",
        "    for i, sentence in enumerate(sentences):\n",
        "      words.append([])\n",
        "      for word in sentence.split(\" \"):\n",
        "        if word[-2:] == \"'s\":\n",
        "          word = word[:-2]\n",
        "        if any(x in word for x in removes):\n",
        "          for character in removes:\n",
        "            word = word.replace(character, \"\")\n",
        "        if vocab is None:\n",
        "          embeddings.add(word.lower())\n",
        "        words[i].append(word.lower())\n",
        "    if vocab is None:\n",
        "      embeddings = (sorted(embeddings))\n",
        "    print(embeddings)\n",
        "    print(words)\n",
        "    print(tf(embeddings, words))\n",
        "    print(idf(embeddings, words))\n",
        "\n",
        "def tf(t, d):\n",
        "  \"\"\"tf(t,d) = count of t in d / number of words in d\"\"\"\n",
        "  term_freq = []\n",
        "  for i, sentence in enumerate(d):\n",
        "    term_freq.append([])\n",
        "    for word in [x for x in sentence if x in set(sentence)]:\n",
        "      if word in set(t).intersection(sentence):\n",
        "        term_freq[i].append(sentence.count(word) / len(set(t).intersection(sentence)))\n",
        "      else:\n",
        "        term_freq[i].append(0)\n",
        "  return term_freq\n",
        "\n",
        "def idf(t, d):\n",
        "    \"\"\"\n",
        "    df(t) = occurrence of t in N documents\n",
        "    idf(t) = N/df\n",
        "    idf(t) = log(N/(df + 1))\n",
        "    \"\"\"\n",
        "    count = {}\n",
        "    for sentence in d:\n",
        "      for word in set(sentence):\n",
        "        if count.get(word) is None:\n",
        "          count[word] = 1\n",
        "        else:\n",
        "          count[word] += 1\n",
        "\n",
        "    inv_doc_freq = []\n",
        "    for i, sentence in enumerate(d):\n",
        "      inv_doc_freq.append([])\n",
        "      for word in sentence:\n",
        "        if word in t:\n",
        "          inv_doc_freq[i].append(np.log10(len(sentence) / count[word] + 1))\n",
        "        else:\n",
        "          inv_doc_freq[i].append(0)\n",
        "    return inv_doc_freq\n",
        "\n",
        "\n"
      ],
      "metadata": {
        "id": "xbU415LHA8E1"
      },
      "execution_count": null,
      "outputs": []
    },
    {
      "cell_type": "markdown",
      "source": [
        "using libraries"
      ],
      "metadata": {
        "id": "9JMGuWAWRHyr"
      }
    },
    {
      "cell_type": "code",
      "source": [
        "def tf_idf(sentences, vocab=None):\n",
        "    \"\"\"creates a TF-IDF embedding\"\"\"\n",
        "    tfidfVectorizer = TfidfVectorizer(vocabulary=vocab)\n",
        "    newArray = tfidfVectorizer.fit_transform(sentences)\n",
        "    embeddings = newArray.toarray()\n",
        "    features = tfidfVectorizer.get_feature_names_out()\n",
        "    return embeddings, features"
      ],
      "metadata": {
        "id": "8dZcPDLLRIdH"
      },
      "execution_count": null,
      "outputs": []
    },
    {
      "cell_type": "code",
      "source": [
        "sentences = [\"Holberton school is Awesome!\",\n",
        "             \"Machine learning is awesome\",\n",
        "             \"NLP is the future!\",\n",
        "             \"The children are our future\",\n",
        "             \"Our children's children are our grandchildren\",\n",
        "             \"The cake was not very good\",\n",
        "             \"No one said that the cake was not very good\",\n",
        "             \"Life is beautiful\"]\n",
        "\n",
        "vocab = [\"awesome\", \"learning\", \"children\", \"cake\", \"good\", \"none\", \"machine\"]\n",
        "E, F = tf_idf(sentences, vocab)\n",
        "print(E)\n",
        "print(F)\n",
        "\n",
        "\n",
        "# [[1.         0.         0.         0.         0.         0.         0.        ]\n",
        "#  [0.5098139  0.60831315 0.         0.         0.         0.         0.60831315]\n",
        "#  [0.         0.         0.         0.         0.         0.         0.        ]\n",
        "#  [0.         0.         1.         0.         0.         0.         0.        ]\n",
        "#  [0.         0.         1.         0.         0.         0.         0.        ]\n",
        "#  [0.         0.         0.         0.70710678 0.70710678 0.         0.        ]\n",
        "#  [0.         0.         0.         0.70710678 0.70710678 0.         0.        ]\n",
        "#. [0.         0.         0.         0.         0.         0.         0.        ]]\n",
        "\n",
        "# ['awesome', 'learning', 'children', 'cake', 'good', 'none', 'machine']"
      ],
      "metadata": {
        "id": "VHx6jNJTA8OO",
        "colab": {
          "base_uri": "https://localhost:8080/",
          "height": 310
        },
        "outputId": "545bf632-24bf-4986-c563-7f4cc2f864b3"
      },
      "execution_count": null,
      "outputs": [
        {
          "output_type": "stream",
          "name": "stdout",
          "text": [
            "['awesome', 'learning', 'children', 'cake', 'good', 'none', 'machine']\n",
            "[['holberton', 'school', 'is', 'awesome'], ['machine', 'learning', 'is', 'awesome'], ['nlp', 'is', 'the', 'future'], ['the', 'children', 'are', 'our', 'future'], ['our', 'children', 'children', 'are', 'our', 'grandchildren'], ['the', 'cake', 'was', 'not', 'very', 'good'], ['no', 'one', 'said', 'that', 'the', 'cake', 'was', 'not', 'very', 'good'], ['life', 'is', 'beautiful']]\n",
            "[[0, 0, 0, 1.0], [0.3333333333333333, 0.3333333333333333, 0, 0.3333333333333333], [0, 0, 0, 0], [0, 1.0, 0, 0, 0], [0, 2.0, 2.0, 0, 0, 0], [0, 0.5, 0, 0, 0, 0.5], [0, 0, 0, 0, 0, 0.5, 0, 0, 0, 0.5], [0, 0, 0]]\n",
            "[[0, 0, 0, 0.47712125471966244], [0.6989700043360189, 0.6989700043360189, 0, 0.47712125471966244], [0, 0, 0, 0], [0, 0.5440680443502757, 0, 0, 0], [0, 0.6020599913279624, 0.6020599913279624, 0, 0, 0], [0, 0.6020599913279624, 0, 0, 0, 0.6020599913279624], [0, 0, 0, 0, 0, 0.7781512503836436, 0, 0, 0, 0.7781512503836436], [0, 0, 0]]\n"
          ]
        },
        {
          "output_type": "error",
          "ename": "TypeError",
          "evalue": "ignored",
          "traceback": [
            "\u001b[0;31m---------------------------------------------------------------------------\u001b[0m",
            "\u001b[0;31mTypeError\u001b[0m                                 Traceback (most recent call last)",
            "\u001b[0;32m<ipython-input-40-7ac64d8ff1a8>\u001b[0m in \u001b[0;36m<module>\u001b[0;34m\u001b[0m\n\u001b[1;32m      9\u001b[0m \u001b[0;34m\u001b[0m\u001b[0m\n\u001b[1;32m     10\u001b[0m \u001b[0mvocab\u001b[0m \u001b[0;34m=\u001b[0m \u001b[0;34m[\u001b[0m\u001b[0;34m\"awesome\"\u001b[0m\u001b[0;34m,\u001b[0m \u001b[0;34m\"learning\"\u001b[0m\u001b[0;34m,\u001b[0m \u001b[0;34m\"children\"\u001b[0m\u001b[0;34m,\u001b[0m \u001b[0;34m\"cake\"\u001b[0m\u001b[0;34m,\u001b[0m \u001b[0;34m\"good\"\u001b[0m\u001b[0;34m,\u001b[0m \u001b[0;34m\"none\"\u001b[0m\u001b[0;34m,\u001b[0m \u001b[0;34m\"machine\"\u001b[0m\u001b[0;34m]\u001b[0m\u001b[0;34m\u001b[0m\u001b[0;34m\u001b[0m\u001b[0m\n\u001b[0;32m---> 11\u001b[0;31m \u001b[0mE\u001b[0m\u001b[0;34m,\u001b[0m \u001b[0mF\u001b[0m \u001b[0;34m=\u001b[0m \u001b[0mtf_idf\u001b[0m\u001b[0;34m(\u001b[0m\u001b[0msentences\u001b[0m\u001b[0;34m,\u001b[0m \u001b[0mvocab\u001b[0m\u001b[0;34m)\u001b[0m\u001b[0;34m\u001b[0m\u001b[0;34m\u001b[0m\u001b[0m\n\u001b[0m\u001b[1;32m     12\u001b[0m \u001b[0mprint\u001b[0m\u001b[0;34m(\u001b[0m\u001b[0mE\u001b[0m\u001b[0;34m)\u001b[0m\u001b[0;34m\u001b[0m\u001b[0;34m\u001b[0m\u001b[0m\n\u001b[1;32m     13\u001b[0m \u001b[0mprint\u001b[0m\u001b[0;34m(\u001b[0m\u001b[0mF\u001b[0m\u001b[0;34m)\u001b[0m\u001b[0;34m\u001b[0m\u001b[0;34m\u001b[0m\u001b[0m\n",
            "\u001b[0;31mTypeError\u001b[0m: cannot unpack non-iterable NoneType object"
          ]
        }
      ]
    },
    {
      "cell_type": "markdown",
      "source": [
        "## 2. Train Word2Vec"
      ],
      "metadata": {
        "id": "AJ_88zQ_A-sG"
      }
    },
    {
      "cell_type": "code",
      "source": [
        "def word2vec_model(sentences, size=100, min_count=5, window=5, negative=5, cbow=True, iterations=5, seed=0, workers=1):\n",
        "    \"\"\"\n",
        "    creates and trains a gensim word2vec model:\n",
        "\n",
        "    sentences is a list of sentences to be trained on\n",
        "    size is the dimensionality of the embedding layer\n",
        "    min_count is the minimum number of occurrences of a word for use in training\n",
        "    window is the maximum distance between the current and predicted word within a sentence\n",
        "    negative is the size of negative sampling\n",
        "    cbow is a boolean to determine the training type; True is for CBOW; False is for Skip-gram\n",
        "    iterations is the number of iterations to train over\n",
        "    seed is the seed for the random number generator\n",
        "    workers is the number of worker threads to train the model\n",
        "    \n",
        "    Returns: the trained model\n",
        "    \"\"\"\n",
        "    return Word2Vec(sentences=sentences, size=size, min_count=min_count, window=window, negative=negative, sg=(not cbow), iter=iterations, seed=seed, workers=workers)\n",
        "    \n",
        "\n",
        "print(common_texts)"
      ],
      "metadata": {
        "id": "jqUxb3j_A__J",
        "colab": {
          "base_uri": "https://localhost:8080/"
        },
        "outputId": "08bfb54d-5fff-40e6-b603-3b66c1504569"
      },
      "execution_count": null,
      "outputs": [
        {
          "output_type": "stream",
          "name": "stdout",
          "text": [
            "[['human', 'interface', 'computer'], ['survey', 'user', 'computer', 'system', 'response', 'time'], ['eps', 'user', 'interface', 'system'], ['system', 'human', 'system', 'eps'], ['user', 'response', 'time'], ['trees'], ['graph', 'trees'], ['graph', 'minors', 'trees'], ['graph', 'minors', 'survey']]\n"
          ]
        }
      ]
    },
    {
      "cell_type": "code",
      "source": [
        "print(common_texts[:2])\n",
        "w2v = word2vec_model(common_texts, min_count=1)\n",
        "print(w2v.wv[\"computer\"])\n",
        "\n",
        "\"\"\"\n",
        "\n",
        "[['human', 'interface', 'computer'], ['survey', 'user', 'computer', 'system', 'response', 'time']]\n",
        "\n",
        "[-3.0043968e-03  1.5343886e-03  4.0832465e-03  3.7239199e-03\n",
        "  4.9583608e-04  4.8461729e-03 -1.0620747e-03  8.2803884e-04\n",
        "  9.7367732e-04 -6.7797926e-05 -1.5526683e-03  1.8058836e-03\n",
        " -4.3851901e-03  4.7258494e-04  2.8616134e-03 -2.2246949e-03\n",
        "  2.7494587e-03 -3.5267104e-03  3.0259083e-03  2.7240592e-03\n",
        "  2.6110576e-03 -4.5409841e-03  4.9135066e-03  8.2884904e-04\n",
        "  2.7018311e-03  1.5654180e-03 -1.5859824e-03  9.3057036e-04\n",
        "  3.7275942e-03 -3.6502020e-03  2.8285771e-03 -4.2384453e-03\n",
        "  3.2712172e-03 -1.9101484e-03 -1.8624340e-03 -5.6956144e-04\n",
        " -1.5617535e-03 -2.3851227e-03 -1.4313431e-05 -4.3398165e-03\n",
        "  3.9115595e-03 -3.0616210e-03  1.7589398e-03 -3.4103722e-03\n",
        "  4.7280011e-03  1.9380470e-03 -3.3873315e-03  8.4065803e-04\n",
        "  2.6089977e-03  1.7012059e-03 -2.7421617e-03 -2.2240754e-03\n",
        " -5.3690566e-04  2.9577864e-03  2.3726511e-03  3.2704175e-03\n",
        "  2.0853498e-03 -1.1927494e-03 -2.1565862e-03 -9.0970926e-04\n",
        " -2.8641665e-04 -3.4961947e-03  1.1104723e-03  1.2320089e-03\n",
        " -5.9017556e-04 -3.0594901e-03  3.6974431e-03 -1.8557351e-03\n",
        " -3.8218759e-03  9.2711346e-04 -4.3113795e-03 -4.4118706e-03\n",
        "  4.7748778e-03 -4.5557776e-03 -2.2665847e-03 -8.2379003e-04\n",
        " -7.9581753e-04 -1.3048936e-03  1.9261248e-03  3.1299898e-03\n",
        " -1.9034051e-03 -2.0335305e-03 -2.6451424e-03  1.7377195e-03\n",
        "  6.7217485e-04 -2.4134698e-03  4.3735080e-03 -3.2599240e-03\n",
        " -2.2431149e-03  4.4288361e-03  1.4923669e-04 -2.2144278e-03\n",
        " -8.9370424e-04 -2.7281314e-04 -1.7176758e-03  1.2485087e-03\n",
        "  1.3230384e-03  1.7001784e-04  3.5425189e-03 -1.7469387e-04]\n",
        "\n",
        "\"\"\""
      ],
      "metadata": {
        "id": "Sgsc6PiQBAZ-",
        "colab": {
          "base_uri": "https://localhost:8080/",
          "height": 561
        },
        "outputId": "580715fd-3502-4f56-ce85-cc1561bf3cdf"
      },
      "execution_count": null,
      "outputs": [
        {
          "output_type": "stream",
          "name": "stderr",
          "text": [
            "WARNING:gensim.models.base_any2vec:under 10 jobs per worker: consider setting a smaller `batch_words' for smoother alpha decay\n"
          ]
        },
        {
          "output_type": "stream",
          "name": "stdout",
          "text": [
            "[['human', 'interface', 'computer'], ['survey', 'user', 'computer', 'system', 'response', 'time']]\n",
            "[ 2.6840649e-03  6.4447825e-04  3.4108965e-03  2.8856262e-03\n",
            "  1.4741103e-03  2.5217915e-03  4.4861427e-03  1.5291966e-03\n",
            "  3.8648255e-03 -1.2185492e-03 -3.0003262e-03 -4.5899902e-03\n",
            " -4.3055534e-04 -3.1804068e-03 -1.2025647e-03 -3.8910558e-04\n",
            " -4.4687049e-04  1.6551025e-03  9.9483936e-04  1.7923175e-03\n",
            " -2.4460943e-03  3.6044952e-03 -3.2551922e-03 -1.7311508e-03\n",
            "  2.4985897e-03 -3.7432967e-03 -1.7055349e-03  4.5772786e-03\n",
            "  1.9005014e-03 -1.8235850e-04 -2.7836591e-03 -4.4547254e-03\n",
            "  4.5784693e-03 -3.9131506e-03 -2.5448117e-03 -7.4262702e-04\n",
            " -1.0316937e-03  1.5356285e-03  2.6558826e-03  4.6658679e-03\n",
            "  3.9901026e-03  3.8648692e-03  1.0993927e-03 -3.2756033e-03\n",
            " -2.3666609e-03 -1.3976176e-03 -9.3585759e-04  1.2577592e-03\n",
            "  4.8840763e-03 -4.0973085e-03 -1.9579716e-03 -4.7535361e-03\n",
            "  3.9634466e-05  4.7453018e-03  1.3649703e-03  3.3736965e-03\n",
            "  3.8982457e-03 -9.2950824e-05 -2.3905351e-03 -2.8684826e-03\n",
            "  4.2697503e-03  4.8088408e-03  7.3483062e-04 -4.8458125e-03\n",
            "  1.0828470e-03  9.5944270e-04 -4.3899929e-03 -1.2758160e-03\n",
            " -1.0551147e-03  4.9075545e-03  3.7641553e-03 -2.0721250e-03\n",
            "  3.4862885e-03 -1.5425363e-03 -4.3922369e-03  1.1454825e-03\n",
            "  1.0877654e-03  1.2975318e-03 -1.9538007e-03 -2.6067994e-03\n",
            " -2.4829424e-04  5.7597423e-04  1.0184267e-03 -7.2564016e-04\n",
            "  1.8259910e-03 -1.8387977e-03 -8.7196124e-04  3.8463583e-03\n",
            " -2.0983445e-03 -2.6340599e-03 -3.7967020e-03  2.1964188e-03\n",
            "  4.4622570e-03  8.7414327e-04  1.3956415e-03 -4.8327539e-03\n",
            " -2.7707969e-03 -2.6570959e-03  2.3471969e-03 -3.7639202e-03]\n"
          ]
        },
        {
          "output_type": "execute_result",
          "data": {
            "text/plain": [
              "\"\\n\\n[['human', 'interface', 'computer'], ['survey', 'user', 'computer', 'system', 'response', 'time']]\\n\\n[-3.0043968e-03  1.5343886e-03  4.0832465e-03  3.7239199e-03\\n  4.9583608e-04  4.8461729e-03 -1.0620747e-03  8.2803884e-04\\n  9.7367732e-04 -6.7797926e-05 -1.5526683e-03  1.8058836e-03\\n -4.3851901e-03  4.7258494e-04  2.8616134e-03 -2.2246949e-03\\n  2.7494587e-03 -3.5267104e-03  3.0259083e-03  2.7240592e-03\\n  2.6110576e-03 -4.5409841e-03  4.9135066e-03  8.2884904e-04\\n  2.7018311e-03  1.5654180e-03 -1.5859824e-03  9.3057036e-04\\n  3.7275942e-03 -3.6502020e-03  2.8285771e-03 -4.2384453e-03\\n  3.2712172e-03 -1.9101484e-03 -1.8624340e-03 -5.6956144e-04\\n -1.5617535e-03 -2.3851227e-03 -1.4313431e-05 -4.3398165e-03\\n  3.9115595e-03 -3.0616210e-03  1.7589398e-03 -3.4103722e-03\\n  4.7280011e-03  1.9380470e-03 -3.3873315e-03  8.4065803e-04\\n  2.6089977e-03  1.7012059e-03 -2.7421617e-03 -2.2240754e-03\\n -5.3690566e-04  2.9577864e-03  2.3726511e-03  3.2704175e-03\\n  2.0853498e-03 -1.1927494e-03 -2.1565862e-03 -9.0970926e-04\\n -2.8641665e-04 -3.4961947e-03  1.1104723e-03  1.2320089e-03\\n -5.9017556e-04 -3.0594901e-03  3.6974431e-03 -1.8557351e-03\\n -3.8218759e-03  9.2711346e-04 -4.3113795e-03 -4.4118706e-03\\n  4.7748778e-03 -4.5557776e-03 -2.2665847e-03 -8.2379003e-04\\n -7.9581753e-04 -1.3048936e-03  1.9261248e-03  3.1299898e-03\\n -1.9034051e-03 -2.0335305e-03 -2.6451424e-03  1.7377195e-03\\n  6.7217485e-04 -2.4134698e-03  4.3735080e-03 -3.2599240e-03\\n -2.2431149e-03  4.4288361e-03  1.4923669e-04 -2.2144278e-03\\n -8.9370424e-04 -2.7281314e-04 -1.7176758e-03  1.2485087e-03\\n  1.3230384e-03  1.7001784e-04  3.5425189e-03 -1.7469387e-04]\\n\\n\""
            ],
            "application/vnd.google.colaboratory.intrinsic+json": {
              "type": "string"
            }
          },
          "metadata": {},
          "execution_count": 17
        }
      ]
    },
    {
      "cell_type": "code",
      "source": [
        "print(dir(w2v))"
      ],
      "metadata": {
        "colab": {
          "base_uri": "https://localhost:8080/"
        },
        "id": "L3jIhTNHA5t2",
        "outputId": "a25a126f-7c87-484a-e395-ac168ae66b09"
      },
      "execution_count": null,
      "outputs": [
        {
          "output_type": "stream",
          "name": "stdout",
          "text": [
            "['__class__', '__contains__', '__delattr__', '__dict__', '__dir__', '__doc__', '__eq__', '__format__', '__ge__', '__getattribute__', '__getitem__', '__gt__', '__hash__', '__init__', '__init_subclass__', '__le__', '__lt__', '__module__', '__ne__', '__new__', '__reduce__', '__reduce_ex__', '__repr__', '__setattr__', '__sizeof__', '__str__', '__subclasshook__', '__weakref__', '_adapt_by_suffix', '_check_input_data_sanity', '_check_training_sanity', '_clear_post_train', '_do_train_epoch', '_do_train_job', '_get_job_params', '_get_thread_working_mem', '_job_producer', '_load_specials', '_log_epoch_end', '_log_epoch_progress', '_log_progress', '_log_train_end', '_minimize_model', '_raw_word_count', '_save_specials', '_set_train_params', '_smart_save', '_train_epoch', '_train_epoch_corpusfile', '_update_job_params', '_worker_loop', '_worker_loop_corpusfile', 'accuracy', 'alpha', 'batch_words', 'build_vocab', 'build_vocab_from_freq', 'callbacks', 'cbow_mean', 'clear_sims', 'compute_loss', 'corpus_count', 'corpus_total_words', 'cum_table', 'delete_temporary_training_data', 'doesnt_match', 'epochs', 'estimate_memory', 'evaluate_word_pairs', 'get_latest_training_loss', 'hashfxn', 'hs', 'init_sims', 'intersect_word2vec_format', 'iter', 'layer1_size', 'load', 'load_word2vec_format', 'log_accuracy', 'max_final_vocab', 'min_alpha', 'min_alpha_yet_reached', 'min_count', 'model_trimmed_post_training', 'most_similar', 'most_similar_cosmul', 'n_similarity', 'negative', 'ns_exponent', 'predict_output_word', 'random', 'reset_from', 'running_training_loss', 'sample', 'save', 'save_word2vec_format', 'score', 'sg', 'similar_by_vector', 'similar_by_word', 'similarity', 'syn0_lockf', 'syn1', 'syn1neg', 'total_train_time', 'train', 'train_count', 'trainables', 'vector_size', 'vocabulary', 'window', 'wmdistance', 'workers', 'wv']\n"
          ]
        }
      ]
    },
    {
      "cell_type": "code",
      "source": [
        "print(dir(w2v.vocabulary))"
      ],
      "metadata": {
        "colab": {
          "base_uri": "https://localhost:8080/"
        },
        "id": "C1TDRGwfA_Lf",
        "outputId": "52498ab1-1035-4fec-c484-3378a41a9f8c"
      },
      "execution_count": null,
      "outputs": [
        {
          "output_type": "stream",
          "name": "stdout",
          "text": [
            "['__class__', '__delattr__', '__dict__', '__dir__', '__doc__', '__eq__', '__format__', '__ge__', '__getattribute__', '__gt__', '__hash__', '__init__', '__init_subclass__', '__le__', '__lt__', '__module__', '__ne__', '__new__', '__reduce__', '__reduce_ex__', '__repr__', '__setattr__', '__sizeof__', '__str__', '__subclasshook__', '__weakref__', '_adapt_by_suffix', '_load_specials', '_save_specials', '_scan_vocab', '_smart_save', 'add_null_word', 'create_binary_tree', 'cum_table', 'effective_min_count', 'load', 'make_cum_table', 'max_final_vocab', 'max_vocab_size', 'min_count', 'ns_exponent', 'null_word', 'prepare_vocab', 'raw_vocab', 'sample', 'save', 'scan_vocab', 'sort_vocab', 'sorted_vocab']\n"
          ]
        }
      ]
    },
    {
      "cell_type": "code",
      "source": [
        "print(w2v.wv.vocab.keys())"
      ],
      "metadata": {
        "colab": {
          "base_uri": "https://localhost:8080/"
        },
        "id": "53z0GJSlBOWp",
        "outputId": "f64a9b4a-293f-47e6-9a08-2f295d4f4b6c"
      },
      "execution_count": null,
      "outputs": [
        {
          "output_type": "stream",
          "name": "stdout",
          "text": [
            "dict_keys(['human', 'interface', 'computer', 'survey', 'user', 'system', 'response', 'time', 'eps', 'trees', 'graph', 'minors'])\n"
          ]
        }
      ]
    },
    {
      "cell_type": "code",
      "source": [
        "print(w2v.wv[\"human\"].size)"
      ],
      "metadata": {
        "colab": {
          "base_uri": "https://localhost:8080/"
        },
        "id": "gZsxvtlcDVWa",
        "outputId": "d5574c2e-d360-480e-dc90-9934f3574e7c"
      },
      "execution_count": null,
      "outputs": [
        {
          "output_type": "stream",
          "name": "stdout",
          "text": [
            "100\n"
          ]
        }
      ]
    },
    {
      "cell_type": "markdown",
      "source": [
        "## 3. Extract Word2Vec"
      ],
      "metadata": {
        "id": "ingDee84BEiS"
      }
    },
    {
      "cell_type": "code",
      "source": [
        "def gensim_to_keras(model):\n",
        "    \"\"\"\n",
        "    converts a gensim word2vec model to a keras Embedding layer:\n",
        "\n",
        "    model is a trained gensim word2vec models\n",
        "    Returns: the trainable keras Embedding\n",
        "    \"\"\"\n",
        "    return model.wv.get_keras_embedding()\n"
      ],
      "metadata": {
        "id": "RJYBCDmxBFQ7"
      },
      "execution_count": null,
      "outputs": []
    },
    {
      "cell_type": "code",
      "source": [
        "print(common_texts[:2])\n",
        "w2v = word2vec_model(common_texts, min_count=1)\n",
        "print(gensim_to_keras(w2v))\n",
        "\n",
        "\n",
        "# [['human', 'interface', 'computer'], ['survey', 'user', 'computer', 'system', 'response', 'time']]\n",
        "# Using TensorFlow backend.\n",
        "# <keras.layers.embeddings.Embedding object at 0x7f72e2c1bd30>"
      ],
      "metadata": {
        "id": "dA2pzYGqBFah",
        "colab": {
          "base_uri": "https://localhost:8080/"
        },
        "outputId": "edc2397d-0479-4e67-c0eb-8cc399ba177c"
      },
      "execution_count": null,
      "outputs": [
        {
          "output_type": "stream",
          "name": "stderr",
          "text": [
            "WARNING:gensim.models.base_any2vec:under 10 jobs per worker: consider setting a smaller `batch_words' for smoother alpha decay\n"
          ]
        },
        {
          "output_type": "stream",
          "name": "stdout",
          "text": [
            "[['human', 'interface', 'computer'], ['survey', 'user', 'computer', 'system', 'response', 'time']]\n",
            "<keras.layers.embeddings.Embedding object at 0x7f8f23228c50>\n"
          ]
        }
      ]
    },
    {
      "cell_type": "markdown",
      "source": [
        "## 4. FastText"
      ],
      "metadata": {
        "id": "Xts18VG_BG5W"
      }
    },
    {
      "cell_type": "code",
      "source": [
        "def fasttext_model(sentences, size=100, min_count=5, negative=5, window=5, cbow=True, iterations=5, seed=0, workers=1):\n",
        "    \"\"\"\n",
        "    creates and trains a genism fastText model:\n",
        "\n",
        "    sentences is a list of sentences to be trained on\n",
        "    size is the dimensionality of the embedding layer\n",
        "    min_count is the minimum number of occurrences of a word for use in training\n",
        "    window is the maximum distance between the current and predicted word within a sentence\n",
        "    negative is the size of negative sampling\n",
        "    cbow is a boolean to determine the training type; True is for CBOW; False is for Skip-gram\n",
        "    iterations is the number of iterations to train over\n",
        "    seed is the seed for the random number generator\n",
        "    workers is the number of worker threads to train the model\n",
        "    \n",
        "    Returns: the trained model\n",
        "    \"\"\"\n",
        "    return FastText(sentences=sentences, size=size, min_count=min_count, negative=negative, window=window, sg=(not cbow), iter=iterations, seed=seed, workers=workers)"
      ],
      "metadata": {
        "id": "BWV0TuPCBHpw"
      },
      "execution_count": null,
      "outputs": []
    },
    {
      "cell_type": "code",
      "source": [
        "print(common_texts[:2])\n",
        "ft = fasttext_model(common_texts, min_count=1)\n",
        "print(ft.wv[\"computer\"])\n",
        "\n",
        "\n",
        "# [['human', 'interface', 'computer'], ['survey', 'user', 'computer', 'system', 'response', 'time']]\n",
        "# [-2.3464665e-03 -1.4542247e-04 -3.9549544e-05 -1.5817649e-03\n",
        "#  -2.1579072e-03  4.5148263e-04  9.9494774e-04  3.2517681e-05\n",
        "#   1.7035202e-04  6.8571279e-04 -2.0803163e-04  5.3083687e-04\n",
        "#   1.2990861e-03  3.5418154e-04  2.1087916e-03  1.1022155e-03\n",
        "#   6.2364555e-04  1.8612258e-05  1.8982493e-05  1.3051173e-03\n",
        "#  -6.0260214e-04  1.6334689e-03 -1.0172457e-06  1.4247939e-04\n",
        "#   1.1081318e-04  1.8327738e-03 -3.3656979e-04 -3.7365756e-04\n",
        "#   8.0635358e-04 -1.2945861e-04 -1.1031038e-04  3.4695750e-04\n",
        "#  -2.1932719e-04  1.4800908e-03  7.7851227e-04  8.6328381e-04\n",
        "#  -9.7545242e-04  6.0775197e-05  7.1560958e-04  3.6474539e-04\n",
        "#   3.3428212e-05 -1.0499550e-03 -1.2412234e-03 -1.8492664e-04\n",
        "#  -4.8664736e-04  1.9178988e-04 -6.3863385e-04  3.3325219e-04\n",
        "#  -1.5724128e-03  1.0003068e-03  1.7905374e-04  7.8452297e-04\n",
        "#   1.2625050e-04  8.1183662e-04 -4.9907330e-04  1.0475471e-04\n",
        "#   1.4351985e-03  4.9145994e-05 -1.4620423e-03  3.1466845e-03\n",
        "#   2.0059240e-05  1.6659468e-03 -4.3319576e-04  1.3077060e-03\n",
        "#  -2.0228853e-03  5.7626975e-04 -1.4056480e-03 -4.2292831e-04\n",
        "#   6.4076332e-04 -8.5614284e-04  1.9028617e-04  6.0735084e-04\n",
        "#   2.6121829e-04 -1.0566596e-03  1.0602509e-03  1.2843860e-03\n",
        "#   7.9715136e-04  2.8305652e-04  1.9187009e-04 -1.0519206e-03\n",
        "#  -8.2213630e-04 -2.1762338e-04 -1.7580058e-04  1.2764390e-04\n",
        "#  -1.5695200e-03  1.3364316e-03 -1.5765150e-03  1.4802803e-03\n",
        "#   1.5476452e-03  2.1928034e-04 -9.3281898e-04  3.2964293e-04\n",
        "#  -1.0146293e-03 -1.3567278e-03  1.8070930e-03 -4.2649341e-04\n",
        "#  -1.9074128e-03  7.1639987e-04 -1.3686880e-03  3.7073060e-03]"
      ],
      "metadata": {
        "id": "VQLrCi7YBH2h",
        "colab": {
          "base_uri": "https://localhost:8080/"
        },
        "outputId": "c0a3a777-3e27-4024-a40e-5524b3d217b5"
      },
      "execution_count": null,
      "outputs": [
        {
          "output_type": "stream",
          "name": "stderr",
          "text": [
            "WARNING:gensim.models.base_any2vec:under 10 jobs per worker: consider setting a smaller `batch_words' for smoother alpha decay\n"
          ]
        },
        {
          "output_type": "stream",
          "name": "stdout",
          "text": [
            "[['human', 'interface', 'computer'], ['survey', 'user', 'computer', 'system', 'response', 'time']]\n",
            "[-5.37086918e-04 -1.24788750e-03  4.26387560e-04 -1.64840661e-03\n",
            " -1.26233627e-03 -9.70027177e-04  1.58336700e-03 -3.69816145e-04\n",
            "  3.54576798e-04  6.68553868e-04 -1.40044536e-03 -2.95279955e-04\n",
            " -1.74647244e-03  4.83299926e-04 -7.00303528e-04 -1.38734875e-03\n",
            " -9.34833719e-04  8.75205078e-05 -1.94834045e-03 -6.47016277e-04\n",
            " -4.64912155e-04 -4.82959120e-04 -7.10097316e-04  1.67512067e-03\n",
            "  1.32140249e-03 -2.90164608e-04 -3.57706216e-04  2.55389675e-03\n",
            " -1.87956169e-03 -5.06602984e-04  9.76737123e-04 -1.34637428e-03\n",
            " -8.12131213e-04  1.45547325e-03  6.51960319e-04  8.00709473e-04\n",
            " -3.34904289e-05  8.94694065e-04  2.31606164e-03 -1.36979762e-03\n",
            " -1.48915546e-03 -2.37159710e-03 -2.29890775e-05 -5.33601909e-04\n",
            " -2.73135165e-03  2.07623071e-03  6.72957569e-04  1.70797308e-03\n",
            " -3.49627645e-03 -1.79815688e-03  4.18260635e-04 -1.50577875e-03\n",
            " -6.14957185e-04 -3.71963513e-04  7.68071914e-05 -1.48128450e-03\n",
            "  5.69595548e-04 -1.78708334e-03 -7.11040688e-04  6.34562515e-04\n",
            "  2.42919638e-03 -1.28320965e-03 -2.76179914e-03  8.79012863e-04\n",
            " -1.20996439e-03  3.43204068e-04 -5.42405294e-04 -5.59532316e-04\n",
            " -2.20407492e-05  1.21039362e-03  5.91743854e-04 -7.61784322e-04\n",
            "  2.87142978e-03 -2.29778676e-03 -1.03261927e-03  1.39551063e-03\n",
            " -8.60268337e-05  1.35367259e-03 -2.04653916e-04  7.12066831e-04\n",
            "  4.07967862e-04 -2.00613472e-03 -2.00248417e-03  1.28869864e-03\n",
            "  4.73226479e-04  4.50911728e-04  5.94780082e-04 -1.32933026e-03\n",
            "  4.84676711e-04 -9.47566412e-04 -2.57763877e-05 -1.82988669e-03\n",
            "  1.26018786e-04 -1.10681227e-03  2.35798629e-03  1.21317076e-04\n",
            "  1.36040151e-03  1.75479159e-04 -9.64937033e-04  1.09232392e-03]\n"
          ]
        }
      ]
    },
    {
      "cell_type": "markdown",
      "source": [
        "## 5. ELMo"
      ],
      "metadata": {
        "id": "r21FB8p6BIQU"
      }
    },
    {
      "cell_type": "code",
      "source": [
        "import tensorflow_hub as hub\n",
        "import tensorflow as tf"
      ],
      "metadata": {
        "id": "il_RRBjUMqSK"
      },
      "execution_count": null,
      "outputs": []
    },
    {
      "cell_type": "code",
      "source": [
        "tf.compat.v1.disable_eager_execution()\n",
        "elmo = hub.Module(\"https://tfhub.dev/google/elmo/2\", trainable=True)"
      ],
      "metadata": {
        "id": "pdduGkdXBKTT",
        "colab": {
          "base_uri": "https://localhost:8080/",
          "height": 315
        },
        "outputId": "f134f3ad-fa32-4bff-9615-8c50584f839f"
      },
      "execution_count": null,
      "outputs": [
        {
          "output_type": "error",
          "ename": "RuntimeError",
          "evalue": "ignored",
          "traceback": [
            "\u001b[0;31m---------------------------------------------------------------------------\u001b[0m",
            "\u001b[0;31mRuntimeError\u001b[0m                              Traceback (most recent call last)",
            "\u001b[0;32m<ipython-input-61-15d9c9fb0af3>\u001b[0m in \u001b[0;36m<module>\u001b[0;34m\u001b[0m\n\u001b[1;32m      1\u001b[0m \u001b[0mtf\u001b[0m\u001b[0;34m.\u001b[0m\u001b[0mcompat\u001b[0m\u001b[0;34m.\u001b[0m\u001b[0mv1\u001b[0m\u001b[0;34m.\u001b[0m\u001b[0mdisable_eager_execution\u001b[0m\u001b[0;34m(\u001b[0m\u001b[0;34m)\u001b[0m\u001b[0;34m\u001b[0m\u001b[0;34m\u001b[0m\u001b[0m\n\u001b[0;32m----> 2\u001b[0;31m \u001b[0melmo\u001b[0m \u001b[0;34m=\u001b[0m \u001b[0mhub\u001b[0m\u001b[0;34m.\u001b[0m\u001b[0mModule\u001b[0m\u001b[0;34m(\u001b[0m\u001b[0;34m\"https://tfhub.dev/google/elmo/2\"\u001b[0m\u001b[0;34m,\u001b[0m \u001b[0mtrainable\u001b[0m\u001b[0;34m=\u001b[0m\u001b[0;32mTrue\u001b[0m\u001b[0;34m)\u001b[0m\u001b[0;34m\u001b[0m\u001b[0;34m\u001b[0m\u001b[0m\n\u001b[0m",
            "\u001b[0;32m/usr/local/lib/python3.7/dist-packages/tensorflow_hub/module.py\u001b[0m in \u001b[0;36m__init__\u001b[0;34m(self, spec, trainable, name, tags)\u001b[0m\n\u001b[1;32m    163\u001b[0m       \u001b[0;32mraise\u001b[0m \u001b[0mValueError\u001b[0m\u001b[0;34m(\u001b[0m\u001b[0;34m\"No such graph variant: tags=%r\"\u001b[0m \u001b[0;34m%\u001b[0m \u001b[0mtags\u001b[0m\u001b[0;34m)\u001b[0m\u001b[0;34m\u001b[0m\u001b[0;34m\u001b[0m\u001b[0m\n\u001b[1;32m    164\u001b[0m \u001b[0;34m\u001b[0m\u001b[0m\n\u001b[0;32m--> 165\u001b[0;31m     \u001b[0mabs_state_scope\u001b[0m \u001b[0;34m=\u001b[0m \u001b[0m_try_get_state_scope\u001b[0m\u001b[0;34m(\u001b[0m\u001b[0mname\u001b[0m\u001b[0;34m,\u001b[0m \u001b[0mmark_name_scope_used\u001b[0m\u001b[0;34m=\u001b[0m\u001b[0;32mFalse\u001b[0m\u001b[0;34m)\u001b[0m\u001b[0;34m\u001b[0m\u001b[0;34m\u001b[0m\u001b[0m\n\u001b[0m\u001b[1;32m    166\u001b[0m     \u001b[0mself\u001b[0m\u001b[0;34m.\u001b[0m\u001b[0m_name\u001b[0m \u001b[0;34m=\u001b[0m \u001b[0mabs_state_scope\u001b[0m\u001b[0;34m.\u001b[0m\u001b[0msplit\u001b[0m\u001b[0;34m(\u001b[0m\u001b[0;34m\"/\"\u001b[0m\u001b[0;34m)\u001b[0m\u001b[0;34m[\u001b[0m\u001b[0;34m-\u001b[0m\u001b[0;36m2\u001b[0m\u001b[0;34m]\u001b[0m\u001b[0;34m\u001b[0m\u001b[0;34m\u001b[0m\u001b[0m\n\u001b[1;32m    167\u001b[0m \u001b[0;34m\u001b[0m\u001b[0m\n",
            "\u001b[0;32m/usr/local/lib/python3.7/dist-packages/tensorflow_hub/module.py\u001b[0m in \u001b[0;36m_try_get_state_scope\u001b[0;34m(name, mark_name_scope_used)\u001b[0m\n\u001b[1;32m    401\u001b[0m       raise RuntimeError(\n\u001b[1;32m    402\u001b[0m           \u001b[0;34m\"variable_scope %s was unused but the corresponding \"\u001b[0m\u001b[0;34m\u001b[0m\u001b[0;34m\u001b[0m\u001b[0m\n\u001b[0;32m--> 403\u001b[0;31m           \"name_scope was already taken.\" % abs_state_scope)\n\u001b[0m\u001b[1;32m    404\u001b[0m   \u001b[0;32mreturn\u001b[0m \u001b[0mabs_state_scope\u001b[0m\u001b[0;34m\u001b[0m\u001b[0;34m\u001b[0m\u001b[0m\n\u001b[1;32m    405\u001b[0m \u001b[0;34m\u001b[0m\u001b[0m\n",
            "\u001b[0;31mRuntimeError\u001b[0m: variable_scope module_1/ was unused but the corresponding name_scope was already taken."
          ]
        }
      ]
    },
    {
      "cell_type": "code",
      "source": [
        "# just a random sentence\n",
        "x = [\"Roasted ants are a popular snack in Columbia\"]\n",
        "\n",
        "# Extract ELMo features \n",
        "embeddings = elmo(x, signature=\"default\", as_dict=True)[\"elmo\"]\n",
        "\n",
        "embeddings.shape\n"
      ],
      "metadata": {
        "id": "YDd8SwPEBKZB"
      },
      "execution_count": null,
      "outputs": []
    },
    {
      "cell_type": "markdown",
      "source": [
        "## Word2Vec Playground"
      ],
      "metadata": {
        "id": "RJ1FtaDLqutd"
      }
    },
    {
      "cell_type": "code",
      "source": [
        "from gensim.models import word2vec\n",
        "from gensim.parsing import preprocessing"
      ],
      "metadata": {
        "id": "kK4hHWubt1N3"
      },
      "execution_count": null,
      "outputs": []
    },
    {
      "cell_type": "code",
      "source": [
        "stopwords = \"\"\"\n",
        "a about after all also always am an and any are at be been being\n",
        "but by came can cant come could did didn't do does doesn't doing\n",
        "don't else for from get give goes going had happen has have having\n",
        "how i if ill i'm in into is isn't it its i've just keep let like made\n",
        "make many may me mean more most much no not now of only or our really\n",
        "say see some something take tell than that the their them then they\n",
        "thing this to try up us use used uses very want was way we what when\n",
        "where which who why will with without wont you your youre uh gonna so like yknow theres\"\"\".replace(\"'\", \"\").replace(\"\\n\", \"\").split(\" \")\n",
        "print(stopwords)"
      ],
      "metadata": {
        "colab": {
          "base_uri": "https://localhost:8080/"
        },
        "id": "2xoGB5DGxSRR",
        "outputId": "f8f59608-ce69-4df0-8385-c3814a9016e0"
      },
      "execution_count": null,
      "outputs": [
        {
          "output_type": "stream",
          "name": "stdout",
          "text": [
            "['a', 'about', 'after', 'all', 'also', 'always', 'am', 'an', 'and', 'any', 'are', 'at', 'be', 'been', 'being', 'but', 'by', 'came', 'can', 'cant', 'come', 'could', 'did', 'didnt', 'do', 'does', 'doesnt', 'doing', 'dont', 'else', 'for', 'from', 'get', 'give', 'goes', 'going', 'had', 'happen', 'has', 'have', 'having', 'how', 'i', 'if', 'ill', 'im', 'in', 'into', 'is', 'isnt', 'it', 'its', 'ive', 'just', 'keep', 'let', 'like', 'made', 'make', 'many', 'may', 'me', 'mean', 'more', 'most', 'much', 'no', 'not', 'now', 'of', 'only', 'or', 'our', 'really', 'say', 'see', 'some', 'something', 'take', 'tell', 'than', 'that', 'the', 'their', 'them', 'then', 'they', 'thing', 'this', 'to', 'try', 'up', 'us', 'use', 'used', 'uses', 'very', 'want', 'was', 'way', 'we', 'what', 'when', 'where', 'which', 'who', 'why', 'will', 'with', 'without', 'wont', 'you', 'your', 'youre']\n"
          ]
        }
      ]
    },
    {
      "cell_type": "code",
      "source": [
        "filepath = \"/content/drive/MyDrive/Colab Notebooks/Machine Learning/data/TAZ Ethersea text sample.txt\"\n",
        "punc = \"\"\"!\"#$%&'()*+,-/:;<=>?@[\\]^_`{|}~\"\"\"\n",
        "with open(filepath, \"r\") as f:\n",
        "    text = (preprocessing.stem(f.read()))\n",
        "    text = preprocessing.remove_stopwords(text)\n",
        "    text = text.translate(str.maketrans('', '', punc))\n",
        "    text = text.split(\".\")\n",
        "    # for sent in text:\n",
        "    #  sent = preprocessing.strip_multiple_whitespaces(preprocessing.strip_punctuation(sent))\n",
        "    #text = preprocessing.strip\n",
        "    #text = text.split(\".\")\n",
        "    for i, sentence in enumerate(text):\n",
        "      text[i] = sentence.split(\" \")\n",
        "      if i == 0:\n",
        "        text[i][0] = text[i][0].translate(str.maketrans('', '', '\\ufeff'))\n",
        "print(text)\n",
        "\n",
        "model = word2vec.Word2Vec(sentences=text)\n",
        "\n",
        "\n",
        "\"\"\"\n",
        "sentences: Any \n",
        "corpus_file: Any \n",
        "size: int = 100, \n",
        "alpha: float = 0.025, \n",
        "window: int = 5, \n",
        "min_count: int = 5, \n",
        "max_vocab_size: Any \n",
        "sample: float = 0.001, \n",
        "seed: int = 1, \n",
        "workers: int = 3, \n",
        "min_alpha: float = 0.0001, \n",
        "sg: int = 0, \n",
        "hs: int = 0, \n",
        "negative: int = 5, \n",
        "ns_exponent: float = 0.75, \n",
        "cbow_mean: int = 1, \n",
        "hashfxn: (__obj: object, /) -> int = hash, \n",
        "iter: int = 5, \n",
        "null_word: int = 0, \n",
        "trim_rule: Any, \n",
        "sorted_vocab: int = 1, \n",
        "batch_words: Any | int = MAX_WORDS_IN_BATCH, \n",
        "compute_loss: bool = False, \n",
        "callbacks: Any = (), \n",
        "max_final_vocab: Any\n",
        "\"\"\""
      ],
      "metadata": {
        "colab": {
          "base_uri": "https://localhost:8080/",
          "height": 120
        },
        "id": "GD4vtgyZq1sB",
        "outputId": "bcacfaad-728b-4fb1-d537-9eb34e093b61"
      },
      "execution_count": null,
      "outputs": [
        {
          "output_type": "stream",
          "name": "stderr",
          "text": [
            "WARNING:gensim.models.base_any2vec:under 10 jobs per worker: consider setting a smaller `batch_words' for smoother alpha decay\n"
          ]
        },
        {
          "output_type": "stream",
          "name": "stdout",
          "text": [
            "[['a', 'brief', 'histori', 'wast', 'world', 'primer', 'brother', 'seldom'], ['', 'wit', 'firsthand', 'deep', 'rest', 'slumber', 'sermon', 'induc', 'congregation'], ['', 'so', 'attempt', 'thi', 'succinct'], ['', 'doze', 'dure', 'thi', 'lesson', 'well', 'wouldnt', 'worri', 'much'], ['', 'time', 'hear', 'this', 'world', 'im', 'describ', 'long', 'sinc', 'scour', 'map'], ['', 'let', 'begin', 'vestiges'], ['', 'accur', 'describ', 'gods', 'theyd', 'certainli', 'prefer', 'such'], ['', 'thei', 'cross', 'world', 'eon', 'ago', 'ancient', 'ancestor', 'consid', 'patrons'], ['', 'merciless', 'oppressors'], ['', 'civil', 'sprout', 'beings’', 'feet', 'immediately—', 'perhap', 'unsurprisingly—', 'thei', 'began', 'vy', 'superiority'], ['', 'differences', 'though', 'vestig', 'claim', 'world', 'agre', 'thing', 'oath', 'forsworn', 'power', 'magic', 'share', 'mortalkind'], ['th', 'vestig', 'benevol', 'furious', 'covet', 'ador', 'live', 'creatur', 'that', 'well'], [''], [''], ['', 'broke', 'oath'], ['', 'share', 'hi', 'peopl', 'secret', 'magic', 'new', 'kingdom', 'hominine', 'build', 'armi', 'sorcer', 'power', 'challeng', 'gods'], ['', 'benevolence', 'armi', 'swept', 'land', 'like', 'wildfire', 'purg', 'rival', 'vestig', 'stood', 'hi', 'way'], ['', 'hi', 'war', 'campaign', 'wa', 'devast', 'spectacular', 'dust', 'settled', 'split', 'world', 'quarters'], ['', 'kingdom', 'hominin', 'occupi', 'realm', 'stretch', 'western', 'coastline', 'fertil', 'heartlands'], ['', 'citizen', 'live', 'prosperously', 'devot', 'themselv', 'studi', 'arcan', 'gift', 'bestow', 'vestige', 'benevolence'], ['', 'dominion', 'however', 'halt', 'sheer', 'face', 'einarr', 'plateau'], ['', 'highlands', 'overlook', 'realm', 'surviv', 'vestig', 'live', 'mortal', 'followers'], ['', 'spiritu', 'rulers', 'rather', 'collaborators'], ['', 'zealou', 'practition', 'old', 'wai', 'dissented', 'einarr', 'forg', 'new', 'pact', 'vestig', 'mortalkind'], ['', 'deni', 'vestig', 'otherworldli', 'gifts'], ['', 'warweari', 'sect', 'homininiansdefect', 'resourcerich', 'delmer', 'wilds', 'north'], ['', 'thei', 'shun', 'magic', 'exchang', 'industry', 'build', 'acropoli', 'lumber', 'steel', 'rival', 'hominine', 'great', 'citadels'], ['and', 'tire', 'mainland’', 'petti', 'squabbl', 'entirely'], ['', 'thei', 'home', 'southern', 'archipelago'], ['', 'war', 'mere', 'distant', 'memory', 'island', 'inhabit', 'work', 'remark', 'stride', 'trade', 'art', 'fashion', 'leisure'], ['', 'fun', 'stuff', 'fine', 'point', 'it'], ['', 'century', 'thi', 'world', 'settl', 'quiet', 'comfort', 'stalemate'], ['', 'war', 'ended', 'peopl', 'mai', 'recov', 'thi', 'conflict'], [''], [''], ['', 'planet', 'wev', 'learned', 'will'], ['', 'see', 'magic', 'ha', 'cost'], ['', 'goe', 'unpaid', 'has', 'simplest', 'spell', 'produc', 'kind', 'volatil', 'exhaust'], ['', 'thi', 'raw', 'danger', 'arcan', 'energi', 'suffus', 'soil', 'everi', 'battleground', 'sky', 'everi', 'citadel', 'bank', 'everi', 'river', 'convening—', 'thing', 'do—', 'sea'], ['', 'ocean', 'turn', 'us'], ['', 'great', 'glow', 'wave', 'heav', 'land', 'swallow', 'everyth', 'path'], ['', 'hang', 'waters', 'maelstrom', 'far', 'measure', 'visibl', 'shores', 'grew', 'wider', 'stronger', 'everi', 'pass', 'day'], ['', 'so', 'kingdom', 'scrambl', 'mean', 'evad', 'extinction'], ['', 'din', 'toil', 'storm’', 'ceaseless', 'report', 'thunder', 'voic', 'sea'], ['', 'simpl', 'stanza', 'offer', 'salvation'], ['', 'kingdom', 'fall', 'sea', 'provides'], ['', 'home', 'beneath', 'tides'], ['', 'hundr', 'us', 'hail', 'corner', 'realm', 'heed', 'thi', 'call'], ['', 'abandon', 'respect', 'kingdoms', 'asid', 'gener', 'differences', 'promis', 'new', 'life'], ['', 'better', 'life'], ['', 'leagu', 'gnash', 'fang', 'apocalypse', 'home', 'creation', 'deep', 'ethersea'], ['', 'hail', 'met', 'adventurers', 'welcome', 'brand', 'new', 'voyage', 'wizard', 'balthazar'], ['', 'orb'], ['', 'walk', 'new', 'voy—', 'new', 'journey'], ['', 'wait'], ['', 'orb', 'walk', 'you', 'um', 'it’', 'funni', 'sai', 'that', 'travis', 'becaus', 'read', 'prepar', 'note', 'wrote', 'you', 'told', 'walk', 'spectral', 'sidewalk', 'werent', 'hold', 'orb'], ['', 'youd', 'fall', 'right', 'through'], ['', 'fell', 'right', 'through'], ['', 'yeah', 'fell', 'right', 'through'], ['', 'demon', 'crabazal’', 'infinit', 'mouth'], ['', 'so', 'yeah'], ['', 'im', 'dead'], ['', 'character', 'dead'], ['', 'travi', 'gone', 'show'], ['', 'juic', 'dad', 'um'], [''], [''], ['', 'hopefulli', 'youll', 'bit', 'stai', 'power'], ['', 'well', 'thank', 'tune', 'adventur', 'zone', 'fam'], ['', 'we’r', 'someth', 'kind', 'differ', 'thi', 'episod', 'sort', 'build', 'world', 'new', 'season', 'that’s'], [''], [''], ['', 'thi', 'one’', 'cook', 'show'], ['', 'it’', 'bit', 'different'], ['', 'it’', 'cook', 'show'], ['', 'its', 'uh—', 'got', 'hot', 'recipes'], ['', 'uh', 'hope', 'gui', 'like'], [''], [''], ['', 'stew', 'caus', 'that', 'your', 'gettin'], ['', 'it’', 'stew'], ['', 'got', 'rowdi', 'mcelroi', 'boi', 'here', 'wer', 'gonna', 'plai', 'differ', 'game', 'build', 'world', 'wer', 'gonna', 'plai', 'season', 'return', 'dungeon', '', 'dragon', '5th', 'edition'], ['', 'game', 'quiet', 'year'], ['', 'it’', 'design', 'averi', 'alder', 'link', 'purchas', 'episod', 'description', 'uh', 'thi', 'episod', 'setup', 'episod', 'here'], ['', 'thoroughli', 'recommend', 'virtual', 'anybody'], ['', 'think', 'it’', 'amaz', 'game', 'hope', 'feel', 'wai', 'hear', 'bad', 'job', 'plai', 'here'], ['', 'that', 'wer', 'playing'], ['', 'it', 'great'], ['', 'mention', 'uh', 'essenti', 'got', 'thi', 'idea', 'friend', 'table', 'thi', 'uh'], [''], [''], ['', 'youv', 'listen', 'friend', 'table', 'marielda', 'arc', 'place', 'citi', 'wa', 'built', 'quiet', 'year'], ['', 'wer', 'gonna', 'do', 'uh', 'yknow', 'someth', 'similar', 'here'], ['', 'quick', 'like', '30second', 'rundown', 'quiet', 'year', 'works', 'mean', 'well', 'definitely—', 'mayb', '30', 'seconds'], ['', 'uh', 'well', 'quick', 'can'], ['', 'rounds', 'basic', 'plai', 'year', 'turns', 'sort', 'introduce', 'uh', 'complications', 'discoveries', 'thing', 'ar', 'place', 'insid', 'thi', 'settlement', 'ar', 'plai', 'in'], ['', 'uh', 'so', 'wer', 'basically', 'bird', 'ey', 'view', 'flesh', 'town'], ['', 'ar', 'map', 'ar', 'draw', 'roll', '20'], ['', 'thi', 'inher', 'kind', 'visual', 'element', 'it'], ['', 'share', 'maps', 'assume', 'sort', 'draw', 'them', 'hear', 'episodes'], ['', 'mention', 'dont', 'know', 'mani', 'episod', 'thi', 'gonna', 'year'], ['', 'current', 'pace', 'ar', 'oper', 'at', 'itll', '60', 'episodes'], ['', 'thi', 'worldbuild', 'arc'], ['', 'yep'], ['', 'um', 'yeah'], ['', 'so', 'ar', 'stuff'], ['', 'heard', 'begin', 'thi', 'essenti', 'the', 'um', 'like', 'macrolevel', 'world', 'histori', 'this', 'yknow', 'settlement', 'is'], ['', 'iv', 'outlin', 'sort', 'broad', 'goal', 'wer', 'here', 'underwat', 'city'], ['', 'wa', 'sort', 'like', 'initi', 'design', 'season', 'sort', 'a—', 'like', 'idea', 'space', 'opera', 'like', 'insid', 'magic', 'ocean', 'like', 'didnt', 'realli', 'come', 'lot', 'heard', 'so', 'everyth', 'else', 'ar', 'essenti', 'plai', 'figur', 'len', 'uh', 'quiet', 'year'], ['', 'want', 'say', 'guess', 'top', 'sort', 'tonally', 'sort', 'guid', 'light', 'i'], [''], [''], ['', 'realli', 'dont', 'want', 'like', 'bioshock', 'uh', 'god'], [''], [''], ['', 'what', 'citi', 'bioshock', 'rapture', 'yeah', 'dont', 'want', 'rapture'], ['', 'dont', 'want', 'atlantis'], ['', 'griffin', 'man', 'entitl', 'sweat', 'hi', 'brow', 'sweat', 'his—', 'no', 'unfortun', 'not'], ['', 'dont', 'know', 'your', 'bioshock', 'thing', 'ayn', 'rand', 'thing', 'there', 'ar', 'equal', 'unwelcom', 'thi', 'house'], ['', 'okay', 'got', 'it', 'got', 'it', 'got', 'it'], ['', 'cool', 'cool'], ['', 'um'], [''], [''], ['', 'yeah', 'want', 'try', 'lean', 'awai', 'from—', 'know', 'gui', 'plai', 'andrew', 'ryan', 'quark', 'know', 'that', 'dont', 'know', 'i—', 'yeah', 'deep', 'space', 'nine'], ['', 'dont', 'know', 'know', 'that'], ['', 'dont', 'know', 'know', 'it'], ['', 'um', 'basic', 'want', 'lean', 'sort', 'underwat', 'fiction', 'tropes', 'can'], ['', 'dont', 'want', 'like', 'hot', 'heavi', 'seriou', 'high', 'fantasi', 'it', 'becaus', 'iv', 'sort', 'envis', 'as', 'hey', 'thi', 'ocean', 'irradi', 'magic', 'chaos', 'there', 'weird', 'shit', 'discov', 'everywhere', 'let', 'fun', 'deadli', 'ocean', 'ship', 'whatever'], ['', 'griffin', 'iv', 'question', 'befor', 'begin'], ['', 'please'], ['', 'so', 'look', 'map', 'there', 'it', '50', 'land', '50', 'sea'], ['', 'yes'], ['', 'envis', 'like', 'primari', 'surface', 'becaus', 'like', 'intro', 'youv', 'told', 'us', 'thi', 'citi', 'kind', 'transit', 'safer'], [''], [''], ['', 'like', 'safer', 'option', 'sea', 'wer', 'for', 'yes'], ['', 'goal', 'this—', 'were—', 'mayb', 'thi', 'a', 'ar', 'quiet', 'year', 'exact', 'manner', 'wa', 'intended', 'right', 'becaus', 'ar', 'essenti', 'build', 'thi', 'settlement', 'these', 'uh', 'nomad', 'travel', 'differ', 'kingdom', 'come', 'togeth', 'thi', 'underwat', 'city'], ['', 'land', 'map', 'where', 'basically', 'sever', 'hundr', 'peopl', 'ar', 'sort', 'place', 'thei', 'live', 'thei', 'build', 'thi', 'underwat', 'citi', 'in—', 'thei', 'have', 'yknow', 'year', 'it'], ['', 'eventually', 'onc', 'weve', 'dont', 'know', 'discov', 'explor', 'underwater', 'place', 'build', 'city', 'actual', 'like', 'citi', 'underwat', 'peopl', 'live', 'stuff', 'start', 'draw', 'seasid', 'map'], ['', 'yes', 'goal', 'be', 'essentially', 'year', 'land', 'half', 'map', 'swept', 'away'], ['', 'so', 'sort', 'launch', 'pad'], ['', 'let', 'started'], ['', 'uh', 'ar', 'thi', 'roll', '20', 'ar', 'access', 'draw', 'tools'], ['', 'everyth', 'add', 'map', 'everi', 'sort', 'narr', 'element', 'everyth', 'outline', 'ar', 'repres', 'visually'], ['', 'ar', 'draw', 'map'], ['', 'ar', 'encourag', 'word', 'write', 'map'], ['', 'befor', 'started', 'everybodi', 'suppos', 'add', 'sort', 'topograph', 'feature'], ['', 'went', 'ahead', 'drew', 'coastlin', 'thi', 'beach', 'that', 'essentially', 'settlement', 'gonna', 'on', 'water', 'is—', 'thi', 'map', 'water', 'sand'], ['', 'that', 'iv', 'drawn', 'coastline'], ['', 'so', 'want', 'next', 'draw', 'sort', 'broad', 'topograph', 'feature'], ['', 'thi', 'thing', 'like—', 'rule', 'game', 'it', 'outlin', 'like', 'mountain', 'rang', 'here'], ['', 'or', 'is'], [''], [''], ['', 'wer', 'granular', 'sai', 'like', 'the', 'yknow', 'ant', 'lion', 'nest', 'whatev', 'hell'], ['', 'first', 'sort', 'establish', 'topography'], ['', 'uh', 'so', 'griffin'], [''], [''], ['', 'sorry', 'question', 'befor', 'go'], ['', 'please'], ['', 'technolog', 'speaking', 'advanced—', 'like', 'compar', 'thi', 'time', 'period', 'actual', 'real', 'world', 'history', 'at', 'yeah', 'um'], [''], [''], ['', 'mean', 'that', 'thing', 'left', 'littl', 'bit', 'blank'], ['', 'sai', 'the', 'um'], [''], [''], ['', 'hominine', 'kingdom', 'like', 'veri', 'magic', 'advanced', 'delmer', 'folk', 'ar', 'more', 'uh', 'engin', 'advanced'], ['', 'like', 'dont', 'know', 'steampunk', 'sort', 'of'], [''], [''], ['', 'yknow', 'sai', 'weird', 'magic', 'technolog', 'actual', 'industri', 'revolut', 'style', 'stuff'], ['', 'okay', 'great'], ['', 'idea', 'like', 'build', 'habit', 'undersea', 'world', 'like', '“let’', 'cross', 'fingers'], ['”', 'don’t', 'know', 'that'], ['', 'yeah', 'yeah'], ['', 'wer', 'like—', 'build', 'block', 'work', 'from', 'right', 'yes'], ['', 'wer', 'complet', 'invent', 'it', 'right', 'right'], ['', 'mean', 'complet', 'invent', 'it', 'assum', 'that', 'yknow', 'level', 'of', 'like', 'engin', 'expertis', 'here', 'use'], ['', 'thei', 'ar', 'figur', 'out', 'becaus', 'nobodi', 'ha', 'built', 'underwat', 'citi', 'before'], ['', 'got', 'it', 'got', 'it', 'got', 'it'], ['', 'els', 'thi', 'game', 'veri', 'easy', 'think'], ['', 'um', 'im—', 'okay', 'im', 'to', 'start', 'with', 'the'], [''], [''], ['', 'oh', 'gotta', 'rememb', 'cardin', 'directions'], [''], [''], ['', 'northeast', 'sai', 'is'], [''], [''], ['', 'let', 'right', 'color'], [''], [''], ['', 'ooh', 'yeah', 'pleas', 'dont', 'offwhit', 'white', 'map'], ['', 'yeah', 'right', 'thi', 'color'], ['', 'is', 'uh', 'littl', 'magic', 'spring', 'thing'], ['', 'okay'], ['', 'like', 'littl', 'lake', 'mayb', 'some'], [''], [''], ['', 'magic', 'it'], ['', 'wer', 'game', 'world', 'right', 'thi', 'play'], ['', 'game'], ['', 'game'], ['', 'correct'], ['', 'thi', 'settlement', 'everybodi', 'ha', 'sort', 'follow', 'thi', 'voic', 'shore', 'ocean', 'thei', 'brought', 'kind', 'build', 'underwat', 'city'], ['', 'right', 'now', 'land', 'map', 'yes'], ['', 'uh', 'just', 'clarity', 'sake', 'magic', 'lake', 'kind', 'magic', 'properti', 'everything', 'know'], ['', 'wev', 'arriv', 'here'], ['', 'fresh', 'water', 'yes'], ['', 'okay'], ['', 'that’', 'set', 'inland', 'ocean', 'side'], ['', 'thi', 'like', 'spring', 'ran', 'there', 'yknow', 'okay', 'cool'], ['', 'mean', 'that', 'weird', 'itself'], ['', 'becaus', 'ocean', 'irradi', 'magic', 'ha', 'like', 'realli', 'volatil', 'dangerous'], ['', 'idea', 'anoth', 'version', 'mayb', 'wild', 'someth', 'sure', 'explore'], ['', 'yes'], ['', 'thi', 'is—', 'im', 'uh', 'worth', 'noting'], [''], [''], ['', 'think', 'it', 'probabl', 'differ', 'kind', 'magic', 'ha', 'irradi', 'thing'], ['', 'hm', 'okay'], ['', 'sure'], ['', 'um', 'juice', 'wanna', 'draw', 'something', 'tell', 'think', 'cool'], ['', 'yeah', 'baybee'], ['', 'im', 'gonna', 'draw', 'someth', 'cool'], ['', 'let', 'it'], ['', 'itll', 'cool'], ['', 'yeah', 'dude'], ['', 'like', 'big', 'skull'], ['', 'im', 'gonna', 'draw—', 'draw', 'fuckin', 'skull', 'dude'], ['', 'yeah', 'big', 'skull'], ['', 'here'], [''], [''], ['', 'thi', 'ha', 'emerged', 'it', 'black', 'spiral', 'staircase', 'goe', 'ocean'], ['', 'it', 'before'], ['', 'okay'], ['', 'it', 'rock'], ['', 'nobodi', 'know', 'came', 'from', 'nobodi', 'know', 'it', 'there', 'it', 'beauti', 'spiral', 'staircase'], ['', 'doe', 'kind', 'look', 'like', 'snake', 'try', 'draw', 'it'], ['', 'it', 'like', 'spooki', 'snake', 'the—', 'ill', 'work', 'it', 'idea'], ['it', 'like', 'cool', 'black', 'spiral', 'staircase'], ['', 'reachabl', 'shore', 'someth', 'need', 'like', 'swim', 'boat', 'to', 'no', 'no', 'no'], ['', 'youd', 'need', 'take', 'uh'], [''], [''], ['', 'probably—', 'mean', 'like', 'depend', 'good', 'swimmer', 'are', 'right', 'sai', 'it', 'probabl', 'like'], [''], [''], ['', 'mayb', '200', 'yard', 'out'], ['', 'okay'], ['', 'think', 'rad', 'think', 'draw', 'someth', 'land', 'map'], ['', 'mayb', 'well', 'draw', 'someth', 'sea', 'map'], ['', 'becaus', 'like', 'happen', 'like', 'first'], [''], [''], ['', 'happen', 'land'], [''], [''], ['', 'happen', 'land', 'figur', 'how', 'like', 'peopl', 'actual', 'explor', 'sea', 'start', 'build', 'shit', 'there'], ['', 'like', 'thi', 'thing', 'mayb', 'flesh', 'littl', 'bit', 'first'], ['', 'leav', 'black', 'spiral', 'staircase'], ['', 'okay'], ['', 'caus', 'that', 'tasty'], ['', 'then', 'wa', 'cool', 'one'], ['', 'dad', 'something'], ['', 'yeah', 'iv', 'got', 'idea'], ['', 'im', 'to', 'uh', 'construct', 'a'], [''], [''], ['', 'giant', 'sinkhole'], [''], [''], ['', 'kay'], ['', 'that'], [''], [''], ['', 'thi', 'gonna', 'look', 'like', 'anus', 'want', 'justin', 'travi', 'readi', 'that'], ['', 'no', 'griffin', 'wa', 'alreadi', 'there'], ['', 'im', 'alreadi', 'there', 'thi', 'sinkhol', 'huge'], ['', 'dead', 'daddi', 'long', 'legs'], ['', 'sorry', 'on'], ['', 'people', 'uh', 'centuries', 'like', 'landfill'], ['', 'theyv', 'throw', 'garbag', 'it', 'throw', 'junk', 'it'], ['', 'interesting'], ['', 'yknow', 'it', 'like', 'giant', 'junkyard', 'thei', 'throw', 'in', 'it', 'gone'], ['', 'nobodi', 'quit', 'know', 'it', 'going'], ['', 'oh', 'interesting', 'oh', 'okay', 'it', 'like', 'there', 'pile', 'junk', 'see'], ['', 'no'], ['', 'goe', 'point', 'cant', 'it'], ['', 'it’', 'right', 'there'], [''], [''], ['', 'yep', 'thi', 'giant', 'hole'], [''], [''], ['', 'your', 'look', 'like', 'butthole', 'dad'], ['', 'yeah'], ['', 'wa', 'intent'], ['', 'thought', 'that’', 'wanted'], ['', 'nooo'], ['', 'im', 'gonna', 'stretch', 'thi', 'map', 'real', 'quick'], ['', 'it', 'littl', 'bit', 'blurry', 'because—', 'ah', 'go'], ['', 'yall', 'that', 'yep'], ['', 'yeah'], ['', 'ar', 'build', 'essenti', 'kingdom', 'kind', 'intersect', 'here'], ['', 'hominine', 'ha', 'basic', 'conquer', 'world', 'einarr', 'plateau', 'sort', 'naturalist', 'societi', 'ha', 'built'], ['', 'so', 'thi', 'sinkhol', 'essenti', 'like', 'right', 'flat', 'things'], ['', 'like', 'leav', 'don’t', 'know', 'sinkhol', 'thing', 'disappear'], ['', 'griffin', 'turn', 'mean', 'drew', 'coast', 'long', 'wer', 'kind', 'draw', 'bullshit'], [''], [''], ['', 'uh', 'im', 'gonna', 'draw', 'like', 'a'], [''], [''], ['', 'mean', 'it', 'bullshit', 'griffin'], ['', 'wer', 'scribbl', 'map'], ['', 'it', 'bs'], ['', 'um', 'im', 'gonna', 'draw', 'like', 'tide', 'pool'], ['', 'okay'], ['', 'hereish'], ['', 'is', 'yknow', 'crag', 'rock', 'and', 'uh', 'shallow', 'water', 'like', 'weird', 'divers', 'arrai', 'wildlif', 'it', 'case', 'tide', 'pools'], ['', 'well', 'kind', 'of'], [''], [''], ['', 'flesh', 'out'], ['', 'uh', 'i—', 'got', 'upper', 'northwest', 'area', 'yeah', 'northwest', 'quadrant', 'shore'], ['', 'sizeabl', 'thing'], ['', 'add', 'someth', 'sea', 'side', 'now', 'uh', 'sure'], ['', 'um', 'to'], [''], [''], ['', 'uh', 'sai', 'here', 'uh', 'slightli', 'west', 'spiral', 'staircase', 'patch', 'water', 'surface', 'doesnt', 'same', 'like', 'wave', 'structur', 'rest', 'sea'], ['', 'like', 'wave', 'it', 'thei', 'decrease', 'wave', 'ar', 'higher'], ['', 'okay'], ['', 'your', 'draw', 'someth', 'surfac', 'water'], ['', 'correct'], ['', 'mayb', 'draw', 'land', 'side', 'then', 'kind', 'thing', 'distinct'], ['', 'it', 'someth', 'land', 'like—', 'well', 'black', 'spire', 'see'], ['', 'it', 'come', 'sea'], ['', 'oh', 'it', 'come', 'sea', 'okay'], ['', 'that', 'it', 'cool'], ['', 'ar', 'stair', 'sea', 'okay', 'okay'], ['', 'dig', 'it'], ['', 'alright'], ['', 'yeah', 'let', 'there', 'then'], ['', 'it', 'section', 'wave', 'dont', 'happen', 'yeah', 'water', 'calmer'], ['', 'wave', 'like'], [''], [''], ['', 'hit', 'just', 'vanish', 'yeah', 'thei', 'like', 'break', 'it'], ['', 'interesting', 'okay'], ['', 'that', 'next—', 'that', 'near', 'spiral', 'staircase', 'yeah'], ['', 'spiral', 'staircas', 'land', 'patch'], ['', 'okay'], ['', 'uh', 'dad', 'wanna', 'draw', 'thing', 'that', 'probabl', 'to', 'uh', 'start', 'with'], ['', 'um'], [''], [''], ['', 'travis', 'thi', 'a—', 'built', 'pool', 'yeah', 'it', 'uh—', 'it', 'pool', 'plot—', 'section', 'surfac', 'ocean', 'calm'], ['', 'no', 'so', 'land'], ['', 'mean', 'land', 'sea', 'no', 'land'], ['', 'yeah'], ['', 'land', 'it', 'uh', 'like'], [''], [''], ['', 'bigger', 'pool'], ['', 'sai', 'it', 'like', 'uh', 'kind', 'like', 'larg', 'pond', 'size'], ['', 'mkay'], ['', 'ar', 'onli', 'natur', 'thing', 'wer', 'map', 'right', 'now', 'yes'], ['', 'right', 'that', 'right'], ['', 'okay'], ['', 'um'], [''], [''], ['', 'river'], ['', 'think', 'river', 'lead', 'sea'], ['', 'so'], [''], [''], ['', 'nice', 'river', 'actually'], [''], [''], ['', 'runs'], [''], [''], ['', 'west', 'coast', 'run', 'curv', 'north'], ['', 'whoa'], ['', 'okay'], ['', 'wait', 'water', 'flow', 'ocean', 'yes', 'correct'], ['', 'it—', 'okay'], ['', 'caus', 'wa', 'opposite', 'fuckin', 'bonkers'], ['', 'magic', 'world'], ['', 'guess', 'so'], ['', 'uh', 'okay', 'uh', 'guess', 'thing', 'sort', 'figur', 'out', 'gener', 'speaking', 'uh'], [''], [''], ['', 'thi', 'thing', 'here'], ['', 'thi', 'beach', 'stuff', 'outlin', 'water', 'all'], [''], [''], ['', 'sand', 'beach', 'think', 'there', 'sort', 'biomes', 'dont', 'think', 'beach', 'you', 'mean'], [''], [''], ['', 'no', 'mean—', 'allow', 'posit', 'griffin'], ['', 'yeah'], ['', 'uh', 'posit', 'perhap', 'sand', 'beach', 'like', 'pebble'], [''], [''], ['', 'pebbl', 'kind', 'beach', 'thi', 'isnt', 'like', 'vacat', 'spot'], ['', 'mayb', 'it’', 'fat', 'beach'], ['', 'mayb', 'it', 'phat', 'phat', 'beach'], ['', 'that', 'possible'], ['', 'okay'], ['', 'it', 'kind', 'pebbl', 'thing'], ['', 'there', 'reason', 'peopl', 'settl', 'before'], ['', 'thi', 'like', '“come', 'relax”', 'kind', 'thing'], ['', 'yes'], ['', 'thing', 'sort', 'world', 'map', 'drew', 'thi', 'area', 'fairli', 'secluded', 'becaus', 'yknow', 'world', 'power', 'ar', 'sort', 'try', 'formul', 'own', 'uh', 'wai', 'die', 'apocalypse', 'yknow', 'thei', 'ar', 'contenti', 'world', 'powers'], ['', 'thei', 'mai', 'wild', 'idea', 'thi', 'like', 'construct', 'happen', 'here'], ['', 'wer', 'thi', 'scale', 'right', 'no', 'think', 'lot', 'ask', 'us'], ['', 'yeah'], ['', 'wer', 'dummies', 'so'], [''], [''], ['', 'yeah', 'work'], ['', 'sai', 'like—', 'dont', 'kind', 'grayish', 'beachi', 'thing', 'yeah'], ['', 'im', 'draw', 'veri', 'faint', 'line', 'illustr', 'like', 'that', 'beach'], ['', 'then', 'that', 'yknow', 'theres—', 'imagine', 'there', 'green', 'pond'], ['', 'so', 'dont', 'everi', 'singl', 'sort', 'of', 'um'], [''], [''], ['', 'well', 'go'], ['', 'that', 'point', 'game'], ['', 'that', 'true', 'that', 'point'], ['', 'okay'], ['', 'uh', 'so', 'thing', 'befor', 'realli', 'start', 'decid', 'resourc', 'ar', 'import', 'city'], ['', 'again', 'think', 'thi', 'thing', 'list', 'of'], ['', 'seaside', 'think', 'it', 'probabl', 'static', 'like'], [''], [''], ['', 'list', 'question', 'answer'], ['', 'right', 'like', 'ar', 'breathing', 'is—', 'ar', 'water', 'sustain', 'food', 'yeah'], ['', 'yeah', 'food'], ['', 'ar', 'staying—', 'what', 'shelter', 'situation', 'energy', 'mean', 'light', 'power—', 'yeah', 'exactly'], ['', 'yeah', 'there', 'thing', 'need', 'sort', 'citi', 'underwater'], ['', 'so', 'mayb', 'track', 'ourselves'], ['', 'yeah', 'think', 'just—', 'label', 'like', 'kind', 'surviv', 'like', 'primari', 'thing'], ['', 'like', 'thrive', 'secondary', 'yknow', 'well', 'yes'], ['', 'yeah'], ['', 'lets—', 'far', 'categori', 'resourc', 'go'], ['', 'categori', 'seaside'], ['', 'right'], ['', 'land', 'side', 'mean', 'its—', 'wer', 'essenti', 'plai', 'game', 'right', 'decid', 'thing', 'ar', 'import', 'societi', 'here', 'build', 'citi', 'underwater'], ['', 'so', 'thing', 'be—', 'start', 'scarcity', 'save', 'them'], ['', 'decid', 'something'], ['', 'like', 'pitch'], ['', 'yeah', 'please'], ['', 'uh', 'abund', 'one'], ['', 'well', 'let', 'import', 'resourc', 'first', 'well', 'decid', 'abund', 'is'], ['', 'well', 'number', 'knowledge', 'right', 'wer', 'try', 'figur', 'out'], [''], [''], ['', 'cant', 'spell', 'word', 'kno—', 'there', 'd', 'knowledge'], ['', 'that', 'embarrassing'], ['', 'that', 'fuck', 'embarrassing'], ['', 'yeah'], ['', 'it', 'like', 'knowledge'], ['', 'gotta', 'know', 'ledge', 'yknow', 'um', 'knowledge'], ['', 'yeah', 'sure'], ['', 'caus', 'that', 'thing', 'right', 'wer', 'try', 'figur', 'it'], [''], [''], ['', 'like', 'number', 'resourc', 'knowledge'], ['', 'like—', 'think', 'maybe—', 'becaus', 'dont—', 'it', 'broad'], ['', 'it', 'broad', 'it', 'someth', 'like', 'becom', 'scarcity', 'knowledg', 'isnt', 'exactli', 'fluid', 'right', 'ar', 'sort', 'of', 'yknow', 'ostensibly', 'best', 'brightest', 'kingdom', 'like', 'ar', 'abl', 'bring', 'variou', 'shit'], ['', 'mayb', 'instead', 'knowledge', 'mayb', 'it', 'like', 'cooper', 'like', 'knowledge'], ['', 'becaus', 'is—', 'someth', 'dynamic'], ['', 'like', 'be—', 'know', 'mean', 'oh', 'yeah', 'okay'], ['', 'like', 'that'], ['', '“diplomacy”', 'mayb', 'wai', 'it', 'like', 'abil', 'to—', 'differ', 'group', 'cooperate', 'um', 'mayb', 'sai', 'like', '“unity”', 'like', 'bucket', 'thing'], ['', 'unity', 'yeah'], ['', 'uniti', 'work', 'me'], ['', 'becaus', 'wer', 'saying', 'inherently', 'knowledg', 'everyon', 'bring', 'necessarili', 'resource—', 'abl', 'new', 'inform', 'later', 'peopl', 'ar', 'come', 'knowledge'], ['', 'it', 'thei', 'want', 'work', 'togeth', 'it'], ['', 'lot', 'sens', 'me'], ['', 'id', 'like', 'suggest', 'someth', 'think', 'interesting'], ['', 'someth', 'iv', 'think', 'lot', 'is', 'um'], [''], [''], ['', 'idea', 'culture'], ['', 'like', 'wer', 'like', 'try', 'society—', 'fact', 'differ', 'societies—', 'sea', 'basic', 'like', 'abandon', 'land'], ['', 'right'], ['', 'like', 'idea', 'like', 'cultural'], [''], [''], ['', 'like', 'cultur', 'histori', 'wer', 'abl', 'bring', 'us'], ['', 'becaus', 'like', 'someth', 'balanc', 'survival'], ['', 'um'], [''], [''], ['', 'let', 'ahead—', 'let', 'cheat', 'like', 'divers', 'culture', 'like', 'abundance', 'becaus', 'again', 'like', 'dont', 'someth', 'becom', 'scarce', 'unless', 'yknow', 'someth', 'genuin', 'horribl', 'happens'], ['', 'like', 'divers', 'culture'], ['', 'your', 'talk', 'about', 'ar', 'talk', 'like', 'a'], [''], [''], ['', 'im', 'talk', 'cultur', 'works'], ['', 'artifacts', 'art'], ['', 'artifacts', 'art', 'like'], [''], [''], ['', 'oh', 'that', 'good—', 'okay', 'yes'], ['', 'like', 'cultur', 'people', 'like', 'wer', 'preserving', 'like—', 'yknow', 'send', 'space', 'shuttle', 'like', 'record', 'stuff', 'like', 'alien', 'like', 'lai', 'tracks', 'like', 'ar', 'you'], [''], [''], ['', 'ar', 'save', 'society', 'access', 'land', 'we'], [''], [''], ['', 'right', 'yeah', 'mean'], [''], [''], ['', 'impossible', 'season', 'wer', 'playing', 'actual', 'start', 'season', 'earnest', 'entir', 'underwater'], ['', 'abov', 'surfac', 'land', 'like', 'uh', 'extremely—', 'season'], ['', 'quiet', 'year', 'ha', '“seasons'], ['”', 'sorry', 'yes'], ['', 'season', 'adventur', 'zone', 'uh', 'tent', 'ethersea', 'pure', 'underwater'], ['', 'everyth', 'abov', 'water', 'like', 'unsurvivable', 'essentially'], ['', 'um', 'im', 'gonna', 'add', 'like'], [''], [''], ['', 'build', 'resources', 'could—', 'yeah', 'yeah'], ['', 'like', 'becaus', 'like', 'metal', 'wood', 'whatever'], ['', 'ton', 'those'], ['', 'right', 'now', 'like', 'dont', 'know', 'fuck', 'city', 'gonna', 'of'], ['', 'ani', 'stuff'], ['', 'structur', 'resources', 'structur', 'material', 'right', 'becaus', 'it', 'like'], [''], [''], ['', 'yeah'], ['', 'yknow', 'food', 'cloth', 'like', 'yknow'], ['', 'kind', 'resources'], ['', 'liter', 'like', 'thing', 'build', 'with'], ['', 'um', 'dad'], ['', 'gone'], ['', 'air', 'mean', 'arent', 'gonna', 'need', 'figur', 'kei', 'live', 'underwater', 'wer', 'gonna', 'breathe', 'let', 'add—', 'okay', 'those', 'like', 'uh', '“air'], ['', 'underwater'], ['”', 'uh'], [''], [''], ['', 'like', 'start', 'point', 'for'], [''], [''], ['', 'yeah'], ['', 'water', 'underwater'], ['', 'uh', 'food', 'underwater'], ['', 'also', 'food', 'abov', 'water', 'right', 'like', 'food', 'important'], ['', 'ar', 'build', 'minicity', 'essentially', 'ar', 'thing', 'like', 'food', 'shelter', 'uh', 'like'], [''], [''], ['', 'come', 'mission', 'voic', 'sea', 'dont', 'necessarili', 'like', 'prioritize'], [''], [''], ['', 'um', 'sorry', 'kind', 'click', 'plai', 'with'], ['', 'fluctuat', 'resource', 'leadership', 'becaus', 'differ', 'groups', 'right', 'arent', 'necessarili', 'agre', 'ani', 'person'], ['', 'could—', 'feel', 'closer', 'unity'], ['', 'yeah', 'feel', 'like', 'push', 'pull', 'thing'], ['', 'like', 'strong', 'leader', 'everybodi', 'wa', 'like', 'with', 'like', 'that', 'unity'], ['', 'im', 'gonna', 'pitch', 'concept', 'had'], ['', 'mkay'], ['', 'thi', 'arc', 'would—', 'plai', 'thi', 'resourc', 'conversation'], ['', 'um', 'know', 'magic', 'ha', 'cost', 'basic', 'like', 'a'], [''], [''], ['', 'materi', 'cost'], ['', 'materi', 'cost', 'right', 'like', 'creat', 'someth', 'basically', 'uh', 'analog', 'pollutant', 'ha', 'seep', 'sea'], ['', 'want', 'pitch', 'idea', 'of'], [''], [''], ['', 'ocean', 'sea', 'purifi', 'condens', 'sort', 'magic', 'byproduct', 'sourc', 'energy', 'like', 'physical'], [''], [''], ['', 'mayb', 'it', 'like', 'cubes'], ['', 'mayb', 'it', 'like', 'crystals'], ['', 'someth', 'like', 'ar', 'like', 'finding'], ['', 'like', 'wai', 'boil', 'salt', 'water', 'salt', 'it', 'ooh', 'it', 'salt', 'like', 'magic', 'salt', 'goto', 'like'], [''], [''], ['', 'it', 'basic—', 'it', 'prestige'], ['', 'think', 'it', 'like', 'energi', 'source'], ['', 'like', 'like—', 'need', 'certain', 'thi', 'stuff', 'to', 'um', 'down'], [''], [''], ['', 'energy'], ['', 'question', 'think', 'dont', 'answer', 'right', 'now', 'think', 'veri', 'interesting', 'is'], [''], [''], ['', 'like', 'sea', 'ha', 'magic', 'pollut', 'basic', 'recycl', 'prestige'], ['', 'like', 'happen', 'burn', 'it', 'yeah'], ['', 'like', 'happen', 'it', 'bad', 'good', 'piss', 'sea', 'more', 'dangerous', 'renewable', 'there', 'like', 'it', 'whatever'], ['', 'right'], ['', 'like', 'like', 'idea', 'me'], ['', 'uh', 'thing', 'note', 'game', 'sort', 'meant', 'plai', 'sort', 'easi', 'answer', 'questions'], ['', 'thats—', 'dont', 'think', 'that', 'thi', 'is'], ['', 'think', 'there', 'version', 'thi', 'it', 'like', 'mysteri', 'thing'], ['', 'uh', 'yknow', 'discov', 'somewhat', 'sustain', 'wai', 'magic', 'hunt', 'fuckin', 'ey', 'newt', 'whatever', 'right', 'there', 'thi', 'prestig', 'magic', 'responsibly'], ['', 'far', 'know', 'wer', 'onli', 'discov', 'it'], ['', 'yeah'], ['', 'mayb', 'it', 'gift', 'sentient', 'ocean', 'love', 'want', 'care', 'us', 'like', 'weird', 'shit'], ['', 'so', 'therefore', 'like', 'answer', 'citi', 'underwater', 'like'], [''], [''], ['', 'magic', 'energi', 'dai', 'kind', 'with'], ['', 'also—', 'would—', 'love', 'thi', 'idea', 'think', 'that', 'veri', 'cool'], ['', 'quite'], [''], [''], ['', 'wouldnt', 'accessible'], ['', 'think', 'need', 'kind', 'difficulti', 'obtain', 'it'], ['', 'absolutely'], ['', 'it', 'someth', 'like', 'coral', 'form', 'coral', 'someth', 'like', 'that'], ['', 'like', 'process'], ['', 'wer', 'kind', 'game', 'accident', 'littl', 'bit', 'sort', 'preprophase'], ['', 'like', 'thi', 'kind', 'thing', 'ar', 'game'], ['', 'okay'], ['', 'think', 'leav', 'at', 'came', 'know', 'it', 'just'], [''], [''], ['', 'yeah'], ['', 'there—', 'salt', 'present'], ['', 'magic', 'salt'], ['', 'alright', 'prestige', 'magic', 'salt'], ['', 'okay', 'great'], ['', 'there'], ['', 'well', 'figur', 'like', 'fuck', 'mean', 'later'], ['', 'think', 'that', 'thing', 'abund', 'though', 'right', 'that', 'thing', 'that'], [''], [''], ['', 'yeah', 'right', 'like', 'its—', 'yeah'], ['', 'there', 'resourc', 'there'], ['', 'dont', 'think', 'unity', 'inherently', 'like—', 'ar', 'formerli', 'war', 'cultur', 'ar', 'becaus', 'thei', 'heard', 'voice', 'like', 'feel', 'like', 'gotta', 'earn', 'littl', 'bit'], ['', 'yeah'], ['', 'cultur', 'someth', 'mayb', 'thei', 'need', 'peopl', 'come', 'join', 'thi', 'project'], ['', 'like', 'is—', 'think', 'veri', 'contenti', 'thing', 'right', 'therel', 'peopl', 'like', '“your', 'worri', 'art', 'wer', 'try', 'figur', 'food”', 'like'], [''], [''], ['', 'yes'], ['', 'yeah', 'like', 'super', 'want', 'to'], [''], [''], ['', 'term', 'tone', 'like', 'dont', 'want', 'things'], [''], [''], ['', 'yknow', 'dont', 'want', 'bigotri', 'anyth', 'like', 'that', 'like', 'becaus', 'thei', 'rivals'], ['', 'absolutely'], ['', 'chanc', 'to—', 'think', 'it', 'prioritizing', 'like', 'things', 'right', 'right'], ['', 'your', 'gonna', 'peopl', 'like', 'magic', 'ha', 'alwai', 'their', 'like', 'goto', 'answer', 'things'], ['', 'right'], ['', 'peopl', 'ar', 'like', '“no', 'wer', 'gonna', 'craft', 'hands', 'it', 'reliabl', 'way'], ['”', 'dont', 'think', 'ha', 'bigotri', 'it', 'just', 'uh', 'like'], [''], [''], ['', 'wai', 'things'], ['', 'thats—', 'no', 'cant', 'trust', 'magic', 'trust', 'yknow', 'wood', 'stone', 'metal', 'stuff'], ['', 'think', 'plai', 'thing', 'saying'], ['', 'yknow', 'unity', 'culture', 'things'], [''], [''], ['', 'gotcha'], ['', 'theyr', 'figur', 'thi', 'stuff', 'overlap', 'success', 'way'], ['', 'um', 'to—', 'your', 'suppos', 'draw', 'thi', 'stuff', 'uh', 'it'], ['', 'like', 'prestig', 'might—', 'just'], [''], [''], ['', 'draw', 'magic'], [''], [''], ['', 'sort', 'silveri', 'waves'], [''], [''], ['', 'well', 'that', 'confusing', 'caus', 'it', 'fuckin', 'ocean'], ['', 'would', 'griffin', 'shade', 'edge'], ['', 'like', 'mayb', 'wa', 'discovered', 'like', 'coat', 'rock', 'ar', 'like', 'near—', 'like', 'that', 'it', 'dried'], ['', 'oh', 'like', 'mayb', 'near', 'tide', 'pools'], ['', 'like', 'becaus', 'wai', 'water', 'kind', 'come', 'rock', 'there', 'that', 'like', 'it'], ['', 'that', 'good'], ['', 'right', 'water', 'ha', 'like', 'yknow', 'evaporated', 'it', 'left', 'thi', 'like', 'crystallin', 'coat', 'it'], ['', 'okay'], ['', 'um'], [''], [''], ['', 'yeah', 'ill', 'draw', 'near', 'here'], ['', 'uh', 'then', 'wer', 'suppos', 'draw', 'scarcities', 'ar', 'sort', 'of', 'uh', 'highminded'], ['', 'like', 'dont', 'know', 'draw', 'scarciti', 'culture'], ['', 'draw', 'hand', 'shaking'], ['', 'yeah'], ['', 'hand', 'shaking', 'like', 'statue'], ['', 'copi', 'borat', 'dvd'], ['', 'yeah'], ['', 'yeah'], ['', 'okay', 'so', 'got', 'basic', 'start', 'map', 'here'], ['', 'resources'], ['', 'now', 'ar', 'game', 'so', 'let', 'wer', 'actual', 'plai', 'game'], ['', 'round', 'ar', 'basic', 'separ', 'weeks'], ['', 'basic', 'unit', 'play'], ['', 'week', 'turn', 'taken', 'by—', 'im', 'gonna', 'read', 'straight', 'thing', 'here'], ['', '“each', 'week', 'turn', 'taken', 'player', 'plai', 'proceed', 'clockwis', 'table'], ['”', 'dont', 'that', 'mayb', 'left', 'right', 'base', 'littl', 'icon', 'here'], ['', '“week', 'averag', 'minut', 'complete'], ['”', 'well', 'that'], ['', 'um', 'so', 'dure', 'week', 'thing', 'happen'], ['', 'thing', 'draw', 'card', 'thi', 'deck'], ['', 'quiet', 'year', 'provid', 'basic', '52', 'prompts', 'uh', 'yknow', '52', 'week', 'year', '52', 'card', 'deck', 'cards'], ['', 'read', 'prompts'], ['', 'prompt', 'options', 'essentially', 'choos', 'option', 'want', 'card'], ['', 'rather', 'player', 'turn', 'choos', 'option', 'it', 'usual', 'question', 'need', 'answered', 'direct', 'need', 'tobe', 'sort', 'followed'], ['', 'will—', 'well', 'explain', 'go', 'again', 'card', 'ar', 'sort', 'separ', 'seasons'], ['', 'start', 'spring', 'end', 'winter'], ['', 'card', 'winter', 'the'], [''], [''], ['', '“frost', 'shepherds”', 'believ', 'it', 'called'], ['', 'frost', 'shepherd', 'arrive', 'game', 'immedi', 'ends'], ['', 'probabl', 'wont', '52', 'weeks'], ['', 'winter', 'onc', 'wer', 'winter', 'ani', 'point', 'dure', 'player', 'turn', 'it', 'done', 'game', 'over', 'thats—', 'have'], ['', 'someth', 'awar', 'of'], ['', 'also', 'spring', 'thing', 'ar', 'kind', 'okay'], ['', 'figur', 'thing', 'look', 'like', 'summer', 'well', 'shore', 'resources', 'thing', 'harder', 'there'], ['', 'so', 'draw', 'card', 'resolv', 'it'], ['', 'down—', 'there', 'countdown', 'essentially', 'project', 'start', 'is'], [''], [''], ['', 'mayb', 'read', 'step', 'thing', 'first'], ['', 'thing', 'is', 'activ', 'player', 'things'], ['', 'thei', 'discov', 'something', 'then', 'thei', 'add', 'map', 'hold', 'discussion', 'start', 'project'], ['', 'hold', 'discussion', 'start', 'out', 'talk', 'like', 'cool', 'magic', 'or', 'resourc', 'ar', 'important', 'or', 'what', 'prioriti', 'here', 'cant', 'onc', 'start', 'playing'], ['', 'ar', 'meant', 'sort', 'omnipotent', 'uh', 'in'], [''], [''], ['', 'what', 'word', 'im', 'look', 'for', 'entities', 'uninvolv', 'sort', 'entiti', 'ar', 'like'], [''], [''], ['', 'cant', 'rooting', 'necessarily', 'thing', 'succeed', 'like', 'ourselv', 'softballs'], ['', 'like', 'are—', 'wai', 'around', 'too'], ['', 'your', 'necessarili', 'try', 'punish', 'caus', 'failure'], ['', 'no', 'wer', 'try', 'screw', 'ourselv', 'over'], ['', 'like', 'start', 'differ', 'directions', 'mai', 'behoov', 'activ', 'player', 'sai', 'like', '“let', 'talk', 'this'], ['”', 'talk', 'it', 'ar', 'talk', 'perspect', 'member', 'community'], ['', 'there', 'veri', 'specif', 'wai', 'talk', 'it'], ['', 'like', 'your', 'hold', 'town', 'hall'], ['', 'right', 'um', 'start', 'project', 'a', 'yknow', 'repres', 'concert', 'effort', 'commun', 'achiev', 'something'], ['', 'um', 'it', 'veri', 'import', 'dont', 'discov', 'someth', 'project', 'right', 'like', 'oh', 'need', 'food'], ['', 'oh', 'discov', 'fuckin', 'mcdonald', 'the—', 'like', 'no'], ['', 'like', 'need', 'start', 'project', 'to', 'yknow', 'build', 'farm', 'hunt', 'parties'], ['', 'yeah', 'dont', 'like', 'friend', 'debbi', 'who', 'like', '“oh', 'discov', 'cutest—', 'cutest', 'littl', 'restaur', 'day'], ['”', 'like', 'didnt', 'it', 'wasnt', 'hidden', 'woods', 'debbie', 'didnt', 'it'], ['', 'wa', 'yelp'], ['', 'um', 'so', 'ar', 'things', 'right', 'draw', 'card', 'resolv', 'it', 'count', 'project', 'dice', 'discov', 'someth', 'new', 'hold', 'discussion', 'start', 'project'], ['', 'rule', 'like', 'them'], ['', 'that', 'it'], ['', 'cross', 'road', 'like', 'else', 'yknow', 'doing'], ['', 'basic', 'round', 'week'], ['', 'let', 'it'], ['', 'let', 'it'], ['', 'gui', 'like', 'kind', 'illustrate'], [''], [''], ['', 'uh', 'yeah'], ['', 'im', 'horni', 'cards', 'griffin', 'yes', 'im', 'draw', 'card'], ['', 'famili', 'listen', 'this'], ['', 'yeah'], ['', 'got', 'queen', 'spring'], ['', '“what', 'beauti', 'thing', 'thi', 'area', 'or', 'what', 'hideou', 'thing', 'thi', 'area”', 'well', 'magic', 'lake', 'butthol', 'already', 'so'], [''], [''], ['', 'right', 'prompt', 'ar', 'thing', 'answer', 'shit', 'that', 'alreadi', 'there'], ['', 'oh', 'know'], ['', 'it', 'someth', 'need', 'to—', 'want', 'sai', 'butthole', 'griffin'], ['', '—', 'figur', 'out'], ['', 'um', 'a'], [''], [''], ['', 'cave'], [''], [''], ['', 'uh', 'shore', 'sort', 'like', 'right', 'foot', 'einarr', 'plateau', 'land', 'kind', 'run', 'into'], ['', 'like', 'right', 'cave'], [''], [''], ['', 'um', 'that'], [''], [''], ['', 'nobodi', 'inside'], ['', 'it', 'like', 'a—', 'it', 'bar', 'up'], ['', 'it', 'like', 'peopl', 'try', 'it', 'it', 'fear', 'whatever', 'thei', 'ar', 'physic', 'incap', 'thi', 'cave'], ['', 'kind', 'like', 'barrier', 'see', '“the', 'hideou', 'thing”', 'say'], ['', 'yeah'], ['', 'like', 'barrier', 'see', 'like', 'something—', 'no', 'barrier'], ['', 'mental', 'barrier'], ['', 'got', 'it'], ['', 'okay'], ['', 'it', 'like', 'a', 'oh', 'lets—', 'think', 'kid', 'dare', 'themselves', 'like', 'oh', 'let', 'go'], ['', 'yknow', 'thei', 'do', 'becaus', 'nobodi', 'actual', 'abl', 'inside'], ['', 'okay', 'choos', 'discov', 'something', 'start', 'project', 'discussion', 'right', 'well', 'thing', 'is', 'need', 'to', 'uh', 'count', 'clocks'], ['', 'youll', 'see', 'special', 'littl', 'clock', 'veri', 'top'], ['', 'one', 'yes'], ['', 'um', 'so', 'im', 'gonna'], [''], [''], ['', 'all', 'delet', 'thi', 'littl', 'dot', 'accident', 'made'], [''], [''], ['', 'oh', 'jeez'], ['', 'oh', 'jeez'], ['', 'oh', 'jeez'], ['', 'go'], ['', 'uh', 'im', 'gonna', 'count', 'thi', 'down'], ['', 'thi', 'gonna', 'be'], [''], [''], ['', 'seven'], ['', 'thi', 'is', 'uh—', 'thi', 'special', 'event', 'clock', 'got', 'going'], ['', 'okay'], ['', 'count', 'down', 'someth', 'world', 'happen', 'kingdoms'], ['', 'everybodi', 'toyota', 'camry', 'yes'], ['', 'okay'], ['', 'hell', 'yeah'], ['', 'so', 'uh', 'yes'], ['', 'now', 'week', 'discov', 'someth', 'new', 'hold', 'discussion', 'start', 'project'], ['', 'think', 'like'], [''], [''], ['', 'good', 'project', 'be'], [''], [''], ['', 'like', 'shelter'], ['', 'yeah'], ['', 'there', 'enough', 'like', 'camp', 'suppli', 'folk', 'to', 'uh'], [''], [''], ['', 'folk', 'to', 'yknow', 'die'], ['', 'especi', 'theyr', 'try', 'and—', 'people', 'yknow', 'heed', 'call', 'start', 'come', 'here', 'wer', 'gonna', 'need', 'some'], [''], [''], ['', 'wer', 'gonna', 'need', 'housing'], ['', 'mayb', 'like', 'long', 'houses'], ['', 'like', 'superefficient', 'uh', 'bunk', 'houses'], ['', 'noth', 'like', 'super', 'fancy', 'save', 'elements'], ['', 'sense'], ['', 'okay'], ['', 'im', 'gonna', 'draw', 'thi', 'right', 'here'], ['', 'thi', 'realli', 'gonna', 'something—', 'clarify', 'thi', 'realli', 'someth', 'ephemer', 'possible'], ['', 'wer', 'talk', 'like', 'survival'], ['', 'yes'], ['', 'wer', 'building—', 'thi', 'temporary'], ['', 'thi', 'so—', 'thi', 'gonna', 'last—', 'think', 'everybodi', 'know', 'thei', 'ar', 'build', 'construct', 'site', 'noth', 'else'], ['', 'um'], [''], [''], ['', 'shithouse', 'shithouse', 'becaus', 'it', 'gonna', 'bad'], ['', 'like', 'nobodi', 'like', 'it', 'didnt', 'work', 'veri', 'hard', 'it'], ['', 'mayb', 'that', 'wa', 'right', 'away', 'it', 'everyon', 'refer', 'as'], ['', 'shithouse'], ['', '“over', 'uhh', 'shithouse'], ['', 'yknow'], ['”', 'uh', 'yeah'], ['', 'so', 'thing', 'whenev', 'start', 'project', 'decid', 'mani', 'week', 'complet', 'it', 'wai', 'six'], ['', 'week', 'someth', 'take', 'week', 'least'], ['', 'think', 'number', 'peopl', 'ar', 'alreadi', 'here', 'think', 'thi', 'shithous', 'repres', 'lot', 'shithouses', 'hundr', 'hundr', 'peopl', 'go'], ['', 'becaus', 'think', 'everybodi', 'bank', 'on'], [''], [''], ['', 'many', 'many', 'mani', 'folk', 'actual', 'thei', 'start', 'head', 'underground'], ['', 'im', 'gonna', 'sai', 'month'], ['', 'im', 'gonna', 'sai', 'week', 'like', 'actual', 'going'], ['', 'sense'], ['', 'im', 'gonna', 'here', 'end', 'turn'], ['', 'um', 'dad', 'ar', 'in', 'screen', 'order', 'dont', 'next', 'will—', 'oh', 'that', 'right'], ['', 'draw', 'card', 'you'], ['', 'okay'], ['', 'hearts'], ['', 'spring'], ['', '“there', 'anoth', 'commun', 'somewhere—”', 'correct'], ['', 'hearts', 'spring'], ['', 'yeah', 'yeah'], ['', '“there', 'anoth', 'commun', 'somewher', 'map'], ['', 'ar', 'they', 'set', 'apart', 'you', 'or', 'belief', 'practic', 'help', 'unifi', 'community”', 'um', 'think', 'ill', 'belief', 'practic', 'help', 'unifi', 'community'], ['', 'think', 'that', 'great'], ['', 'yeah'], ['', 'everybodi', 'thi', 'descend', 'layer', 'death', 'coming', 'correct', 'yeah'], ['', 'enorm', 'storm', 'everybodi', 'see', 'sort', 'hang', 'ocean', 'some', 'yknow', 'number', 'mile', 'away'], ['', 'right'], ['', 'sow', 'know'], [''], [''], ['', 'thi', 'societi', 'know', 'devast', 'coming', 'they—', 'think', 'belief', 'thei', 'realiz', 'thei', 'all—', 'onli', 'place', 'thei', 'sea'], ['', 'right'], ['', 'onli', 'place', 'thei', 'build', 'someth', 'allow', 'live', 'underwater'], ['', 'mmhmm'], ['', 'thei', 'dont', 'know', 'long', 'thi', 'storm', 'gonna', 'last', 'it', 'permanent'], [''], [''], ['', 'right'], ['', 'thei', 'tell', 'it', 'coming', 'so', 'that', 'allevi', 'lot', 'of', 'uh', 'argument'], ['', 'okay'], ['', 'everybodi', 'know', 'that', 'goal'], ['', 'fearbas', 'uniti', 'everybodi', 'ha', 'right', 'now'], ['', 'yeah', 'okay'], ['', 'im', 'move', 'um', 'uniti', 'abund', 'then', 'right', 'okay'], ['', 'because—', 'yknow', 'mayb', 'it', 'longlast', 'unity', 'yknow', 'think', 'everybody—', 'first'], ['', 'it', 'like', 'post911', 'right', 'yeah'], ['', 'well', 'thi', 'the—', 'gotta', 'remember', 'thi', 'second', 'week', 'thi', 'group', 'sort', 'nomad', 'here'], ['', 'week', 'two', 'think', 'theyv', 'like', '“okay', 'wer', 'gonna', 'die', 'dont', 'start', 'realli', 'work', 'together'], ['”', 'post911', 'too', 'great', 'analogy'], ['', 'yeah'], ['', 'thi', 'fun', 'topic', 'podcast', 'too', 'feedback', 'lot'], ['', 'history'], ['', 'history'], ['', 'shouldv', 'thought', 'this', 'though'], ['', 'wa', 'particularly', 'uh', 'good', 'steward', 'rules'], ['', 'said', 'wer', 'build', 'houses', 'build', 'materi', 'someth', 'scarcity'], ['', 'like', 'dont', 'know'], [''], [''], ['', 'shouldv', 'thought', 'about—', 'ar', 'shitti', 'houses', 'then'], ['', 'like', 'wer', 'essenti', 'sand—', 'sandcastl', 'thei', 'are'], ['', 'well', 'mayb', 'thi', 'someth', 'interesting', 'where'], [''], [''], ['', 'mean', 'that', 'veri', 'human', 'start', 'project', 'materi', 'your', 'gonna', 'finish', 'it'], ['', 'becom', 'like', 'someth', 'solv', 'veri', 'quickly'], ['', 'yeah'], ['', 'okay'], ['', 'so', 'next'], [''], [''], ['', 'dad', 'want', 'draw'], [''], [''], ['', 'feel', 'like', 'storm', 'hu—', 'here', 'well', 'storm', 'it', 'right', 'like', 'that', 'thing', 'theyr', 'afraid', 'of'], ['', 'right'], ['', 'let', 'can'], [''], [''], ['', 'mayb', 'corner', 'here', 'becaus', 'dont', 'want', 'storm', 'occupi', 'like', 'entireti', 'thi', 'map'], ['', 'well', 'im', 'add', 'littl', 'bit', 'of', 'uh', 'nauseat', 'green'], ['', 'whoa'], ['', 'it', 'like', 'iridesc', 'storm', 'like', 'aurora', 'borealis', 'im', 'that'], ['', 'iv', 'think', 'lot', 'like'], [''], [''], ['', 'it', 'magic', 'water'], ['', 'like', 'doesnt', 'be', 'yknow', 'grai', 'blue', 'ocean', 'water', 'whatever'], ['', 'kind', 'of', 'uh', 'oily', 'like', 'iridesc', 'sheen', 'could', 'yknow', 'suck', 'thi', 'big', 'storm', 'turn', 'beautiful'], [''], [''], ['', 'like', 'brightli', 'color', 'deadli', 'thing', 'thi', 'show', 'iv', 'discovered'], ['', 'realli', 'do', 'brightli', 'color', 'forc', 'apocalypt', 'destruction'], ['', 'think', 'like', 'multisyllab', 'word', 'describ', 'like', 'shini', 'thing'], ['', 'yknow', 'it', 'iridescent'], ['', 'it', 'opalescent'], ['', 'anyth', 'like', 'that'], ['', 'alright', 'there', 'storm'], ['', 'there', 'storm', 'evil', 'nauseatingness'], ['', 'okay'], ['', 'uh', 'reduc', 'project', 'clocks', 'right', 'now'], ['', 'then', 'dad', 'choos', 'discov', 'something', 'hold', 'discussion', 'start', 'project'], ['', 'um'], [''], [''], ['', 'hold', 'discussion'], ['', 'okay'], ['', 'thi', 'discuss', 'place', 'perspect', 'member', 'community'], ['', 'hold', 'discussion', 'choos', 'open', 'question', 'declaration', 'clint'], ['', 'start', 'clockwise', 'everyon', 'weigh', 'once', 'share', 'singl', 'argument', 'compris', 'sentences'], ['', 'open', 'question', 'weigh', 'last'], ['', 'open', 'declaration', 'that', 'you'], ['', 'uh', 'discuss', 'result', 'decis', 'summat', 'process'], ['', 'everyon', 'weigh', 'in', 'it', 'over'], ['', 'thi', 'convers', 'work', 'communities'], ['', 'thei', 'ar', 'untidi', 'inconclus', 'affairs'], ['', 'associ', 'created'], ['', 'ha', 'asso—', 'no'], ['', 'share', 'rule', '“hold', 'discussion”', 'you'], ['', 'ha', 'share', 'someth', 'map'], ['', 'right', 'mark', 'littl', 'dot', 'note', 'discuss', 'wa', 'thing'], ['', 'discuss', 'anyth', 'right', 'that', 'map'], ['', 'question', 'is', 'know', 'thi', 'storm', 'danger', 'us', 'know', 'it', 'someth', 'that', 'beneficial', 'it', 'to'], [''], [''], ['', 'yknow', 'superpowers', 'someth', 'like', 'that', 'know', 'it', 'bad', 'inkling', 'base', 'intro', 'like', 'sort', 'world', 'powers'], [''], [''], ['', 'like', 'person', 'held', 'thi', 'discuss', 'wouldv', 'come', 'from', 'this', 'essentially', 'climat', 'chang', 'denier'], ['', 'youv', 'sort', 'existence'], ['', 'um'], [''], [''], ['', 'second', 'caus', 'actual', 'notes'], ['', 'goes'], ['', 'nerd'], ['', 'think', 'come', 'hominine'], ['', 'okay'], ['', 'lot', 'sense'], ['', 'mean', 'thei', 'magic', 'their—', 'magic', 'shit'], ['', 'thei', 'studi', 'magic'], ['', 'yeah'], ['', 'yeah', 'thei', 'studi', 'magic'], ['', 'thi', 'thing', 'ha', 'mystifi', 'them'], ['', 'know', 'thi', 'gonna', 'kill', 'everybody', 'um'], [''], [''], ['', '“you', 'heard', 'like', 'did', 'wouldnt', 'here'], ['', 'clearly', 'there', 'someth', 'wrong', 'there', 'noth', 'benevol', 'fix', 'it'], ['', 'got', 'call', 'came', 'doubt', 'already'], ['”', 'um'], [''], [''], ['', '“the', 'peopl', 'southern', 'archipelago', 'alreadi', 'lost', 'quit', 'bit', 'thi', 'storm', 'ha', 'onli', 'grown', 'intens', 'pass', 'months'], ['', 'so', 'write', 'wall'], ['”', 'yeah'], ['', 'that', 'cool', 'juice'], ['', 'firbolg', 'wer', 'suppos', 'charact', 'quiet', 'year', 'im', 'realli', 'curiou', 'dude'], ['', 'uh'], [''], [''], ['', 'uh', 'im'], [''], [''], ['', '“im', 'busy'], ['', 'iv', 'time', 'talk'], ['', 'work'], ['”', 'uh', 'dad', 'close', 'statement'], ['', 'um'], [''], [''], ['', '“excel', 'points'], ['”', '“and', 'especi', 'guy'], ['', '‘we', 'got', 'work', 'do'], ['’', 'thank', 'you', 'delmer'], ['”', 'wa', 'gonna', 'southern', 'archipelago', 'griffin', 'mess', 'up', 'caus', 'pick', 'southern', 'archipelago', 'didnt', 'know', 'anyth', 'ones'], ['', 'kind', 'of'], [''], [''], ['', 'think', 'wa', 'veri', 'delmer', 'sort', 'sensibility'], ['', 'felt', 'delmer', 'moment'], ['', 'felt', 'delmer'], ['', 'wa', 'delmer', 'hell'], ['', 'yes', 'absolutely'], ['', 'veri', 'delmer'], ['', 'dude', 'wa', 'delmer', 'theyr', 'hi', 'wilds'], ['', '“yknow', 'came', 'wilds'], [''], [''], ['”', 'remember', 'dont', 'come', 'tidi', 'conclus', 'discussion'], ['', 'right'], ['', 'yeah'], ['', '“i', 'appreci', 'everybody', 'viewpoint', 'think', 'there', 'valid', 'point', 'there'], ['”', 'alright'], ['', 'oh', 'dad', 'wa', 'too'], ['', 'cool'], ['', 'barely'], ['', 'uh', 'let', 'fuckin', 'setup', 'game', 'new', 'season'], ['', 'well', 'figur', 'janitor', 'clint', 'there'], ['', '‘caus', 'dead', 'time', 'game', 'began'], ['', 'yeah'], ['', 'uh', 'travis'], ['', 'yes', 'draw', 'me', 'griffin', 'ah', 'yes'], ['travi', 'ha', 'drawn', 'king', 'spring', 'ah'], ['', 'yeah'], ['', 'so', 'is', 'king', 'spring'], [''], [''], ['', 'once', 'wa', 'king', 'spring', 'alright'], ['', 'uh', 'king', 'spring'], ['', '“a', 'young', 'boi', 'start', 'dig', 'ground', 'discov', 'someth', 'unexpected'], ['', 'it', 'or', 'old', 'man', 'confess', 'past', 'crime', 'atrocities'], ['', 'ha', 'done”', 'think', 'im', 'gonna', 'young', 'boy'], ['', 'he', 'dig', 'ground', 'discov', 'someth', 'unexpected'], ['', 'it', 'uh', 'say', 'dig', 'ground', 'uh'], [''], [''], ['', 'dig', 'ground', 'kind', 'pebbl', 'shore', 'start', 'metal', 'stone', 'mix', 'regular', 'pebbles'], ['', 'metallic—', 'sai', 'metal', 'stones', 'ar', 'talk', 'sort', 'of', 'uh', 'naturallook', 'rock', 'happen', 'metal', 'ar', 'talk', 'fragment', 'thing', 'like', 'hunk', 'ore'], ['', 'okay'], ['', 'um'], [''], [''], ['', 'ar', 'thei', 'corroded', 'ar', 'thei', 'rust', 'ani', 'way', 'ar', 'they', 'uh'], [''], [''], ['', 'theyr', 'processed'], ['', 'ar', 'like', 'natur', 'occur', 'hunk', 'ore'], ['', 'your', 'right'], ['', 'shouldnt—', 'thi', 'a—', 'that', 'kind', 'thing', 'project', 'like', 'do'], ['', 'okay', 'yeah'], ['', 'thi', 'just—', 'he', 'discov', 'hunk', 'ore'], ['', 'like', 'two'], ['', 'mean', 'like', 'onc', 'layer', 'pebbles', 'appear', 'mani', 'them'], ['', 'doodl', 'map', 'me', 'count', 'clocks'], ['', 'the'], [''], [''], ['', 'shithouses'], ['', 'world', 'clock'], ['', 'uh', 'okay', 'to', 'youv', 'drawn', 'things'], [''], [''], ['', 'ar', 'they', 'uh'], [''], [''], ['', 'ar', 'thei', 'concentr', 'ani', 'wai', 'certain', 'beach', 'youv', 'drawn', 'close', 'scari', 'cave'], ['', 'mean', 'theyre—', 'yeah'], ['', 'theyr', 'definit', 'south', 'coast', 'primarily'], ['', 'gotcha'], ['', 'now', 'discov', 'something', 'start', 'conversation', 'start', 'project'], ['', 'start', 'project'], ['', 'think', 'need', 'elections'], ['', 'whoa'], ['', 'need', 'organize', 'like', 'repres', 'landmasses'], ['', 'kind', 'peoples', 'smooth', 'decisionmak', 'process'], ['', 'im', 'someth', 'havent', 'talk', 'contempt'], ['', 'is', 'becaus', 'sort', 'turns', 'ar', 'fulli', 'individu', 'thing'], ['', 'disagre', 'someth', 'somebodi', 'els', 'doing', 'point', 'contempt'], ['', 'mostli', 'sort', 'social', 'signifier'], ['', 'it', 'like', 'end', 'year', 'add', 'contempt', 'points', 'mani', 'peopl', 'die', 'whatever'], ['', 'thing', 'sort', 'tracker', 'for', 'yknow', 'player', 'uniti', 'thing'], ['', 'dont', 'like', 'my'], [''], [''], ['', 'elections', 'griffin', 'uh', 'dont', 'like', 'idea', 'of—', 'wait', 'dont', 'say'], ['', 'hold', 'discuss', 'talk', 'that'], ['', 'okay', 'fair', 'fair', 'fair'], ['', 'hard', 'fight', 'instinct', 'like'], [''], [''], ['', 'okay'], ['', 'uh', 'im', 'say', 'becaus', 'it', 'mostli', 'discuss', 'construction', 'im', 'say', 'uh', 'weeks'], ['', 'okay'], ['', 'ahead', 'draw', 'it'], ['', 'uh', 'gotta', 'draw', 'map', 'dont', 'know', 'draw', 'election'], ['', 'x', 'os'], ['', 'x', 'os'], ['', 'okay', 'that', 'fine'], ['', 'ill', 'add', 'date'], ['', 'long', 'sai', 'take', 'weeks'], ['', 'weeks'], ['', 'kay'], ['', 'mean', 'long', 'doe', 'elect', 'realli', 'take', 'okay'], ['', 'uhh', 'juice'], ['', 'turn'], ['', 'yep'], ['', 'jack', 'spring'], ['', '“you', 'good', 'omen'], ['', 'it', 'or', 'bad', 'omen'], ['', 'it”', 'there', 'a', 'um'], [''], [''], ['', 'pier', 'been—', 'there', 'a—', 'sorry', 'probabl', 'someth', 'that', 'alreadi', 'map'], ['', 'cant', 'like', 'someth', 'up'], ['', 'no', 'can'], ['', 'yeah'], ['', 'yeah', 'thing'], ['', 'again', 'encourag', 'solut', 'thing'], ['', 'like', 'add', 'complic', 'fascin', 'mysteri', 'map', 'is'], [''], [''], ['', 'is'], [''], [''], ['', 'pier', 'ha', 'fishing', 'coast', 'right', 'coastline'], ['', 'the—', 'everyon', 'goe', 'turns', 'um', 'cast', 'line', 'in'], ['', 'thei', 'fish', 'pole', 'there'], ['', 'line', 'ar', 'cut', 'bait', 'floater', 'everything', 'uh'], [''], [''], ['', 'bobber', 'ar', 'specif', 'cut', 'fishing'], ['', 'thei', 'out', 'they—', 'everybodi', 'cast', 'in', 'thei', 'realiz', 'line', 'dont', 'reach'], ['', 'water', 'lower'], ['', 'hm'], ['', 'right', 'pier'], ['', 'thei', 'think', 'it', 'mind', 'plai', 'trick', 'first', 'thei', 'check', 'thei', 'realize', 'like', 'no', 'it', 'right'], ['', 'someth', 'changing'], ['', 'water', 'is', 'um'], [''], [''], ['', 'drag', 'awai', 'right', 'here'], ['', 'thei', 'realiz', 'it', 'low', 'tide', 'theyv', 'silli', 'geese'], ['', 'fuck', 'actual', 'wasnt', 'bad'], ['', 'bad'], ['', '“oh', 'wait', 'six', 'oh', 'okay'], ['”', 'oh', 'oh', 'shit', 'that', 'it'], ['', 'actual', 'perfect', 'sense'], ['', 'that', 'bad', 'omen', 'then'], ['', 'mean', 'think', 'it', 'bad', 'omen'], ['', 'uh', 'south', 'coast', 'west', 'especi', 'combin', 'storm'], ['', 'our', 'uh…', 'draw', 'absolutely'], [''], [''], ['', 'whoa'], ['', 'whoa', 'fuck'], ['', 'justin', 'just'], [''], [''], ['', 'sorry'], ['', 'drew', 'incred', 'purpl', 'line'], ['', 'our', 'um—', 'map', 'kind', 'of—', 'im', 'try', 'wrap', 'head', 'it'], ['', 'it', 'real', 'thinker'], ['', 'it', 'beautiful'], ['', 'it', 'realli', 'cool'], ['', 'it', 'come', 'together', 'well', 'it’', 'coast—', 'there', 'line', 'land—', 'okay'], ['', 'peopl', 'listen', 'home', 'arent', 'directli', 'look', 'this', 'there', 'line', 'ocean', 'land'], ['', 'perfectli', 'straight'], ['', 'there', 'anoth', 'line', 'farther', 'line—', 'oh', 'juice'], ['', 'this—', 'ar', 'differ', 'maps'], ['', 'thi', 'not—', 'oh', 'no'], ['', 'okay', 'sense', 'okay', 'yes'], ['', 'ar', 'differ', 'maps'], ['', 'wasnt', 'ocean', 'side'], ['', 'that', 'differ', 'maps'], ['', 'no'], ['', 'right'], ['', 'yeah'], ['', 'classic', 'style', 'it', 'maps', 'set', 'other'], [''], [''], ['', 'okay'], ['', ''], [''], [''], ['and', 'indic', 'separ', 'maps'], ['', 'mkay'], ['', 'like', 'everybodi', 'els', 'got', 'it', 'though'], ['', 'weird'], ['', 'classic', 'cartography'], ['', 'classic', 'stuff'], ['', 'classic', 'cartography'], ['', 'alright'], ['', 'okay'], ['', 'sens', 'now'], ['', 'alright'], ['', 'let', 'littl', 'dinki', 'pier', 'here', 'then'], ['', 'ad', 'up'], ['', 'probabl', 'wouldv', 'good', 'flip', 'these', 'yknow', 'mean', 'wer', 'gonna—', 'oh', 'god', 'now'], ['', 'yeah', 'wer', 'gonna', 'ocean', 'here', 'wouldv', 'good', 'ocean', 'map'], ['', 'there', 'pier', 'here'], [''], [''], ['', 'tini', 'pier'], ['', 'line', 'dont', 'reach', 'anymore', 'im', 'guess', 'thi', 'gonna', 'help', 'food', 'scarcity'], ['', 'nope'], ['', 'gui', 'know', 'longer', 'lines'], ['', 'think', 'you—', 'whoa'], ['', 'eat', 'fish', 'ethersea', 'cook', 'the—', 'there', 'like', 'very', 'veri', 'specific'], [''], [''], ['', 'it', 'alreadi', 'salted', 'nice'], ['', 'fish', 'fugu', 'fish', 'essentially'], ['', 'like', 'fuck', 'eat', 'etherfish', 'your', 'donezo'], ['', 'uh', 'okay'], ['', 'that', 'bad', 'omen', 'assume'], ['', 'yes'], ['', 'that', 'bad', 'omen'], ['', 'uh', 'okay'], ['', 'you—', 'count', 'clocks', 'choice'], ['', 'uhh', 'action', 'are'], [''], [''], ['', 'remind', 'listeners', 'uh', 'discov', 'someth', 'new', 'hold', 'discussion', 'start', 'project'], ['', 'feel', 'like', 'discov', 'pier'], ['', 'yeah', 'im', 'gonna', 'that'], ['', 'no'], ['', 'differ', 'thing', 'also'], ['', 'oh', 'okay'], ['', 'um'], [''], [''], ['', 'alright', 'want', 'hold', 'discuss', 'everybody'], ['', 'okay'], ['', 'start', 'statement—', '“i', 'declaration”', 'kay'], ['', '”our', 'line', 'ar', 'long', 'fish', 'gui', 'pretti', 'fuck', 'it', 'want', 'everybody'], ['', 'line', 'short', 'reach', 'ocean', 'wer', 'kind', 'fuck', 'up'], ['', 'wer', 'gonna', 'need', 'time'], ['', 'me', 'doug', 'flip'], [''], [''], ['', 'timby'], [''], [''], ['”', 'yeah'], ['', '“or', 'ani', 'us', 'wer', 'gonna', 'pretti', 'fuck', 'while', 'becaus', 'dont', 'know', 'line', 'ar', 'short'], ['', 'also—”', 'thi', 'longest', 'singl', 'statement', 'iv', 'ever—', '“kevin', 'anybodi', 'like', 'come', 'forward', 'uh', 'admit', 'sort', 'fuckin', 'string', 'line', 'parlanc', 'fishin'], [''], [''], ['', 'appreci', 'it', 'becaus', 'ar', 'fuck', 'right', 'now'], ['', 'cant', 'figur', 'out', 'exactli', 'happening', 'announc', 'everybodi', 'today'], ['”', '“i', 'think', 'remember', 'said', 'someth', 'about', '‘why', 'dont', 'build', 'boats’', 'rememb', 'that', 'rememb', 'sai', 'dont', 'build', 'boats”', 'that’s—', 'im', 'allow', 'respond', 'rule', 'of—', 'not'], ['', '“listen', 'cant', 'lose', 'focu', 'worri', 'fish', 'boat', 'ani', 'that'], ['', 'like', 'wer', 'try', 'perman', 'solut', 'imperman', 'live', 'situation'], ['', 'line', 'ar', 'short', 'let', 'food', 'land'], ['”', '“we—', 'far', 'unsaf', 'continu', 'eat', 'ethersea', 'fish', 'ar', 'live', 'water', 'it', 'high', 'time', 'differ', 'food', 'sourc', 'anyways'], ['”', 'end', 'uh', 'okay', 'wer', 'order'], ['', 'it', 'turn'], ['', 'draw', 'card'], ['', 'spring'], ['', '“an', 'old', 'piec', 'machineri', 'discovered', 'broken', 'perhap', 'repairable'], ['', 'it', 'for', 'or', 'old', 'piec', 'machineri', 'discovered', 'curs', 'dangerous'], ['', 'doe', 'commun', 'destroi', 'it”', 'second', 'prompt', 'is', 'feel', 'like', 'wev', 'nasti', 'option', 'everi', 'card'], ['', 'maybe', 'uh'], [''], [''], ['', 'discov', 'ore', 'ar', 'talk', 'about', 'um', 'guess', 'that', 'true'], ['', 'uhh'], [''], [''], ['', 'mmm'], [''], [''], ['', 'im', 'say'], [''], [''], ['', '“an', 'old', 'piec', 'machineri', 'discovered', 'broken', 'perhap', 'repairable'], ['', 'it', 'for”', 'becaus', 'thi', 'sort', 'coastline', 'thi', 'junction', 'kingdoms', 'uh'], [''], [''], ['', 'mayb', 'dure', 'war', 'sort', 'naval', 'combat', 'experi', 'place', 'here'], ['', 'so', 'commun', 'finds', 'wash', 'shore', 'day', 'probabl', 'um'], [''], [''], ['', 'bathysphere', 'wa', 'like'], [''], [''], ['', 'admit', 'bioshock', 'thing', 'like', 'veri', 'veri', 'wai', 'deep', 'sea', 'explor', 'abl', 'shit'], ['', 'it', 'danger', 'metal', 'ball', 'window', 'plonk', 'ocean', 'in'], ['', 'usabl', 'state', 'it', 'in', 'sort', 'a', 'uh', 'yknow'], [''], [''], ['', 'a'], [''], [''], ['', 'ancient', 'piec', 'deep', 'sea', 'technolog', 'that', 'uh', 'probabl', 'hominin', 'origin'], ['', 'wash', 'up'], ['', 'im', 'gonna', 'plonk', 'down—', 'im', 'gonna', 'plonk', 'near', 'pier', 'guess'], ['', 'then'], [''], [''], ['', 'will'], [''], [''], ['', 'countdown', 'timers'], ['', 'littl', 'inner', 'tube', 'look', 'thing', 'bathysphere'], ['', 'yeah', 'no', 'know'], ['', 'got', 'donut', 'power', 'there'], ['', 'thi', 'round', 'project', 'completed'], ['', 'project', 'complet', 'dure', 'somebody', 'turn', 'player', 'start', 'project', 'decid', 'sort', 'happen', 'it'], ['', 'think', 'with'], [''], [''], ['', 'wa', 'sort', 'suggested', 'like', 'um'], [''], [''], ['', 'longhous', 'ar', 'like', 'really—', 'realli', 'poor', 'shape'], ['', 'think', 'there', 'probabl', 'peopl', 'ar', 'like', '“let', 'thi', 'someth', 'habitable'], ['', 'thi', 'leaky', 'rain', 'lot', 'nobodi', 'happy'], ['”', 'like', 'ar', 'peopl', 'come', 'ar', 'like', '“oh', 'yeah', 'heard', 'voic', 'too”', 'thei', 'houses', 'theyr', 'like', '“actually', 'fuck', 'off', 'im', 'done'], ['”', 'wer', 'like', 'bring', 'lot', 'heat', 'this'], ['', 'there', 'peopl', 'ar', 'like', '“no', 'need', 'underwat', 'stuff'], ['”', 'so'], [''], [''], ['', 'longhouses'], ['', 'uh', 'election', 'doe', 'go', 'travis', 'uh', 'so', 'goes'], [''], [''], ['', 'well'], ['', 'end', 'council', 'four', 'nobodi', 'realli', 'like', 'landslid', 'in'], ['', 'um', 'so', 'council', 'everyon', 'kind', 'begrudgingli', 'listen', 'to'], ['', 'okay'], ['', 'so', 'ha', 'improv', 'idea', 'unity', 'definit', 'solv', 'it'], ['', 'it', 'like', '“yeah', 'whatev', 'gui', 'want”', 'it', 'like', '“okay'], [''], [''], ['”', 'actual', 'argue—', 'mean', 'sound', 'like', 'stuff', 'done', 'uniti', 'mayb', 'abund', 'anymore', 'wa', 'sort', 'contenti', 'thing'], ['', 'yeah', 'that', 'thing'], ['', 'it', 'mayb', 'make'], [''], [''], ['', 'mayb', 'streamlin', 'project', 'time', 'yeah', 'mayb', 'mind', 'whenev', 'decid', 'project', 'time', 'future', 'like', 'wer', 'shit', 'now'], ['', 'oh', 'im', 'add', 'uh'], [''], [''], ['', 'abundance'], [''], [''], ['', 'shouldv', 'thi', 'brought', 'up', 'like', 'weird', 'ore'], ['', 'yeah'], ['', 'okay'], ['', 'got', 'it'], ['', 'alright'], ['', 'um'], [''], [''], ['', 'so', 'wrap', 'up'], [''], [''], ['', 'oh', 'turn'], ['', 'discov', 'something', 'start', 'project', 'or'], [''], [''], ['', 'um'], [''], [''], ['hm'], ['', 'think', 'sect', 'like', 'hominin', 'scholars', 'cant', 'stop', 'think', 'cave', 'ar', 'try', 'figur', 'wai', 'trick', 'brain', 'whatev', 'sort', 'magic', 'peopl', 'out', 'try', 'like', 'figur', 'sourc', 'that', 'in'], ['', 'caus', 'think', 'thei', 'ar', 'convinc', 'that—', 'thi', 'cave', 'reason', 'thei', 'brought', 'here'], ['', 'dont', 'think', 'it', 'larg', 'conting', 'people'], ['', 'think', 'ar', 'lot', 'peopl', 'ar', 'like', '“yeah', 'wast', 'time', 'shit', 'yknow', 'magic', 'friends'], ['', 'wer', 'gonna', 'real', 'work'], ['”', 'im', 'draw'], [''], [''], ['', 'little'], [''], [''], ['', 'dont', 'know', 'like', 'magnifi', 'glass', 'cave'], ['', 'look', 'like', 'sperm', 'so', 'iv', 'fuck', 'up'], ['', 'happens'], ['', 'happens'], ['', 'im', 'gonna', 'say—', 'im', 'gonna', 'say', 'yknow', 'sai', 'longer', 'think'], [''], [''], ['', 'well', 'no', 'thei', 'wouldnt', 'realli', 'benefit', 'like', 'streamlin', 'shit'], ['', 'no'], ['', 'theyr', 'own'], ['', 'think', 'thi', 'probabl', 'thoroughli', 'order', 'community'], ['', 'so', 'im', 'gonna', 'sai', 'thi', 'gonna', 'weeks'], ['', 'uh', 'it', 'dad'], ['', 'okay'], ['', 'hearts', 'spring'], ['', '“what', 'import', 'basic', 'tool', 'doe', 'commun', 'lack', 'ar', 'you—', 'or', 'ar', 'store', 'food', 'thi', 'riski', 'place', 'store', 'things”', 'okay', 'im', 'gonna', 'import', 'basic', 'tool', 'doe', 'community—', 'havent', 'alreadi', 'dealt', 'that', 'well', 'thi', 'specif', 'end', 'right', 'thi', 'isnt', 'like', 'scarcity', 'like', '“what', 'dont', 'thi', 'tool', 'thi', 'tool'], ['”', 'yknow', 'littl', 'granular', 'it'], ['', 'yeah', 'answer', 'one'], ['', 'a—', 'yknow', 'mayb', 'straightforward'], ['', 'no', 'im', 'gonna', 'stick', 'basic', 'tool', 'lack'], ['', 'um', 'think', 'were', 'um'], [''], [''], ['', 'think', 'dont', 'lot', 'weapons'], ['', 'dont', 'lot', 'like', 'um'], [''], [''], ['', 'mean', 'think', 'ar', 'basic', 'blade', 'club', 'everyth', 'else', 'dont', 'think', 'lot', 'rang', 'weapons'], ['', 'dont', 'lot', 'of', 'um'], [''], [''], ['', 'uh', 'projectil', 'weapons'], ['', 'mainli', 'hunting', 'or'], [''], [''], ['', 'like', 'defense', 'defens', 'something', 'havent', 'realli', 'talk', 'like', 'environ', 'wer', 'in'], ['', 'yeah', 'dont', 'know', 'threat', 'be'], ['', 'hunting'], ['', 'the', 'like—', 'ar', 'sai', 'like', 'hunt', 'food', 'defense', 'like', 'sieg', 'weapons'], ['', 'martial'], ['', 'martial', 'weapons'], ['', 'well', 'yeah'], ['', 'im', 'think', 'like', 'cannon', 'thing', 'like', 'that'], ['', 'theyv', 'evacu', 'fairli', 'short', 'order', 'think', 'thing', 'think', 'left', 'cannon', 'and', 'yknow', 'anyth', 'big', 'like', 'that'], ['', 'think', 'thei', 'have'], [''], [''], ['', 'that', 'interesting', 'too', 'becaus', 'dont', 'know', 'fuck', 'sea'], ['', 'like', 'certainli', 'bring', 'any'], [''], [''], ['', 'ani', 'sort', 'of'], [''], [''], ['', 'like', 'dont', 'think', 'wev', 'spent', 'time', 'invent', 'like', 'cannons'], ['', 'sea', 'cannons'], ['', 'let', 'pitch', 'this', 'then'], ['', 'let', 'scarciti', 'defens', 'weapons', 'think', 'good', 'wai', 'this'], ['', 'yknow', 'thing', 'equal', 'mayb', 'abund', 'side', 'like', 'hunt', 'gear'], ['', 'like', 'abundance'], ['', 'like', 'got', 'that'], ['', 'ar', 'hunting'], ['', 'that', 'a—', 'yknow', 'wer', 'swim', 'water', 'there', 'a', 'yknow', 'barracuda', 'someth', 'come', 'us', 'got', 'spear', 'harpoon', 'whatever'], ['', 'like', 'anyth', 'bigger', 'that', 'uh', 'oh', 'sense'], ['', 'dont', 'know—', 'think', 'need', 'draw', 'map', 'well', 'can—', 'no', 'cant'], [''], [''], ['', 'amend', 'this', 'becaus', 'wa', 'think', 'it—', 'mayb', 'thei', 'disassembl', 'big', 'weapon', 'thei', 'wouldnt', 'yknow—', 'pack', 'pieces'], ['', 'caus', 'thei', 'knew', 'thei', 'gonna', 'need—', 'thei', 'gonna', 'need', 'item', 'work', 'with'], ['', 'thei', 'gonna', 'need', 'materi', 'stuff'], ['', 'so', 'yknow', 'mayb', 'theyv', 'haul', 'piec', 'larger', 'weapons'], [''], [''], ['', 'thi', 'area'], ['', 'like', 'that'], ['', 'yeah', 'dont', 'think', 'ha', 'chang', 'anyth', 'board', 'right', 'now', 'though'], ['', 'dont', 'defens', 'weapons', 'becaus', 'dismantl', 'shithouse'], ['', 'yeah'], ['', 'okay'], ['', 'your', 'shithouse', 'your', 'like', 'mayb', 'sleep', 'bunk', 'look', 'up', 'there', 'like', 'a'], [''], [''], ['', 'yknow', 'sword', 'that', 'like', 'right', 'there'], ['', 'catapult'], ['', 'catapult', 'your', 'sleep', 'under'], ['', 'your', 'sleep', 'bowl', 'catapult'], ['', 'yeah'], ['', 'yeah', 'that', 'fun'], ['', 'yeah', 'your', 'sleep', 'that'], ['', 'uh', 'okay'], ['', 'ill', 'number', 'if', 'dad', 'want', 'decid', 'action', 'now'], ['', 'ill', 'start', 'project', 'of', 'um'], [''], [''], ['', 'catalog', 'piec', 'broken', 'weaponri', 'anticip', 'reus', 'rebuild', 'ocean'], ['', 'ar', 'sai', 'like', 'project', 'done', 'dismantl', 'longhous', 'big', 'weapons', 'ar', 'saying', 'like'], [''], [''], ['', 'no', 'figur', 'them'], [''], [''], ['', 'okay', 'start', 'piec', 'build', 'thing', 'sea'], ['', 'how', 'that', 'okay'], ['', 'yeah', 'that', 'good'], ['', 'im', 'gonna', 'contempt', 'that', 'caus', 'dont', 'want', 'dismantl', 'shithouse'], ['', 'no', 'im', 'assum', 'shithous', 'wa', 'alreadi', 'built', 'stuff'], ['', 'want', 'to—', 'love', 'it'], ['', 'want', 'piec', 'big', 'underwat', 'cannon', 'shit'], ['', 'that', 'prerogative'], ['', 'no', 'dont', 'want', 'build', 'underwat', 'cannons', 'wer', 'gonna', 'structures', 'were—', 'dad', 'everi', 'time', 'sai', 'underwat', 'cannons', 'excited'], ['', 'yeah'], ['', 'think—', 'may', 'think', 'wer', 'discuss', 'thi', 'much'], ['', 'wai', 'much'], ['', 'think', 'project', 'ha', 'started', 'right', 'work', 'right', 'that', 'good', 'point'], ['', 'long', 'doe', 'thi', 'take', 'dad', 'uh', 'three'], ['', 'got', 'it'], ['', 'good', 'scientists'], ['', 'well', 'unity'], ['', 'council', 'leading'], ['', 'yeah'], ['', 'thi', 'probabl', 'delmer', 'shit'], ['', 'delmer', 'ar', 'probabl', 'like', '“thi', 'great'], ['', 'dont', 'need', 'comfortable'], ['”', 'thei', 'think', 'shithous', 'ar', 'alreadi', 'like', 'palatial'], ['', 'uh', 'cool', 'okay', 'travis', 'ar', 'up'], ['', 'flip', 'cord', 'let', 'flip', 'cord'], ['', 'seven', 'spring'], ['', '“where', 'doe', 'everyon', 'sleep', 'unhappi', 'arrangement', 'why”', 'oh', 'god'], ['', 'there', 'also', '“what', 'natur', 'predat', 'roam', 'area', 'ar', 'safe”', 'good', 'one', 'someth', 'wev', 'talk', 'about'], ['', 'but'], [''], [''], ['', 'applicable'], ['', 'didnt', 'just—', 'your', 'right'], ['', 'okay'], ['', 'im', 'gonna', '“natur', 'predat', 'roam', 'thi', 'area', 'ar', 'safe'], ['”', 'inclin', 'land'], [''], [''], ['', 'think', 'im', 'gonna', 'sea'], ['', 'okay'], ['', 'um', 'im', 'gonna', 'say', 'pollution', 'uh', 'are—', 'ar', 'sharks', 'kind', 'uh', 'line', 'like', 'hammerhead', 'kind', 'thing'], ['', 'thei', 'definit', 'have', 'uh', 'littl', 'bit', 'like', 'kind', 'natur', 'magic'], [''], [''], ['', 'uh', 'mutations'], ['', 'think', 'everyth', 'in—', 'sea', 'life—', 'think', 'hint', 'intro', 'mayb', 'not'], ['', 'like', 'place', 'this—', 'actual', 'sea', 'explor', 'underwater', 'like', 'anim', 'ar', 'gonna', 'fuck', 'there'], ['', 'like', 'littl', 'teaser', 'that', 'someth', 'like', 'activ', 'harass', 'land', 'rad'], ['', 'think', 'uh'], [''], [''], ['', 'think', 'these', 'um', 'sharks', 'manifest', 'like', 'super', 'heighten', 'senses', 'abil', 'like', 'uh'], [''], [''], ['', 'like', 'seemingli', 'teleport', 'forward', 'short', 'bursts'], ['', 'fuck', 'yeah'], ['', 'thei', 'strike', 'it', 'like', 'zoot', 'theyr', 'kind', 'there'], ['', 'iv', 'written', '“blink', 'sharks'], ['”', 'blink', 'sharks', 'that', 'great'], ['', 'yeah'], ['', 'hell', 'yes'], ['', 'uh—', '“abundance'], ['”', 'abund', 'blink', 'sharks'], ['', 'someth', 'that'], ['', 'now', 'everybodi', 'team', '“let', 'shithous', 'apart', 'underwat', 'cannons'], ['”', '“yknow', 'wev', 'discov', 'blink', 'sharks'], [''], [''], ['', 'prioriti', 'shifted'], ['”', 'late', 'okay', 'let', 'count', 'down'], ['', 'ar', 'close', 'these'], ['', 'alright', 'uh', 'travis', 'turn'], ['', 'choice'], ['', 'begin', 'project'], ['', 'cool'], ['', 'think', 'council', 'pulls', 'uh', 'repres', 'four', 'uh'], [''], [''], ['', 'four', 'hominine', 'delmer', 'einarr', 'southern', 'archipelago', 'like', 'specialist', 'studi', 'wa', 'found', 'attempt', 'discov', 'like', 'properties', 'work', 'it', 'there', 'ani', 'valu', 'it'], [''], [''], ['', 'kind', 'specialti', 'differ', 'locations'], ['', 'suggest', 'becaus', 'sort', 'unity'], [''], [''], ['', 'unity', 'wai', 'everybodi', 'work', 'right', 'now', 'like', 'boar', 'priorit', 'discomfort', 'mayb', 'thi', 'wouldnt', 'long', 'think'], ['', 'yeah'], ['', 'like', 'think', 'maybe'], [''], [''], ['', 'mean', 'really', 'your', 'kind', 'of—', 'thi', 'like', 'actual', 'mold', 'shape', 'anything'], ['', 'it', 'kind', 'like', 'well', 'let', 'check', 'out'], ['', 'thi', 'for', 'right'], ['', 'yeah'], ['', 'think', 'like', 'week'], ['', 'okay'], ['', 'uhh'], [''], [''], ['', 'as', 'like', 'said', 'wer', 'pull', 'specialists'], ['', 'like', 'peopl', 'elect', 'council', 'ar', 'like', '“oh', 'yeah', 'wer', 'gonna', 'danni', 'this'], ['', 'danni', 'know', 'rocks'], ['', 'right', 'danny', 'know', 'rocks'], ['', 'right”', 'like'], [''], [''], ['', 'alright'], ['', 'im', 'gonna', 'add', 'youv', 'drawn', 'ore'], ['', 'okay'], ['', 'uhh', 'justin'], ['', 'uh', 'spring'], ['', '“there', 'disquiet', 'legend', 'thi', 'place'], ['', 'it', 'alarm', 'weather', 'pattern', 'destroi', 'something'], ['', 'what”', 'thi', 'favorit', 'thing', 'way', 'quiet', 'year', 'like'], [''], [''], ['', 'card', 'stai', 'matter', 'what', 'card', 'it', 'like', '“thi', 'feel', 'perfectli', 'suit', 'situat', 'wer', 'in'], ['”', 'right', 'yeah'], ['', 'feel', 'like', 'it', 'alarm', 'weather', 'pattern', 'destroi', 'something', 'what'], ['', 'um'], [''], [''], ['', 'think', 'wa', 'uh'], [''], [''], ['', 'earthquake'], ['', 'weather', 'right', 'earthquak', 'ar', 'basic', 'weather'], ['', 'yeah'], ['', 'um', 'wa', 'earthquake', 'split', 'trash', 'hole', 'right', 'twain'], ['', 'whoa'], ['', 'stuff', 'trash', 'hole', 'start', 'come', 'trash', 'hole'], ['', 'oh', 'fuck', 'kind', 'stuff', 'dont', 'fuckin', 'know', 'nobody', 'yet', 'wa', 'boy', 'little'], [''], [''], ['', 'p'], [''], [''], ['', 'peter'], ['', 'mmhmm'], ['', 'littl', 'peter—', 'that', 'hi', 'name—', 'littl', 'peter', 'saw', 'stuff', 'start', 'emerg', 'quake'], ['', 'saw', 'refus', 'start', 'emerg', 'trash', 'hole', 'blast', 'out'], ['', 'fuck'], ['', 'rules'], ['', 'blast', 'trash', 'hole'], ['', 'okay', 'trash', 'hole', 'like', 'trash'], [''], [''], ['', 'hill'], ['', 'cannon'], ['', 'trash', 'cannon'], ['', 'yeah'], ['', 'it', 'trash', 'cannon'], ['', 'okay'], ['', 'uh', 'safe', 'to'], [''], [''], ['', 'someth', 'peopl', 'walk', 'sai', 'like', '“oh', 'toaster', 'oven”', 'like'], [''], [''], ['', 'theyr', 'count', 'on—', 'there', 'stuff', 'there', 'right', 'thei', 'dont', 'know', 'it', 'gonna', 'blast', 'again'], ['', 'thei', 'dont', 'know', 'heavi', 'object', 'blast—', 'it', 'trash', 'geyser'], ['', 'like', 'trash', 'geyser'], ['', 'ha', 'activ', 'trash', 'geyser'], ['', 'it', 'trash', 'geyser', 'cant—', 'ar', 'goods', 'there', 'good', 'qualiti', 'stuff'], ['', 'scavenging', 'then', 'sudden', 'like', 'fuckin', 'televis', 'blast', 'apart'], ['', 'fuckin', 'old', 'soup', 'like', 'launch', 'torso'], ['', 'exactly', 'it', 'comin', 'that', 'big', 'problem', 'come', 'trash', 'huge'], ['', 'come', 'down'], ['', 'that', 'realli', 'rough'], ['', 'okay'], ['', 'uh'], [''], [''], ['', 'mean', 'sprai', 'stuff', 'into—', 'thi', 'danger', 'for'], [''], [''], ['', 'mean', 'see', 'shithouse'], ['', 'think', 'it', 'close', 'like—', 'okay', 'it', 'close', 'enough'], ['', 'it', 'veri', 'worrying'], ['', 'right'], ['', 'because—', 'there', 'like—', 'there', 'peopl', 'society', 'think', 'ar', 'like', '“uh', 'oh'], [''], [''], ['', 'hope', 'there—', 'there', 'stuff', 'kind', 'want', 'stai', 'there'], [''], [''], ['”', 'okay'], ['', 'pleas', 'draw', 'that', 'fun', 'time', 'that', 'caus', 'sound', 'like', 'real', 'hoot'], ['', 'um'], [''], [''], ['', 'ar', 'count', 'down'], ['', 'travis', 'project', 'finishes'], ['', 'thei', 'discover', 'uh', 'so', 'dont', 'want', 'like', 'mani', 'solves'], ['', 'but'], [''], [''], ['', 'no', 'mean', 'gotta', 'game', 'forward', 'point'], ['', 'think—', 'uh', 'ar', 'thing', 'think', 'thei', 'discover'], ['', 'think', 'uh'], [''], [''], ['', 'anu', 'trash', 'shoot', 'sure', 'has'], [''], [''], ['', 'im', 'try', 'look', 'it', 'yknow', 'hit', 'differ', 'now'], ['', 'think', 'hominin', 'expert', 'uh', 'delmer', 'work', 'hands', 'right', 'right'], ['', 'think', 'expert', 'discov', 'something', 'right', 'think', 'delmer', 'expert', 'fairli', 'malleable'], ['', 'okay'], ['', 'like', 'hot', 'right', 'malleable'], ['', 'um', 'einarr', 'like', 'then', 'onc', 'it', 'tempered', 'veri', 'durable'], ['', 'southern', 'archipelago', 'ha', 'seen', 'anyth', 'like', 'befor', 'trading', 'thei', 'surmis', 'itll', 'pretti', 'valuable'], ['', 'winner', 'interesting', 'hominin', 'that', 'becaus', 'thi', 'sourc', 'sea', 'kind', 'pit', 'littl', 'bit', 'prestige', 'like', 'it'], ['', 'okay', 'like', 'ar', 'vein', 'prestig', 'rock'], ['', 'magical', 'doe', 'very', 'uh'], [''], [''], ['', 'resilient'], ['', 'susceptible'], ['', 'suscept', 'magic'], ['', 'okay', 'tracks'], ['', 'magic', 'good'], ['', 'okay'], ['', 'chang', '“weird', 'ore”', '“magic', 'ore”', 'abund', 'stack'], ['', 'now', 'um'], [''], [''], ['', 'juice', 'actual', 'turn', 'finish', 'draw', 'thi', 'horrible'], [''], [''], ['', 'oh', 'god'], ['', ''], [''], [''], ['thi', 'horribl', 'thing'], ['', 'uh', 'gonna', 'start'], [''], [''], ['', 'shipyard'], ['', 'okay', 'yeah', 'probabl', 'good', 'idea', 'to'], [''], [''], ['', 'going'], ['', 'think', 'right', 'yeah'], ['', 'um', 'im', 'gonna', 'build', 'sort', 'like', 'tributari', 'that', 'like', 'uhh'], [''], [''], ['', 'cuttin', 'land', 'here'], ['', 'feel', 'like', 'sense'], ['', 'thi', 'gui', 'here', 'tide', 'pools', 'no', 'blue'], [''], [''], ['', 'river'], ['', 'oh', 'river'], ['', 'forgot', 'tributari', 'wa', 'moment'], ['', 'that', 'alright'], ['', 'know', 'like'], [''], [''], ['', 'dont', 'think', 'sens', 'like', 'start', 'boat', 'like', 'uh'], [''], [''], ['', 'like', 'feel', 'like', 'dont—', 'im', 'look', 'thi', 'map'], ['', 'dont', 'place', 'build', 'boats'], ['', 'it', 'gonna', 'need', 'big', 'boat'], ['', 'dont', 'think', 'know', 'exactli', 'it', 'gonna', 'like', 'undersea', 'vessel', 'exactly'], [''], [''], ['', 'wer', 'gonna', 'there'], ['', 'yeah'], ['', 'think', 'like', 'facil', 'build', 'boats'], ['', 'mean', 'relat', 'bathysphere', 'right', 'like', 'cant', 'kick', 'bathyspher', 'ocean'], ['', 'gotta', 'launch', 'ship'], ['', 'mayb', 'surfac', 'thing', 'drop', 'this', 'yknow', 'whatever'], ['', 'yeah'], ['', 'okay'], ['', 'long', 'that—', 'that', 'gonna', 'long—', 'mean', 'feel', 'like'], [''], [''], ['', 'weeks', 'doe', 'sound', 'right', 'mean', 'weeks', 'argu', 'five', 'becaus', 'think', 'wer', 'sort', 'push', 'pedal', 'metal', 'term', 'like'], [''], [''], ['', 'okay'], ['', 'it', 'good', 'shipyard'], ['', 'think', 'week', 'pretti', 'fuck', 'good', 'shipyard'], ['', 'that', 'good', 'shipyard'], ['', 'it', 'biggest', 'project', 'wev', 'magic', 'ore', 'right', 'like', 'shit', 'now'], ['', 'im', 'actual', 'gonna', 'rid', 'build', 'materi', 'scarcity', 'becaus', 'we'], [''], [''], ['', 'yknow', 'thi', 'doesnt', 'everyth', 'of', 'finally', 'like', 'start', 'shit', 'earnest'], ['', 'uh', 'okay', 'uh', 'world', 'clock', 'ha', 'tick', 'zero', 'mean', 'someth', 'world', 'happen'], ['', 'thing', 'relat', 'sort', 'exodu', 'plot', 'ha', 'hatch', 'kingdoms'], ['', 'posit', 'shore', 'dont', 'necessarili', 'think'], [''], [''], ['', 'think', 'settlement', 'close', 'einarr', 'plateau', 'actual', 'sort', 'happen', 'it'], ['', 'think', 'commun', 'like'], [''], [''], ['', 'heartland', 'einarr', 'plateau', 'vista', 'saw', 'very', 'veri', 'clearly'], ['', 'the'], [''], [''], ['', 'basic', 'einarr', 'plateau', 'disappears'], ['', 'huh'], ['', 'there', 'flash', 'light', 'like', 'cataclysm', 'explosion'], ['', 'wa', 'moment', 'wa', 'gone', 'next'], ['', 'and'], [''], [''], ['', 'einarr', 'everyth', 'live', 'plateau', 'disappear', 'it'], ['', 'now', 'griffin', 'result', 'sunlight', 'yeah', 'sure', 'there', 'probabl', 'sunlight'], ['', 'nice'], ['', 'einarr', 'you'], [''], [''], ['', 'think', 'there', 'hand', 'kind', 'know', 'happened'], ['', 'becaus', 'thei', 'ar', 'sort', 'a', 'uh', 'yknow', 'nomad', 'group', 'people', 'divers', 'einarr'], ['', 'exact', 'belief', 'vestig', 'are', 'yknow', 'good', 'role', 'ar', 'world'], ['', 'there', 'hand', 'einarr', 'know', 'sort', 'group', 'very', 'veri', 'zealou', 'devote', 'vestig', 'manag', 'spirit', 'entir', 'plateau', 'plain', 'vestig', 'game', 'world', 'through'], ['', 'thei', 'basic', 'went', 'vestig', 'went', 'thei', 'know', 'that'], [''], [''], ['', 'live', 'mortal', 'cant', 'maintain', 'physic', 'form', 'there'], ['', 'einarr', 'peopl', 'pass', 'veil', 'plateau', 'disappeared', 'thei', 'becam', 'sort', 'intangible'], ['', 'like', 'echo', 'themselves'], ['', 'ramif', 'that', 'all', 'is'], [''], [''], ['', 'coupl', 'dai', 'later', 'peopl', 'live', 'thi', 'settlement', 'experi', 'odd', 'phenomena'], ['', 'items', 'yknow', 'camp', 'whisper', 'heard', 'dark'], ['', 'soon', 'thei', 'pile', 'thei', 'becom', 'undeniable'], ['', 'echo', 'disembodi', 'einarr', 'spirit', 'awai', 'wai', 'world', 'begun', 'haunting', 'essentially', 'area', 'camp'], ['']]\n"
          ]
        },
        {
          "output_type": "execute_result",
          "data": {
            "text/plain": [
              "'\\nsentences: Any \\ncorpus_file: Any \\nsize: int = 100, \\nalpha: float = 0.025, \\nwindow: int = 5, \\nmin_count: int = 5, \\nmax_vocab_size: Any \\nsample: float = 0.001, \\nseed: int = 1, \\nworkers: int = 3, \\nmin_alpha: float = 0.0001, \\nsg: int = 0, \\nhs: int = 0, \\nnegative: int = 5, \\nns_exponent: float = 0.75, \\ncbow_mean: int = 1, \\nhashfxn: (__obj: object, /) -> int = hash, \\niter: int = 5, \\nnull_word: int = 0, \\ntrim_rule: Any, \\nsorted_vocab: int = 1, \\nbatch_words: Any | int = MAX_WORDS_IN_BATCH, \\ncompute_loss: bool = False, \\ncallbacks: Any = (), \\nmax_final_vocab: Any\\n'"
            ],
            "application/vnd.google.colaboratory.intrinsic+json": {
              "type": "string"
            }
          },
          "metadata": {},
          "execution_count": 64
        }
      ]
    },
    {
      "cell_type": "code",
      "source": [
        "print(model.wv.vocab.keys())"
      ],
      "metadata": {
        "colab": {
          "base_uri": "https://localhost:8080/"
        },
        "id": "AGRD4rNx0fku",
        "outputId": "734709db-7cbc-4eb3-df80-12041f982d85"
      },
      "execution_count": null,
      "outputs": [
        {
          "output_type": "stream",
          "name": "stdout",
          "text": [
            "dict_keys(['a', 'history', 'world', '', 'deep', 'so', 'well', 'wouldnt', 'time', 'this', 'im', 'long', 'map', 'let', 'vestiges', 'called', 'though', 'thing', 'magic', 'the', 'living', 'that', 'people', 'new', 'hominine', 'building', 'land', 'like', 'way', 'coastline', 'einarr', 'plateau', 'old', 'delmer', 'great', 'and', 'southern', 'archipelago', 'fun', 'stuff', 'point', 'it', 'quiet', 'weve', 'see', 'goes', 'kind', 'dangerous', 'energy', 'river', 'things', 'sea', 'us', 'waves', 'kingdoms', 'voice', 'you', 'um', 'it’s', 'travis', 'right', 'yeah', 'juice', 'dad', 'bit', 'different', 'sort', 'build', 'season', 'its', 'got', 'uh', 'guys', 'cause', 'thats', 'youre', 'here', 'were', 'gonna', 'play', 'game', 'playing', 'year', 'think', 'feel', 'bad', 'essentially', 'idea', 'youve', 'place', 'city', 'built', 'do', 'yknow', 'mean', 'maybe', 'basically', 'settlement', 'going', 'in', 'drawing', 'maps', 'draw', 'them', 'dont', 'know', 'making', 'heard', 'is', 'ive', 'underwater', 'a—', 'magical', 'ocean', 'didnt', 'come', 'lot', 'figure', 'wanted', 'say', 'guess', 'want', 'whats', 'griffin', 'no', 'there', 'okay', 'cool', 'away', 'theres', 'weird', 'shit', 'discovered', 'lets', 'whatever', 'question', 'looking', 'yes', 'surface', 'for', 'actually', 'start', 'be', 'started', 'add', 'use', 'everybody', 'beach', 'water', 'is—', 'drawn', 'like—', 'rules', 'or', 'first', 'sorry', 'go', 'real', 'little', 'of', '”', 'work', 'out', 'to', 'with', 'oh', 'gotta', 'remember', 'spring', 'correct', 'now', 'just', 'side', 'sure', 'probably', 'something', 'big', 'fuckin', 'spiral', 'staircase', 'knows', 'look', 'the—', 'ill', 'shore', 'need', 'take', 'good', 'happens', 'then', 'one', 'theyve', 'interesting', 'cant', 'hole', 'society', 'turn', 'coast', 'tide', 'rocks', 'area', 'coming', 'alright', 'happen', 'whoa', 'trying', 'line', 'decide', 'resources', 'important', 'again', 'answer', 'getting', 'food', 'exactly', 'scarcity', 'abundance', 'knowledge', 'able', 'to—', 'unity', 'me', 'saying', 'necessarily', 'makes', 'sense', 'thinking', 'culture', 'talking', 'metal', 'fuck', 'material', 'starting', 'salt', 'prestige', 'down', 'project', 'theyre', 'basic', 'weeks', 'week', 'player', 'card', 'cards', 'choose', 'gets', 'end', 'discover', 'hold', 'discussion', 'too', 'talk', 'community', 'hunting', '“oh', 'count', 'cave', 'up', 'houses', 'shithouse', 'uhh', 'storm', 'close', 'ore', 'omen', 'pier', 'lines', 'fish', 'fucked', 'short', 'council', 'weapons', 'defense', 'cannons', 'pieces', 'sharks', 'trash'])\n"
          ]
        }
      ]
    },
    {
      "cell_type": "code",
      "source": [
        "print(model.wv['magic'])\n",
        "print(model.wv.most_similar('magic'))"
      ],
      "metadata": {
        "colab": {
          "base_uri": "https://localhost:8080/"
        },
        "id": "h24AGXDo3-oO",
        "outputId": "b256cabf-4645-4dbf-fdb8-3a6cdc12d4fd"
      },
      "execution_count": null,
      "outputs": [
        {
          "output_type": "stream",
          "name": "stdout",
          "text": [
            "[ 0.11070689 -0.04326563 -0.07025176 -0.02197586 -0.16566993 -0.15370531\n",
            "  0.04380529  0.15827388 -0.1414026  -0.02773348 -0.01599527  0.1678507\n",
            " -0.00504224  0.01444732  0.00658129 -0.02415843 -0.05130475  0.07954128\n",
            "  0.07823192 -0.03838196 -0.07973897  0.13395567  0.03927572  0.1232245\n",
            " -0.07007881  0.09781245 -0.07983482  0.04816478  0.07353617 -0.20476517\n",
            "  0.02294433 -0.01362617 -0.00920658  0.03366044 -0.09999227 -0.16492425\n",
            " -0.06400285  0.10299286  0.06651793 -0.05999421  0.16078754 -0.14516774\n",
            " -0.18376403  0.08654997 -0.0686333   0.2369648   0.12015744  0.03571154\n",
            " -0.01063819 -0.02845631 -0.01453001  0.03623966 -0.01656967  0.16813534\n",
            " -0.08554276 -0.06004462 -0.14328283 -0.05528447 -0.07053018  0.01357325\n",
            " -0.09743027  0.12529448 -0.09605609  0.08073322  0.03529699 -0.13439211\n",
            "  0.02007903 -0.20720272 -0.15754841  0.13191082 -0.20082024  0.11221711\n",
            "  0.01020696 -0.12648289  0.08728204 -0.18385592  0.08640877 -0.10183995\n",
            "  0.00490768  0.26000983 -0.15254776  0.14123559 -0.10101672  0.03596148\n",
            " -0.11117971  0.06701892  0.18632227 -0.10664726 -0.16742313  0.10751973\n",
            "  0.12458912  0.2316539   0.09109338  0.07658095 -0.19002675 -0.19752184\n",
            " -0.09843705  0.2721111   0.04382445 -0.2124099 ]\n",
            "[('like', 0.9996442794799805), ('ar', 0.9996052980422974), ('', 0.9996037483215332), ('thi', 0.9996025562286377), ('start', 0.9995911121368408), ('becaus', 0.9995900392532349), ('it', 0.999579668045044), ('uh', 0.9995791912078857), ('sort', 0.9995784759521484), ('right', 0.9995650053024292)]\n"
          ]
        }
      ]
    },
    {
      "cell_type": "code",
      "source": [
        "print(preprocessing.STOPWORDS)"
      ],
      "metadata": {
        "colab": {
          "base_uri": "https://localhost:8080/"
        },
        "id": "mtvRzvbJ7ss9",
        "outputId": "b736cc34-5894-40c6-925a-fb1b02b92f35"
      },
      "execution_count": null,
      "outputs": [
        {
          "output_type": "stream",
          "name": "stdout",
          "text": [
            "frozenset({'front', 'every', 'inc', 'so', 'otherwise', 'something', 'until', 'hundred', 'hereafter', 'just', 'doesn', 'must', 'whereafter', 'many', 'yours', 'noone', 'less', 'himself', 'onto', 'thru', 'our', 'without', 'whoever', 'and', 'interest', 'above', 'hence', 'most', 'regarding', 'latterly', 'do', 'besides', 'full', 'did', 'others', 'whereas', 'amount', 'someone', 'became', 'myself', 'ten', 'other', 'indeed', 'everything', 'least', 'could', 'eg', 'beforehand', 'name', 'behind', 'beside', 'how', 'any', 'anyhow', 'somewhere', 'often', 'due', 'more', 'didn', 'him', 'per', 'there', 'over', 'is', 'itself', 'yourselves', 'really', 'against', 'thick', 'alone', 'few', 'else', 'beyond', 'wherever', 'mine', 'together', 'find', 'hereby', 'get', 'where', 'during', 'move', 'becomes', 'upon', 'whereupon', 'these', 'sometime', 'empty', 'mill', 'wherein', 'part', 'used', 'cant', 'using', 'into', 'nobody', 'in', 'your', 'serious', 'anything', 'whence', 'four', 'cry', 'should', 'are', 'its', 'why', 'detail', 'they', 'de', 'thereafter', 'three', 'not', 'here', 'please', 'within', 'us', 'anywhere', 'seems', 'last', 'becoming', 'because', 'everywhere', 'or', 'say', 'perhaps', 'thus', 'would', 'about', 'whereby', 'thereupon', 'since', 'has', 'being', 'herself', 'but', 'still', 'computer', 'nine', 'off', 'already', 'kg', 'as', 'ourselves', 'anyone', 'was', 'an', 'though', 'yourself', 'mostly', 'had', 'for', 'keep', 'below', 'thin', 'never', 'were', 'quite', 'some', 'his', 'her', 'of', 'only', 'now', 'sixty', 'my', 'back', 'ever', 'thereby', 'call', 'to', 'go', 'formerly', 'both', 'up', 'whenever', 'next', 'amongst', 'it', 'can', 'by', 'between', 'might', 'fill', 'km', 'done', 'across', 'six', 'unless', 'themselves', 'among', 'don', 'also', 'am', 'nor', 'nevertheless', 'have', 'after', 'again', 'enough', 'although', 'twenty', 'those', 'always', 'around', 'what', 'may', 'moreover', 'herein', 'ltd', 'show', 'either', 'cannot', 'bottom', 'nowhere', 'before', 'side', 'system', 'own', 'then', 'third', 'bill', 'whatever', 'via', 'various', 'somehow', 'whom', 'sincere', 'if', 'than', 'she', 'several', 'former', 'one', 'nothing', 'whither', 'at', 'each', 'therein', 'meanwhile', 'down', 'latter', 'describe', 'a', 'amoungst', 'forty', 'hasnt', 'another', 'i', 'toward', 'rather', 'con', 'same', 'whole', 'sometimes', 'he', 'except', 'under', 'ours', 'give', 'neither', 'once', 'doing', 'top', 'seem', 'afterwards', 'does', 'thence', 'from', 'eight', 'five', 'been', 'much', 'we', 'well', 'even', 'them', 'first', 'un', 'me', 'whose', 'which', 'too', 'almost', 'etc', 'seeming', 'further', 'along', 'couldnt', 'none', 'therefore', 'namely', 'throughout', 'seemed', 'everyone', 'found', 'ie', 'twelve', 'yet', 'the', 'make', 'co', 'put', 'very', 'become', 'hereupon', 'this', 'that', 'see', 'take', 'you', 'elsewhere', 'such', 'eleven', 'when', 'who', 'towards', 'fifteen', 'all', 'with', 'fify', 'however', 'fire', 'out', 'while', 'through', 'made', 'two', 'no', 'will', 'anyway', 'be', 'whether', 'hers', 'on', 're', 'their'})\n"
          ]
        }
      ]
    },
    {
      "cell_type": "markdown",
      "source": [
        "## FastText Playground"
      ],
      "metadata": {
        "id": "96UTmA1D9HZc"
      }
    },
    {
      "cell_type": "code",
      "source": [
        "stopwords = \"\"\"\n",
        "a about after all also always am an and any are at be been being\n",
        "but by came can cant come could did didn't do does doesn't doing\n",
        "don't else for from get give goes going had happen has have having\n",
        "how i if ill i'm in into is isn't it its i've just keep let like made\n",
        "make many may me mean more most much no not now of only or our really\n",
        "say see some something take tell than that the their them then they\n",
        "thing this to try up us use used uses very want was way we what when\n",
        "where which who why will with without wont you your youre uh gonna so like yknow theres\"\"\".replace(\"'\", \"\").replace(\"\\n\", \"\").split(\" \")\n",
        "print(stopwords)\n",
        "\n",
        "filepath = \"/content/drive/MyDrive/Colab Notebooks/Machine Learning/data/TAZ Ethersea text sample.txt\"\n",
        "punc = \"\"\"!\"#$%&'()*+,-/:;<=>?@[\\]^_`{|}~\"\"\"\n",
        "with open(filepath, \"r\") as f:\n",
        "    text = (preprocessing.stem(f.read()))\n",
        "    text = preprocessing.remove_stopwords(text)\n",
        "    text = text.translate(str.maketrans('', '', punc))\n",
        "    text = text.split(\".\")\n",
        "    # for sent in text:\n",
        "    #  sent = preprocessing.strip_multiple_whitespaces(preprocessing.strip_punctuation(sent))\n",
        "    #text = preprocessing.strip\n",
        "    #text = text.split(\".\")\n",
        "    for i, sentence in enumerate(text):\n",
        "      text[i] = sentence.split(\" \")\n",
        "      if i == 0:\n",
        "        text[i][0] = text[i][0].translate(str.maketrans('', '', '\\ufeff'))\n",
        "print(text)\n",
        "\n",
        "model = FastText(sentences=text)\n",
        "\n",
        "\n",
        "\"\"\"\n",
        "sentences=None \n",
        "corpus_file=None\n",
        "sg=0\n",
        "hs=0\n",
        "size=100\n",
        "alpha=0.025\n",
        "window=5\n",
        "min_count=5\n",
        "max_vocab_size=None\n",
        "word_ngrams=1\n",
        "sample=0.001\n",
        "seed=1\n",
        "workers=3\n",
        "min_alpha=0.0001\n",
        "negative=5\n",
        "ns_exponent=0.75\n",
        "cbow_mean=1\n",
        "hashfxn=hash\n",
        "iter=5\n",
        "null_word=0\n",
        "min_n=3\n",
        "max_n=6\n",
        "sorted_vocab=1\n",
        "bucket=2000000\n",
        "trim_rule=None\n",
        "batch_words=MAX_WORDS_IN_BATCH\n",
        "callbacks=()\n",
        "\"\"\""
      ],
      "metadata": {
        "colab": {
          "base_uri": "https://localhost:8080/",
          "height": 120
        },
        "id": "Z5kJ202Q9NMk",
        "outputId": "5f059c7b-5743-4c64-902e-9c738b4931ee"
      },
      "execution_count": null,
      "outputs": [
        {
          "output_type": "stream",
          "name": "stdout",
          "text": [
            "['a', 'about', 'after', 'all', 'also', 'always', 'am', 'an', 'and', 'any', 'are', 'at', 'be', 'been', 'beingbut', 'by', 'came', 'can', 'cant', 'come', 'could', 'did', 'didnt', 'do', 'does', 'doesnt', 'doingdont', 'else', 'for', 'from', 'get', 'give', 'goes', 'going', 'had', 'happen', 'has', 'have', 'havinghow', 'i', 'if', 'ill', 'im', 'in', 'into', 'is', 'isnt', 'it', 'its', 'ive', 'just', 'keep', 'let', 'like', 'mademake', 'many', 'may', 'me', 'mean', 'more', 'most', 'much', 'no', 'not', 'now', 'of', 'only', 'or', 'our', 'reallysay', 'see', 'some', 'something', 'take', 'tell', 'than', 'that', 'the', 'their', 'them', 'then', 'theything', 'this', 'to', 'try', 'up', 'us', 'use', 'used', 'uses', 'very', 'want', 'was', 'way', 'we', 'what', 'whenwhere', 'which', 'who', 'why', 'will', 'with', 'without', 'wont', 'you', 'your', 'youre', 'uh', 'gonna', 'so', 'like', 'yknow', 'theres']\n",
            "[['a', 'brief', 'histori', 'wast', 'world', 'primer', 'brother', 'seldom'], ['', 'wit', 'firsthand', 'deep', 'rest', 'slumber', 'sermon', 'induc', 'congregation'], ['', 'so', 'attempt', 'thi', 'succinct'], ['', 'doze', 'dure', 'thi', 'lesson', 'well', 'wouldnt', 'worri', 'much'], ['', 'time', 'hear', 'this', 'world', 'im', 'describ', 'long', 'sinc', 'scour', 'map'], ['', 'let', 'begin', 'vestiges'], ['', 'accur', 'describ', 'gods', 'theyd', 'certainli', 'prefer', 'such'], ['', 'thei', 'cross', 'world', 'eon', 'ago', 'ancient', 'ancestor', 'consid', 'patrons'], ['', 'merciless', 'oppressors'], ['', 'civil', 'sprout', 'beings’', 'feet', 'immediately—', 'perhap', 'unsurprisingly—', 'thei', 'began', 'vy', 'superiority'], ['', 'differences', 'though', 'vestig', 'claim', 'world', 'agre', 'thing', 'oath', 'forsworn', 'power', 'magic', 'share', 'mortalkind'], ['th', 'vestig', 'benevol', 'furious', 'covet', 'ador', 'live', 'creatur', 'that', 'well'], [''], [''], ['', 'broke', 'oath'], ['', 'share', 'hi', 'peopl', 'secret', 'magic', 'new', 'kingdom', 'hominine', 'build', 'armi', 'sorcer', 'power', 'challeng', 'gods'], ['', 'benevolence', 'armi', 'swept', 'land', 'like', 'wildfire', 'purg', 'rival', 'vestig', 'stood', 'hi', 'way'], ['', 'hi', 'war', 'campaign', 'wa', 'devast', 'spectacular', 'dust', 'settled', 'split', 'world', 'quarters'], ['', 'kingdom', 'hominin', 'occupi', 'realm', 'stretch', 'western', 'coastline', 'fertil', 'heartlands'], ['', 'citizen', 'live', 'prosperously', 'devot', 'themselv', 'studi', 'arcan', 'gift', 'bestow', 'vestige', 'benevolence'], ['', 'dominion', 'however', 'halt', 'sheer', 'face', 'einarr', 'plateau'], ['', 'highlands', 'overlook', 'realm', 'surviv', 'vestig', 'live', 'mortal', 'followers'], ['', 'spiritu', 'rulers', 'rather', 'collaborators'], ['', 'zealou', 'practition', 'old', 'wai', 'dissented', 'einarr', 'forg', 'new', 'pact', 'vestig', 'mortalkind'], ['', 'deni', 'vestig', 'otherworldli', 'gifts'], ['', 'warweari', 'sect', 'homininiansdefect', 'resourcerich', 'delmer', 'wilds', 'north'], ['', 'thei', 'shun', 'magic', 'exchang', 'industry', 'build', 'acropoli', 'lumber', 'steel', 'rival', 'hominine', 'great', 'citadels'], ['and', 'tire', 'mainland’', 'petti', 'squabbl', 'entirely'], ['', 'thei', 'home', 'southern', 'archipelago'], ['', 'war', 'mere', 'distant', 'memory', 'island', 'inhabit', 'work', 'remark', 'stride', 'trade', 'art', 'fashion', 'leisure'], ['', 'fun', 'stuff', 'fine', 'point', 'it'], ['', 'century', 'thi', 'world', 'settl', 'quiet', 'comfort', 'stalemate'], ['', 'war', 'ended', 'peopl', 'mai', 'recov', 'thi', 'conflict'], [''], [''], ['', 'planet', 'wev', 'learned', 'will'], ['', 'see', 'magic', 'ha', 'cost'], ['', 'goe', 'unpaid', 'has', 'simplest', 'spell', 'produc', 'kind', 'volatil', 'exhaust'], ['', 'thi', 'raw', 'danger', 'arcan', 'energi', 'suffus', 'soil', 'everi', 'battleground', 'sky', 'everi', 'citadel', 'bank', 'everi', 'river', 'convening—', 'thing', 'do—', 'sea'], ['', 'ocean', 'turn', 'us'], ['', 'great', 'glow', 'wave', 'heav', 'land', 'swallow', 'everyth', 'path'], ['', 'hang', 'waters', 'maelstrom', 'far', 'measure', 'visibl', 'shores', 'grew', 'wider', 'stronger', 'everi', 'pass', 'day'], ['', 'so', 'kingdom', 'scrambl', 'mean', 'evad', 'extinction'], ['', 'din', 'toil', 'storm’', 'ceaseless', 'report', 'thunder', 'voic', 'sea'], ['', 'simpl', 'stanza', 'offer', 'salvation'], ['', 'kingdom', 'fall', 'sea', 'provides'], ['', 'home', 'beneath', 'tides'], ['', 'hundr', 'us', 'hail', 'corner', 'realm', 'heed', 'thi', 'call'], ['', 'abandon', 'respect', 'kingdoms', 'asid', 'gener', 'differences', 'promis', 'new', 'life'], ['', 'better', 'life'], ['', 'leagu', 'gnash', 'fang', 'apocalypse', 'home', 'creation', 'deep', 'ethersea'], ['', 'hail', 'met', 'adventurers', 'welcome', 'brand', 'new', 'voyage', 'wizard', 'balthazar'], ['', 'orb'], ['', 'walk', 'new', 'voy—', 'new', 'journey'], ['', 'wait'], ['', 'orb', 'walk', 'you', 'um', 'it’', 'funni', 'sai', 'that', 'travis', 'becaus', 'read', 'prepar', 'note', 'wrote', 'you', 'told', 'walk', 'spectral', 'sidewalk', 'werent', 'hold', 'orb'], ['', 'youd', 'fall', 'right', 'through'], ['', 'fell', 'right', 'through'], ['', 'yeah', 'fell', 'right', 'through'], ['', 'demon', 'crabazal’', 'infinit', 'mouth'], ['', 'so', 'yeah'], ['', 'im', 'dead'], ['', 'character', 'dead'], ['', 'travi', 'gone', 'show'], ['', 'juic', 'dad', 'um'], [''], [''], ['', 'hopefulli', 'youll', 'bit', 'stai', 'power'], ['', 'well', 'thank', 'tune', 'adventur', 'zone', 'fam'], ['', 'we’r', 'someth', 'kind', 'differ', 'thi', 'episod', 'sort', 'build', 'world', 'new', 'season', 'that’s'], [''], [''], ['', 'thi', 'one’', 'cook', 'show'], ['', 'it’', 'bit', 'different'], ['', 'it’', 'cook', 'show'], ['', 'its', 'uh—', 'got', 'hot', 'recipes'], ['', 'uh', 'hope', 'gui', 'like'], [''], [''], ['', 'stew', 'caus', 'that', 'your', 'gettin'], ['', 'it’', 'stew'], ['', 'got', 'rowdi', 'mcelroi', 'boi', 'here', 'wer', 'gonna', 'plai', 'differ', 'game', 'build', 'world', 'wer', 'gonna', 'plai', 'season', 'return', 'dungeon', '', 'dragon', '5th', 'edition'], ['', 'game', 'quiet', 'year'], ['', 'it’', 'design', 'averi', 'alder', 'link', 'purchas', 'episod', 'description', 'uh', 'thi', 'episod', 'setup', 'episod', 'here'], ['', 'thoroughli', 'recommend', 'virtual', 'anybody'], ['', 'think', 'it’', 'amaz', 'game', 'hope', 'feel', 'wai', 'hear', 'bad', 'job', 'plai', 'here'], ['', 'that', 'wer', 'playing'], ['', 'it', 'great'], ['', 'mention', 'uh', 'essenti', 'got', 'thi', 'idea', 'friend', 'table', 'thi', 'uh'], [''], [''], ['', 'youv', 'listen', 'friend', 'table', 'marielda', 'arc', 'place', 'citi', 'wa', 'built', 'quiet', 'year'], ['', 'wer', 'gonna', 'do', 'uh', 'yknow', 'someth', 'similar', 'here'], ['', 'quick', 'like', '30second', 'rundown', 'quiet', 'year', 'works', 'mean', 'well', 'definitely—', 'mayb', '30', 'seconds'], ['', 'uh', 'well', 'quick', 'can'], ['', 'rounds', 'basic', 'plai', 'year', 'turns', 'sort', 'introduce', 'uh', 'complications', 'discoveries', 'thing', 'ar', 'place', 'insid', 'thi', 'settlement', 'ar', 'plai', 'in'], ['', 'uh', 'so', 'wer', 'basically', 'bird', 'ey', 'view', 'flesh', 'town'], ['', 'ar', 'map', 'ar', 'draw', 'roll', '20'], ['', 'thi', 'inher', 'kind', 'visual', 'element', 'it'], ['', 'share', 'maps', 'assume', 'sort', 'draw', 'them', 'hear', 'episodes'], ['', 'mention', 'dont', 'know', 'mani', 'episod', 'thi', 'gonna', 'year'], ['', 'current', 'pace', 'ar', 'oper', 'at', 'itll', '60', 'episodes'], ['', 'thi', 'worldbuild', 'arc'], ['', 'yep'], ['', 'um', 'yeah'], ['', 'so', 'ar', 'stuff'], ['', 'heard', 'begin', 'thi', 'essenti', 'the', 'um', 'like', 'macrolevel', 'world', 'histori', 'this', 'yknow', 'settlement', 'is'], ['', 'iv', 'outlin', 'sort', 'broad', 'goal', 'wer', 'here', 'underwat', 'city'], ['', 'wa', 'sort', 'like', 'initi', 'design', 'season', 'sort', 'a—', 'like', 'idea', 'space', 'opera', 'like', 'insid', 'magic', 'ocean', 'like', 'didnt', 'realli', 'come', 'lot', 'heard', 'so', 'everyth', 'else', 'ar', 'essenti', 'plai', 'figur', 'len', 'uh', 'quiet', 'year'], ['', 'want', 'say', 'guess', 'top', 'sort', 'tonally', 'sort', 'guid', 'light', 'i'], [''], [''], ['', 'realli', 'dont', 'want', 'like', 'bioshock', 'uh', 'god'], [''], [''], ['', 'what', 'citi', 'bioshock', 'rapture', 'yeah', 'dont', 'want', 'rapture'], ['', 'dont', 'want', 'atlantis'], ['', 'griffin', 'man', 'entitl', 'sweat', 'hi', 'brow', 'sweat', 'his—', 'no', 'unfortun', 'not'], ['', 'dont', 'know', 'your', 'bioshock', 'thing', 'ayn', 'rand', 'thing', 'there', 'ar', 'equal', 'unwelcom', 'thi', 'house'], ['', 'okay', 'got', 'it', 'got', 'it', 'got', 'it'], ['', 'cool', 'cool'], ['', 'um'], [''], [''], ['', 'yeah', 'want', 'try', 'lean', 'awai', 'from—', 'know', 'gui', 'plai', 'andrew', 'ryan', 'quark', 'know', 'that', 'dont', 'know', 'i—', 'yeah', 'deep', 'space', 'nine'], ['', 'dont', 'know', 'know', 'that'], ['', 'dont', 'know', 'know', 'it'], ['', 'um', 'basic', 'want', 'lean', 'sort', 'underwat', 'fiction', 'tropes', 'can'], ['', 'dont', 'want', 'like', 'hot', 'heavi', 'seriou', 'high', 'fantasi', 'it', 'becaus', 'iv', 'sort', 'envis', 'as', 'hey', 'thi', 'ocean', 'irradi', 'magic', 'chaos', 'there', 'weird', 'shit', 'discov', 'everywhere', 'let', 'fun', 'deadli', 'ocean', 'ship', 'whatever'], ['', 'griffin', 'iv', 'question', 'befor', 'begin'], ['', 'please'], ['', 'so', 'look', 'map', 'there', 'it', '50', 'land', '50', 'sea'], ['', 'yes'], ['', 'envis', 'like', 'primari', 'surface', 'becaus', 'like', 'intro', 'youv', 'told', 'us', 'thi', 'citi', 'kind', 'transit', 'safer'], [''], [''], ['', 'like', 'safer', 'option', 'sea', 'wer', 'for', 'yes'], ['', 'goal', 'this—', 'were—', 'mayb', 'thi', 'a', 'ar', 'quiet', 'year', 'exact', 'manner', 'wa', 'intended', 'right', 'becaus', 'ar', 'essenti', 'build', 'thi', 'settlement', 'these', 'uh', 'nomad', 'travel', 'differ', 'kingdom', 'come', 'togeth', 'thi', 'underwat', 'city'], ['', 'land', 'map', 'where', 'basically', 'sever', 'hundr', 'peopl', 'ar', 'sort', 'place', 'thei', 'live', 'thei', 'build', 'thi', 'underwat', 'citi', 'in—', 'thei', 'have', 'yknow', 'year', 'it'], ['', 'eventually', 'onc', 'weve', 'dont', 'know', 'discov', 'explor', 'underwater', 'place', 'build', 'city', 'actual', 'like', 'citi', 'underwat', 'peopl', 'live', 'stuff', 'start', 'draw', 'seasid', 'map'], ['', 'yes', 'goal', 'be', 'essentially', 'year', 'land', 'half', 'map', 'swept', 'away'], ['', 'so', 'sort', 'launch', 'pad'], ['', 'let', 'started'], ['', 'uh', 'ar', 'thi', 'roll', '20', 'ar', 'access', 'draw', 'tools'], ['', 'everyth', 'add', 'map', 'everi', 'sort', 'narr', 'element', 'everyth', 'outline', 'ar', 'repres', 'visually'], ['', 'ar', 'draw', 'map'], ['', 'ar', 'encourag', 'word', 'write', 'map'], ['', 'befor', 'started', 'everybodi', 'suppos', 'add', 'sort', 'topograph', 'feature'], ['', 'went', 'ahead', 'drew', 'coastlin', 'thi', 'beach', 'that', 'essentially', 'settlement', 'gonna', 'on', 'water', 'is—', 'thi', 'map', 'water', 'sand'], ['', 'that', 'iv', 'drawn', 'coastline'], ['', 'so', 'want', 'next', 'draw', 'sort', 'broad', 'topograph', 'feature'], ['', 'thi', 'thing', 'like—', 'rule', 'game', 'it', 'outlin', 'like', 'mountain', 'rang', 'here'], ['', 'or', 'is'], [''], [''], ['', 'wer', 'granular', 'sai', 'like', 'the', 'yknow', 'ant', 'lion', 'nest', 'whatev', 'hell'], ['', 'first', 'sort', 'establish', 'topography'], ['', 'uh', 'so', 'griffin'], [''], [''], ['', 'sorry', 'question', 'befor', 'go'], ['', 'please'], ['', 'technolog', 'speaking', 'advanced—', 'like', 'compar', 'thi', 'time', 'period', 'actual', 'real', 'world', 'history', 'at', 'yeah', 'um'], [''], [''], ['', 'mean', 'that', 'thing', 'left', 'littl', 'bit', 'blank'], ['', 'sai', 'the', 'um'], [''], [''], ['', 'hominine', 'kingdom', 'like', 'veri', 'magic', 'advanced', 'delmer', 'folk', 'ar', 'more', 'uh', 'engin', 'advanced'], ['', 'like', 'dont', 'know', 'steampunk', 'sort', 'of'], [''], [''], ['', 'yknow', 'sai', 'weird', 'magic', 'technolog', 'actual', 'industri', 'revolut', 'style', 'stuff'], ['', 'okay', 'great'], ['', 'idea', 'like', 'build', 'habit', 'undersea', 'world', 'like', '“let’', 'cross', 'fingers'], ['”', 'don’t', 'know', 'that'], ['', 'yeah', 'yeah'], ['', 'wer', 'like—', 'build', 'block', 'work', 'from', 'right', 'yes'], ['', 'wer', 'complet', 'invent', 'it', 'right', 'right'], ['', 'mean', 'complet', 'invent', 'it', 'assum', 'that', 'yknow', 'level', 'of', 'like', 'engin', 'expertis', 'here', 'use'], ['', 'thei', 'ar', 'figur', 'out', 'becaus', 'nobodi', 'ha', 'built', 'underwat', 'citi', 'before'], ['', 'got', 'it', 'got', 'it', 'got', 'it'], ['', 'els', 'thi', 'game', 'veri', 'easy', 'think'], ['', 'um', 'im—', 'okay', 'im', 'to', 'start', 'with', 'the'], [''], [''], ['', 'oh', 'gotta', 'rememb', 'cardin', 'directions'], [''], [''], ['', 'northeast', 'sai', 'is'], [''], [''], ['', 'let', 'right', 'color'], [''], [''], ['', 'ooh', 'yeah', 'pleas', 'dont', 'offwhit', 'white', 'map'], ['', 'yeah', 'right', 'thi', 'color'], ['', 'is', 'uh', 'littl', 'magic', 'spring', 'thing'], ['', 'okay'], ['', 'like', 'littl', 'lake', 'mayb', 'some'], [''], [''], ['', 'magic', 'it'], ['', 'wer', 'game', 'world', 'right', 'thi', 'play'], ['', 'game'], ['', 'game'], ['', 'correct'], ['', 'thi', 'settlement', 'everybodi', 'ha', 'sort', 'follow', 'thi', 'voic', 'shore', 'ocean', 'thei', 'brought', 'kind', 'build', 'underwat', 'city'], ['', 'right', 'now', 'land', 'map', 'yes'], ['', 'uh', 'just', 'clarity', 'sake', 'magic', 'lake', 'kind', 'magic', 'properti', 'everything', 'know'], ['', 'wev', 'arriv', 'here'], ['', 'fresh', 'water', 'yes'], ['', 'okay'], ['', 'that’', 'set', 'inland', 'ocean', 'side'], ['', 'thi', 'like', 'spring', 'ran', 'there', 'yknow', 'okay', 'cool'], ['', 'mean', 'that', 'weird', 'itself'], ['', 'becaus', 'ocean', 'irradi', 'magic', 'ha', 'like', 'realli', 'volatil', 'dangerous'], ['', 'idea', 'anoth', 'version', 'mayb', 'wild', 'someth', 'sure', 'explore'], ['', 'yes'], ['', 'thi', 'is—', 'im', 'uh', 'worth', 'noting'], [''], [''], ['', 'think', 'it', 'probabl', 'differ', 'kind', 'magic', 'ha', 'irradi', 'thing'], ['', 'hm', 'okay'], ['', 'sure'], ['', 'um', 'juice', 'wanna', 'draw', 'something', 'tell', 'think', 'cool'], ['', 'yeah', 'baybee'], ['', 'im', 'gonna', 'draw', 'someth', 'cool'], ['', 'let', 'it'], ['', 'itll', 'cool'], ['', 'yeah', 'dude'], ['', 'like', 'big', 'skull'], ['', 'im', 'gonna', 'draw—', 'draw', 'fuckin', 'skull', 'dude'], ['', 'yeah', 'big', 'skull'], ['', 'here'], [''], [''], ['', 'thi', 'ha', 'emerged', 'it', 'black', 'spiral', 'staircase', 'goe', 'ocean'], ['', 'it', 'before'], ['', 'okay'], ['', 'it', 'rock'], ['', 'nobodi', 'know', 'came', 'from', 'nobodi', 'know', 'it', 'there', 'it', 'beauti', 'spiral', 'staircase'], ['', 'doe', 'kind', 'look', 'like', 'snake', 'try', 'draw', 'it'], ['', 'it', 'like', 'spooki', 'snake', 'the—', 'ill', 'work', 'it', 'idea'], ['it', 'like', 'cool', 'black', 'spiral', 'staircase'], ['', 'reachabl', 'shore', 'someth', 'need', 'like', 'swim', 'boat', 'to', 'no', 'no', 'no'], ['', 'youd', 'need', 'take', 'uh'], [''], [''], ['', 'probably—', 'mean', 'like', 'depend', 'good', 'swimmer', 'are', 'right', 'sai', 'it', 'probabl', 'like'], [''], [''], ['', 'mayb', '200', 'yard', 'out'], ['', 'okay'], ['', 'think', 'rad', 'think', 'draw', 'someth', 'land', 'map'], ['', 'mayb', 'well', 'draw', 'someth', 'sea', 'map'], ['', 'becaus', 'like', 'happen', 'like', 'first'], [''], [''], ['', 'happen', 'land'], [''], [''], ['', 'happen', 'land', 'figur', 'how', 'like', 'peopl', 'actual', 'explor', 'sea', 'start', 'build', 'shit', 'there'], ['', 'like', 'thi', 'thing', 'mayb', 'flesh', 'littl', 'bit', 'first'], ['', 'leav', 'black', 'spiral', 'staircase'], ['', 'okay'], ['', 'caus', 'that', 'tasty'], ['', 'then', 'wa', 'cool', 'one'], ['', 'dad', 'something'], ['', 'yeah', 'iv', 'got', 'idea'], ['', 'im', 'to', 'uh', 'construct', 'a'], [''], [''], ['', 'giant', 'sinkhole'], [''], [''], ['', 'kay'], ['', 'that'], [''], [''], ['', 'thi', 'gonna', 'look', 'like', 'anus', 'want', 'justin', 'travi', 'readi', 'that'], ['', 'no', 'griffin', 'wa', 'alreadi', 'there'], ['', 'im', 'alreadi', 'there', 'thi', 'sinkhol', 'huge'], ['', 'dead', 'daddi', 'long', 'legs'], ['', 'sorry', 'on'], ['', 'people', 'uh', 'centuries', 'like', 'landfill'], ['', 'theyv', 'throw', 'garbag', 'it', 'throw', 'junk', 'it'], ['', 'interesting'], ['', 'yknow', 'it', 'like', 'giant', 'junkyard', 'thei', 'throw', 'in', 'it', 'gone'], ['', 'nobodi', 'quit', 'know', 'it', 'going'], ['', 'oh', 'interesting', 'oh', 'okay', 'it', 'like', 'there', 'pile', 'junk', 'see'], ['', 'no'], ['', 'goe', 'point', 'cant', 'it'], ['', 'it’', 'right', 'there'], [''], [''], ['', 'yep', 'thi', 'giant', 'hole'], [''], [''], ['', 'your', 'look', 'like', 'butthole', 'dad'], ['', 'yeah'], ['', 'wa', 'intent'], ['', 'thought', 'that’', 'wanted'], ['', 'nooo'], ['', 'im', 'gonna', 'stretch', 'thi', 'map', 'real', 'quick'], ['', 'it', 'littl', 'bit', 'blurry', 'because—', 'ah', 'go'], ['', 'yall', 'that', 'yep'], ['', 'yeah'], ['', 'ar', 'build', 'essenti', 'kingdom', 'kind', 'intersect', 'here'], ['', 'hominine', 'ha', 'basic', 'conquer', 'world', 'einarr', 'plateau', 'sort', 'naturalist', 'societi', 'ha', 'built'], ['', 'so', 'thi', 'sinkhol', 'essenti', 'like', 'right', 'flat', 'things'], ['', 'like', 'leav', 'don’t', 'know', 'sinkhol', 'thing', 'disappear'], ['', 'griffin', 'turn', 'mean', 'drew', 'coast', 'long', 'wer', 'kind', 'draw', 'bullshit'], [''], [''], ['', 'uh', 'im', 'gonna', 'draw', 'like', 'a'], [''], [''], ['', 'mean', 'it', 'bullshit', 'griffin'], ['', 'wer', 'scribbl', 'map'], ['', 'it', 'bs'], ['', 'um', 'im', 'gonna', 'draw', 'like', 'tide', 'pool'], ['', 'okay'], ['', 'hereish'], ['', 'is', 'yknow', 'crag', 'rock', 'and', 'uh', 'shallow', 'water', 'like', 'weird', 'divers', 'arrai', 'wildlif', 'it', 'case', 'tide', 'pools'], ['', 'well', 'kind', 'of'], [''], [''], ['', 'flesh', 'out'], ['', 'uh', 'i—', 'got', 'upper', 'northwest', 'area', 'yeah', 'northwest', 'quadrant', 'shore'], ['', 'sizeabl', 'thing'], ['', 'add', 'someth', 'sea', 'side', 'now', 'uh', 'sure'], ['', 'um', 'to'], [''], [''], ['', 'uh', 'sai', 'here', 'uh', 'slightli', 'west', 'spiral', 'staircase', 'patch', 'water', 'surface', 'doesnt', 'same', 'like', 'wave', 'structur', 'rest', 'sea'], ['', 'like', 'wave', 'it', 'thei', 'decrease', 'wave', 'ar', 'higher'], ['', 'okay'], ['', 'your', 'draw', 'someth', 'surfac', 'water'], ['', 'correct'], ['', 'mayb', 'draw', 'land', 'side', 'then', 'kind', 'thing', 'distinct'], ['', 'it', 'someth', 'land', 'like—', 'well', 'black', 'spire', 'see'], ['', 'it', 'come', 'sea'], ['', 'oh', 'it', 'come', 'sea', 'okay'], ['', 'that', 'it', 'cool'], ['', 'ar', 'stair', 'sea', 'okay', 'okay'], ['', 'dig', 'it'], ['', 'alright'], ['', 'yeah', 'let', 'there', 'then'], ['', 'it', 'section', 'wave', 'dont', 'happen', 'yeah', 'water', 'calmer'], ['', 'wave', 'like'], [''], [''], ['', 'hit', 'just', 'vanish', 'yeah', 'thei', 'like', 'break', 'it'], ['', 'interesting', 'okay'], ['', 'that', 'next—', 'that', 'near', 'spiral', 'staircase', 'yeah'], ['', 'spiral', 'staircas', 'land', 'patch'], ['', 'okay'], ['', 'uh', 'dad', 'wanna', 'draw', 'thing', 'that', 'probabl', 'to', 'uh', 'start', 'with'], ['', 'um'], [''], [''], ['', 'travis', 'thi', 'a—', 'built', 'pool', 'yeah', 'it', 'uh—', 'it', 'pool', 'plot—', 'section', 'surfac', 'ocean', 'calm'], ['', 'no', 'so', 'land'], ['', 'mean', 'land', 'sea', 'no', 'land'], ['', 'yeah'], ['', 'land', 'it', 'uh', 'like'], [''], [''], ['', 'bigger', 'pool'], ['', 'sai', 'it', 'like', 'uh', 'kind', 'like', 'larg', 'pond', 'size'], ['', 'mkay'], ['', 'ar', 'onli', 'natur', 'thing', 'wer', 'map', 'right', 'now', 'yes'], ['', 'right', 'that', 'right'], ['', 'okay'], ['', 'um'], [''], [''], ['', 'river'], ['', 'think', 'river', 'lead', 'sea'], ['', 'so'], [''], [''], ['', 'nice', 'river', 'actually'], [''], [''], ['', 'runs'], [''], [''], ['', 'west', 'coast', 'run', 'curv', 'north'], ['', 'whoa'], ['', 'okay'], ['', 'wait', 'water', 'flow', 'ocean', 'yes', 'correct'], ['', 'it—', 'okay'], ['', 'caus', 'wa', 'opposite', 'fuckin', 'bonkers'], ['', 'magic', 'world'], ['', 'guess', 'so'], ['', 'uh', 'okay', 'uh', 'guess', 'thing', 'sort', 'figur', 'out', 'gener', 'speaking', 'uh'], [''], [''], ['', 'thi', 'thing', 'here'], ['', 'thi', 'beach', 'stuff', 'outlin', 'water', 'all'], [''], [''], ['', 'sand', 'beach', 'think', 'there', 'sort', 'biomes', 'dont', 'think', 'beach', 'you', 'mean'], [''], [''], ['', 'no', 'mean—', 'allow', 'posit', 'griffin'], ['', 'yeah'], ['', 'uh', 'posit', 'perhap', 'sand', 'beach', 'like', 'pebble'], [''], [''], ['', 'pebbl', 'kind', 'beach', 'thi', 'isnt', 'like', 'vacat', 'spot'], ['', 'mayb', 'it’', 'fat', 'beach'], ['', 'mayb', 'it', 'phat', 'phat', 'beach'], ['', 'that', 'possible'], ['', 'okay'], ['', 'it', 'kind', 'pebbl', 'thing'], ['', 'there', 'reason', 'peopl', 'settl', 'before'], ['', 'thi', 'like', '“come', 'relax”', 'kind', 'thing'], ['', 'yes'], ['', 'thing', 'sort', 'world', 'map', 'drew', 'thi', 'area', 'fairli', 'secluded', 'becaus', 'yknow', 'world', 'power', 'ar', 'sort', 'try', 'formul', 'own', 'uh', 'wai', 'die', 'apocalypse', 'yknow', 'thei', 'ar', 'contenti', 'world', 'powers'], ['', 'thei', 'mai', 'wild', 'idea', 'thi', 'like', 'construct', 'happen', 'here'], ['', 'wer', 'thi', 'scale', 'right', 'no', 'think', 'lot', 'ask', 'us'], ['', 'yeah'], ['', 'wer', 'dummies', 'so'], [''], [''], ['', 'yeah', 'work'], ['', 'sai', 'like—', 'dont', 'kind', 'grayish', 'beachi', 'thing', 'yeah'], ['', 'im', 'draw', 'veri', 'faint', 'line', 'illustr', 'like', 'that', 'beach'], ['', 'then', 'that', 'yknow', 'theres—', 'imagine', 'there', 'green', 'pond'], ['', 'so', 'dont', 'everi', 'singl', 'sort', 'of', 'um'], [''], [''], ['', 'well', 'go'], ['', 'that', 'point', 'game'], ['', 'that', 'true', 'that', 'point'], ['', 'okay'], ['', 'uh', 'so', 'thing', 'befor', 'realli', 'start', 'decid', 'resourc', 'ar', 'import', 'city'], ['', 'again', 'think', 'thi', 'thing', 'list', 'of'], ['', 'seaside', 'think', 'it', 'probabl', 'static', 'like'], [''], [''], ['', 'list', 'question', 'answer'], ['', 'right', 'like', 'ar', 'breathing', 'is—', 'ar', 'water', 'sustain', 'food', 'yeah'], ['', 'yeah', 'food'], ['', 'ar', 'staying—', 'what', 'shelter', 'situation', 'energy', 'mean', 'light', 'power—', 'yeah', 'exactly'], ['', 'yeah', 'there', 'thing', 'need', 'sort', 'citi', 'underwater'], ['', 'so', 'mayb', 'track', 'ourselves'], ['', 'yeah', 'think', 'just—', 'label', 'like', 'kind', 'surviv', 'like', 'primari', 'thing'], ['', 'like', 'thrive', 'secondary', 'yknow', 'well', 'yes'], ['', 'yeah'], ['', 'lets—', 'far', 'categori', 'resourc', 'go'], ['', 'categori', 'seaside'], ['', 'right'], ['', 'land', 'side', 'mean', 'its—', 'wer', 'essenti', 'plai', 'game', 'right', 'decid', 'thing', 'ar', 'import', 'societi', 'here', 'build', 'citi', 'underwater'], ['', 'so', 'thing', 'be—', 'start', 'scarcity', 'save', 'them'], ['', 'decid', 'something'], ['', 'like', 'pitch'], ['', 'yeah', 'please'], ['', 'uh', 'abund', 'one'], ['', 'well', 'let', 'import', 'resourc', 'first', 'well', 'decid', 'abund', 'is'], ['', 'well', 'number', 'knowledge', 'right', 'wer', 'try', 'figur', 'out'], [''], [''], ['', 'cant', 'spell', 'word', 'kno—', 'there', 'd', 'knowledge'], ['', 'that', 'embarrassing'], ['', 'that', 'fuck', 'embarrassing'], ['', 'yeah'], ['', 'it', 'like', 'knowledge'], ['', 'gotta', 'know', 'ledge', 'yknow', 'um', 'knowledge'], ['', 'yeah', 'sure'], ['', 'caus', 'that', 'thing', 'right', 'wer', 'try', 'figur', 'it'], [''], [''], ['', 'like', 'number', 'resourc', 'knowledge'], ['', 'like—', 'think', 'maybe—', 'becaus', 'dont—', 'it', 'broad'], ['', 'it', 'broad', 'it', 'someth', 'like', 'becom', 'scarcity', 'knowledg', 'isnt', 'exactli', 'fluid', 'right', 'ar', 'sort', 'of', 'yknow', 'ostensibly', 'best', 'brightest', 'kingdom', 'like', 'ar', 'abl', 'bring', 'variou', 'shit'], ['', 'mayb', 'instead', 'knowledge', 'mayb', 'it', 'like', 'cooper', 'like', 'knowledge'], ['', 'becaus', 'is—', 'someth', 'dynamic'], ['', 'like', 'be—', 'know', 'mean', 'oh', 'yeah', 'okay'], ['', 'like', 'that'], ['', '“diplomacy”', 'mayb', 'wai', 'it', 'like', 'abil', 'to—', 'differ', 'group', 'cooperate', 'um', 'mayb', 'sai', 'like', '“unity”', 'like', 'bucket', 'thing'], ['', 'unity', 'yeah'], ['', 'uniti', 'work', 'me'], ['', 'becaus', 'wer', 'saying', 'inherently', 'knowledg', 'everyon', 'bring', 'necessarili', 'resource—', 'abl', 'new', 'inform', 'later', 'peopl', 'ar', 'come', 'knowledge'], ['', 'it', 'thei', 'want', 'work', 'togeth', 'it'], ['', 'lot', 'sens', 'me'], ['', 'id', 'like', 'suggest', 'someth', 'think', 'interesting'], ['', 'someth', 'iv', 'think', 'lot', 'is', 'um'], [''], [''], ['', 'idea', 'culture'], ['', 'like', 'wer', 'like', 'try', 'society—', 'fact', 'differ', 'societies—', 'sea', 'basic', 'like', 'abandon', 'land'], ['', 'right'], ['', 'like', 'idea', 'like', 'cultural'], [''], [''], ['', 'like', 'cultur', 'histori', 'wer', 'abl', 'bring', 'us'], ['', 'becaus', 'like', 'someth', 'balanc', 'survival'], ['', 'um'], [''], [''], ['', 'let', 'ahead—', 'let', 'cheat', 'like', 'divers', 'culture', 'like', 'abundance', 'becaus', 'again', 'like', 'dont', 'someth', 'becom', 'scarce', 'unless', 'yknow', 'someth', 'genuin', 'horribl', 'happens'], ['', 'like', 'divers', 'culture'], ['', 'your', 'talk', 'about', 'ar', 'talk', 'like', 'a'], [''], [''], ['', 'im', 'talk', 'cultur', 'works'], ['', 'artifacts', 'art'], ['', 'artifacts', 'art', 'like'], [''], [''], ['', 'oh', 'that', 'good—', 'okay', 'yes'], ['', 'like', 'cultur', 'people', 'like', 'wer', 'preserving', 'like—', 'yknow', 'send', 'space', 'shuttle', 'like', 'record', 'stuff', 'like', 'alien', 'like', 'lai', 'tracks', 'like', 'ar', 'you'], [''], [''], ['', 'ar', 'save', 'society', 'access', 'land', 'we'], [''], [''], ['', 'right', 'yeah', 'mean'], [''], [''], ['', 'impossible', 'season', 'wer', 'playing', 'actual', 'start', 'season', 'earnest', 'entir', 'underwater'], ['', 'abov', 'surfac', 'land', 'like', 'uh', 'extremely—', 'season'], ['', 'quiet', 'year', 'ha', '“seasons'], ['”', 'sorry', 'yes'], ['', 'season', 'adventur', 'zone', 'uh', 'tent', 'ethersea', 'pure', 'underwater'], ['', 'everyth', 'abov', 'water', 'like', 'unsurvivable', 'essentially'], ['', 'um', 'im', 'gonna', 'add', 'like'], [''], [''], ['', 'build', 'resources', 'could—', 'yeah', 'yeah'], ['', 'like', 'becaus', 'like', 'metal', 'wood', 'whatever'], ['', 'ton', 'those'], ['', 'right', 'now', 'like', 'dont', 'know', 'fuck', 'city', 'gonna', 'of'], ['', 'ani', 'stuff'], ['', 'structur', 'resources', 'structur', 'material', 'right', 'becaus', 'it', 'like'], [''], [''], ['', 'yeah'], ['', 'yknow', 'food', 'cloth', 'like', 'yknow'], ['', 'kind', 'resources'], ['', 'liter', 'like', 'thing', 'build', 'with'], ['', 'um', 'dad'], ['', 'gone'], ['', 'air', 'mean', 'arent', 'gonna', 'need', 'figur', 'kei', 'live', 'underwater', 'wer', 'gonna', 'breathe', 'let', 'add—', 'okay', 'those', 'like', 'uh', '“air'], ['', 'underwater'], ['”', 'uh'], [''], [''], ['', 'like', 'start', 'point', 'for'], [''], [''], ['', 'yeah'], ['', 'water', 'underwater'], ['', 'uh', 'food', 'underwater'], ['', 'also', 'food', 'abov', 'water', 'right', 'like', 'food', 'important'], ['', 'ar', 'build', 'minicity', 'essentially', 'ar', 'thing', 'like', 'food', 'shelter', 'uh', 'like'], [''], [''], ['', 'come', 'mission', 'voic', 'sea', 'dont', 'necessarili', 'like', 'prioritize'], [''], [''], ['', 'um', 'sorry', 'kind', 'click', 'plai', 'with'], ['', 'fluctuat', 'resource', 'leadership', 'becaus', 'differ', 'groups', 'right', 'arent', 'necessarili', 'agre', 'ani', 'person'], ['', 'could—', 'feel', 'closer', 'unity'], ['', 'yeah', 'feel', 'like', 'push', 'pull', 'thing'], ['', 'like', 'strong', 'leader', 'everybodi', 'wa', 'like', 'with', 'like', 'that', 'unity'], ['', 'im', 'gonna', 'pitch', 'concept', 'had'], ['', 'mkay'], ['', 'thi', 'arc', 'would—', 'plai', 'thi', 'resourc', 'conversation'], ['', 'um', 'know', 'magic', 'ha', 'cost', 'basic', 'like', 'a'], [''], [''], ['', 'materi', 'cost'], ['', 'materi', 'cost', 'right', 'like', 'creat', 'someth', 'basically', 'uh', 'analog', 'pollutant', 'ha', 'seep', 'sea'], ['', 'want', 'pitch', 'idea', 'of'], [''], [''], ['', 'ocean', 'sea', 'purifi', 'condens', 'sort', 'magic', 'byproduct', 'sourc', 'energy', 'like', 'physical'], [''], [''], ['', 'mayb', 'it', 'like', 'cubes'], ['', 'mayb', 'it', 'like', 'crystals'], ['', 'someth', 'like', 'ar', 'like', 'finding'], ['', 'like', 'wai', 'boil', 'salt', 'water', 'salt', 'it', 'ooh', 'it', 'salt', 'like', 'magic', 'salt', 'goto', 'like'], [''], [''], ['', 'it', 'basic—', 'it', 'prestige'], ['', 'think', 'it', 'like', 'energi', 'source'], ['', 'like', 'like—', 'need', 'certain', 'thi', 'stuff', 'to', 'um', 'down'], [''], [''], ['', 'energy'], ['', 'question', 'think', 'dont', 'answer', 'right', 'now', 'think', 'veri', 'interesting', 'is'], [''], [''], ['', 'like', 'sea', 'ha', 'magic', 'pollut', 'basic', 'recycl', 'prestige'], ['', 'like', 'happen', 'burn', 'it', 'yeah'], ['', 'like', 'happen', 'it', 'bad', 'good', 'piss', 'sea', 'more', 'dangerous', 'renewable', 'there', 'like', 'it', 'whatever'], ['', 'right'], ['', 'like', 'like', 'idea', 'me'], ['', 'uh', 'thing', 'note', 'game', 'sort', 'meant', 'plai', 'sort', 'easi', 'answer', 'questions'], ['', 'thats—', 'dont', 'think', 'that', 'thi', 'is'], ['', 'think', 'there', 'version', 'thi', 'it', 'like', 'mysteri', 'thing'], ['', 'uh', 'yknow', 'discov', 'somewhat', 'sustain', 'wai', 'magic', 'hunt', 'fuckin', 'ey', 'newt', 'whatever', 'right', 'there', 'thi', 'prestig', 'magic', 'responsibly'], ['', 'far', 'know', 'wer', 'onli', 'discov', 'it'], ['', 'yeah'], ['', 'mayb', 'it', 'gift', 'sentient', 'ocean', 'love', 'want', 'care', 'us', 'like', 'weird', 'shit'], ['', 'so', 'therefore', 'like', 'answer', 'citi', 'underwater', 'like'], [''], [''], ['', 'magic', 'energi', 'dai', 'kind', 'with'], ['', 'also—', 'would—', 'love', 'thi', 'idea', 'think', 'that', 'veri', 'cool'], ['', 'quite'], [''], [''], ['', 'wouldnt', 'accessible'], ['', 'think', 'need', 'kind', 'difficulti', 'obtain', 'it'], ['', 'absolutely'], ['', 'it', 'someth', 'like', 'coral', 'form', 'coral', 'someth', 'like', 'that'], ['', 'like', 'process'], ['', 'wer', 'kind', 'game', 'accident', 'littl', 'bit', 'sort', 'preprophase'], ['', 'like', 'thi', 'kind', 'thing', 'ar', 'game'], ['', 'okay'], ['', 'think', 'leav', 'at', 'came', 'know', 'it', 'just'], [''], [''], ['', 'yeah'], ['', 'there—', 'salt', 'present'], ['', 'magic', 'salt'], ['', 'alright', 'prestige', 'magic', 'salt'], ['', 'okay', 'great'], ['', 'there'], ['', 'well', 'figur', 'like', 'fuck', 'mean', 'later'], ['', 'think', 'that', 'thing', 'abund', 'though', 'right', 'that', 'thing', 'that'], [''], [''], ['', 'yeah', 'right', 'like', 'its—', 'yeah'], ['', 'there', 'resourc', 'there'], ['', 'dont', 'think', 'unity', 'inherently', 'like—', 'ar', 'formerli', 'war', 'cultur', 'ar', 'becaus', 'thei', 'heard', 'voice', 'like', 'feel', 'like', 'gotta', 'earn', 'littl', 'bit'], ['', 'yeah'], ['', 'cultur', 'someth', 'mayb', 'thei', 'need', 'peopl', 'come', 'join', 'thi', 'project'], ['', 'like', 'is—', 'think', 'veri', 'contenti', 'thing', 'right', 'therel', 'peopl', 'like', '“your', 'worri', 'art', 'wer', 'try', 'figur', 'food”', 'like'], [''], [''], ['', 'yes'], ['', 'yeah', 'like', 'super', 'want', 'to'], [''], [''], ['', 'term', 'tone', 'like', 'dont', 'want', 'things'], [''], [''], ['', 'yknow', 'dont', 'want', 'bigotri', 'anyth', 'like', 'that', 'like', 'becaus', 'thei', 'rivals'], ['', 'absolutely'], ['', 'chanc', 'to—', 'think', 'it', 'prioritizing', 'like', 'things', 'right', 'right'], ['', 'your', 'gonna', 'peopl', 'like', 'magic', 'ha', 'alwai', 'their', 'like', 'goto', 'answer', 'things'], ['', 'right'], ['', 'peopl', 'ar', 'like', '“no', 'wer', 'gonna', 'craft', 'hands', 'it', 'reliabl', 'way'], ['”', 'dont', 'think', 'ha', 'bigotri', 'it', 'just', 'uh', 'like'], [''], [''], ['', 'wai', 'things'], ['', 'thats—', 'no', 'cant', 'trust', 'magic', 'trust', 'yknow', 'wood', 'stone', 'metal', 'stuff'], ['', 'think', 'plai', 'thing', 'saying'], ['', 'yknow', 'unity', 'culture', 'things'], [''], [''], ['', 'gotcha'], ['', 'theyr', 'figur', 'thi', 'stuff', 'overlap', 'success', 'way'], ['', 'um', 'to—', 'your', 'suppos', 'draw', 'thi', 'stuff', 'uh', 'it'], ['', 'like', 'prestig', 'might—', 'just'], [''], [''], ['', 'draw', 'magic'], [''], [''], ['', 'sort', 'silveri', 'waves'], [''], [''], ['', 'well', 'that', 'confusing', 'caus', 'it', 'fuckin', 'ocean'], ['', 'would', 'griffin', 'shade', 'edge'], ['', 'like', 'mayb', 'wa', 'discovered', 'like', 'coat', 'rock', 'ar', 'like', 'near—', 'like', 'that', 'it', 'dried'], ['', 'oh', 'like', 'mayb', 'near', 'tide', 'pools'], ['', 'like', 'becaus', 'wai', 'water', 'kind', 'come', 'rock', 'there', 'that', 'like', 'it'], ['', 'that', 'good'], ['', 'right', 'water', 'ha', 'like', 'yknow', 'evaporated', 'it', 'left', 'thi', 'like', 'crystallin', 'coat', 'it'], ['', 'okay'], ['', 'um'], [''], [''], ['', 'yeah', 'ill', 'draw', 'near', 'here'], ['', 'uh', 'then', 'wer', 'suppos', 'draw', 'scarcities', 'ar', 'sort', 'of', 'uh', 'highminded'], ['', 'like', 'dont', 'know', 'draw', 'scarciti', 'culture'], ['', 'draw', 'hand', 'shaking'], ['', 'yeah'], ['', 'hand', 'shaking', 'like', 'statue'], ['', 'copi', 'borat', 'dvd'], ['', 'yeah'], ['', 'yeah'], ['', 'okay', 'so', 'got', 'basic', 'start', 'map', 'here'], ['', 'resources'], ['', 'now', 'ar', 'game', 'so', 'let', 'wer', 'actual', 'plai', 'game'], ['', 'round', 'ar', 'basic', 'separ', 'weeks'], ['', 'basic', 'unit', 'play'], ['', 'week', 'turn', 'taken', 'by—', 'im', 'gonna', 'read', 'straight', 'thing', 'here'], ['', '“each', 'week', 'turn', 'taken', 'player', 'plai', 'proceed', 'clockwis', 'table'], ['”', 'dont', 'that', 'mayb', 'left', 'right', 'base', 'littl', 'icon', 'here'], ['', '“week', 'averag', 'minut', 'complete'], ['”', 'well', 'that'], ['', 'um', 'so', 'dure', 'week', 'thing', 'happen'], ['', 'thing', 'draw', 'card', 'thi', 'deck'], ['', 'quiet', 'year', 'provid', 'basic', '52', 'prompts', 'uh', 'yknow', '52', 'week', 'year', '52', 'card', 'deck', 'cards'], ['', 'read', 'prompts'], ['', 'prompt', 'options', 'essentially', 'choos', 'option', 'want', 'card'], ['', 'rather', 'player', 'turn', 'choos', 'option', 'it', 'usual', 'question', 'need', 'answered', 'direct', 'need', 'tobe', 'sort', 'followed'], ['', 'will—', 'well', 'explain', 'go', 'again', 'card', 'ar', 'sort', 'separ', 'seasons'], ['', 'start', 'spring', 'end', 'winter'], ['', 'card', 'winter', 'the'], [''], [''], ['', '“frost', 'shepherds”', 'believ', 'it', 'called'], ['', 'frost', 'shepherd', 'arrive', 'game', 'immedi', 'ends'], ['', 'probabl', 'wont', '52', 'weeks'], ['', 'winter', 'onc', 'wer', 'winter', 'ani', 'point', 'dure', 'player', 'turn', 'it', 'done', 'game', 'over', 'thats—', 'have'], ['', 'someth', 'awar', 'of'], ['', 'also', 'spring', 'thing', 'ar', 'kind', 'okay'], ['', 'figur', 'thing', 'look', 'like', 'summer', 'well', 'shore', 'resources', 'thing', 'harder', 'there'], ['', 'so', 'draw', 'card', 'resolv', 'it'], ['', 'down—', 'there', 'countdown', 'essentially', 'project', 'start', 'is'], [''], [''], ['', 'mayb', 'read', 'step', 'thing', 'first'], ['', 'thing', 'is', 'activ', 'player', 'things'], ['', 'thei', 'discov', 'something', 'then', 'thei', 'add', 'map', 'hold', 'discussion', 'start', 'project'], ['', 'hold', 'discussion', 'start', 'out', 'talk', 'like', 'cool', 'magic', 'or', 'resourc', 'ar', 'important', 'or', 'what', 'prioriti', 'here', 'cant', 'onc', 'start', 'playing'], ['', 'ar', 'meant', 'sort', 'omnipotent', 'uh', 'in'], [''], [''], ['', 'what', 'word', 'im', 'look', 'for', 'entities', 'uninvolv', 'sort', 'entiti', 'ar', 'like'], [''], [''], ['', 'cant', 'rooting', 'necessarily', 'thing', 'succeed', 'like', 'ourselv', 'softballs'], ['', 'like', 'are—', 'wai', 'around', 'too'], ['', 'your', 'necessarili', 'try', 'punish', 'caus', 'failure'], ['', 'no', 'wer', 'try', 'screw', 'ourselv', 'over'], ['', 'like', 'start', 'differ', 'directions', 'mai', 'behoov', 'activ', 'player', 'sai', 'like', '“let', 'talk', 'this'], ['”', 'talk', 'it', 'ar', 'talk', 'perspect', 'member', 'community'], ['', 'there', 'veri', 'specif', 'wai', 'talk', 'it'], ['', 'like', 'your', 'hold', 'town', 'hall'], ['', 'right', 'um', 'start', 'project', 'a', 'yknow', 'repres', 'concert', 'effort', 'commun', 'achiev', 'something'], ['', 'um', 'it', 'veri', 'import', 'dont', 'discov', 'someth', 'project', 'right', 'like', 'oh', 'need', 'food'], ['', 'oh', 'discov', 'fuckin', 'mcdonald', 'the—', 'like', 'no'], ['', 'like', 'need', 'start', 'project', 'to', 'yknow', 'build', 'farm', 'hunt', 'parties'], ['', 'yeah', 'dont', 'like', 'friend', 'debbi', 'who', 'like', '“oh', 'discov', 'cutest—', 'cutest', 'littl', 'restaur', 'day'], ['”', 'like', 'didnt', 'it', 'wasnt', 'hidden', 'woods', 'debbie', 'didnt', 'it'], ['', 'wa', 'yelp'], ['', 'um', 'so', 'ar', 'things', 'right', 'draw', 'card', 'resolv', 'it', 'count', 'project', 'dice', 'discov', 'someth', 'new', 'hold', 'discussion', 'start', 'project'], ['', 'rule', 'like', 'them'], ['', 'that', 'it'], ['', 'cross', 'road', 'like', 'else', 'yknow', 'doing'], ['', 'basic', 'round', 'week'], ['', 'let', 'it'], ['', 'let', 'it'], ['', 'gui', 'like', 'kind', 'illustrate'], [''], [''], ['', 'uh', 'yeah'], ['', 'im', 'horni', 'cards', 'griffin', 'yes', 'im', 'draw', 'card'], ['', 'famili', 'listen', 'this'], ['', 'yeah'], ['', 'got', 'queen', 'spring'], ['', '“what', 'beauti', 'thing', 'thi', 'area', 'or', 'what', 'hideou', 'thing', 'thi', 'area”', 'well', 'magic', 'lake', 'butthol', 'already', 'so'], [''], [''], ['', 'right', 'prompt', 'ar', 'thing', 'answer', 'shit', 'that', 'alreadi', 'there'], ['', 'oh', 'know'], ['', 'it', 'someth', 'need', 'to—', 'want', 'sai', 'butthole', 'griffin'], ['', '—', 'figur', 'out'], ['', 'um', 'a'], [''], [''], ['', 'cave'], [''], [''], ['', 'uh', 'shore', 'sort', 'like', 'right', 'foot', 'einarr', 'plateau', 'land', 'kind', 'run', 'into'], ['', 'like', 'right', 'cave'], [''], [''], ['', 'um', 'that'], [''], [''], ['', 'nobodi', 'inside'], ['', 'it', 'like', 'a—', 'it', 'bar', 'up'], ['', 'it', 'like', 'peopl', 'try', 'it', 'it', 'fear', 'whatever', 'thei', 'ar', 'physic', 'incap', 'thi', 'cave'], ['', 'kind', 'like', 'barrier', 'see', '“the', 'hideou', 'thing”', 'say'], ['', 'yeah'], ['', 'like', 'barrier', 'see', 'like', 'something—', 'no', 'barrier'], ['', 'mental', 'barrier'], ['', 'got', 'it'], ['', 'okay'], ['', 'it', 'like', 'a', 'oh', 'lets—', 'think', 'kid', 'dare', 'themselves', 'like', 'oh', 'let', 'go'], ['', 'yknow', 'thei', 'do', 'becaus', 'nobodi', 'actual', 'abl', 'inside'], ['', 'okay', 'choos', 'discov', 'something', 'start', 'project', 'discussion', 'right', 'well', 'thing', 'is', 'need', 'to', 'uh', 'count', 'clocks'], ['', 'youll', 'see', 'special', 'littl', 'clock', 'veri', 'top'], ['', 'one', 'yes'], ['', 'um', 'so', 'im', 'gonna'], [''], [''], ['', 'all', 'delet', 'thi', 'littl', 'dot', 'accident', 'made'], [''], [''], ['', 'oh', 'jeez'], ['', 'oh', 'jeez'], ['', 'oh', 'jeez'], ['', 'go'], ['', 'uh', 'im', 'gonna', 'count', 'thi', 'down'], ['', 'thi', 'gonna', 'be'], [''], [''], ['', 'seven'], ['', 'thi', 'is', 'uh—', 'thi', 'special', 'event', 'clock', 'got', 'going'], ['', 'okay'], ['', 'count', 'down', 'someth', 'world', 'happen', 'kingdoms'], ['', 'everybodi', 'toyota', 'camry', 'yes'], ['', 'okay'], ['', 'hell', 'yeah'], ['', 'so', 'uh', 'yes'], ['', 'now', 'week', 'discov', 'someth', 'new', 'hold', 'discussion', 'start', 'project'], ['', 'think', 'like'], [''], [''], ['', 'good', 'project', 'be'], [''], [''], ['', 'like', 'shelter'], ['', 'yeah'], ['', 'there', 'enough', 'like', 'camp', 'suppli', 'folk', 'to', 'uh'], [''], [''], ['', 'folk', 'to', 'yknow', 'die'], ['', 'especi', 'theyr', 'try', 'and—', 'people', 'yknow', 'heed', 'call', 'start', 'come', 'here', 'wer', 'gonna', 'need', 'some'], [''], [''], ['', 'wer', 'gonna', 'need', 'housing'], ['', 'mayb', 'like', 'long', 'houses'], ['', 'like', 'superefficient', 'uh', 'bunk', 'houses'], ['', 'noth', 'like', 'super', 'fancy', 'save', 'elements'], ['', 'sense'], ['', 'okay'], ['', 'im', 'gonna', 'draw', 'thi', 'right', 'here'], ['', 'thi', 'realli', 'gonna', 'something—', 'clarify', 'thi', 'realli', 'someth', 'ephemer', 'possible'], ['', 'wer', 'talk', 'like', 'survival'], ['', 'yes'], ['', 'wer', 'building—', 'thi', 'temporary'], ['', 'thi', 'so—', 'thi', 'gonna', 'last—', 'think', 'everybodi', 'know', 'thei', 'ar', 'build', 'construct', 'site', 'noth', 'else'], ['', 'um'], [''], [''], ['', 'shithouse', 'shithouse', 'becaus', 'it', 'gonna', 'bad'], ['', 'like', 'nobodi', 'like', 'it', 'didnt', 'work', 'veri', 'hard', 'it'], ['', 'mayb', 'that', 'wa', 'right', 'away', 'it', 'everyon', 'refer', 'as'], ['', 'shithouse'], ['', '“over', 'uhh', 'shithouse'], ['', 'yknow'], ['”', 'uh', 'yeah'], ['', 'so', 'thing', 'whenev', 'start', 'project', 'decid', 'mani', 'week', 'complet', 'it', 'wai', 'six'], ['', 'week', 'someth', 'take', 'week', 'least'], ['', 'think', 'number', 'peopl', 'ar', 'alreadi', 'here', 'think', 'thi', 'shithous', 'repres', 'lot', 'shithouses', 'hundr', 'hundr', 'peopl', 'go'], ['', 'becaus', 'think', 'everybodi', 'bank', 'on'], [''], [''], ['', 'many', 'many', 'mani', 'folk', 'actual', 'thei', 'start', 'head', 'underground'], ['', 'im', 'gonna', 'sai', 'month'], ['', 'im', 'gonna', 'sai', 'week', 'like', 'actual', 'going'], ['', 'sense'], ['', 'im', 'gonna', 'here', 'end', 'turn'], ['', 'um', 'dad', 'ar', 'in', 'screen', 'order', 'dont', 'next', 'will—', 'oh', 'that', 'right'], ['', 'draw', 'card', 'you'], ['', 'okay'], ['', 'hearts'], ['', 'spring'], ['', '“there', 'anoth', 'commun', 'somewhere—”', 'correct'], ['', 'hearts', 'spring'], ['', 'yeah', 'yeah'], ['', '“there', 'anoth', 'commun', 'somewher', 'map'], ['', 'ar', 'they', 'set', 'apart', 'you', 'or', 'belief', 'practic', 'help', 'unifi', 'community”', 'um', 'think', 'ill', 'belief', 'practic', 'help', 'unifi', 'community'], ['', 'think', 'that', 'great'], ['', 'yeah'], ['', 'everybodi', 'thi', 'descend', 'layer', 'death', 'coming', 'correct', 'yeah'], ['', 'enorm', 'storm', 'everybodi', 'see', 'sort', 'hang', 'ocean', 'some', 'yknow', 'number', 'mile', 'away'], ['', 'right'], ['', 'sow', 'know'], [''], [''], ['', 'thi', 'societi', 'know', 'devast', 'coming', 'they—', 'think', 'belief', 'thei', 'realiz', 'thei', 'all—', 'onli', 'place', 'thei', 'sea'], ['', 'right'], ['', 'onli', 'place', 'thei', 'build', 'someth', 'allow', 'live', 'underwater'], ['', 'mmhmm'], ['', 'thei', 'dont', 'know', 'long', 'thi', 'storm', 'gonna', 'last', 'it', 'permanent'], [''], [''], ['', 'right'], ['', 'thei', 'tell', 'it', 'coming', 'so', 'that', 'allevi', 'lot', 'of', 'uh', 'argument'], ['', 'okay'], ['', 'everybodi', 'know', 'that', 'goal'], ['', 'fearbas', 'uniti', 'everybodi', 'ha', 'right', 'now'], ['', 'yeah', 'okay'], ['', 'im', 'move', 'um', 'uniti', 'abund', 'then', 'right', 'okay'], ['', 'because—', 'yknow', 'mayb', 'it', 'longlast', 'unity', 'yknow', 'think', 'everybody—', 'first'], ['', 'it', 'like', 'post911', 'right', 'yeah'], ['', 'well', 'thi', 'the—', 'gotta', 'remember', 'thi', 'second', 'week', 'thi', 'group', 'sort', 'nomad', 'here'], ['', 'week', 'two', 'think', 'theyv', 'like', '“okay', 'wer', 'gonna', 'die', 'dont', 'start', 'realli', 'work', 'together'], ['”', 'post911', 'too', 'great', 'analogy'], ['', 'yeah'], ['', 'thi', 'fun', 'topic', 'podcast', 'too', 'feedback', 'lot'], ['', 'history'], ['', 'history'], ['', 'shouldv', 'thought', 'this', 'though'], ['', 'wa', 'particularly', 'uh', 'good', 'steward', 'rules'], ['', 'said', 'wer', 'build', 'houses', 'build', 'materi', 'someth', 'scarcity'], ['', 'like', 'dont', 'know'], [''], [''], ['', 'shouldv', 'thought', 'about—', 'ar', 'shitti', 'houses', 'then'], ['', 'like', 'wer', 'essenti', 'sand—', 'sandcastl', 'thei', 'are'], ['', 'well', 'mayb', 'thi', 'someth', 'interesting', 'where'], [''], [''], ['', 'mean', 'that', 'veri', 'human', 'start', 'project', 'materi', 'your', 'gonna', 'finish', 'it'], ['', 'becom', 'like', 'someth', 'solv', 'veri', 'quickly'], ['', 'yeah'], ['', 'okay'], ['', 'so', 'next'], [''], [''], ['', 'dad', 'want', 'draw'], [''], [''], ['', 'feel', 'like', 'storm', 'hu—', 'here', 'well', 'storm', 'it', 'right', 'like', 'that', 'thing', 'theyr', 'afraid', 'of'], ['', 'right'], ['', 'let', 'can'], [''], [''], ['', 'mayb', 'corner', 'here', 'becaus', 'dont', 'want', 'storm', 'occupi', 'like', 'entireti', 'thi', 'map'], ['', 'well', 'im', 'add', 'littl', 'bit', 'of', 'uh', 'nauseat', 'green'], ['', 'whoa'], ['', 'it', 'like', 'iridesc', 'storm', 'like', 'aurora', 'borealis', 'im', 'that'], ['', 'iv', 'think', 'lot', 'like'], [''], [''], ['', 'it', 'magic', 'water'], ['', 'like', 'doesnt', 'be', 'yknow', 'grai', 'blue', 'ocean', 'water', 'whatever'], ['', 'kind', 'of', 'uh', 'oily', 'like', 'iridesc', 'sheen', 'could', 'yknow', 'suck', 'thi', 'big', 'storm', 'turn', 'beautiful'], [''], [''], ['', 'like', 'brightli', 'color', 'deadli', 'thing', 'thi', 'show', 'iv', 'discovered'], ['', 'realli', 'do', 'brightli', 'color', 'forc', 'apocalypt', 'destruction'], ['', 'think', 'like', 'multisyllab', 'word', 'describ', 'like', 'shini', 'thing'], ['', 'yknow', 'it', 'iridescent'], ['', 'it', 'opalescent'], ['', 'anyth', 'like', 'that'], ['', 'alright', 'there', 'storm'], ['', 'there', 'storm', 'evil', 'nauseatingness'], ['', 'okay'], ['', 'uh', 'reduc', 'project', 'clocks', 'right', 'now'], ['', 'then', 'dad', 'choos', 'discov', 'something', 'hold', 'discussion', 'start', 'project'], ['', 'um'], [''], [''], ['', 'hold', 'discussion'], ['', 'okay'], ['', 'thi', 'discuss', 'place', 'perspect', 'member', 'community'], ['', 'hold', 'discussion', 'choos', 'open', 'question', 'declaration', 'clint'], ['', 'start', 'clockwise', 'everyon', 'weigh', 'once', 'share', 'singl', 'argument', 'compris', 'sentences'], ['', 'open', 'question', 'weigh', 'last'], ['', 'open', 'declaration', 'that', 'you'], ['', 'uh', 'discuss', 'result', 'decis', 'summat', 'process'], ['', 'everyon', 'weigh', 'in', 'it', 'over'], ['', 'thi', 'convers', 'work', 'communities'], ['', 'thei', 'ar', 'untidi', 'inconclus', 'affairs'], ['', 'associ', 'created'], ['', 'ha', 'asso—', 'no'], ['', 'share', 'rule', '“hold', 'discussion”', 'you'], ['', 'ha', 'share', 'someth', 'map'], ['', 'right', 'mark', 'littl', 'dot', 'note', 'discuss', 'wa', 'thing'], ['', 'discuss', 'anyth', 'right', 'that', 'map'], ['', 'question', 'is', 'know', 'thi', 'storm', 'danger', 'us', 'know', 'it', 'someth', 'that', 'beneficial', 'it', 'to'], [''], [''], ['', 'yknow', 'superpowers', 'someth', 'like', 'that', 'know', 'it', 'bad', 'inkling', 'base', 'intro', 'like', 'sort', 'world', 'powers'], [''], [''], ['', 'like', 'person', 'held', 'thi', 'discuss', 'wouldv', 'come', 'from', 'this', 'essentially', 'climat', 'chang', 'denier'], ['', 'youv', 'sort', 'existence'], ['', 'um'], [''], [''], ['', 'second', 'caus', 'actual', 'notes'], ['', 'goes'], ['', 'nerd'], ['', 'think', 'come', 'hominine'], ['', 'okay'], ['', 'lot', 'sense'], ['', 'mean', 'thei', 'magic', 'their—', 'magic', 'shit'], ['', 'thei', 'studi', 'magic'], ['', 'yeah'], ['', 'yeah', 'thei', 'studi', 'magic'], ['', 'thi', 'thing', 'ha', 'mystifi', 'them'], ['', 'know', 'thi', 'gonna', 'kill', 'everybody', 'um'], [''], [''], ['', '“you', 'heard', 'like', 'did', 'wouldnt', 'here'], ['', 'clearly', 'there', 'someth', 'wrong', 'there', 'noth', 'benevol', 'fix', 'it'], ['', 'got', 'call', 'came', 'doubt', 'already'], ['”', 'um'], [''], [''], ['', '“the', 'peopl', 'southern', 'archipelago', 'alreadi', 'lost', 'quit', 'bit', 'thi', 'storm', 'ha', 'onli', 'grown', 'intens', 'pass', 'months'], ['', 'so', 'write', 'wall'], ['”', 'yeah'], ['', 'that', 'cool', 'juice'], ['', 'firbolg', 'wer', 'suppos', 'charact', 'quiet', 'year', 'im', 'realli', 'curiou', 'dude'], ['', 'uh'], [''], [''], ['', 'uh', 'im'], [''], [''], ['', '“im', 'busy'], ['', 'iv', 'time', 'talk'], ['', 'work'], ['”', 'uh', 'dad', 'close', 'statement'], ['', 'um'], [''], [''], ['', '“excel', 'points'], ['”', '“and', 'especi', 'guy'], ['', '‘we', 'got', 'work', 'do'], ['’', 'thank', 'you', 'delmer'], ['”', 'wa', 'gonna', 'southern', 'archipelago', 'griffin', 'mess', 'up', 'caus', 'pick', 'southern', 'archipelago', 'didnt', 'know', 'anyth', 'ones'], ['', 'kind', 'of'], [''], [''], ['', 'think', 'wa', 'veri', 'delmer', 'sort', 'sensibility'], ['', 'felt', 'delmer', 'moment'], ['', 'felt', 'delmer'], ['', 'wa', 'delmer', 'hell'], ['', 'yes', 'absolutely'], ['', 'veri', 'delmer'], ['', 'dude', 'wa', 'delmer', 'theyr', 'hi', 'wilds'], ['', '“yknow', 'came', 'wilds'], [''], [''], ['”', 'remember', 'dont', 'come', 'tidi', 'conclus', 'discussion'], ['', 'right'], ['', 'yeah'], ['', '“i', 'appreci', 'everybody', 'viewpoint', 'think', 'there', 'valid', 'point', 'there'], ['”', 'alright'], ['', 'oh', 'dad', 'wa', 'too'], ['', 'cool'], ['', 'barely'], ['', 'uh', 'let', 'fuckin', 'setup', 'game', 'new', 'season'], ['', 'well', 'figur', 'janitor', 'clint', 'there'], ['', '‘caus', 'dead', 'time', 'game', 'began'], ['', 'yeah'], ['', 'uh', 'travis'], ['', 'yes', 'draw', 'me', 'griffin', 'ah', 'yes'], ['travi', 'ha', 'drawn', 'king', 'spring', 'ah'], ['', 'yeah'], ['', 'so', 'is', 'king', 'spring'], [''], [''], ['', 'once', 'wa', 'king', 'spring', 'alright'], ['', 'uh', 'king', 'spring'], ['', '“a', 'young', 'boi', 'start', 'dig', 'ground', 'discov', 'someth', 'unexpected'], ['', 'it', 'or', 'old', 'man', 'confess', 'past', 'crime', 'atrocities'], ['', 'ha', 'done”', 'think', 'im', 'gonna', 'young', 'boy'], ['', 'he', 'dig', 'ground', 'discov', 'someth', 'unexpected'], ['', 'it', 'uh', 'say', 'dig', 'ground', 'uh'], [''], [''], ['', 'dig', 'ground', 'kind', 'pebbl', 'shore', 'start', 'metal', 'stone', 'mix', 'regular', 'pebbles'], ['', 'metallic—', 'sai', 'metal', 'stones', 'ar', 'talk', 'sort', 'of', 'uh', 'naturallook', 'rock', 'happen', 'metal', 'ar', 'talk', 'fragment', 'thing', 'like', 'hunk', 'ore'], ['', 'okay'], ['', 'um'], [''], [''], ['', 'ar', 'thei', 'corroded', 'ar', 'thei', 'rust', 'ani', 'way', 'ar', 'they', 'uh'], [''], [''], ['', 'theyr', 'processed'], ['', 'ar', 'like', 'natur', 'occur', 'hunk', 'ore'], ['', 'your', 'right'], ['', 'shouldnt—', 'thi', 'a—', 'that', 'kind', 'thing', 'project', 'like', 'do'], ['', 'okay', 'yeah'], ['', 'thi', 'just—', 'he', 'discov', 'hunk', 'ore'], ['', 'like', 'two'], ['', 'mean', 'like', 'onc', 'layer', 'pebbles', 'appear', 'mani', 'them'], ['', 'doodl', 'map', 'me', 'count', 'clocks'], ['', 'the'], [''], [''], ['', 'shithouses'], ['', 'world', 'clock'], ['', 'uh', 'okay', 'to', 'youv', 'drawn', 'things'], [''], [''], ['', 'ar', 'they', 'uh'], [''], [''], ['', 'ar', 'thei', 'concentr', 'ani', 'wai', 'certain', 'beach', 'youv', 'drawn', 'close', 'scari', 'cave'], ['', 'mean', 'theyre—', 'yeah'], ['', 'theyr', 'definit', 'south', 'coast', 'primarily'], ['', 'gotcha'], ['', 'now', 'discov', 'something', 'start', 'conversation', 'start', 'project'], ['', 'start', 'project'], ['', 'think', 'need', 'elections'], ['', 'whoa'], ['', 'need', 'organize', 'like', 'repres', 'landmasses'], ['', 'kind', 'peoples', 'smooth', 'decisionmak', 'process'], ['', 'im', 'someth', 'havent', 'talk', 'contempt'], ['', 'is', 'becaus', 'sort', 'turns', 'ar', 'fulli', 'individu', 'thing'], ['', 'disagre', 'someth', 'somebodi', 'els', 'doing', 'point', 'contempt'], ['', 'mostli', 'sort', 'social', 'signifier'], ['', 'it', 'like', 'end', 'year', 'add', 'contempt', 'points', 'mani', 'peopl', 'die', 'whatever'], ['', 'thing', 'sort', 'tracker', 'for', 'yknow', 'player', 'uniti', 'thing'], ['', 'dont', 'like', 'my'], [''], [''], ['', 'elections', 'griffin', 'uh', 'dont', 'like', 'idea', 'of—', 'wait', 'dont', 'say'], ['', 'hold', 'discuss', 'talk', 'that'], ['', 'okay', 'fair', 'fair', 'fair'], ['', 'hard', 'fight', 'instinct', 'like'], [''], [''], ['', 'okay'], ['', 'uh', 'im', 'say', 'becaus', 'it', 'mostli', 'discuss', 'construction', 'im', 'say', 'uh', 'weeks'], ['', 'okay'], ['', 'ahead', 'draw', 'it'], ['', 'uh', 'gotta', 'draw', 'map', 'dont', 'know', 'draw', 'election'], ['', 'x', 'os'], ['', 'x', 'os'], ['', 'okay', 'that', 'fine'], ['', 'ill', 'add', 'date'], ['', 'long', 'sai', 'take', 'weeks'], ['', 'weeks'], ['', 'kay'], ['', 'mean', 'long', 'doe', 'elect', 'realli', 'take', 'okay'], ['', 'uhh', 'juice'], ['', 'turn'], ['', 'yep'], ['', 'jack', 'spring'], ['', '“you', 'good', 'omen'], ['', 'it', 'or', 'bad', 'omen'], ['', 'it”', 'there', 'a', 'um'], [''], [''], ['', 'pier', 'been—', 'there', 'a—', 'sorry', 'probabl', 'someth', 'that', 'alreadi', 'map'], ['', 'cant', 'like', 'someth', 'up'], ['', 'no', 'can'], ['', 'yeah'], ['', 'yeah', 'thing'], ['', 'again', 'encourag', 'solut', 'thing'], ['', 'like', 'add', 'complic', 'fascin', 'mysteri', 'map', 'is'], [''], [''], ['', 'is'], [''], [''], ['', 'pier', 'ha', 'fishing', 'coast', 'right', 'coastline'], ['', 'the—', 'everyon', 'goe', 'turns', 'um', 'cast', 'line', 'in'], ['', 'thei', 'fish', 'pole', 'there'], ['', 'line', 'ar', 'cut', 'bait', 'floater', 'everything', 'uh'], [''], [''], ['', 'bobber', 'ar', 'specif', 'cut', 'fishing'], ['', 'thei', 'out', 'they—', 'everybodi', 'cast', 'in', 'thei', 'realiz', 'line', 'dont', 'reach'], ['', 'water', 'lower'], ['', 'hm'], ['', 'right', 'pier'], ['', 'thei', 'think', 'it', 'mind', 'plai', 'trick', 'first', 'thei', 'check', 'thei', 'realize', 'like', 'no', 'it', 'right'], ['', 'someth', 'changing'], ['', 'water', 'is', 'um'], [''], [''], ['', 'drag', 'awai', 'right', 'here'], ['', 'thei', 'realiz', 'it', 'low', 'tide', 'theyv', 'silli', 'geese'], ['', 'fuck', 'actual', 'wasnt', 'bad'], ['', 'bad'], ['', '“oh', 'wait', 'six', 'oh', 'okay'], ['”', 'oh', 'oh', 'shit', 'that', 'it'], ['', 'actual', 'perfect', 'sense'], ['', 'that', 'bad', 'omen', 'then'], ['', 'mean', 'think', 'it', 'bad', 'omen'], ['', 'uh', 'south', 'coast', 'west', 'especi', 'combin', 'storm'], ['', 'our', 'uh…', 'draw', 'absolutely'], [''], [''], ['', 'whoa'], ['', 'whoa', 'fuck'], ['', 'justin', 'just'], [''], [''], ['', 'sorry'], ['', 'drew', 'incred', 'purpl', 'line'], ['', 'our', 'um—', 'map', 'kind', 'of—', 'im', 'try', 'wrap', 'head', 'it'], ['', 'it', 'real', 'thinker'], ['', 'it', 'beautiful'], ['', 'it', 'realli', 'cool'], ['', 'it', 'come', 'together', 'well', 'it’', 'coast—', 'there', 'line', 'land—', 'okay'], ['', 'peopl', 'listen', 'home', 'arent', 'directli', 'look', 'this', 'there', 'line', 'ocean', 'land'], ['', 'perfectli', 'straight'], ['', 'there', 'anoth', 'line', 'farther', 'line—', 'oh', 'juice'], ['', 'this—', 'ar', 'differ', 'maps'], ['', 'thi', 'not—', 'oh', 'no'], ['', 'okay', 'sense', 'okay', 'yes'], ['', 'ar', 'differ', 'maps'], ['', 'wasnt', 'ocean', 'side'], ['', 'that', 'differ', 'maps'], ['', 'no'], ['', 'right'], ['', 'yeah'], ['', 'classic', 'style', 'it', 'maps', 'set', 'other'], [''], [''], ['', 'okay'], ['', ''], [''], [''], ['and', 'indic', 'separ', 'maps'], ['', 'mkay'], ['', 'like', 'everybodi', 'els', 'got', 'it', 'though'], ['', 'weird'], ['', 'classic', 'cartography'], ['', 'classic', 'stuff'], ['', 'classic', 'cartography'], ['', 'alright'], ['', 'okay'], ['', 'sens', 'now'], ['', 'alright'], ['', 'let', 'littl', 'dinki', 'pier', 'here', 'then'], ['', 'ad', 'up'], ['', 'probabl', 'wouldv', 'good', 'flip', 'these', 'yknow', 'mean', 'wer', 'gonna—', 'oh', 'god', 'now'], ['', 'yeah', 'wer', 'gonna', 'ocean', 'here', 'wouldv', 'good', 'ocean', 'map'], ['', 'there', 'pier', 'here'], [''], [''], ['', 'tini', 'pier'], ['', 'line', 'dont', 'reach', 'anymore', 'im', 'guess', 'thi', 'gonna', 'help', 'food', 'scarcity'], ['', 'nope'], ['', 'gui', 'know', 'longer', 'lines'], ['', 'think', 'you—', 'whoa'], ['', 'eat', 'fish', 'ethersea', 'cook', 'the—', 'there', 'like', 'very', 'veri', 'specific'], [''], [''], ['', 'it', 'alreadi', 'salted', 'nice'], ['', 'fish', 'fugu', 'fish', 'essentially'], ['', 'like', 'fuck', 'eat', 'etherfish', 'your', 'donezo'], ['', 'uh', 'okay'], ['', 'that', 'bad', 'omen', 'assume'], ['', 'yes'], ['', 'that', 'bad', 'omen'], ['', 'uh', 'okay'], ['', 'you—', 'count', 'clocks', 'choice'], ['', 'uhh', 'action', 'are'], [''], [''], ['', 'remind', 'listeners', 'uh', 'discov', 'someth', 'new', 'hold', 'discussion', 'start', 'project'], ['', 'feel', 'like', 'discov', 'pier'], ['', 'yeah', 'im', 'gonna', 'that'], ['', 'no'], ['', 'differ', 'thing', 'also'], ['', 'oh', 'okay'], ['', 'um'], [''], [''], ['', 'alright', 'want', 'hold', 'discuss', 'everybody'], ['', 'okay'], ['', 'start', 'statement—', '“i', 'declaration”', 'kay'], ['', '”our', 'line', 'ar', 'long', 'fish', 'gui', 'pretti', 'fuck', 'it', 'want', 'everybody'], ['', 'line', 'short', 'reach', 'ocean', 'wer', 'kind', 'fuck', 'up'], ['', 'wer', 'gonna', 'need', 'time'], ['', 'me', 'doug', 'flip'], [''], [''], ['', 'timby'], [''], [''], ['”', 'yeah'], ['', '“or', 'ani', 'us', 'wer', 'gonna', 'pretti', 'fuck', 'while', 'becaus', 'dont', 'know', 'line', 'ar', 'short'], ['', 'also—”', 'thi', 'longest', 'singl', 'statement', 'iv', 'ever—', '“kevin', 'anybodi', 'like', 'come', 'forward', 'uh', 'admit', 'sort', 'fuckin', 'string', 'line', 'parlanc', 'fishin'], [''], [''], ['', 'appreci', 'it', 'becaus', 'ar', 'fuck', 'right', 'now'], ['', 'cant', 'figur', 'out', 'exactli', 'happening', 'announc', 'everybodi', 'today'], ['”', '“i', 'think', 'remember', 'said', 'someth', 'about', '‘why', 'dont', 'build', 'boats’', 'rememb', 'that', 'rememb', 'sai', 'dont', 'build', 'boats”', 'that’s—', 'im', 'allow', 'respond', 'rule', 'of—', 'not'], ['', '“listen', 'cant', 'lose', 'focu', 'worri', 'fish', 'boat', 'ani', 'that'], ['', 'like', 'wer', 'try', 'perman', 'solut', 'imperman', 'live', 'situation'], ['', 'line', 'ar', 'short', 'let', 'food', 'land'], ['”', '“we—', 'far', 'unsaf', 'continu', 'eat', 'ethersea', 'fish', 'ar', 'live', 'water', 'it', 'high', 'time', 'differ', 'food', 'sourc', 'anyways'], ['”', 'end', 'uh', 'okay', 'wer', 'order'], ['', 'it', 'turn'], ['', 'draw', 'card'], ['', 'spring'], ['', '“an', 'old', 'piec', 'machineri', 'discovered', 'broken', 'perhap', 'repairable'], ['', 'it', 'for', 'or', 'old', 'piec', 'machineri', 'discovered', 'curs', 'dangerous'], ['', 'doe', 'commun', 'destroi', 'it”', 'second', 'prompt', 'is', 'feel', 'like', 'wev', 'nasti', 'option', 'everi', 'card'], ['', 'maybe', 'uh'], [''], [''], ['', 'discov', 'ore', 'ar', 'talk', 'about', 'um', 'guess', 'that', 'true'], ['', 'uhh'], [''], [''], ['', 'mmm'], [''], [''], ['', 'im', 'say'], [''], [''], ['', '“an', 'old', 'piec', 'machineri', 'discovered', 'broken', 'perhap', 'repairable'], ['', 'it', 'for”', 'becaus', 'thi', 'sort', 'coastline', 'thi', 'junction', 'kingdoms', 'uh'], [''], [''], ['', 'mayb', 'dure', 'war', 'sort', 'naval', 'combat', 'experi', 'place', 'here'], ['', 'so', 'commun', 'finds', 'wash', 'shore', 'day', 'probabl', 'um'], [''], [''], ['', 'bathysphere', 'wa', 'like'], [''], [''], ['', 'admit', 'bioshock', 'thing', 'like', 'veri', 'veri', 'wai', 'deep', 'sea', 'explor', 'abl', 'shit'], ['', 'it', 'danger', 'metal', 'ball', 'window', 'plonk', 'ocean', 'in'], ['', 'usabl', 'state', 'it', 'in', 'sort', 'a', 'uh', 'yknow'], [''], [''], ['', 'a'], [''], [''], ['', 'ancient', 'piec', 'deep', 'sea', 'technolog', 'that', 'uh', 'probabl', 'hominin', 'origin'], ['', 'wash', 'up'], ['', 'im', 'gonna', 'plonk', 'down—', 'im', 'gonna', 'plonk', 'near', 'pier', 'guess'], ['', 'then'], [''], [''], ['', 'will'], [''], [''], ['', 'countdown', 'timers'], ['', 'littl', 'inner', 'tube', 'look', 'thing', 'bathysphere'], ['', 'yeah', 'no', 'know'], ['', 'got', 'donut', 'power', 'there'], ['', 'thi', 'round', 'project', 'completed'], ['', 'project', 'complet', 'dure', 'somebody', 'turn', 'player', 'start', 'project', 'decid', 'sort', 'happen', 'it'], ['', 'think', 'with'], [''], [''], ['', 'wa', 'sort', 'suggested', 'like', 'um'], [''], [''], ['', 'longhous', 'ar', 'like', 'really—', 'realli', 'poor', 'shape'], ['', 'think', 'there', 'probabl', 'peopl', 'ar', 'like', '“let', 'thi', 'someth', 'habitable'], ['', 'thi', 'leaky', 'rain', 'lot', 'nobodi', 'happy'], ['”', 'like', 'ar', 'peopl', 'come', 'ar', 'like', '“oh', 'yeah', 'heard', 'voic', 'too”', 'thei', 'houses', 'theyr', 'like', '“actually', 'fuck', 'off', 'im', 'done'], ['”', 'wer', 'like', 'bring', 'lot', 'heat', 'this'], ['', 'there', 'peopl', 'ar', 'like', '“no', 'need', 'underwat', 'stuff'], ['”', 'so'], [''], [''], ['', 'longhouses'], ['', 'uh', 'election', 'doe', 'go', 'travis', 'uh', 'so', 'goes'], [''], [''], ['', 'well'], ['', 'end', 'council', 'four', 'nobodi', 'realli', 'like', 'landslid', 'in'], ['', 'um', 'so', 'council', 'everyon', 'kind', 'begrudgingli', 'listen', 'to'], ['', 'okay'], ['', 'so', 'ha', 'improv', 'idea', 'unity', 'definit', 'solv', 'it'], ['', 'it', 'like', '“yeah', 'whatev', 'gui', 'want”', 'it', 'like', '“okay'], [''], [''], ['”', 'actual', 'argue—', 'mean', 'sound', 'like', 'stuff', 'done', 'uniti', 'mayb', 'abund', 'anymore', 'wa', 'sort', 'contenti', 'thing'], ['', 'yeah', 'that', 'thing'], ['', 'it', 'mayb', 'make'], [''], [''], ['', 'mayb', 'streamlin', 'project', 'time', 'yeah', 'mayb', 'mind', 'whenev', 'decid', 'project', 'time', 'future', 'like', 'wer', 'shit', 'now'], ['', 'oh', 'im', 'add', 'uh'], [''], [''], ['', 'abundance'], [''], [''], ['', 'shouldv', 'thi', 'brought', 'up', 'like', 'weird', 'ore'], ['', 'yeah'], ['', 'okay'], ['', 'got', 'it'], ['', 'alright'], ['', 'um'], [''], [''], ['', 'so', 'wrap', 'up'], [''], [''], ['', 'oh', 'turn'], ['', 'discov', 'something', 'start', 'project', 'or'], [''], [''], ['', 'um'], [''], [''], ['hm'], ['', 'think', 'sect', 'like', 'hominin', 'scholars', 'cant', 'stop', 'think', 'cave', 'ar', 'try', 'figur', 'wai', 'trick', 'brain', 'whatev', 'sort', 'magic', 'peopl', 'out', 'try', 'like', 'figur', 'sourc', 'that', 'in'], ['', 'caus', 'think', 'thei', 'ar', 'convinc', 'that—', 'thi', 'cave', 'reason', 'thei', 'brought', 'here'], ['', 'dont', 'think', 'it', 'larg', 'conting', 'people'], ['', 'think', 'ar', 'lot', 'peopl', 'ar', 'like', '“yeah', 'wast', 'time', 'shit', 'yknow', 'magic', 'friends'], ['', 'wer', 'gonna', 'real', 'work'], ['”', 'im', 'draw'], [''], [''], ['', 'little'], [''], [''], ['', 'dont', 'know', 'like', 'magnifi', 'glass', 'cave'], ['', 'look', 'like', 'sperm', 'so', 'iv', 'fuck', 'up'], ['', 'happens'], ['', 'happens'], ['', 'im', 'gonna', 'say—', 'im', 'gonna', 'say', 'yknow', 'sai', 'longer', 'think'], [''], [''], ['', 'well', 'no', 'thei', 'wouldnt', 'realli', 'benefit', 'like', 'streamlin', 'shit'], ['', 'no'], ['', 'theyr', 'own'], ['', 'think', 'thi', 'probabl', 'thoroughli', 'order', 'community'], ['', 'so', 'im', 'gonna', 'sai', 'thi', 'gonna', 'weeks'], ['', 'uh', 'it', 'dad'], ['', 'okay'], ['', 'hearts', 'spring'], ['', '“what', 'import', 'basic', 'tool', 'doe', 'commun', 'lack', 'ar', 'you—', 'or', 'ar', 'store', 'food', 'thi', 'riski', 'place', 'store', 'things”', 'okay', 'im', 'gonna', 'import', 'basic', 'tool', 'doe', 'community—', 'havent', 'alreadi', 'dealt', 'that', 'well', 'thi', 'specif', 'end', 'right', 'thi', 'isnt', 'like', 'scarcity', 'like', '“what', 'dont', 'thi', 'tool', 'thi', 'tool'], ['”', 'yknow', 'littl', 'granular', 'it'], ['', 'yeah', 'answer', 'one'], ['', 'a—', 'yknow', 'mayb', 'straightforward'], ['', 'no', 'im', 'gonna', 'stick', 'basic', 'tool', 'lack'], ['', 'um', 'think', 'were', 'um'], [''], [''], ['', 'think', 'dont', 'lot', 'weapons'], ['', 'dont', 'lot', 'like', 'um'], [''], [''], ['', 'mean', 'think', 'ar', 'basic', 'blade', 'club', 'everyth', 'else', 'dont', 'think', 'lot', 'rang', 'weapons'], ['', 'dont', 'lot', 'of', 'um'], [''], [''], ['', 'uh', 'projectil', 'weapons'], ['', 'mainli', 'hunting', 'or'], [''], [''], ['', 'like', 'defense', 'defens', 'something', 'havent', 'realli', 'talk', 'like', 'environ', 'wer', 'in'], ['', 'yeah', 'dont', 'know', 'threat', 'be'], ['', 'hunting'], ['', 'the', 'like—', 'ar', 'sai', 'like', 'hunt', 'food', 'defense', 'like', 'sieg', 'weapons'], ['', 'martial'], ['', 'martial', 'weapons'], ['', 'well', 'yeah'], ['', 'im', 'think', 'like', 'cannon', 'thing', 'like', 'that'], ['', 'theyv', 'evacu', 'fairli', 'short', 'order', 'think', 'thing', 'think', 'left', 'cannon', 'and', 'yknow', 'anyth', 'big', 'like', 'that'], ['', 'think', 'thei', 'have'], [''], [''], ['', 'that', 'interesting', 'too', 'becaus', 'dont', 'know', 'fuck', 'sea'], ['', 'like', 'certainli', 'bring', 'any'], [''], [''], ['', 'ani', 'sort', 'of'], [''], [''], ['', 'like', 'dont', 'think', 'wev', 'spent', 'time', 'invent', 'like', 'cannons'], ['', 'sea', 'cannons'], ['', 'let', 'pitch', 'this', 'then'], ['', 'let', 'scarciti', 'defens', 'weapons', 'think', 'good', 'wai', 'this'], ['', 'yknow', 'thing', 'equal', 'mayb', 'abund', 'side', 'like', 'hunt', 'gear'], ['', 'like', 'abundance'], ['', 'like', 'got', 'that'], ['', 'ar', 'hunting'], ['', 'that', 'a—', 'yknow', 'wer', 'swim', 'water', 'there', 'a', 'yknow', 'barracuda', 'someth', 'come', 'us', 'got', 'spear', 'harpoon', 'whatever'], ['', 'like', 'anyth', 'bigger', 'that', 'uh', 'oh', 'sense'], ['', 'dont', 'know—', 'think', 'need', 'draw', 'map', 'well', 'can—', 'no', 'cant'], [''], [''], ['', 'amend', 'this', 'becaus', 'wa', 'think', 'it—', 'mayb', 'thei', 'disassembl', 'big', 'weapon', 'thei', 'wouldnt', 'yknow—', 'pack', 'pieces'], ['', 'caus', 'thei', 'knew', 'thei', 'gonna', 'need—', 'thei', 'gonna', 'need', 'item', 'work', 'with'], ['', 'thei', 'gonna', 'need', 'materi', 'stuff'], ['', 'so', 'yknow', 'mayb', 'theyv', 'haul', 'piec', 'larger', 'weapons'], [''], [''], ['', 'thi', 'area'], ['', 'like', 'that'], ['', 'yeah', 'dont', 'think', 'ha', 'chang', 'anyth', 'board', 'right', 'now', 'though'], ['', 'dont', 'defens', 'weapons', 'becaus', 'dismantl', 'shithouse'], ['', 'yeah'], ['', 'okay'], ['', 'your', 'shithouse', 'your', 'like', 'mayb', 'sleep', 'bunk', 'look', 'up', 'there', 'like', 'a'], [''], [''], ['', 'yknow', 'sword', 'that', 'like', 'right', 'there'], ['', 'catapult'], ['', 'catapult', 'your', 'sleep', 'under'], ['', 'your', 'sleep', 'bowl', 'catapult'], ['', 'yeah'], ['', 'yeah', 'that', 'fun'], ['', 'yeah', 'your', 'sleep', 'that'], ['', 'uh', 'okay'], ['', 'ill', 'number', 'if', 'dad', 'want', 'decid', 'action', 'now'], ['', 'ill', 'start', 'project', 'of', 'um'], [''], [''], ['', 'catalog', 'piec', 'broken', 'weaponri', 'anticip', 'reus', 'rebuild', 'ocean'], ['', 'ar', 'sai', 'like', 'project', 'done', 'dismantl', 'longhous', 'big', 'weapons', 'ar', 'saying', 'like'], [''], [''], ['', 'no', 'figur', 'them'], [''], [''], ['', 'okay', 'start', 'piec', 'build', 'thing', 'sea'], ['', 'how', 'that', 'okay'], ['', 'yeah', 'that', 'good'], ['', 'im', 'gonna', 'contempt', 'that', 'caus', 'dont', 'want', 'dismantl', 'shithouse'], ['', 'no', 'im', 'assum', 'shithous', 'wa', 'alreadi', 'built', 'stuff'], ['', 'want', 'to—', 'love', 'it'], ['', 'want', 'piec', 'big', 'underwat', 'cannon', 'shit'], ['', 'that', 'prerogative'], ['', 'no', 'dont', 'want', 'build', 'underwat', 'cannons', 'wer', 'gonna', 'structures', 'were—', 'dad', 'everi', 'time', 'sai', 'underwat', 'cannons', 'excited'], ['', 'yeah'], ['', 'think—', 'may', 'think', 'wer', 'discuss', 'thi', 'much'], ['', 'wai', 'much'], ['', 'think', 'project', 'ha', 'started', 'right', 'work', 'right', 'that', 'good', 'point'], ['', 'long', 'doe', 'thi', 'take', 'dad', 'uh', 'three'], ['', 'got', 'it'], ['', 'good', 'scientists'], ['', 'well', 'unity'], ['', 'council', 'leading'], ['', 'yeah'], ['', 'thi', 'probabl', 'delmer', 'shit'], ['', 'delmer', 'ar', 'probabl', 'like', '“thi', 'great'], ['', 'dont', 'need', 'comfortable'], ['”', 'thei', 'think', 'shithous', 'ar', 'alreadi', 'like', 'palatial'], ['', 'uh', 'cool', 'okay', 'travis', 'ar', 'up'], ['', 'flip', 'cord', 'let', 'flip', 'cord'], ['', 'seven', 'spring'], ['', '“where', 'doe', 'everyon', 'sleep', 'unhappi', 'arrangement', 'why”', 'oh', 'god'], ['', 'there', 'also', '“what', 'natur', 'predat', 'roam', 'area', 'ar', 'safe”', 'good', 'one', 'someth', 'wev', 'talk', 'about'], ['', 'but'], [''], [''], ['', 'applicable'], ['', 'didnt', 'just—', 'your', 'right'], ['', 'okay'], ['', 'im', 'gonna', '“natur', 'predat', 'roam', 'thi', 'area', 'ar', 'safe'], ['”', 'inclin', 'land'], [''], [''], ['', 'think', 'im', 'gonna', 'sea'], ['', 'okay'], ['', 'um', 'im', 'gonna', 'say', 'pollution', 'uh', 'are—', 'ar', 'sharks', 'kind', 'uh', 'line', 'like', 'hammerhead', 'kind', 'thing'], ['', 'thei', 'definit', 'have', 'uh', 'littl', 'bit', 'like', 'kind', 'natur', 'magic'], [''], [''], ['', 'uh', 'mutations'], ['', 'think', 'everyth', 'in—', 'sea', 'life—', 'think', 'hint', 'intro', 'mayb', 'not'], ['', 'like', 'place', 'this—', 'actual', 'sea', 'explor', 'underwater', 'like', 'anim', 'ar', 'gonna', 'fuck', 'there'], ['', 'like', 'littl', 'teaser', 'that', 'someth', 'like', 'activ', 'harass', 'land', 'rad'], ['', 'think', 'uh'], [''], [''], ['', 'think', 'these', 'um', 'sharks', 'manifest', 'like', 'super', 'heighten', 'senses', 'abil', 'like', 'uh'], [''], [''], ['', 'like', 'seemingli', 'teleport', 'forward', 'short', 'bursts'], ['', 'fuck', 'yeah'], ['', 'thei', 'strike', 'it', 'like', 'zoot', 'theyr', 'kind', 'there'], ['', 'iv', 'written', '“blink', 'sharks'], ['”', 'blink', 'sharks', 'that', 'great'], ['', 'yeah'], ['', 'hell', 'yes'], ['', 'uh—', '“abundance'], ['”', 'abund', 'blink', 'sharks'], ['', 'someth', 'that'], ['', 'now', 'everybodi', 'team', '“let', 'shithous', 'apart', 'underwat', 'cannons'], ['”', '“yknow', 'wev', 'discov', 'blink', 'sharks'], [''], [''], ['', 'prioriti', 'shifted'], ['”', 'late', 'okay', 'let', 'count', 'down'], ['', 'ar', 'close', 'these'], ['', 'alright', 'uh', 'travis', 'turn'], ['', 'choice'], ['', 'begin', 'project'], ['', 'cool'], ['', 'think', 'council', 'pulls', 'uh', 'repres', 'four', 'uh'], [''], [''], ['', 'four', 'hominine', 'delmer', 'einarr', 'southern', 'archipelago', 'like', 'specialist', 'studi', 'wa', 'found', 'attempt', 'discov', 'like', 'properties', 'work', 'it', 'there', 'ani', 'valu', 'it'], [''], [''], ['', 'kind', 'specialti', 'differ', 'locations'], ['', 'suggest', 'becaus', 'sort', 'unity'], [''], [''], ['', 'unity', 'wai', 'everybodi', 'work', 'right', 'now', 'like', 'boar', 'priorit', 'discomfort', 'mayb', 'thi', 'wouldnt', 'long', 'think'], ['', 'yeah'], ['', 'like', 'think', 'maybe'], [''], [''], ['', 'mean', 'really', 'your', 'kind', 'of—', 'thi', 'like', 'actual', 'mold', 'shape', 'anything'], ['', 'it', 'kind', 'like', 'well', 'let', 'check', 'out'], ['', 'thi', 'for', 'right'], ['', 'yeah'], ['', 'think', 'like', 'week'], ['', 'okay'], ['', 'uhh'], [''], [''], ['', 'as', 'like', 'said', 'wer', 'pull', 'specialists'], ['', 'like', 'peopl', 'elect', 'council', 'ar', 'like', '“oh', 'yeah', 'wer', 'gonna', 'danni', 'this'], ['', 'danni', 'know', 'rocks'], ['', 'right', 'danny', 'know', 'rocks'], ['', 'right”', 'like'], [''], [''], ['', 'alright'], ['', 'im', 'gonna', 'add', 'youv', 'drawn', 'ore'], ['', 'okay'], ['', 'uhh', 'justin'], ['', 'uh', 'spring'], ['', '“there', 'disquiet', 'legend', 'thi', 'place'], ['', 'it', 'alarm', 'weather', 'pattern', 'destroi', 'something'], ['', 'what”', 'thi', 'favorit', 'thing', 'way', 'quiet', 'year', 'like'], [''], [''], ['', 'card', 'stai', 'matter', 'what', 'card', 'it', 'like', '“thi', 'feel', 'perfectli', 'suit', 'situat', 'wer', 'in'], ['”', 'right', 'yeah'], ['', 'feel', 'like', 'it', 'alarm', 'weather', 'pattern', 'destroi', 'something', 'what'], ['', 'um'], [''], [''], ['', 'think', 'wa', 'uh'], [''], [''], ['', 'earthquake'], ['', 'weather', 'right', 'earthquak', 'ar', 'basic', 'weather'], ['', 'yeah'], ['', 'um', 'wa', 'earthquake', 'split', 'trash', 'hole', 'right', 'twain'], ['', 'whoa'], ['', 'stuff', 'trash', 'hole', 'start', 'come', 'trash', 'hole'], ['', 'oh', 'fuck', 'kind', 'stuff', 'dont', 'fuckin', 'know', 'nobody', 'yet', 'wa', 'boy', 'little'], [''], [''], ['', 'p'], [''], [''], ['', 'peter'], ['', 'mmhmm'], ['', 'littl', 'peter—', 'that', 'hi', 'name—', 'littl', 'peter', 'saw', 'stuff', 'start', 'emerg', 'quake'], ['', 'saw', 'refus', 'start', 'emerg', 'trash', 'hole', 'blast', 'out'], ['', 'fuck'], ['', 'rules'], ['', 'blast', 'trash', 'hole'], ['', 'okay', 'trash', 'hole', 'like', 'trash'], [''], [''], ['', 'hill'], ['', 'cannon'], ['', 'trash', 'cannon'], ['', 'yeah'], ['', 'it', 'trash', 'cannon'], ['', 'okay'], ['', 'uh', 'safe', 'to'], [''], [''], ['', 'someth', 'peopl', 'walk', 'sai', 'like', '“oh', 'toaster', 'oven”', 'like'], [''], [''], ['', 'theyr', 'count', 'on—', 'there', 'stuff', 'there', 'right', 'thei', 'dont', 'know', 'it', 'gonna', 'blast', 'again'], ['', 'thei', 'dont', 'know', 'heavi', 'object', 'blast—', 'it', 'trash', 'geyser'], ['', 'like', 'trash', 'geyser'], ['', 'ha', 'activ', 'trash', 'geyser'], ['', 'it', 'trash', 'geyser', 'cant—', 'ar', 'goods', 'there', 'good', 'qualiti', 'stuff'], ['', 'scavenging', 'then', 'sudden', 'like', 'fuckin', 'televis', 'blast', 'apart'], ['', 'fuckin', 'old', 'soup', 'like', 'launch', 'torso'], ['', 'exactly', 'it', 'comin', 'that', 'big', 'problem', 'come', 'trash', 'huge'], ['', 'come', 'down'], ['', 'that', 'realli', 'rough'], ['', 'okay'], ['', 'uh'], [''], [''], ['', 'mean', 'sprai', 'stuff', 'into—', 'thi', 'danger', 'for'], [''], [''], ['', 'mean', 'see', 'shithouse'], ['', 'think', 'it', 'close', 'like—', 'okay', 'it', 'close', 'enough'], ['', 'it', 'veri', 'worrying'], ['', 'right'], ['', 'because—', 'there', 'like—', 'there', 'peopl', 'society', 'think', 'ar', 'like', '“uh', 'oh'], [''], [''], ['', 'hope', 'there—', 'there', 'stuff', 'kind', 'want', 'stai', 'there'], [''], [''], ['”', 'okay'], ['', 'pleas', 'draw', 'that', 'fun', 'time', 'that', 'caus', 'sound', 'like', 'real', 'hoot'], ['', 'um'], [''], [''], ['', 'ar', 'count', 'down'], ['', 'travis', 'project', 'finishes'], ['', 'thei', 'discover', 'uh', 'so', 'dont', 'want', 'like', 'mani', 'solves'], ['', 'but'], [''], [''], ['', 'no', 'mean', 'gotta', 'game', 'forward', 'point'], ['', 'think—', 'uh', 'ar', 'thing', 'think', 'thei', 'discover'], ['', 'think', 'uh'], [''], [''], ['', 'anu', 'trash', 'shoot', 'sure', 'has'], [''], [''], ['', 'im', 'try', 'look', 'it', 'yknow', 'hit', 'differ', 'now'], ['', 'think', 'hominin', 'expert', 'uh', 'delmer', 'work', 'hands', 'right', 'right'], ['', 'think', 'expert', 'discov', 'something', 'right', 'think', 'delmer', 'expert', 'fairli', 'malleable'], ['', 'okay'], ['', 'like', 'hot', 'right', 'malleable'], ['', 'um', 'einarr', 'like', 'then', 'onc', 'it', 'tempered', 'veri', 'durable'], ['', 'southern', 'archipelago', 'ha', 'seen', 'anyth', 'like', 'befor', 'trading', 'thei', 'surmis', 'itll', 'pretti', 'valuable'], ['', 'winner', 'interesting', 'hominin', 'that', 'becaus', 'thi', 'sourc', 'sea', 'kind', 'pit', 'littl', 'bit', 'prestige', 'like', 'it'], ['', 'okay', 'like', 'ar', 'vein', 'prestig', 'rock'], ['', 'magical', 'doe', 'very', 'uh'], [''], [''], ['', 'resilient'], ['', 'susceptible'], ['', 'suscept', 'magic'], ['', 'okay', 'tracks'], ['', 'magic', 'good'], ['', 'okay'], ['', 'chang', '“weird', 'ore”', '“magic', 'ore”', 'abund', 'stack'], ['', 'now', 'um'], [''], [''], ['', 'juice', 'actual', 'turn', 'finish', 'draw', 'thi', 'horrible'], [''], [''], ['', 'oh', 'god'], ['', ''], [''], [''], ['thi', 'horribl', 'thing'], ['', 'uh', 'gonna', 'start'], [''], [''], ['', 'shipyard'], ['', 'okay', 'yeah', 'probabl', 'good', 'idea', 'to'], [''], [''], ['', 'going'], ['', 'think', 'right', 'yeah'], ['', 'um', 'im', 'gonna', 'build', 'sort', 'like', 'tributari', 'that', 'like', 'uhh'], [''], [''], ['', 'cuttin', 'land', 'here'], ['', 'feel', 'like', 'sense'], ['', 'thi', 'gui', 'here', 'tide', 'pools', 'no', 'blue'], [''], [''], ['', 'river'], ['', 'oh', 'river'], ['', 'forgot', 'tributari', 'wa', 'moment'], ['', 'that', 'alright'], ['', 'know', 'like'], [''], [''], ['', 'dont', 'think', 'sens', 'like', 'start', 'boat', 'like', 'uh'], [''], [''], ['', 'like', 'feel', 'like', 'dont—', 'im', 'look', 'thi', 'map'], ['', 'dont', 'place', 'build', 'boats'], ['', 'it', 'gonna', 'need', 'big', 'boat'], ['', 'dont', 'think', 'know', 'exactli', 'it', 'gonna', 'like', 'undersea', 'vessel', 'exactly'], [''], [''], ['', 'wer', 'gonna', 'there'], ['', 'yeah'], ['', 'think', 'like', 'facil', 'build', 'boats'], ['', 'mean', 'relat', 'bathysphere', 'right', 'like', 'cant', 'kick', 'bathyspher', 'ocean'], ['', 'gotta', 'launch', 'ship'], ['', 'mayb', 'surfac', 'thing', 'drop', 'this', 'yknow', 'whatever'], ['', 'yeah'], ['', 'okay'], ['', 'long', 'that—', 'that', 'gonna', 'long—', 'mean', 'feel', 'like'], [''], [''], ['', 'weeks', 'doe', 'sound', 'right', 'mean', 'weeks', 'argu', 'five', 'becaus', 'think', 'wer', 'sort', 'push', 'pedal', 'metal', 'term', 'like'], [''], [''], ['', 'okay'], ['', 'it', 'good', 'shipyard'], ['', 'think', 'week', 'pretti', 'fuck', 'good', 'shipyard'], ['', 'that', 'good', 'shipyard'], ['', 'it', 'biggest', 'project', 'wev', 'magic', 'ore', 'right', 'like', 'shit', 'now'], ['', 'im', 'actual', 'gonna', 'rid', 'build', 'materi', 'scarcity', 'becaus', 'we'], [''], [''], ['', 'yknow', 'thi', 'doesnt', 'everyth', 'of', 'finally', 'like', 'start', 'shit', 'earnest'], ['', 'uh', 'okay', 'uh', 'world', 'clock', 'ha', 'tick', 'zero', 'mean', 'someth', 'world', 'happen'], ['', 'thing', 'relat', 'sort', 'exodu', 'plot', 'ha', 'hatch', 'kingdoms'], ['', 'posit', 'shore', 'dont', 'necessarili', 'think'], [''], [''], ['', 'think', 'settlement', 'close', 'einarr', 'plateau', 'actual', 'sort', 'happen', 'it'], ['', 'think', 'commun', 'like'], [''], [''], ['', 'heartland', 'einarr', 'plateau', 'vista', 'saw', 'very', 'veri', 'clearly'], ['', 'the'], [''], [''], ['', 'basic', 'einarr', 'plateau', 'disappears'], ['', 'huh'], ['', 'there', 'flash', 'light', 'like', 'cataclysm', 'explosion'], ['', 'wa', 'moment', 'wa', 'gone', 'next'], ['', 'and'], [''], [''], ['', 'einarr', 'everyth', 'live', 'plateau', 'disappear', 'it'], ['', 'now', 'griffin', 'result', 'sunlight', 'yeah', 'sure', 'there', 'probabl', 'sunlight'], ['', 'nice'], ['', 'einarr', 'you'], [''], [''], ['', 'think', 'there', 'hand', 'kind', 'know', 'happened'], ['', 'becaus', 'thei', 'ar', 'sort', 'a', 'uh', 'yknow', 'nomad', 'group', 'people', 'divers', 'einarr'], ['', 'exact', 'belief', 'vestig', 'are', 'yknow', 'good', 'role', 'ar', 'world'], ['', 'there', 'hand', 'einarr', 'know', 'sort', 'group', 'very', 'veri', 'zealou', 'devote', 'vestig', 'manag', 'spirit', 'entir', 'plateau', 'plain', 'vestig', 'game', 'world', 'through'], ['', 'thei', 'basic', 'went', 'vestig', 'went', 'thei', 'know', 'that'], [''], [''], ['', 'live', 'mortal', 'cant', 'maintain', 'physic', 'form', 'there'], ['', 'einarr', 'peopl', 'pass', 'veil', 'plateau', 'disappeared', 'thei', 'becam', 'sort', 'intangible'], ['', 'like', 'echo', 'themselves'], ['', 'ramif', 'that', 'all', 'is'], [''], [''], ['', 'coupl', 'dai', 'later', 'peopl', 'live', 'thi', 'settlement', 'experi', 'odd', 'phenomena'], ['', 'items', 'yknow', 'camp', 'whisper', 'heard', 'dark'], ['', 'soon', 'thei', 'pile', 'thei', 'becom', 'undeniable'], ['', 'echo', 'disembodi', 'einarr', 'spirit', 'awai', 'wai', 'world', 'begun', 'haunting', 'essentially', 'area', 'camp'], ['']]\n"
          ]
        },
        {
          "output_type": "stream",
          "name": "stderr",
          "text": [
            "WARNING:gensim.models.base_any2vec:under 10 jobs per worker: consider setting a smaller `batch_words' for smoother alpha decay\n"
          ]
        },
        {
          "output_type": "execute_result",
          "data": {
            "text/plain": [
              "'\\nsentences=None \\ncorpus_file=None\\nsg=0\\nhs=0\\nsize=100\\nalpha=0.025\\nwindow=5\\nmin_count=5\\nmax_vocab_size=None\\nword_ngrams=1\\nsample=0.001\\nseed=1\\nworkers=3\\nmin_alpha=0.0001\\nnegative=5\\nns_exponent=0.75\\ncbow_mean=1\\nhashfxn=hash\\niter=5\\nnull_word=0\\nmin_n=3\\nmax_n=6\\nsorted_vocab=1\\nbucket=2000000\\ntrim_rule=None\\nbatch_words=MAX_WORDS_IN_BATCH\\ncallbacks=()\\n'"
            ],
            "application/vnd.google.colaboratory.intrinsic+json": {
              "type": "string"
            }
          },
          "metadata": {},
          "execution_count": 66
        }
      ]
    },
    {
      "cell_type": "code",
      "source": [
        "for meth in dir(model):\n",
        "  if meth[0] != \"_\":\n",
        "    print(meth)"
      ],
      "metadata": {
        "colab": {
          "base_uri": "https://localhost:8080/"
        },
        "id": "ktZak2vF979W",
        "outputId": "c16172da-e59c-4c50-9426-2e691cdd078d"
      },
      "execution_count": null,
      "outputs": [
        {
          "output_type": "stream",
          "name": "stdout",
          "text": [
            "accuracy\n",
            "alpha\n",
            "batch_words\n",
            "bucket\n",
            "build_vocab\n",
            "build_vocab_from_freq\n",
            "callbacks\n",
            "cbow_mean\n",
            "clear_sims\n",
            "compute_loss\n",
            "corpus_count\n",
            "corpus_total_words\n",
            "cum_table\n",
            "doesnt_match\n",
            "epochs\n",
            "estimate_memory\n",
            "evaluate_word_pairs\n",
            "hashfxn\n",
            "hs\n",
            "init_sims\n",
            "iter\n",
            "layer1_size\n",
            "load\n",
            "load_binary_data\n",
            "load_fasttext_format\n",
            "max_n\n",
            "min_alpha\n",
            "min_alpha_yet_reached\n",
            "min_count\n",
            "min_n\n",
            "model_trimmed_post_training\n",
            "most_similar\n",
            "most_similar_cosmul\n",
            "n_similarity\n",
            "negative\n",
            "ns_exponent\n",
            "num_ngram_vectors\n",
            "random\n",
            "running_training_loss\n",
            "sample\n",
            "save\n",
            "sg\n",
            "similar_by_vector\n",
            "similar_by_word\n",
            "similarity\n",
            "struct_unpack\n",
            "syn0_lockf\n",
            "syn0_ngrams_lockf\n",
            "syn0_vocab_lockf\n",
            "syn1\n",
            "syn1neg\n",
            "total_train_time\n",
            "train\n",
            "train_count\n",
            "trainables\n",
            "vector_size\n",
            "vocabulary\n",
            "window\n",
            "wmdistance\n",
            "word_ngrams\n",
            "workers\n",
            "wv\n"
          ]
        }
      ]
    },
    {
      "cell_type": "code",
      "source": [
        "print(model.wv.vocab.keys())\n",
        "print(model.wv[\"magic\"])\n",
        "print(model.most_similar(\"magic\"))"
      ],
      "metadata": {
        "colab": {
          "base_uri": "https://localhost:8080/"
        },
        "id": "ewmxRw65-ELJ",
        "outputId": "b330a331-78be-4b23-d5ee-ec39ff46904e"
      },
      "execution_count": null,
      "outputs": [
        {
          "output_type": "stream",
          "name": "stdout",
          "text": [
            "dict_keys(['a', 'world', '', 'deep', 'so', 'thi', 'dure', 'well', 'wouldnt', 'time', 'this', 'im', 'long', 'map', 'let', 'thei', 'though', 'vestig', 'thing', 'power', 'magic', 'share', 'live', 'that', 'hi', 'peopl', 'new', 'kingdom', 'hominine', 'build', 'land', 'like', 'way', 'war', 'wa', 'hominin', 'einarr', 'plateau', 'old', 'wai', 'delmer', 'great', 'and', 'southern', 'archipelago', 'work', 'fun', 'stuff', 'point', 'it', 'quiet', 'wev', 'see', 'ha', 'kind', 'everi', 'river', 'sea', 'ocean', 'turn', 'us', 'wave', 'everyth', 'mean', 'you', 'um', 'it’', 'sai', 'travis', 'becaus', 'hold', 'right', 'yeah', 'dad', 'bit', 'someth', 'differ', 'episod', 'sort', 'season', 'got', 'uh', 'gui', 'caus', 'your', 'here', 'wer', 'gonna', 'plai', 'game', 'year', 'think', 'feel', 'bad', 'essenti', 'idea', 'youv', 'place', 'citi', 'built', 'do', 'yknow', 'mayb', 'basic', 'ar', 'settlement', 'in', 'draw', 'maps', 'them', 'dont', 'know', 'mani', 'heard', 'the', 'is', 'iv', 'underwat', 'city', 'a—', 'didnt', 'realli', 'come', 'lot', 'figur', 'want', 'say', 'guess', 'what', 'griffin', 'no', 'there', 'okay', 'cool', 'try', 'weird', 'shit', 'discov', 'whatever', 'question', 'befor', 'look', 'yes', 'for', 'onc', 'underwater', 'actual', 'start', 'be', 'essentially', 'add', 'repres', 'everybodi', 'beach', 'water', 'is—', 'drawn', 'like—', 'or', 'first', 'sorry', 'go', 'real', 'littl', 'veri', 'of', '”', 'out', 'nobodi', 'to', 'with', 'oh', 'gotta', 'spring', 'correct', 'shore', 'now', 'just', 'side', 'sure', 'probabl', 'juice', 'something', 'big', 'fuckin', 'spiral', 'staircase', 'rock', 'doe', 'the—', 'ill', 'need', 'take', 'good', 'happen', 'then', 'one', 'alreadi', 'people', 'theyv', 'interesting', 'cant', 'hole', 'things', 'coast', 'tide', 'area', 'dig', 'alright', 'onli', 'whoa', 'line', 'decid', 'resourc', 'import', 'again', 'answer', 'food', 'scarcity', 'abund', 'number', 'knowledge', 'fuck', 'abl', 'bring', 'to—', 'unity', 'uniti', 'me', 'everyon', 'necessarili', 'culture', 'cultur', 'talk', 'resources', 'metal', 'ani', 'materi', 'salt', 'down', 'project', 'anyth', 'theyr', 'discovered', 'weeks', 'week', 'player', 'card', 'choos', 'end', 'discussion', 'too', 'commun', '“oh', 'count', 'cave', 'up', 'houses', 'sense', 'shithouse', 'uhh', 'storm', 'discuss', 'close', 'ore', 'omen', 'pier', 'fish', 'short', 'piec', 'council', 'tool', 'weapons', 'cannon', 'cannons', 'sleep', 'sharks', 'trash'])\n",
            "[-0.00240701  0.06131283 -0.0816926   0.08350781  0.03716975 -0.1063524\n",
            " -0.0089834  -0.04728128 -0.11507566  0.14692141  0.04846536  0.19566637\n",
            " -0.11442968  0.01114803 -0.18752259  0.1522753  -0.02025357  0.07902552\n",
            " -0.02677443  0.03816583 -0.01573017  0.02920505 -0.12293922  0.17546774\n",
            "  0.09306549  0.1680425  -0.12585749 -0.14085862  0.02041462  0.31898567\n",
            " -0.08443325 -0.01545933  0.22251143  0.08107449  0.04383214 -0.09355999\n",
            "  0.06127949  0.00531827 -0.13172641  0.08622023 -0.10040709  0.07810123\n",
            " -0.29612285  0.20216608 -0.13086452 -0.10911198  0.16334383  0.22886327\n",
            " -0.09855614 -0.19151288 -0.25000203  0.2524051  -0.08187349  0.10093857\n",
            " -0.09497571 -0.2635408   0.00554872 -0.3640156   0.20856065 -0.04278233\n",
            " -0.13837457 -0.08069697  0.03532143 -0.16947658 -0.03436362  0.08975409\n",
            "  0.08849043 -0.14881565  0.13748915  0.06617976 -0.10475223  0.04376789\n",
            " -0.06449436  0.08159375 -0.0670205  -0.1593792   0.00248941 -0.05548573\n",
            " -0.11876036  0.33693263  0.2750462   0.2159744  -0.04232462 -0.0744543\n",
            "  0.13271984  0.10083032  0.25121203  0.07428169 -0.07618143  0.01503228\n",
            " -0.21761087  0.1589933  -0.17503071 -0.23868881 -0.16010293 -0.07123294\n",
            "  0.08549671 -0.09607325 -0.21058217  0.08269785]\n",
            "[('there', 0.9999455213546753), ('underwater', 0.9999428987503052), ('thing', 0.9999421834945679), ('underwat', 0.9999417066574097), ('things', 0.9999412894248962), ('thi', 0.9999385476112366), ('wer', 0.9999383687973022), ('something', 0.9999359846115112), ('think', 0.9999339580535889), ('like', 0.999933123588562)]\n"
          ]
        },
        {
          "output_type": "stream",
          "name": "stderr",
          "text": [
            "/usr/local/lib/python3.7/dist-packages/ipykernel_launcher.py:3: DeprecationWarning: Call to deprecated `most_similar` (Method will be removed in 4.0.0, use self.wv.most_similar() instead).\n",
            "  This is separate from the ipykernel package so we can avoid doing imports until\n"
          ]
        }
      ]
    },
    {
      "cell_type": "code",
      "source": [
        "for meth in dir(model.wv):\n",
        "  if meth[0] != \"_\":\n",
        "    print(meth)"
      ],
      "metadata": {
        "colab": {
          "base_uri": "https://localhost:8080/"
        },
        "id": "5gICJDjZ-5eS",
        "outputId": "2c9b4a5d-e83e-47e6-9494-d904373e8343"
      },
      "execution_count": null,
      "outputs": [
        {
          "output_type": "stream",
          "name": "stdout",
          "text": [
            "accuracy\n",
            "add\n",
            "bucket\n",
            "buckets_word\n",
            "closer_than\n",
            "cosine_similarities\n",
            "distance\n",
            "distances\n",
            "doesnt_match\n",
            "evaluate_word_analogies\n",
            "evaluate_word_pairs\n",
            "get_vector\n",
            "hash2index\n",
            "index2entity\n",
            "index2word\n",
            "init_sims\n",
            "load\n",
            "log_accuracy\n",
            "log_evaluate_word_pairs\n",
            "max_n\n",
            "min_n\n",
            "most_similar\n",
            "most_similar_cosmul\n",
            "most_similar_to_given\n",
            "n_similarity\n",
            "num_ngram_vectors\n",
            "rank\n",
            "save\n",
            "save_word2vec_format\n",
            "similar_by_vector\n",
            "similar_by_word\n",
            "similarity\n",
            "similarity_matrix\n",
            "syn0\n",
            "syn0_ngrams\n",
            "syn0_ngrams_norm\n",
            "syn0_vocab\n",
            "syn0_vocab_norm\n",
            "syn0norm\n",
            "vector_size\n",
            "vectors\n",
            "vectors_ngrams\n",
            "vectors_ngrams_norm\n",
            "vectors_norm\n",
            "vectors_vocab\n",
            "vectors_vocab_norm\n",
            "vocab\n",
            "wmdistance\n",
            "word_vec\n",
            "words_closer_than\n",
            "wv\n"
          ]
        }
      ]
    },
    {
      "cell_type": "code",
      "source": [
        "print(model.wv.evaluate_word_pairs())"
      ],
      "metadata": {
        "colab": {
          "base_uri": "https://localhost:8080/",
          "height": 158
        },
        "id": "GNrFmD_1ATki",
        "outputId": "a38abdd1-a88e-4e2e-a542-a50c6c35b694"
      },
      "execution_count": null,
      "outputs": [
        {
          "output_type": "error",
          "ename": "TypeError",
          "evalue": "ignored",
          "traceback": [
            "\u001b[0;31m---------------------------------------------------------------------------\u001b[0m",
            "\u001b[0;31mTypeError\u001b[0m                                 Traceback (most recent call last)",
            "\u001b[0;32m<ipython-input-95-316492e264a5>\u001b[0m in \u001b[0;36m<module>\u001b[0;34m\u001b[0m\n\u001b[0;32m----> 1\u001b[0;31m \u001b[0mprint\u001b[0m\u001b[0;34m(\u001b[0m\u001b[0mmodel\u001b[0m\u001b[0;34m.\u001b[0m\u001b[0mwv\u001b[0m\u001b[0;34m.\u001b[0m\u001b[0mevaluate_word_pairs\u001b[0m\u001b[0;34m(\u001b[0m\u001b[0;34m)\u001b[0m\u001b[0;34m)\u001b[0m\u001b[0;34m\u001b[0m\u001b[0;34m\u001b[0m\u001b[0m\n\u001b[0m",
            "\u001b[0;31mTypeError\u001b[0m: evaluate_word_pairs() missing 1 required positional argument: 'pairs'"
          ]
        }
      ]
    }
  ]
}