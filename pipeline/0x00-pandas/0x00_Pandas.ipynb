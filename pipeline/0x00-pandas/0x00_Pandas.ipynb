{
  "nbformat": 4,
  "nbformat_minor": 0,
  "metadata": {
    "colab": {
      "provenance": []
    },
    "kernelspec": {
      "name": "python3",
      "display_name": "Python 3"
    },
    "language_info": {
      "name": "python"
    }
  },
  "cells": [
    {
      "cell_type": "code",
      "execution_count": null,
      "metadata": {
        "id": "UAPBiVZ0vJme"
      },
      "outputs": [],
      "source": [
        "import pandas as pd\n",
        "import numpy as np\n",
        "alphabet = ['A', 'B', 'C', 'D', 'E', 'F', 'G', 'H', 'I', 'J', 'K', 'L', 'M', 'N', 'O', 'P', 'Q', 'R', 'S', 'T', 'U', 'V', 'W', 'X', 'Y', 'Z']\n",
        "coinbase = \"/content/drive/MyDrive/Colab Notebooks/Machine Learning/data/coinbaseUSD_1-min_data_2014-12-01_to_2019-01-09.csv\"\n",
        "bitstamp = \"/content/drive/MyDrive/Colab Notebooks/Machine Learning/data/bitstampUSD_1-min_data_2012-01-01_to_2020-04-22.csv\""
      ]
    },
    {
      "cell_type": "markdown",
      "source": [
        "## 0 - From Numpy"
      ],
      "metadata": {
        "id": "zqe-5Eu8vUbR"
      }
    },
    {
      "cell_type": "code",
      "source": [
        "def from_numpy(array):\n",
        "    \"\"\"\n",
        "    that creates a pd.DataFrame from a np.ndarray\n",
        "\n",
        "    array is the np.ndarray from which you should create the pd.DataFrame\n",
        "    The columns of the pd.DataFrame should be labeled in alphabetical order and capitalized. There will not be more than 26 columns.\n",
        "    Returns: the newly created pd.DataFrame\n",
        "    \"\"\"\n",
        "    return pd.DataFrame(array, columns=alphabet[:array.shape[1]])"
      ],
      "metadata": {
        "id": "nH7TeYpLvWWa"
      },
      "execution_count": null,
      "outputs": []
    },
    {
      "cell_type": "code",
      "source": [
        "np.random.seed(0)\n",
        "A = np.random.randn(5, 8)\n",
        "print(from_numpy(A))\n",
        "B = np.random.randn(9, 3)\n",
        "print(from_numpy(B))\n",
        "'''\n",
        "          A         B         C         D         E         F         G         H\n",
        "0  1.764052  0.400157  0.978738  2.240893  1.867558 -0.977278  0.950088 -0.151357\n",
        "1 -0.103219  0.410599  0.144044  1.454274  0.761038  0.121675  0.443863  0.333674\n",
        "2  1.494079 -0.205158  0.313068 -0.854096 -2.552990  0.653619  0.864436 -0.742165\n",
        "3  2.269755 -1.454366  0.045759 -0.187184  1.532779  1.469359  0.154947  0.378163\n",
        "4 -0.887786 -1.980796 -0.347912  0.156349  1.230291  1.202380 -0.387327 -0.302303\n",
        "\n",
        "          A         B         C\n",
        "0 -1.048553 -1.420018 -1.706270\n",
        "1  1.950775 -0.509652 -0.438074\n",
        "2 -1.252795  0.777490 -1.613898\n",
        "3 -0.212740 -0.895467  0.386902\n",
        "4 -0.510805 -1.180632 -0.028182\n",
        "5  0.428332  0.066517  0.302472\n",
        "6 -0.634322 -0.362741 -0.672460\n",
        "7 -0.359553 -0.813146 -1.726283\n",
        "8  0.177426 -0.401781 -1.630198\n",
        "'''"
      ],
      "metadata": {
        "colab": {
          "base_uri": "https://localhost:8080/",
          "height": 520
        },
        "id": "f2FZGpu1wWPu",
        "outputId": "22a9f65e-ca3d-48f4-be61-dffab1f95489"
      },
      "execution_count": null,
      "outputs": [
        {
          "output_type": "stream",
          "name": "stdout",
          "text": [
            "          A         B         C         D         E         F         G  \\\n",
            "0  1.764052  0.400157  0.978738  2.240893  1.867558 -0.977278  0.950088   \n",
            "1 -0.103219  0.410599  0.144044  1.454274  0.761038  0.121675  0.443863   \n",
            "2  1.494079 -0.205158  0.313068 -0.854096 -2.552990  0.653619  0.864436   \n",
            "3  2.269755 -1.454366  0.045759 -0.187184  1.532779  1.469359  0.154947   \n",
            "4 -0.887786 -1.980796 -0.347912  0.156349  1.230291  1.202380 -0.387327   \n",
            "\n",
            "          H  \n",
            "0 -0.151357  \n",
            "1  0.333674  \n",
            "2 -0.742165  \n",
            "3  0.378163  \n",
            "4 -0.302303  \n",
            "          A         B         C\n",
            "0 -1.048553 -1.420018 -1.706270\n",
            "1  1.950775 -0.509652 -0.438074\n",
            "2 -1.252795  0.777490 -1.613898\n",
            "3 -0.212740 -0.895467  0.386902\n",
            "4 -0.510805 -1.180632 -0.028182\n",
            "5  0.428332  0.066517  0.302472\n",
            "6 -0.634322 -0.362741 -0.672460\n",
            "7 -0.359553 -0.813146 -1.726283\n",
            "8  0.177426 -0.401781 -1.630198\n"
          ]
        },
        {
          "output_type": "execute_result",
          "data": {
            "text/plain": [
              "'\\n          A         B         C         D         E         F         G         H\\n0  1.764052  0.400157  0.978738  2.240893  1.867558 -0.977278  0.950088 -0.151357\\n1 -0.103219  0.410599  0.144044  1.454274  0.761038  0.121675  0.443863  0.333674\\n2  1.494079 -0.205158  0.313068 -0.854096 -2.552990  0.653619  0.864436 -0.742165\\n3  2.269755 -1.454366  0.045759 -0.187184  1.532779  1.469359  0.154947  0.378163\\n4 -0.887786 -1.980796 -0.347912  0.156349  1.230291  1.202380 -0.387327 -0.302303\\n\\n          A         B         C\\n0 -1.048553 -1.420018 -1.706270\\n1  1.950775 -0.509652 -0.438074\\n2 -1.252795  0.777490 -1.613898\\n3 -0.212740 -0.895467  0.386902\\n4 -0.510805 -1.180632 -0.028182\\n5  0.428332  0.066517  0.302472\\n6 -0.634322 -0.362741 -0.672460\\n7 -0.359553 -0.813146 -1.726283\\n8  0.177426 -0.401781 -1.630198\\n'"
            ],
            "application/vnd.google.colaboratory.intrinsic+json": {
              "type": "string"
            }
          },
          "metadata": {},
          "execution_count": 28
        }
      ]
    },
    {
      "cell_type": "markdown",
      "source": [
        "## 1. From Dictionary"
      ],
      "metadata": {
        "id": "_XJArSanxqau"
      }
    },
    {
      "cell_type": "code",
      "source": [
        "def from_dic(dic):\n",
        "    \"\"\"\n",
        "    creates a pd.DataFrame from a python dictionary\n",
        "    The first column should be labeled First and have the values 0.0, 0.5, 1.0, and 1.5\n",
        "    The second column should be labeled Second and have the values one, two, three, four\n",
        "    The rows should be labeled A, B, C, and D, respectively\n",
        "    The pd.DataFrame should be saved into the variable df\n",
        "    \"\"\"\n",
        "    return pd.DataFrame({'First': dic.keys(), 'Second': dic.values()}, index=alphabet[:len(dic)])"
      ],
      "metadata": {
        "id": "TjrAzR-UxqIf"
      },
      "execution_count": null,
      "outputs": []
    },
    {
      "cell_type": "code",
      "source": [
        "dic = {0.0:\"one\", 0.5:\"two\", 1.0:\"three\", 1.5:\"four\"}\n",
        "df = from_dic(dic)\n",
        "print(df)\n",
        "\n",
        "'''\n",
        "   First Second\n",
        "A    0.0    one\n",
        "B    0.5    two\n",
        "C    1.0  three\n",
        "D    1.5   four\n",
        "'''"
      ],
      "metadata": {
        "colab": {
          "base_uri": "https://localhost:8080/",
          "height": 140
        },
        "id": "wFaqvfh6x725",
        "outputId": "3b708511-d845-491b-c84f-52fa98a5260b"
      },
      "execution_count": null,
      "outputs": [
        {
          "output_type": "stream",
          "name": "stdout",
          "text": [
            "   First Second\n",
            "A    0.0    one\n",
            "B    0.5    two\n",
            "C    1.0  three\n",
            "D    1.5   four\n"
          ]
        },
        {
          "output_type": "execute_result",
          "data": {
            "text/plain": [
              "'\\n   First Second\\nA    0.0    one\\nB    0.5    two\\nC    1.0  three\\nD    1.5   four\\n'"
            ],
            "application/vnd.google.colaboratory.intrinsic+json": {
              "type": "string"
            }
          },
          "metadata": {},
          "execution_count": 33
        }
      ]
    },
    {
      "cell_type": "markdown",
      "source": [
        "## 2. From File"
      ],
      "metadata": {
        "id": "JhrG9ED63S5Y"
      }
    },
    {
      "cell_type": "code",
      "source": [
        "def from_file(filename, delimiter):\n",
        "    \"\"\"\n",
        "    loads data from a file as a pd.DataFrame:\n",
        "    filename is the file to load from\n",
        "    delimiter is the column separator\n",
        "    Returns: the loaded pd.DataFrame\n",
        "    \"\"\"\n",
        "    return(pd.read_csv(filename, sep=delimiter))"
      ],
      "metadata": {
        "id": "SyFVg90s3Vd-"
      },
      "execution_count": null,
      "outputs": []
    },
    {
      "cell_type": "code",
      "source": [
        "df1 = from_file(coinbase, ',')\n",
        "print(df1.head())\n",
        "df2 = from_file(bitstamp, ',')\n",
        "print(df2.tail())\n",
        "\n",
        "'''\n",
        "    Timestamp   Open   High    Low  Close  Volume_(BTC)  Volume_(Currency)  Weighted_Price\n",
        "0  1417411980  300.0  300.0  300.0  300.0          0.01                3.0           300.0\n",
        "1  1417412040    NaN    NaN    NaN    NaN           NaN                NaN             NaN\n",
        "2  1417412100    NaN    NaN    NaN    NaN           NaN                NaN             NaN\n",
        "3  1417412160    NaN    NaN    NaN    NaN           NaN                NaN             NaN\n",
        "4  1417412220    NaN    NaN    NaN    NaN           NaN                NaN             NaN\n",
        "          Timestamp     Open     High      Low    Close  Volume_(BTC)  Volume_(Currency)  Weighted_Price\n",
        "4363452  1587513360  6847.97  6856.35  6847.97  6856.35      0.125174         858.128697     6855.498790\n",
        "4363453  1587513420  6850.23  6856.13  6850.23  6850.89      1.224777        8396.781459     6855.763449\n",
        "4363454  1587513480  6846.50  6857.45  6846.02  6857.45      7.089168       48533.089069     6846.090966\n",
        "4363455  1587513540  6854.18  6854.98  6854.18  6854.98      0.012231          83.831604     6854.195090\n",
        "4363456  1587513600  6850.60  6850.60  6850.60  6850.60      0.014436          98.896906     6850.600000\n",
        "'''"
      ],
      "metadata": {
        "colab": {
          "base_uri": "https://localhost:8080/",
          "height": 571
        },
        "id": "DjOl4wso3Vva",
        "outputId": "782b5a5b-de98-40aa-d577-e5255d02722c"
      },
      "execution_count": null,
      "outputs": [
        {
          "output_type": "stream",
          "name": "stdout",
          "text": [
            "    Timestamp   Open   High    Low  Close  Volume_(BTC)  Volume_(Currency)  \\\n",
            "0  1417411980  300.0  300.0  300.0  300.0          0.01                3.0   \n",
            "1  1417412040    NaN    NaN    NaN    NaN           NaN                NaN   \n",
            "2  1417412100    NaN    NaN    NaN    NaN           NaN                NaN   \n",
            "3  1417412160    NaN    NaN    NaN    NaN           NaN                NaN   \n",
            "4  1417412220    NaN    NaN    NaN    NaN           NaN                NaN   \n",
            "\n",
            "   Weighted_Price  \n",
            "0           300.0  \n",
            "1             NaN  \n",
            "2             NaN  \n",
            "3             NaN  \n",
            "4             NaN  \n",
            "          Timestamp     Open     High      Low    Close  Volume_(BTC)  \\\n",
            "4363452  1587513360  6847.97  6856.35  6847.97  6856.35      0.125174   \n",
            "4363453  1587513420  6850.23  6856.13  6850.23  6850.89      1.224777   \n",
            "4363454  1587513480  6846.50  6857.45  6846.02  6857.45      7.089168   \n",
            "4363455  1587513540  6854.18  6854.98  6854.18  6854.98      0.012231   \n",
            "4363456  1587513600  6850.60  6850.60  6850.60  6850.60      0.014436   \n",
            "\n",
            "         Volume_(Currency)  Weighted_Price  \n",
            "4363452         858.128697     6855.498790  \n",
            "4363453        8396.781459     6855.763449  \n",
            "4363454       48533.089069     6846.090966  \n",
            "4363455          83.831604     6854.195090  \n",
            "4363456          98.896906     6850.600000  \n"
          ]
        },
        {
          "output_type": "execute_result",
          "data": {
            "text/plain": [
              "'\\n    Timestamp   Open   High    Low  Close  Volume_(BTC)  Volume_(Currency)  Weighted_Price\\n0  1417411980  300.0  300.0  300.0  300.0          0.01                3.0           300.0\\n1  1417412040    NaN    NaN    NaN    NaN           NaN                NaN             NaN\\n2  1417412100    NaN    NaN    NaN    NaN           NaN                NaN             NaN\\n3  1417412160    NaN    NaN    NaN    NaN           NaN                NaN             NaN\\n4  1417412220    NaN    NaN    NaN    NaN           NaN                NaN             NaN\\n          Timestamp     Open     High      Low    Close  Volume_(BTC)  Volume_(Currency)  Weighted_Price\\n4363452  1587513360  6847.97  6856.35  6847.97  6856.35      0.125174         858.128697     6855.498790\\n4363453  1587513420  6850.23  6856.13  6850.23  6850.89      1.224777        8396.781459     6855.763449\\n4363454  1587513480  6846.50  6857.45  6846.02  6857.45      7.089168       48533.089069     6846.090966\\n4363455  1587513540  6854.18  6854.98  6854.18  6854.98      0.012231          83.831604     6854.195090\\n4363456  1587513600  6850.60  6850.60  6850.60  6850.60      0.014436          98.896906     6850.600000\\n'"
            ],
            "application/vnd.google.colaboratory.intrinsic+json": {
              "type": "string"
            }
          },
          "metadata": {},
          "execution_count": 37
        }
      ]
    },
    {
      "cell_type": "markdown",
      "source": [
        "## 3. Rename"
      ],
      "metadata": {
        "id": "trEAx_Yf5FK9"
      }
    },
    {
      "cell_type": "code",
      "source": [
        "def rename(df):\n",
        "  '''\n",
        "  Rename the column Timestamp to Datetime\n",
        "  Convert the timestamp values to datatime values\n",
        "  Display only the Datetime and Close columns\n",
        "  '''\n",
        "  df = df.rename(columns={\"Timestamp\":\"Datetime\"})\n",
        "  df['Datetime'] = pd.to_datetime(df['Datetime'], unit='s') \n",
        "  df = df[['Datetime', 'Open']]\n",
        "  return df"
      ],
      "metadata": {
        "id": "NM3bB89x5i1a"
      },
      "execution_count": null,
      "outputs": []
    },
    {
      "cell_type": "code",
      "source": [
        "df = from_file(coinbase, ',')\n",
        "df = rename(df)\n",
        "print(df.tail())\n",
        "\n",
        "'''\n",
        "                   Datetime    Close\n",
        "2099755 2019-01-07 22:02:00  4006.01\n",
        "2099756 2019-01-07 22:03:00  4006.01\n",
        "2099757 2019-01-07 22:04:00  4006.01\n",
        "2099758 2019-01-07 22:05:00  4005.50\n",
        "2099759 2019-01-07 22:06:00  4005.99\n",
        "'''"
      ],
      "metadata": {
        "colab": {
          "base_uri": "https://localhost:8080/",
          "height": 173
        },
        "id": "IHXiA2w-7X2U",
        "outputId": "ccab793d-0b8a-48de-891a-4fba77254a31"
      },
      "execution_count": null,
      "outputs": [
        {
          "output_type": "stream",
          "name": "stdout",
          "text": [
            "                   Datetime     Open\n",
            "2099755 2019-01-07 22:02:00  4006.01\n",
            "2099756 2019-01-07 22:03:00  4006.01\n",
            "2099757 2019-01-07 22:04:00  4006.01\n",
            "2099758 2019-01-07 22:05:00  4006.01\n",
            "2099759 2019-01-07 22:06:00  4005.51\n"
          ]
        },
        {
          "output_type": "execute_result",
          "data": {
            "text/plain": [
              "'\\n                   Datetime    Close\\n2099755 2019-01-07 22:02:00  4006.01\\n2099756 2019-01-07 22:03:00  4006.01\\n2099757 2019-01-07 22:04:00  4006.01\\n2099758 2019-01-07 22:05:00  4005.50\\n2099759 2019-01-07 22:06:00  4005.99\\n'"
            ],
            "application/vnd.google.colaboratory.intrinsic+json": {
              "type": "string"
            }
          },
          "metadata": {},
          "execution_count": 77
        }
      ]
    },
    {
      "cell_type": "markdown",
      "source": [
        "## 4. To Numpy"
      ],
      "metadata": {
        "id": "9_S8db_qAGRN"
      }
    },
    {
      "cell_type": "code",
      "source": [
        "def to_numpy(df):\n",
        "  \"\"\"\n",
        "  takes the last 10 rows of the columns High and Close and convert them into a numpy.ndarray:\n",
        "  \"\"\"\n",
        "  return(df.tail(10)[['High', 'Close']].to_numpy())"
      ],
      "metadata": {
        "id": "aaxabBXBAPgI"
      },
      "execution_count": null,
      "outputs": []
    },
    {
      "cell_type": "code",
      "source": [
        "df = from_file(coinbase, ',')\n",
        "\n",
        "A = to_numpy(df)\n",
        "\n",
        "print(A)\n",
        "'''\n",
        "$ ./4-array.py\n",
        "[[4009.54 4007.01]\n",
        " [4007.01 4003.49]\n",
        " [4007.29 4006.57]\n",
        " [4006.57 4006.56]\n",
        " [4006.57 4006.01]\n",
        " [4006.57 4006.01]\n",
        " [4006.57 4006.01]\n",
        " [4006.01 4006.01]\n",
        " [4006.01 4005.5 ]\n",
        " [4006.01 4005.99]]\n",
        "$\n",
        "'''"
      ],
      "metadata": {
        "colab": {
          "base_uri": "https://localhost:8080/",
          "height": 240
        },
        "id": "nyYFe68TAKPZ",
        "outputId": "28c1e64b-40d3-461b-ce24-54cdffe940cb"
      },
      "execution_count": null,
      "outputs": [
        {
          "output_type": "stream",
          "name": "stdout",
          "text": [
            "[[4009.54 4007.01]\n",
            " [4007.01 4003.49]\n",
            " [4007.29 4006.57]\n",
            " [4006.57 4006.56]\n",
            " [4006.57 4006.01]\n",
            " [4006.57 4006.01]\n",
            " [4006.57 4006.01]\n",
            " [4006.01 4006.01]\n",
            " [4006.01 4005.5 ]\n",
            " [4006.01 4005.99]]\n"
          ]
        },
        {
          "output_type": "execute_result",
          "data": {
            "text/plain": [
              "'\\n$ ./4-array.py\\n[[4009.54 4007.01]\\n [4007.01 4003.49]\\n [4007.29 4006.57]\\n [4006.57 4006.56]\\n [4006.57 4006.01]\\n [4006.57 4006.01]\\n [4006.57 4006.01]\\n [4006.01 4006.01]\\n [4006.01 4005.5 ]\\n [4006.01 4005.99]]\\n$\\n'"
            ],
            "application/vnd.google.colaboratory.intrinsic+json": {
              "type": "string"
            }
          },
          "metadata": {},
          "execution_count": 87
        }
      ]
    },
    {
      "cell_type": "markdown",
      "source": [
        "## 5. Slice"
      ],
      "metadata": {
        "id": "fhmEjPeMBglM"
      }
    },
    {
      "cell_type": "code",
      "source": [
        "def slice(df):\n",
        "  \"\"\"\n",
        "  slices the pd.DataFrame along the columns High, Low, Close, and Volume_BTC, taking every 60th row\n",
        "  \"\"\"\n",
        "  return df[['High', 'Low', 'Close', 'Volume_(BTC)']][::60]"
      ],
      "metadata": {
        "id": "N4G3cTo7BmnJ"
      },
      "execution_count": null,
      "outputs": []
    },
    {
      "cell_type": "code",
      "source": [
        "df = from_file(coinbase, ',')\n",
        "\n",
        "df = slice(df)\n",
        "\n",
        "print(df.tail())\n",
        "\n",
        "'''\n",
        "            High      Low    Close  Volume_(BTC)\n",
        "2099460  4020.08  4020.07  4020.08      4.704989\n",
        "2099520  4020.94  4020.93  4020.94      2.111411\n",
        "2099580  4020.00  4019.01  4020.00      4.637035\n",
        "2099640  4017.00  4016.99  4017.00      2.362372\n",
        "2099700  4014.78  4013.50  4014.72      1.291557\n",
        "'''"
      ],
      "metadata": {
        "colab": {
          "base_uri": "https://localhost:8080/",
          "height": 190
        },
        "id": "yiIjvkzwBkv2",
        "outputId": "831b5f8b-bb10-46e0-b1b2-c13a28e705d6"
      },
      "execution_count": null,
      "outputs": [
        {
          "output_type": "stream",
          "name": "stdout",
          "text": [
            "            High      Low    Close  Volume_(BTC)\n",
            "2099460  4020.08  4020.07  4020.08      4.704989\n",
            "2099520  4020.94  4020.93  4020.94      2.111411\n",
            "2099580  4020.00  4019.01  4020.00      4.637035\n",
            "2099640  4017.00  4016.99  4017.00      2.362372\n",
            "2099700  4014.78  4013.50  4014.72      1.291557\n"
          ]
        },
        {
          "output_type": "execute_result",
          "data": {
            "text/plain": [
              "'\\n            High      Low    Close  Volume_(BTC)\\n2099460  4020.08  4020.07  4020.08      4.704989\\n2099520  4020.94  4020.93  4020.94      2.111411\\n2099580  4020.00  4019.01  4020.00      4.637035\\n2099640  4017.00  4016.99  4017.00      2.362372\\n2099700  4014.78  4013.50  4014.72      1.291557\\n'"
            ],
            "application/vnd.google.colaboratory.intrinsic+json": {
              "type": "string"
            }
          },
          "metadata": {},
          "execution_count": 93
        }
      ]
    },
    {
      "cell_type": "markdown",
      "source": [
        "## 6. Flip it and Switch it"
      ],
      "metadata": {
        "id": "QAM2MjhoCoBB"
      }
    },
    {
      "cell_type": "code",
      "source": [
        "def flip_switch(df):\n",
        "  \"\"\" transposes rows and columns, and sorts the dataframe in reverse chronological order \"\"\"\n",
        "  return df[::-1].T"
      ],
      "metadata": {
        "id": "ESZ8wntzCqud"
      },
      "execution_count": null,
      "outputs": []
    },
    {
      "cell_type": "code",
      "source": [
        "df = from_file(coinbase, ',')\n",
        "df = flip_switch(df)\n",
        "print(df.tail(8))\n",
        "'''\n",
        "                        2099759       2099758       2099757  ...       2             1             0      \n",
        "Timestamp          1.546899e+09  1.546899e+09  1.546899e+09  ...  1.417412e+09  1.417412e+09  1.417412e+09\n",
        "Open               4.005510e+03  4.006010e+03  4.006010e+03  ...           NaN           NaN  3.000000e+02\n",
        "High               4.006010e+03  4.006010e+03  4.006010e+03  ...           NaN           NaN  3.000000e+02\n",
        "Low                4.005510e+03  4.005500e+03  4.006000e+03  ...           NaN           NaN  3.000000e+02\n",
        "Close              4.005990e+03  4.005500e+03  4.006010e+03  ...           NaN           NaN  3.000000e+02\n",
        "Volume_(BTC)       1.752778e+00  2.699700e+00  1.192123e+00  ...           NaN           NaN  1.000000e-02\n",
        "Volume_(Currency)  7.021184e+03  1.081424e+04  4.775647e+03  ...           NaN           NaN  3.000000e+00\n",
        "Weighted_Price     4.005746e+03  4.005720e+03  4.006004e+03  ...           NaN           NaN  3.000000e+02\n",
        "\n",
        "[8 rows x 2099760 columns]\n",
        "'''"
      ],
      "metadata": {
        "colab": {
          "base_uri": "https://localhost:8080/",
          "height": 1000
        },
        "id": "UGBZhB6wDbyc",
        "outputId": "603abb19-8a1a-4b31-9b59-d0f06b4941ce"
      },
      "execution_count": null,
      "outputs": [
        {
          "output_type": "stream",
          "name": "stdout",
          "text": [
            "                        2099759       2099758       2099757       2099756  \\\n",
            "Timestamp          1.546899e+09  1.546899e+09  1.546899e+09  1.546899e+09   \n",
            "Open               4.005510e+03  4.006010e+03  4.006010e+03  4.006010e+03   \n",
            "High               4.006010e+03  4.006010e+03  4.006010e+03  4.006570e+03   \n",
            "Low                4.005510e+03  4.005500e+03  4.006000e+03  4.006000e+03   \n",
            "Close              4.005990e+03  4.005500e+03  4.006010e+03  4.006010e+03   \n",
            "Volume_(BTC)       1.752778e+00  2.699700e+00  1.192123e+00  9.021637e-01   \n",
            "Volume_(Currency)  7.021184e+03  1.081424e+04  4.775647e+03  3.614083e+03   \n",
            "Weighted_Price     4.005746e+03  4.005720e+03  4.006004e+03  4.006017e+03   \n",
            "\n",
            "                        2099755       2099754       2099753       2099752  \\\n",
            "Timestamp          1.546899e+09  1.546898e+09  1.546898e+09  1.546898e+09   \n",
            "Open               4.006010e+03  4.006570e+03  4.006560e+03  4.003490e+03   \n",
            "High               4.006570e+03  4.006570e+03  4.006570e+03  4.007290e+03   \n",
            "Low                4.006000e+03  4.006000e+03  4.006560e+03  4.003490e+03   \n",
            "Close              4.006010e+03  4.006010e+03  4.006560e+03  4.006570e+03   \n",
            "Volume_(BTC)       3.382954e+00  6.951222e+00  8.475772e+00  1.183828e+01   \n",
            "Volume_(Currency)  1.355343e+04  2.784951e+04  3.395870e+04  4.741754e+04   \n",
            "Weighted_Price     4.006390e+03  4.006419e+03  4.006561e+03  4.005441e+03   \n",
            "\n",
            "                        2099751       2099750  ...       9        \\\n",
            "Timestamp          1.546898e+09  1.546898e+09  ...  1.417413e+09   \n",
            "Open               4.007000e+03  4.009540e+03  ...           NaN   \n",
            "High               4.007010e+03  4.009540e+03  ...           NaN   \n",
            "Low                4.000240e+03  4.007000e+03  ...           NaN   \n",
            "Close              4.003490e+03  4.007010e+03  ...           NaN   \n",
            "Volume_(BTC)       9.452163e+00  4.540920e+00  ...           NaN   \n",
            "Volume_(Currency)  3.784576e+04  1.819998e+04  ...           NaN   \n",
            "Weighted_Price     4.003925e+03  4.007993e+03  ...           NaN   \n",
            "\n",
            "                        8             7             6             5        \\\n",
            "Timestamp          1.417412e+09  1.417412e+09  1.417412e+09  1.417412e+09   \n",
            "Open                        NaN  3.000000e+02           NaN           NaN   \n",
            "High                        NaN  3.000000e+02           NaN           NaN   \n",
            "Low                         NaN  3.000000e+02           NaN           NaN   \n",
            "Close                       NaN  3.000000e+02           NaN           NaN   \n",
            "Volume_(BTC)                NaN  1.000000e-02           NaN           NaN   \n",
            "Volume_(Currency)           NaN  3.000000e+00           NaN           NaN   \n",
            "Weighted_Price              NaN  3.000000e+02           NaN           NaN   \n",
            "\n",
            "                        4             3             2             1        \\\n",
            "Timestamp          1.417412e+09  1.417412e+09  1.417412e+09  1.417412e+09   \n",
            "Open                        NaN           NaN           NaN           NaN   \n",
            "High                        NaN           NaN           NaN           NaN   \n",
            "Low                         NaN           NaN           NaN           NaN   \n",
            "Close                       NaN           NaN           NaN           NaN   \n",
            "Volume_(BTC)                NaN           NaN           NaN           NaN   \n",
            "Volume_(Currency)           NaN           NaN           NaN           NaN   \n",
            "Weighted_Price              NaN           NaN           NaN           NaN   \n",
            "\n",
            "                        0        \n",
            "Timestamp          1.417412e+09  \n",
            "Open               3.000000e+02  \n",
            "High               3.000000e+02  \n",
            "Low                3.000000e+02  \n",
            "Close              3.000000e+02  \n",
            "Volume_(BTC)       1.000000e-02  \n",
            "Volume_(Currency)  3.000000e+00  \n",
            "Weighted_Price     3.000000e+02  \n",
            "\n",
            "[8 rows x 2099760 columns]\n"
          ]
        },
        {
          "output_type": "execute_result",
          "data": {
            "text/plain": [
              "'\\n                        2099759       2099758       2099757  ...       2             1             0      \\nTimestamp          1.546899e+09  1.546899e+09  1.546899e+09  ...  1.417412e+09  1.417412e+09  1.417412e+09\\nOpen               4.005510e+03  4.006010e+03  4.006010e+03  ...           NaN           NaN  3.000000e+02\\nHigh               4.006010e+03  4.006010e+03  4.006010e+03  ...           NaN           NaN  3.000000e+02\\nLow                4.005510e+03  4.005500e+03  4.006000e+03  ...           NaN           NaN  3.000000e+02\\nClose              4.005990e+03  4.005500e+03  4.006010e+03  ...           NaN           NaN  3.000000e+02\\nVolume_(BTC)       1.752778e+00  2.699700e+00  1.192123e+00  ...           NaN           NaN  1.000000e-02\\nVolume_(Currency)  7.021184e+03  1.081424e+04  4.775647e+03  ...           NaN           NaN  3.000000e+00\\nWeighted_Price     4.005746e+03  4.005720e+03  4.006004e+03  ...           NaN           NaN  3.000000e+02\\n\\n[8 rows x 2099760 columns]\\n'"
            ],
            "application/vnd.google.colaboratory.intrinsic+json": {
              "type": "string"
            }
          },
          "metadata": {},
          "execution_count": 99
        }
      ]
    },
    {
      "cell_type": "markdown",
      "source": [
        "## 7. Sort"
      ],
      "metadata": {
        "id": "t7dveqLaDtXR"
      }
    },
    {
      "cell_type": "code",
      "source": [
        "def sort(df):\n",
        "  \"\"\" sort the pd.DataFrame by the High price in descending order \"\"\"\n",
        "  return df.sort_values(by=['High'], ascending=False)"
      ],
      "metadata": {
        "id": "EIAkj-zoDxct"
      },
      "execution_count": null,
      "outputs": []
    },
    {
      "cell_type": "code",
      "source": [
        "df = from_file(coinbase, ',')\n",
        "\n",
        "df = sort(df)\n",
        "\n",
        "print(df.head())\n",
        "'''\n",
        "          Timestamp      Open      High       Low     Close  Volume_(BTC)  Volume_(Currency)  Weighted_Price\n",
        "1543350  1513514220  19891.99  19891.99  19891.98  19891.98      3.323210       66105.250870    19891.984712\n",
        "1543352  1513514340  19891.99  19891.99  19891.98  19891.98      9.836946      195676.363110    19891.983294\n",
        "1543351  1513514280  19891.99  19891.99  19891.98  19891.98      8.172155      162560.403740    19891.987528\n",
        "1543349  1513514160  19891.00  19891.99  19890.99  19891.99      1.336512       26584.930278    19891.272886\n",
        "1543353  1513514400  19891.99  19891.99  19876.22  19884.99     19.925151      396292.881750    19889.078007\n",
        "'''"
      ],
      "metadata": {
        "colab": {
          "base_uri": "https://localhost:8080/",
          "height": 322
        },
        "id": "6qHcXAlIDuk2",
        "outputId": "714c2365-87f1-48c1-8429-f279e12e366f"
      },
      "execution_count": null,
      "outputs": [
        {
          "output_type": "stream",
          "name": "stdout",
          "text": [
            "          Timestamp      Open      High       Low     Close  Volume_(BTC)  \\\n",
            "1543350  1513514220  19891.99  19891.99  19891.98  19891.98      3.323210   \n",
            "1543352  1513514340  19891.99  19891.99  19891.98  19891.98      9.836946   \n",
            "1543351  1513514280  19891.99  19891.99  19891.98  19891.98      8.172155   \n",
            "1543349  1513514160  19891.00  19891.99  19890.99  19891.99      1.336512   \n",
            "1543353  1513514400  19891.99  19891.99  19876.22  19884.99     19.925151   \n",
            "\n",
            "         Volume_(Currency)  Weighted_Price  \n",
            "1543350       66105.250870    19891.984712  \n",
            "1543352      195676.363110    19891.983294  \n",
            "1543351      162560.403740    19891.987528  \n",
            "1543349       26584.930278    19891.272886  \n",
            "1543353      396292.881750    19889.078007  \n"
          ]
        },
        {
          "output_type": "execute_result",
          "data": {
            "text/plain": [
              "'\\n          Timestamp      Open      High       Low     Close  Volume_(BTC)  Volume_(Currency)  Weighted_Price\\n1543350  1513514220  19891.99  19891.99  19891.98  19891.98      3.323210       66105.250870    19891.984712\\n1543352  1513514340  19891.99  19891.99  19891.98  19891.98      9.836946      195676.363110    19891.983294\\n1543351  1513514280  19891.99  19891.99  19891.98  19891.98      8.172155      162560.403740    19891.987528\\n1543349  1513514160  19891.00  19891.99  19890.99  19891.99      1.336512       26584.930278    19891.272886\\n1543353  1513514400  19891.99  19891.99  19876.22  19884.99     19.925151      396292.881750    19889.078007\\n'"
            ],
            "application/vnd.google.colaboratory.intrinsic+json": {
              "type": "string"
            }
          },
          "metadata": {},
          "execution_count": 101
        }
      ]
    },
    {
      "cell_type": "markdown",
      "source": [
        "## 8. Prune"
      ],
      "metadata": {
        "id": "Lq-4-sZVEkkO"
      }
    },
    {
      "cell_type": "code",
      "source": [
        "def prune(df):\n",
        "  \"\"\"removes the entries in the pd.DataFrame where Close is NaN\"\"\"\n",
        "  return df.dropna(subset=[\"Close\"])"
      ],
      "metadata": {
        "id": "eXDIZJ-wE2sT"
      },
      "execution_count": null,
      "outputs": []
    },
    {
      "cell_type": "code",
      "source": [
        "df = from_file(coinbase, ',')\n",
        "df = prune(df)\n",
        "print(df.head())\n",
        "\n",
        "\n",
        "'''\n",
        "       Timestamp   Open   High    Low  Close  Volume_(BTC)  Volume_(Currency)  Weighted_Price\n",
        "0     1417411980  300.0  300.0  300.0  300.0      0.010000            3.00000           300.0\n",
        "7     1417412400  300.0  300.0  300.0  300.0      0.010000            3.00000           300.0\n",
        "51    1417415040  370.0  370.0  370.0  370.0      0.010000            3.70000           370.0\n",
        "77    1417416600  370.0  370.0  370.0  370.0      0.026556            9.82555           370.0\n",
        "1436  1417498140  377.0  377.0  377.0  377.0      0.010000            3.77000           377.0\n",
        "'''"
      ],
      "metadata": {
        "colab": {
          "base_uri": "https://localhost:8080/",
          "height": 322
        },
        "id": "jzgK3IlPEnyQ",
        "outputId": "0dddea2b-ba00-48fd-e4b4-a624f1d00803"
      },
      "execution_count": null,
      "outputs": [
        {
          "output_type": "stream",
          "name": "stdout",
          "text": [
            "       Timestamp   Open   High    Low  Close  Volume_(BTC)  Volume_(Currency)  \\\n",
            "0     1417411980  300.0  300.0  300.0  300.0      0.010000            3.00000   \n",
            "7     1417412400  300.0  300.0  300.0  300.0      0.010000            3.00000   \n",
            "51    1417415040  370.0  370.0  370.0  370.0      0.010000            3.70000   \n",
            "77    1417416600  370.0  370.0  370.0  370.0      0.026556            9.82555   \n",
            "1436  1417498140  377.0  377.0  377.0  377.0      0.010000            3.77000   \n",
            "\n",
            "      Weighted_Price  \n",
            "0              300.0  \n",
            "7              300.0  \n",
            "51             370.0  \n",
            "77             370.0  \n",
            "1436           377.0  \n"
          ]
        },
        {
          "output_type": "execute_result",
          "data": {
            "text/plain": [
              "'\\n       Timestamp   Open   High    Low  Close  Volume_(BTC)  Volume_(Currency)  Weighted_Price\\n0     1417411980  300.0  300.0  300.0  300.0      0.010000            3.00000           300.0\\n7     1417412400  300.0  300.0  300.0  300.0      0.010000            3.00000           300.0\\n51    1417415040  370.0  370.0  370.0  370.0      0.010000            3.70000           370.0\\n77    1417416600  370.0  370.0  370.0  370.0      0.026556            9.82555           370.0\\n1436  1417498140  377.0  377.0  377.0  377.0      0.010000            3.77000           377.0\\n'"
            ],
            "application/vnd.google.colaboratory.intrinsic+json": {
              "type": "string"
            }
          },
          "metadata": {},
          "execution_count": 103
        }
      ]
    },
    {
      "cell_type": "markdown",
      "source": [
        "## 9. Fill"
      ],
      "metadata": {
        "id": "xRdM4IpPG0Fr"
      }
    },
    {
      "cell_type": "code",
      "source": [
        "def fill(df):\n",
        "  \"\"\"\n",
        "  fills in the missing data points in df\n",
        "  The column Weighted_Price should be removed\n",
        "  missing values in High, Low, Open, and Close should be set to the previous row’s Close value\n",
        "  missing values in Volume_(BTC) and Volume_(Currency) should be set to 0  \n",
        "  \"\"\"\n",
        "  df = df.drop('Weighted_Price', axis=1)\n",
        "  df['Close'] = df['Close'].fillna(method=\"ffill\")\n",
        "  values = {\"High\":df['Close'], \"Low\":df['Close'], \"Open\":df['Close'], \"Volume_(Currency)\":0, \"Volume_(BTC)\":0}\n",
        "  df = df.fillna(value=values)\n",
        "  return df"
      ],
      "metadata": {
        "id": "5J4iSZf5HR_U"
      },
      "execution_count": null,
      "outputs": []
    },
    {
      "cell_type": "code",
      "source": [
        "df = from_file(coinbase, ',')\n",
        "df = fill(df)\n",
        "print(df.head())\n",
        "print(df.tail())\n",
        "'''\n",
        "      Timestamp   Open   High    Low  Close  Volume_(BTC)  Volume_(Currency)\n",
        "0  1.417412e+09  300.0  300.0  300.0  300.0          0.01                3.0\n",
        "1  1.417412e+09  300.0  300.0  300.0  300.0          0.00                0.0\n",
        "2  1.417412e+09  300.0  300.0  300.0  300.0          0.00                0.0\n",
        "3  1.417412e+09  300.0  300.0  300.0  300.0          0.00                0.0\n",
        "4  1.417412e+09  300.0  300.0  300.0  300.0          0.00                0.0\n",
        "\n",
        "            Timestamp     Open     High      Low    Close  Volume_(BTC)  Volume_(Currency)\n",
        "2099755  1.546899e+09  4006.01  4006.57  4006.00  4006.01      3.382954       13553.433078\n",
        "2099756  1.546899e+09  4006.01  4006.57  4006.00  4006.01      0.902164        3614.083169\n",
        "2099757  1.546899e+09  4006.01  4006.01  4006.00  4006.01      1.192123        4775.647308\n",
        "2099758  1.546899e+09  4006.01  4006.01  4005.50  4005.50      2.699700       10814.241898\n",
        "2099759  1.546899e+09  4005.51  4006.01  4005.51  4005.99      1.752778        7021.183546\n",
        "'''"
      ],
      "metadata": {
        "colab": {
          "base_uri": "https://localhost:8080/",
          "height": 472
        },
        "id": "6u028Z3-G1vq",
        "outputId": "d347145b-5c38-4c95-b368-8bdb8fb466e8"
      },
      "execution_count": null,
      "outputs": [
        {
          "output_type": "stream",
          "name": "stdout",
          "text": [
            "    Timestamp   Open   High    Low  Close  Volume_(BTC)  Volume_(Currency)\n",
            "0  1417411980  300.0  300.0  300.0  300.0          0.01                3.0\n",
            "1  1417412040  300.0  300.0  300.0  300.0          0.00                0.0\n",
            "2  1417412100  300.0  300.0  300.0  300.0          0.00                0.0\n",
            "3  1417412160  300.0  300.0  300.0  300.0          0.00                0.0\n",
            "4  1417412220  300.0  300.0  300.0  300.0          0.00                0.0\n",
            "          Timestamp     Open     High      Low    Close  Volume_(BTC)  \\\n",
            "2099755  1546898520  4006.01  4006.57  4006.00  4006.01      3.382954   \n",
            "2099756  1546898580  4006.01  4006.57  4006.00  4006.01      0.902164   \n",
            "2099757  1546898640  4006.01  4006.01  4006.00  4006.01      1.192123   \n",
            "2099758  1546898700  4006.01  4006.01  4005.50  4005.50      2.699700   \n",
            "2099759  1546898760  4005.51  4006.01  4005.51  4005.99      1.752778   \n",
            "\n",
            "         Volume_(Currency)  \n",
            "2099755       13553.433078  \n",
            "2099756        3614.083168  \n",
            "2099757        4775.647308  \n",
            "2099758       10814.241898  \n",
            "2099759        7021.183546  \n"
          ]
        },
        {
          "output_type": "execute_result",
          "data": {
            "text/plain": [
              "'\\n      Timestamp   Open   High    Low  Close  Volume_(BTC)  Volume_(Currency)\\n0  1.417412e+09  300.0  300.0  300.0  300.0          0.01                3.0\\n1  1.417412e+09  300.0  300.0  300.0  300.0          0.00                0.0\\n2  1.417412e+09  300.0  300.0  300.0  300.0          0.00                0.0\\n3  1.417412e+09  300.0  300.0  300.0  300.0          0.00                0.0\\n4  1.417412e+09  300.0  300.0  300.0  300.0          0.00                0.0\\n\\n            Timestamp     Open     High      Low    Close  Volume_(BTC)  Volume_(Currency)\\n2099755  1.546899e+09  4006.01  4006.57  4006.00  4006.01      3.382954       13553.433078\\n2099756  1.546899e+09  4006.01  4006.57  4006.00  4006.01      0.902164        3614.083169\\n2099757  1.546899e+09  4006.01  4006.01  4006.00  4006.01      1.192123        4775.647308\\n2099758  1.546899e+09  4006.01  4006.01  4005.50  4005.50      2.699700       10814.241898\\n2099759  1.546899e+09  4005.51  4006.01  4005.51  4005.99      1.752778        7021.183546\\n'"
            ],
            "application/vnd.google.colaboratory.intrinsic+json": {
              "type": "string"
            }
          },
          "metadata": {},
          "execution_count": 155
        }
      ]
    },
    {
      "cell_type": "markdown",
      "source": [
        "## 10. Indexing"
      ],
      "metadata": {
        "id": "nd_KJMoaPs-x"
      }
    },
    {
      "cell_type": "code",
      "source": [
        "def index(df):\n",
        "  \"\"\"indexes the pd.DataFrame on the Timestamp column\"\"\"\n",
        "  return(df.set_index(\"Timestamp\"))"
      ],
      "metadata": {
        "id": "yWPw6EnrP-kW"
      },
      "execution_count": null,
      "outputs": []
    },
    {
      "cell_type": "code",
      "source": [
        "df = from_file(coinbase, ',')\n",
        "df = index(df)\n",
        "print(df.tail())\n",
        "\n",
        "\"\"\"\n",
        "Timestamp      Open     High      Low    Close  Volume_(BTC)  Volume_(Currency)  Weighted_Price\n",
        "                                                                                      \n",
        "1546898520  4006.01  4006.57  4006.00  4006.01      3.382954       13553.433078     4006.390309\n",
        "1546898580  4006.01  4006.57  4006.00  4006.01      0.902164        3614.083169     4006.017233\n",
        "1546898640  4006.01  4006.01  4006.00  4006.01      1.192123        4775.647308     4006.003635\n",
        "1546898700  4006.01  4006.01  4005.50  4005.50      2.699700       10814.241898     4005.719991\n",
        "1546898760  4005.51  4006.01  4005.51  4005.99      1.752778        7021.183546     4005.745614\n",
        "\"\"\""
      ],
      "metadata": {
        "id": "EQgH9xMVQCDh"
      },
      "execution_count": null,
      "outputs": []
    },
    {
      "cell_type": "markdown",
      "source": [
        "## 11. Concat"
      ],
      "metadata": {
        "id": "iZb0xxDCRpKG"
      }
    },
    {
      "cell_type": "code",
      "source": [
        "def concat(df1, df2):\n",
        "  \"\"\"\n",
        "  indexes the pd.DataFrames on the Timestamp columns and concatenates them:\n",
        "  Concatenates the start of the bitstamp table onto the top of the coinbase table\n",
        "  Includes all timestamps from bitstamp up to and including timestamp 1417411920\n",
        "  Adds keys to the data labeled bitstamp and coinbase respectively\n",
        "  \"\"\"\n",
        "  # bitstamp\n",
        "  # 1325317920 -> 1587513600\n",
        "  df1 = df1.set_index(\"Timestamp\")\n",
        "  df1_cat = df1[:1417411920]\n",
        "  # coinbase\n",
        "  # 1417411980 -> 1546898760\n",
        "  df2 = df2.set_index(\"Timestamp\")\n",
        "  df2_cat = df2.loc[:]\n",
        "  return(pd.concat([df1_cat, df2_cat], keys=['bitstamp', 'coinbase'], axis=0))"
      ],
      "metadata": {
        "id": "wziMqrCXTPfL"
      },
      "execution_count": null,
      "outputs": []
    },
    {
      "cell_type": "code",
      "source": [
        "df1 = from_file(bitstamp, ',')\n",
        "df2 = from_file(coinbase, ',')\n",
        "df = concat(df1, df2)\n",
        "print(df)\n",
        "\n",
        "'''\n",
        "                        Open     High      Low    Close  Volume_(BTC)  Volume_(Currency)  Weighted_Price\n",
        "         Timestamp                                                                                      \n",
        "bitstamp 1325317920     4.39     4.39     4.39     4.39      0.455581           2.000000        4.390000\n",
        "         1325317980      NaN      NaN      NaN      NaN           NaN                NaN             NaN\n",
        "         1325318040      NaN      NaN      NaN      NaN           NaN                NaN             NaN\n",
        "         1325318100      NaN      NaN      NaN      NaN           NaN                NaN             NaN\n",
        "         1325318160      NaN      NaN      NaN      NaN           NaN                NaN             NaN\n",
        "         1325318220      NaN      NaN      NaN      NaN           NaN                NaN             NaN\n",
        "         1325318280      NaN      NaN      NaN      NaN           NaN                NaN             NaN\n",
        "         1325318340      NaN      NaN      NaN      NaN           NaN                NaN             NaN\n",
        "         1325318400      NaN      NaN      NaN      NaN           NaN                NaN             NaN\n",
        "         1325318460      NaN      NaN      NaN      NaN           NaN                NaN             NaN\n",
        "         1325318520      NaN      NaN      NaN      NaN           NaN                NaN             NaN\n",
        "         1325318580      NaN      NaN      NaN      NaN           NaN                NaN             NaN\n",
        "         1325318640      NaN      NaN      NaN      NaN           NaN                NaN             NaN\n",
        "         1325318700      NaN      NaN      NaN      NaN           NaN                NaN             NaN\n",
        "         1325318760      NaN      NaN      NaN      NaN           NaN                NaN             NaN\n",
        "         1325318820      NaN      NaN      NaN      NaN           NaN                NaN             NaN\n",
        "         1325318880      NaN      NaN      NaN      NaN           NaN                NaN             NaN\n",
        "         1325318940      NaN      NaN      NaN      NaN           NaN                NaN             NaN\n",
        "         1325319000      NaN      NaN      NaN      NaN           NaN                NaN             NaN\n",
        "         1325319060      NaN      NaN      NaN      NaN           NaN                NaN             NaN\n",
        "         1325319120      NaN      NaN      NaN      NaN           NaN                NaN             NaN\n",
        "         1325319180      NaN      NaN      NaN      NaN           NaN                NaN             NaN\n",
        "         1325319240      NaN      NaN      NaN      NaN           NaN                NaN             NaN\n",
        "         1325319300      NaN      NaN      NaN      NaN           NaN                NaN             NaN\n",
        "         1325319360      NaN      NaN      NaN      NaN           NaN                NaN             NaN\n",
        "         1325319420      NaN      NaN      NaN      NaN           NaN                NaN             NaN\n",
        "         1325319480      NaN      NaN      NaN      NaN           NaN                NaN             NaN\n",
        "         1325319540      NaN      NaN      NaN      NaN           NaN                NaN             NaN\n",
        "         1325319600      NaN      NaN      NaN      NaN           NaN                NaN             NaN\n",
        "         1325319660      NaN      NaN      NaN      NaN           NaN                NaN             NaN\n",
        "...                      ...      ...      ...      ...           ...                ...             ...\n",
        "coinbase 1546897020  4011.51  4011.51  4011.50  4011.51      4.800442       19257.017170     4011.508983\n",
        "         1546897080  4011.51  4011.51  4011.50  4011.50      2.564290       10286.657789     4011.503219\n",
        "         1546897140  4011.51  4013.45  4011.50  4013.45     12.323814       49446.144604     4012.243570\n",
        "         1546897200  4013.45  4015.00  4013.44  4015.00     13.981753       56123.805701     4014.075072\n",
        "         1546897260  4015.00  4016.50  4015.00  4015.80      3.749535       15057.021696     4015.703679\n",
        "         1546897320  4015.80  4015.80  4015.79  4015.79      1.856575        7455.632556     4015.799068\n",
        "         1546897380  4015.80  4015.80  4015.79  4015.79      3.935866       15805.631118     4015.794631\n",
        "         1546897440  4015.80  4015.80  4013.18  4014.64     14.744987       59208.462922     4015.497845\n",
        "         1546897500  4014.65  4018.30  4014.64  4018.05     10.469356       42054.587908     4016.922240\n",
        "         1546897560  4018.02  4018.11  4014.70  4014.87      4.673189       18768.274910     4016.160149\n",
        "         1546897620  4014.90  4015.89  4014.90  4015.74      4.222425       16956.060548     4015.716607\n",
        "         1546897680  4015.74  4015.74  4014.64  4014.64      8.378448       33644.339692     4015.581163\n",
        "         1546897740  4014.65  4014.65  4014.64  4014.65      1.846774        7414.138808     4014.643943\n",
        "         1546897800  4014.65  4014.65  4010.96  4012.40      7.349811       29490.133335     4012.366127\n",
        "         1546897860  4012.40  4012.40  4010.04  4010.13      4.909604       19694.778769     4011.479901\n",
        "         1546897920  4011.38  4012.40  4010.44  4010.72      4.804125       19272.037632     4011.560673\n",
        "         1546897980  4010.73  4010.74  4010.00  4010.74     13.043658       52313.110686     4010.616565\n",
        "         1546898040  4010.72  4011.00  4009.95  4010.75      5.149147       20650.628292     4010.495240\n",
        "         1546898100  4010.71  4011.22  4009.67  4010.29      5.688910       22814.904034     4010.417799\n",
        "         1546898160  4010.81  4010.81  4009.54  4009.54      1.307076        5241.132727     4009.813694\n",
        "         1546898220  4009.54  4009.54  4007.00  4007.01      4.540920       18199.978249     4007.993430\n",
        "         1546898280  4007.00  4007.01  4000.24  4003.49      9.452163       37845.755391     4003.925395\n",
        "         1546898340  4003.49  4007.29  4003.49  4006.57     11.838284       47417.543200     4005.440599\n",
        "         1546898400  4006.56  4006.57  4006.56  4006.56      8.475772       33958.700070     4006.561247\n",
        "         1546898460  4006.57  4006.57  4006.00  4006.01      6.951222       27849.509219     4006.419421\n",
        "         1546898520  4006.01  4006.57  4006.00  4006.01      3.382954       13553.433078     4006.390309\n",
        "         1546898580  4006.01  4006.57  4006.00  4006.01      0.902164        3614.083169     4006.017233\n",
        "         1546898640  4006.01  4006.01  4006.00  4006.01      1.192123        4775.647308     4006.003635\n",
        "         1546898700  4006.01  4006.01  4005.50  4005.50      2.699700       10814.241898     4005.719991\n",
        "         1546898760  4005.51  4006.01  4005.51  4005.99      1.752778        7021.183546     4005.745614\n",
        "'''"
      ],
      "metadata": {
        "colab": {
          "base_uri": "https://localhost:8080/",
          "height": 620
        },
        "id": "pPz10KDZgCkR",
        "outputId": "47c020e0-868b-4e54-d58c-1679da74072b"
      },
      "execution_count": null,
      "outputs": [
        {
          "output_type": "stream",
          "name": "stdout",
          "text": [
            "                        Open     High      Low    Close  Volume_(BTC)  \\\n",
            "         Timestamp                                                      \n",
            "bitstamp 1325317920     4.39     4.39     4.39     4.39      0.455581   \n",
            "         1325317980      NaN      NaN      NaN      NaN           NaN   \n",
            "         1325318040      NaN      NaN      NaN      NaN           NaN   \n",
            "         1325318100      NaN      NaN      NaN      NaN           NaN   \n",
            "         1325318160      NaN      NaN      NaN      NaN           NaN   \n",
            "...                      ...      ...      ...      ...           ...   \n",
            "coinbase 1546898520  4006.01  4006.57  4006.00  4006.01      3.382954   \n",
            "         1546898580  4006.01  4006.57  4006.00  4006.01      0.902164   \n",
            "         1546898640  4006.01  4006.01  4006.00  4006.01      1.192123   \n",
            "         1546898700  4006.01  4006.01  4005.50  4005.50      2.699700   \n",
            "         1546898760  4005.51  4006.01  4005.51  4005.99      1.752778   \n",
            "\n",
            "                     Volume_(Currency)  Weighted_Price  \n",
            "         Timestamp                                      \n",
            "bitstamp 1325317920           2.000000        4.390000  \n",
            "         1325317980                NaN             NaN  \n",
            "         1325318040                NaN             NaN  \n",
            "         1325318100                NaN             NaN  \n",
            "         1325318160                NaN             NaN  \n",
            "...                                ...             ...  \n",
            "coinbase 1546898520       13553.433078     4006.390309  \n",
            "         1546898580        3614.083168     4006.017232  \n",
            "         1546898640        4775.647308     4006.003635  \n",
            "         1546898700       10814.241898     4005.719991  \n",
            "         1546898760        7021.183546     4005.745614  \n",
            "\n",
            "[6463217 rows x 7 columns]\n"
          ]
        },
        {
          "output_type": "execute_result",
          "data": {
            "text/plain": [
              "'\\n                        Open     High      Low    Close  Volume_(BTC)  Volume_(Currency)  Weighted_Price\\n         Timestamp                                                                                      \\nbitstamp 1325317920     4.39     4.39     4.39     4.39      0.455581           2.000000        4.390000\\n         1325317980      NaN      NaN      NaN      NaN           NaN                NaN             NaN\\n         1325318040      NaN      NaN      NaN      NaN           NaN                NaN             NaN\\n         1325318100      NaN      NaN      NaN      NaN           NaN                NaN             NaN\\n         1325318160      NaN      NaN      NaN      NaN           NaN                NaN             NaN\\n         1325318220      NaN      NaN      NaN      NaN           NaN                NaN             NaN\\n         1325318280      NaN      NaN      NaN      NaN           NaN                NaN             NaN\\n         1325318340      NaN      NaN      NaN      NaN           NaN                NaN             NaN\\n         1325318400      NaN      NaN      NaN      NaN           NaN                NaN             NaN\\n         1325318460      NaN      NaN      NaN      NaN           NaN                NaN             NaN\\n         1325318520      NaN      NaN      NaN      NaN           NaN                NaN             NaN\\n         1325318580      NaN      NaN      NaN      NaN           NaN                NaN             NaN\\n         1325318640      NaN      NaN      NaN      NaN           NaN                NaN             NaN\\n         1325318700      NaN      NaN      NaN      NaN           NaN                NaN             NaN\\n         1325318760      NaN      NaN      NaN      NaN           NaN                NaN             NaN\\n         1325318820      NaN      NaN      NaN      NaN           NaN                NaN             NaN\\n         1325318880      NaN      NaN      NaN      NaN           NaN                NaN             NaN\\n         1325318940      NaN      NaN      NaN      NaN           NaN                NaN             NaN\\n         1325319000      NaN      NaN      NaN      NaN           NaN                NaN             NaN\\n         1325319060      NaN      NaN      NaN      NaN           NaN                NaN             NaN\\n         1325319120      NaN      NaN      NaN      NaN           NaN                NaN             NaN\\n         1325319180      NaN      NaN      NaN      NaN           NaN                NaN             NaN\\n         1325319240      NaN      NaN      NaN      NaN           NaN                NaN             NaN\\n         1325319300      NaN      NaN      NaN      NaN           NaN                NaN             NaN\\n         1325319360      NaN      NaN      NaN      NaN           NaN                NaN             NaN\\n         1325319420      NaN      NaN      NaN      NaN           NaN                NaN             NaN\\n         1325319480      NaN      NaN      NaN      NaN           NaN                NaN             NaN\\n         1325319540      NaN      NaN      NaN      NaN           NaN                NaN             NaN\\n         1325319600      NaN      NaN      NaN      NaN           NaN                NaN             NaN\\n         1325319660      NaN      NaN      NaN      NaN           NaN                NaN             NaN\\n...                      ...      ...      ...      ...           ...                ...             ...\\ncoinbase 1546897020  4011.51  4011.51  4011.50  4011.51      4.800442       19257.017170     4011.508983\\n         1546897080  4011.51  4011.51  4011.50  4011.50      2.564290       10286.657789     4011.503219\\n         1546897140  4011.51  4013.45  4011.50  4013.45     12.323814       49446.144604     4012.243570\\n         1546897200  4013.45  4015.00  4013.44  4015.00     13.981753       56123.805701     4014.075072\\n         1546897260  4015.00  4016.50  4015.00  4015.80      3.749535       15057.021696     4015.703679\\n         1546897320  4015.80  4015.80  4015.79  4015.79      1.856575        7455.632556     4015.799068\\n         1546897380  4015.80  4015.80  4015.79  4015.79      3.935866       15805.631118     4015.794631\\n         1546897440  4015.80  4015.80  4013.18  4014.64     14.744987       59208.462922     4015.497845\\n         1546897500  4014.65  4018.30  4014.64  4018.05     10.469356       42054.587908     4016.922240\\n         1546897560  4018.02  4018.11  4014.70  4014.87      4.673189       18768.274910     4016.160149\\n         1546897620  4014.90  4015.89  4014.90  4015.74      4.222425       16956.060548     4015.716607\\n         1546897680  4015.74  4015.74  4014.64  4014.64      8.378448       33644.339692     4015.581163\\n         1546897740  4014.65  4014.65  4014.64  4014.65      1.846774        7414.138808     4014.643943\\n         1546897800  4014.65  4014.65  4010.96  4012.40      7.349811       29490.133335     4012.366127\\n         1546897860  4012.40  4012.40  4010.04  4010.13      4.909604       19694.778769     4011.479901\\n         1546897920  4011.38  4012.40  4010.44  4010.72      4.804125       19272.037632     4011.560673\\n         1546897980  4010.73  4010.74  4010.00  4010.74     13.043658       52313.110686     4010.616565\\n         1546898040  4010.72  4011.00  4009.95  4010.75      5.149147       20650.628292     4010.495240\\n         1546898100  4010.71  4011.22  4009.67  4010.29      5.688910       22814.904034     4010.417799\\n         1546898160  4010.81  4010.81  4009.54  4009.54      1.307076        5241.132727     4009.813694\\n         1546898220  4009.54  4009.54  4007.00  4007.01      4.540920       18199.978249     4007.993430\\n         1546898280  4007.00  4007.01  4000.24  4003.49      9.452163       37845.755391     4003.925395\\n         1546898340  4003.49  4007.29  4003.49  4006.57     11.838284       47417.543200     4005.440599\\n         1546898400  4006.56  4006.57  4006.56  4006.56      8.475772       33958.700070     4006.561247\\n         1546898460  4006.57  4006.57  4006.00  4006.01      6.951222       27849.509219     4006.419421\\n         1546898520  4006.01  4006.57  4006.00  4006.01      3.382954       13553.433078     4006.390309\\n         1546898580  4006.01  4006.57  4006.00  4006.01      0.902164        3614.083169     4006.017233\\n         1546898640  4006.01  4006.01  4006.00  4006.01      1.192123        4775.647308     4006.003635\\n         1546898700  4006.01  4006.01  4005.50  4005.50      2.699700       10814.241898     4005.719991\\n         1546898760  4005.51  4006.01  4005.51  4005.99      1.752778        7021.183546     4005.745614\\n'"
            ],
            "application/vnd.google.colaboratory.intrinsic+json": {
              "type": "string"
            }
          },
          "metadata": {},
          "execution_count": 250
        }
      ]
    },
    {
      "cell_type": "markdown",
      "source": [
        "\n",
        "\n",
        "## 12. Hierarchy"
      ],
      "metadata": {
        "id": "WDLkZ0waRq6X"
      }
    },
    {
      "cell_type": "code",
      "source": [
        "def hierarchy(df1, df2):\n",
        "  \"\"\"\n",
        "  rearrange the MultiIndex levels such that timestamp is the first level\n",
        "  Concatenate th bitstamp and coinbase tables from timestamps 1417411980 to 1417417980, inclusive\n",
        "  Add keys to the data labeled bitstamp and coinbase respectively\n",
        "  Display the rows in chronological order\n",
        "  \"\"\"\n",
        "  # bitstamp\n",
        "  # 1325317920 -> 1587513600\n",
        "  df1 = df1.set_index(\"Timestamp\")\n",
        "  # coinbase\n",
        "  # 1417411980 -> 1546898760\n",
        "  df2 = df2.set_index(\"Timestamp\")\n",
        "  df = pd.concat([df1.loc[1417411980:1417417981], df2.loc[1417411980:1417417981]], keys=['bitstamp', 'coinbase'], axis=0)\n",
        "  return df.reorder_levels([1, 0], axis=0).sort_index()\n",
        "  \n",
        "\n",
        "\n"
      ],
      "metadata": {
        "id": "vX2Hxk8ARwZZ"
      },
      "execution_count": null,
      "outputs": []
    },
    {
      "cell_type": "code",
      "source": [
        "df1 = from_file(bitstamp, ',')\n",
        "df2 = from_file(coinbase, ',')\n",
        "\n",
        "df = hierarchy(df1, df2)\n",
        "\n",
        "print(df)\n",
        "\n",
        "'''\n",
        "                       Open    High     Low   Close  Volume_(BTC)  Volume_(Currency)  Weighted_Price\n",
        "Timestamp                                                                                           \n",
        "1417411980 bitstamp  379.99  380.00  379.99  380.00      3.901265        1482.461708      379.995162\n",
        "           coinbase  300.00  300.00  300.00  300.00      0.010000           3.000000      300.000000\n",
        "1417412040 bitstamp  380.00  380.00  380.00  380.00     35.249895       13394.959997      380.000000\n",
        "           coinbase     NaN     NaN     NaN     NaN           NaN                NaN             NaN\n",
        "1417412100 bitstamp  380.00  380.00  380.00  380.00      3.712000        1410.560000      380.000000\n",
        "           coinbase     NaN     NaN     NaN     NaN           NaN                NaN             NaN\n",
        "1417412160 bitstamp  379.93  380.00  379.93  380.00     13.451000        5111.297890      379.993896\n",
        "           coinbase     NaN     NaN     NaN     NaN           NaN                NaN             NaN\n",
        "1417412220 bitstamp  380.00  380.00  380.00  380.00      1.693000         643.340000      380.000000\n",
        "           coinbase     NaN     NaN     NaN     NaN           NaN                NaN             NaN\n",
        "1417412280 bitstamp  380.00  380.00  379.99  379.99      1.771000         672.978100      379.998927\n",
        "           coinbase     NaN     NaN     NaN     NaN           NaN                NaN             NaN\n",
        "1417412340 bitstamp  379.93  379.93  379.93  379.93      0.034500          13.107585      379.930000\n",
        "           coinbase     NaN     NaN     NaN     NaN           NaN                NaN             NaN\n",
        "1417412400 bitstamp  379.94  380.15  379.94  380.15     14.967000        5688.020008      380.037416\n",
        "           coinbase  300.00  300.00  300.00  300.00      0.010000           3.000000      300.000000\n",
        "1417412460 bitstamp  379.94  380.15  379.94  380.15      2.433510         924.686531      379.980576\n",
        "           coinbase     NaN     NaN     NaN     NaN           NaN                NaN             NaN\n",
        "1417412520 bitstamp  380.15  380.15  380.15  380.15      0.120000          45.618000      380.150000\n",
        "           coinbase     NaN     NaN     NaN     NaN           NaN                NaN             NaN\n",
        "1417412580 bitstamp  379.98  379.98  379.92  379.92      4.394971        1669.801477      379.934562\n",
        "           coinbase     NaN     NaN     NaN     NaN           NaN                NaN             NaN\n",
        "1417412640 bitstamp     NaN     NaN     NaN     NaN           NaN                NaN             NaN\n",
        "           coinbase     NaN     NaN     NaN     NaN           NaN                NaN             NaN\n",
        "1417412700 bitstamp  379.92  379.92  379.92  379.92      0.014704           5.586477      379.920000\n",
        "           coinbase     NaN     NaN     NaN     NaN           NaN                NaN             NaN\n",
        "1417412760 bitstamp  379.90  379.90  379.24  379.24      2.947739        1119.550546      379.799751\n",
        "           coinbase     NaN     NaN     NaN     NaN           NaN                NaN             NaN\n",
        "1417412820 bitstamp  379.24  379.24  379.24  379.24      2.623738         995.026236      379.240000\n",
        "           coinbase     NaN     NaN     NaN     NaN           NaN                NaN             NaN\n",
        "...                     ...     ...     ...     ...           ...                ...             ...\n",
        "1417417140 bitstamp  380.69  380.70  378.98  380.70      3.693000        1403.340503      380.000136\n",
        "           coinbase     NaN     NaN     NaN     NaN           NaN                NaN             NaN\n",
        "1417417200 bitstamp  380.70  380.70  379.00  380.70      2.159118         820.275987      379.912464\n",
        "           coinbase     NaN     NaN     NaN     NaN           NaN                NaN             NaN\n",
        "1417417260 bitstamp  380.70  380.70  380.70  380.70      1.693000         644.525100      380.700000\n",
        "           coinbase     NaN     NaN     NaN     NaN           NaN                NaN             NaN\n",
        "1417417320 bitstamp  380.69  380.69  380.67  380.67      0.791000         301.119990      380.682668\n",
        "           coinbase     NaN     NaN     NaN     NaN           NaN                NaN             NaN\n",
        "1417417380 bitstamp  380.09  380.09  380.09  380.09      0.190000          72.217100      380.090000\n",
        "           coinbase     NaN     NaN     NaN     NaN           NaN                NaN             NaN\n",
        "1417417440 bitstamp  380.09  380.10  380.09  380.10      1.340000         509.324500      380.092910\n",
        "           coinbase     NaN     NaN     NaN     NaN           NaN                NaN             NaN\n",
        "1417417500 bitstamp  380.10  380.10  379.03  380.10      1.102000         418.763200      380.002904\n",
        "           coinbase     NaN     NaN     NaN     NaN           NaN                NaN             NaN\n",
        "1417417560 bitstamp  380.10  380.10  380.10  380.10      0.501000         190.430100      380.100000\n",
        "           coinbase     NaN     NaN     NaN     NaN           NaN                NaN             NaN\n",
        "1417417620 bitstamp     NaN     NaN     NaN     NaN           NaN                NaN             NaN\n",
        "           coinbase     NaN     NaN     NaN     NaN           NaN                NaN             NaN\n",
        "1417417680 bitstamp  380.08  380.08  380.08  380.08      1.120305         425.805600      380.080000\n",
        "           coinbase     NaN     NaN     NaN     NaN           NaN                NaN             NaN\n",
        "1417417740 bitstamp  379.03  380.06  378.61  380.06      3.237000        1226.650026      378.946564\n",
        "           coinbase     NaN     NaN     NaN     NaN           NaN                NaN             NaN\n",
        "1417417800 bitstamp  380.07  380.10  378.02  380.08     17.092000        6471.461319      378.625165\n",
        "           coinbase     NaN     NaN     NaN     NaN           NaN                NaN             NaN\n",
        "1417417860 bitstamp  378.75  380.09  378.04  380.09      7.523000        2847.248452      378.472478\n",
        "           coinbase     NaN     NaN     NaN     NaN           NaN                NaN             NaN\n",
        "1417417920 bitstamp  380.09  380.10  380.09  380.10      1.503000         571.285290      380.096667\n",
        "           coinbase     NaN     NaN     NaN     NaN           NaN                NaN             NaN\n",
        "1417417980 bitstamp  380.10  380.10  378.85  378.85     26.599796       10079.364182      378.926376\n",
        "           coinbase     NaN     NaN     NaN     NaN           NaN                NaN             NaN\n",
        "\n",
        "[202 rows x 7 columns]\n",
        "'''"
      ],
      "metadata": {
        "id": "HicuUaNARwJx",
        "colab": {
          "base_uri": "https://localhost:8080/",
          "height": 637
        },
        "outputId": "3af9ebc7-f03c-4346-ef0c-8bf300cad7b1"
      },
      "execution_count": null,
      "outputs": [
        {
          "output_type": "stream",
          "name": "stdout",
          "text": [
            "                       Open   High     Low   Close  Volume_(BTC)  \\\n",
            "Timestamp                                                          \n",
            "1417411980 bitstamp  379.99  380.0  379.99  380.00      3.901265   \n",
            "           coinbase  300.00  300.0  300.00  300.00      0.010000   \n",
            "1417412040 bitstamp  380.00  380.0  380.00  380.00     35.249895   \n",
            "           coinbase     NaN    NaN     NaN     NaN           NaN   \n",
            "1417412100 bitstamp  380.00  380.0  380.00  380.00      3.712000   \n",
            "...                     ...    ...     ...     ...           ...   \n",
            "1417417860 coinbase     NaN    NaN     NaN     NaN           NaN   \n",
            "1417417920 bitstamp  380.09  380.1  380.09  380.10      1.503000   \n",
            "           coinbase     NaN    NaN     NaN     NaN           NaN   \n",
            "1417417980 bitstamp  380.10  380.1  378.85  378.85     26.599796   \n",
            "           coinbase     NaN    NaN     NaN     NaN           NaN   \n",
            "\n",
            "                     Volume_(Currency)  Weighted_Price  \n",
            "Timestamp                                               \n",
            "1417411980 bitstamp        1482.461708      379.995162  \n",
            "           coinbase           3.000000      300.000000  \n",
            "1417412040 bitstamp       13394.959997      380.000000  \n",
            "           coinbase                NaN             NaN  \n",
            "1417412100 bitstamp        1410.560000      380.000000  \n",
            "...                                ...             ...  \n",
            "1417417860 coinbase                NaN             NaN  \n",
            "1417417920 bitstamp         571.285290      380.096667  \n",
            "           coinbase                NaN             NaN  \n",
            "1417417980 bitstamp       10079.364182      378.926376  \n",
            "           coinbase                NaN             NaN  \n",
            "\n",
            "[202 rows x 7 columns]\n"
          ]
        },
        {
          "output_type": "execute_result",
          "data": {
            "text/plain": [
              "'\\n                       Open    High     Low   Close  Volume_(BTC)  Volume_(Currency)  Weighted_Price\\nTimestamp                                                                                           \\n1417411980 bitstamp  379.99  380.00  379.99  380.00      3.901265        1482.461708      379.995162\\n           coinbase  300.00  300.00  300.00  300.00      0.010000           3.000000      300.000000\\n1417412040 bitstamp  380.00  380.00  380.00  380.00     35.249895       13394.959997      380.000000\\n           coinbase     NaN     NaN     NaN     NaN           NaN                NaN             NaN\\n1417412100 bitstamp  380.00  380.00  380.00  380.00      3.712000        1410.560000      380.000000\\n           coinbase     NaN     NaN     NaN     NaN           NaN                NaN             NaN\\n1417412160 bitstamp  379.93  380.00  379.93  380.00     13.451000        5111.297890      379.993896\\n           coinbase     NaN     NaN     NaN     NaN           NaN                NaN             NaN\\n1417412220 bitstamp  380.00  380.00  380.00  380.00      1.693000         643.340000      380.000000\\n           coinbase     NaN     NaN     NaN     NaN           NaN                NaN             NaN\\n1417412280 bitstamp  380.00  380.00  379.99  379.99      1.771000         672.978100      379.998927\\n           coinbase     NaN     NaN     NaN     NaN           NaN                NaN             NaN\\n1417412340 bitstamp  379.93  379.93  379.93  379.93      0.034500          13.107585      379.930000\\n           coinbase     NaN     NaN     NaN     NaN           NaN                NaN             NaN\\n1417412400 bitstamp  379.94  380.15  379.94  380.15     14.967000        5688.020008      380.037416\\n           coinbase  300.00  300.00  300.00  300.00      0.010000           3.000000      300.000000\\n1417412460 bitstamp  379.94  380.15  379.94  380.15      2.433510         924.686531      379.980576\\n           coinbase     NaN     NaN     NaN     NaN           NaN                NaN             NaN\\n1417412520 bitstamp  380.15  380.15  380.15  380.15      0.120000          45.618000      380.150000\\n           coinbase     NaN     NaN     NaN     NaN           NaN                NaN             NaN\\n1417412580 bitstamp  379.98  379.98  379.92  379.92      4.394971        1669.801477      379.934562\\n           coinbase     NaN     NaN     NaN     NaN           NaN                NaN             NaN\\n1417412640 bitstamp     NaN     NaN     NaN     NaN           NaN                NaN             NaN\\n           coinbase     NaN     NaN     NaN     NaN           NaN                NaN             NaN\\n1417412700 bitstamp  379.92  379.92  379.92  379.92      0.014704           5.586477      379.920000\\n           coinbase     NaN     NaN     NaN     NaN           NaN                NaN             NaN\\n1417412760 bitstamp  379.90  379.90  379.24  379.24      2.947739        1119.550546      379.799751\\n           coinbase     NaN     NaN     NaN     NaN           NaN                NaN             NaN\\n1417412820 bitstamp  379.24  379.24  379.24  379.24      2.623738         995.026236      379.240000\\n           coinbase     NaN     NaN     NaN     NaN           NaN                NaN             NaN\\n...                     ...     ...     ...     ...           ...                ...             ...\\n1417417140 bitstamp  380.69  380.70  378.98  380.70      3.693000        1403.340503      380.000136\\n           coinbase     NaN     NaN     NaN     NaN           NaN                NaN             NaN\\n1417417200 bitstamp  380.70  380.70  379.00  380.70      2.159118         820.275987      379.912464\\n           coinbase     NaN     NaN     NaN     NaN           NaN                NaN             NaN\\n1417417260 bitstamp  380.70  380.70  380.70  380.70      1.693000         644.525100      380.700000\\n           coinbase     NaN     NaN     NaN     NaN           NaN                NaN             NaN\\n1417417320 bitstamp  380.69  380.69  380.67  380.67      0.791000         301.119990      380.682668\\n           coinbase     NaN     NaN     NaN     NaN           NaN                NaN             NaN\\n1417417380 bitstamp  380.09  380.09  380.09  380.09      0.190000          72.217100      380.090000\\n           coinbase     NaN     NaN     NaN     NaN           NaN                NaN             NaN\\n1417417440 bitstamp  380.09  380.10  380.09  380.10      1.340000         509.324500      380.092910\\n           coinbase     NaN     NaN     NaN     NaN           NaN                NaN             NaN\\n1417417500 bitstamp  380.10  380.10  379.03  380.10      1.102000         418.763200      380.002904\\n           coinbase     NaN     NaN     NaN     NaN           NaN                NaN             NaN\\n1417417560 bitstamp  380.10  380.10  380.10  380.10      0.501000         190.430100      380.100000\\n           coinbase     NaN     NaN     NaN     NaN           NaN                NaN             NaN\\n1417417620 bitstamp     NaN     NaN     NaN     NaN           NaN                NaN             NaN\\n           coinbase     NaN     NaN     NaN     NaN           NaN                NaN             NaN\\n1417417680 bitstamp  380.08  380.08  380.08  380.08      1.120305         425.805600      380.080000\\n           coinbase     NaN     NaN     NaN     NaN           NaN                NaN             NaN\\n1417417740 bitstamp  379.03  380.06  378.61  380.06      3.237000        1226.650026      378.946564\\n           coinbase     NaN     NaN     NaN     NaN           NaN                NaN             NaN\\n1417417800 bitstamp  380.07  380.10  378.02  380.08     17.092000        6471.461319      378.625165\\n           coinbase     NaN     NaN     NaN     NaN           NaN                NaN             NaN\\n1417417860 bitstamp  378.75  380.09  378.04  380.09      7.523000        2847.248452      378.472478\\n           coinbase     NaN     NaN     NaN     NaN           NaN                NaN             NaN\\n1417417920 bitstamp  380.09  380.10  380.09  380.10      1.503000         571.285290      380.096667\\n           coinbase     NaN     NaN     NaN     NaN           NaN                NaN             NaN\\n1417417980 bitstamp  380.10  380.10  378.85  378.85     26.599796       10079.364182      378.926376\\n           coinbase     NaN     NaN     NaN     NaN           NaN                NaN             NaN\\n\\n[202 rows x 7 columns]\\n'"
            ],
            "application/vnd.google.colaboratory.intrinsic+json": {
              "type": "string"
            }
          },
          "metadata": {},
          "execution_count": 23
        }
      ]
    },
    {
      "cell_type": "markdown",
      "source": [
        "## 13. Analyze"
      ],
      "metadata": {
        "id": "51uqZxloRr0M"
      }
    },
    {
      "cell_type": "code",
      "source": [
        "def analyze(df):\n",
        "  \"\"\"calculate descriptive statistics for all columns in pd.DataFrame except Timestamp\"\"\"\n",
        "  df = df.drop(columns='Timestamp')\n",
        "  return df.describe()"
      ],
      "metadata": {
        "id": "zsPIztSZcnPU"
      },
      "execution_count": null,
      "outputs": []
    },
    {
      "cell_type": "code",
      "source": [
        "df = from_file(coinbase, ',')\n",
        "stats = analyze(df)\n",
        "print(stats)\n",
        "\n",
        "'''\n",
        "               Open          High           Low         Close  Volume_(BTC)  Volume_(Currency)  Weighted_Price\n",
        "count  1.990691e+06  1.990691e+06  1.990691e+06  1.990691e+06  1.990691e+06       1.990691e+06    1.990691e+06\n",
        "mean   3.246403e+03  3.247829e+03  3.244856e+03  3.246403e+03  7.849139e+00       3.600157e+04    3.246341e+03\n",
        "std    3.799154e+03  3.801394e+03  3.796761e+03  3.799150e+03  1.873222e+01       1.401879e+05    3.799078e+03\n",
        "min    6.000000e-02  6.000000e-02  6.000000e-02  6.000000e-02  1.000000e-08       2.641700e-06    6.000000e-02\n",
        "25%    4.195800e+02  4.196400e+02  4.195000e+02  4.195700e+02  9.024000e-01       6.440031e+02    4.195645e+02\n",
        "50%    1.014580e+03  1.014890e+03  1.014150e+03  1.014530e+03  2.692900e+00       3.695642e+03    1.014512e+03\n",
        "75%    6.322630e+03  6.324010e+03  6.321090e+03  6.322670e+03  7.600965e+00       1.972392e+04    6.322550e+03\n",
        "max    1.989199e+04  1.989199e+04  1.989198e+04  1.989199e+04  1.563267e+03       1.997076e+07    1.989199e+04\n",
        "$\n",
        "'''"
      ],
      "metadata": {
        "id": "5ACmizU9R0Hu",
        "colab": {
          "base_uri": "https://localhost:8080/",
          "height": 488
        },
        "outputId": "e38ae86a-569f-4c50-d7d7-302e51ae6bc1"
      },
      "execution_count": null,
      "outputs": [
        {
          "output_type": "stream",
          "name": "stdout",
          "text": [
            "               Open          High           Low         Close  Volume_(BTC)  \\\n",
            "count  1.990691e+06  1.990691e+06  1.990691e+06  1.990691e+06  1.990691e+06   \n",
            "mean   3.246403e+03  3.247829e+03  3.244856e+03  3.246403e+03  7.849139e+00   \n",
            "std    3.799154e+03  3.801394e+03  3.796761e+03  3.799150e+03  1.873222e+01   \n",
            "min    6.000000e-02  6.000000e-02  6.000000e-02  6.000000e-02  1.000000e-08   \n",
            "25%    4.195800e+02  4.196400e+02  4.195000e+02  4.195700e+02  9.024000e-01   \n",
            "50%    1.014580e+03  1.014890e+03  1.014150e+03  1.014530e+03  2.692900e+00   \n",
            "75%    6.322630e+03  6.324010e+03  6.321090e+03  6.322670e+03  7.600965e+00   \n",
            "max    1.989199e+04  1.989199e+04  1.989198e+04  1.989199e+04  1.563267e+03   \n",
            "\n",
            "       Volume_(Currency)  Weighted_Price  \n",
            "count       1.990691e+06    1.990691e+06  \n",
            "mean        3.600157e+04    3.246341e+03  \n",
            "std         1.401879e+05    3.799078e+03  \n",
            "min         2.641700e-06    6.000000e-02  \n",
            "25%         6.440031e+02    4.195645e+02  \n",
            "50%         3.695642e+03    1.014512e+03  \n",
            "75%         1.972392e+04    6.322550e+03  \n",
            "max         1.997076e+07    1.989199e+04  \n"
          ]
        },
        {
          "output_type": "execute_result",
          "data": {
            "text/plain": [
              "'\\n               Open          High           Low         Close  Volume_(BTC)  Volume_(Currency)  Weighted_Price\\ncount  1.990691e+06  1.990691e+06  1.990691e+06  1.990691e+06  1.990691e+06       1.990691e+06    1.990691e+06\\nmean   3.246403e+03  3.247829e+03  3.244856e+03  3.246403e+03  7.849139e+00       3.600157e+04    3.246341e+03\\nstd    3.799154e+03  3.801394e+03  3.796761e+03  3.799150e+03  1.873222e+01       1.401879e+05    3.799078e+03\\nmin    6.000000e-02  6.000000e-02  6.000000e-02  6.000000e-02  1.000000e-08       2.641700e-06    6.000000e-02\\n25%    4.195800e+02  4.196400e+02  4.195000e+02  4.195700e+02  9.024000e-01       6.440031e+02    4.195645e+02\\n50%    1.014580e+03  1.014890e+03  1.014150e+03  1.014530e+03  2.692900e+00       3.695642e+03    1.014512e+03\\n75%    6.322630e+03  6.324010e+03  6.321090e+03  6.322670e+03  7.600965e+00       1.972392e+04    6.322550e+03\\nmax    1.989199e+04  1.989199e+04  1.989198e+04  1.989199e+04  1.563267e+03       1.997076e+07    1.989199e+04\\n$\\n'"
            ],
            "application/vnd.google.colaboratory.intrinsic+json": {
              "type": "string"
            }
          },
          "metadata": {},
          "execution_count": 33
        }
      ]
    },
    {
      "cell_type": "markdown",
      "source": [
        "## 14. Visualize"
      ],
      "metadata": {
        "id": "x31GUe7RRspA"
      }
    },
    {
      "cell_type": "code",
      "source": [
        "def visualize(df2):\n",
        "  \"\"\"\n",
        "  Plot the data from 2017 and beyond at daily intervals\n",
        "  The column Weighted_Price should be removed\n",
        "  Rename the column Timestamp to Date\n",
        "  Convert the timestamp values to date values\n",
        "  Index the data frame on Date\n",
        "  Missing values in High, Low, Open, and Close should be set to the previous row’s Close value\n",
        "  Missing values in Volume_(BTC) and Volume_(Currency) should be set to 0\n",
        "  \"\"\"\n",
        "  df2 = df2[df2['Timestamp'] > 1483250400]\n",
        "  df2 = df2[::1440]\n",
        "  df2 = df2.drop(columns = \"Weighted_Price\")\n",
        "  df2 = df2.rename(columns={\"Timestamp\": \"Date\"})\n",
        "  df2['Date'] = pd.to_datetime(df2['Date'], unit='s').dt.date\n",
        "  df2 = df2.set_index(\"Date\")\n",
        "  df2['Close'] = df2['Close'].fillna(method=\"ffill\")\n",
        "  df2 = df2.fillna(value={\"High\":df['Close'], \"Low\":df['Close'], \"Open\":df['Close'], \"Volume_(Currency)\":0, \"Volume_(BTC)\":0})\n",
        "  df2.plot() "
      ],
      "metadata": {
        "id": "6UPmxwI8R2HB"
      },
      "execution_count": null,
      "outputs": []
    },
    {
      "cell_type": "code",
      "source": [
        "# from datetime import date\n",
        "# import matplotlib.pyplot as plt\n",
        "\n",
        "df = from_file(coinbase, ',')\n",
        "visualize(df)"
      ],
      "metadata": {
        "id": "zKaF-m04R2qe",
        "colab": {
          "base_uri": "https://localhost:8080/",
          "height": 311
        },
        "outputId": "ec44e5fe-611b-4d27-90cd-c13340bdb4f5"
      },
      "execution_count": null,
      "outputs": [
        {
          "output_type": "display_data",
          "data": {
            "text/plain": [
              "<Figure size 432x288 with 1 Axes>"
            ],
            "image/png": "[encoded data removed]"
          },
          "metadata": {
            "needs_background": "light"
          }
        }
      ]
    }
  ]
}