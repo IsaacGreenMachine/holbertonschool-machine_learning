{
  "nbformat": 4,
  "nbformat_minor": 0,
  "metadata": {
    "colab": {
      "provenance": []
    },
    "kernelspec": {
      "name": "python3",
      "display_name": "Python 3"
    },
    "language_info": {
      "name": "python"
    }
  },
  "cells": [
    {
      "cell_type": "code",
      "source": [
        "!pip install gym[atari,accept-rom-license]==0.21.0\n",
        "!pip install imageio==2.4.1\n",
        "!apt-get install -y xvfb python-opengl ffmpeg > /dev/null 2>&1\n",
        "!pip install -U colabgymrender"
      ],
      "metadata": {
        "colab": {
          "base_uri": "https://localhost:8080/"
        },
        "id": "9gygOSjzutHP",
        "outputId": "77bbec18-d91a-4629-9d89-3206f6109f98"
      },
      "execution_count": null,
      "outputs": [
        {
          "output_type": "stream",
          "name": "stdout",
          "text": [
            "Looking in indexes: https://pypi.org/simple, https://us-python.pkg.dev/colab-wheels/public/simple/\n",
            "Requirement already satisfied: gym[accept-rom-license,atari]==0.21.0 in /usr/local/lib/python3.7/dist-packages (0.21.0)\n",
            "Requirement already satisfied: cloudpickle>=1.2.0 in /usr/local/lib/python3.7/dist-packages (from gym[accept-rom-license,atari]==0.21.0) (1.5.0)\n",
            "Requirement already satisfied: importlib-metadata>=4.8.1 in /usr/local/lib/python3.7/dist-packages (from gym[accept-rom-license,atari]==0.21.0) (4.12.0)\n",
            "Requirement already satisfied: numpy>=1.18.0 in /usr/local/lib/python3.7/dist-packages (from gym[accept-rom-license,atari]==0.21.0) (1.21.6)\n",
            "Requirement already satisfied: autorom[accept-rom-license]~=0.4.2 in /usr/local/lib/python3.7/dist-packages (from gym[accept-rom-license,atari]==0.21.0) (0.4.2)\n",
            "Requirement already satisfied: ale-py~=0.7.1 in /usr/local/lib/python3.7/dist-packages (from gym[accept-rom-license,atari]==0.21.0) (0.7.5)\n",
            "Requirement already satisfied: importlib-resources in /usr/local/lib/python3.7/dist-packages (from ale-py~=0.7.1->gym[accept-rom-license,atari]==0.21.0) (5.9.0)\n",
            "Requirement already satisfied: click in /usr/local/lib/python3.7/dist-packages (from autorom[accept-rom-license]~=0.4.2->gym[accept-rom-license,atari]==0.21.0) (7.1.2)\n",
            "Requirement already satisfied: tqdm in /usr/local/lib/python3.7/dist-packages (from autorom[accept-rom-license]~=0.4.2->gym[accept-rom-license,atari]==0.21.0) (4.64.1)\n",
            "Requirement already satisfied: requests in /usr/local/lib/python3.7/dist-packages (from autorom[accept-rom-license]~=0.4.2->gym[accept-rom-license,atari]==0.21.0) (2.23.0)\n",
            "Requirement already satisfied: AutoROM.accept-rom-license in /usr/local/lib/python3.7/dist-packages (from autorom[accept-rom-license]~=0.4.2->gym[accept-rom-license,atari]==0.21.0) (0.4.2)\n",
            "Requirement already satisfied: typing-extensions>=3.6.4 in /usr/local/lib/python3.7/dist-packages (from importlib-metadata>=4.8.1->gym[accept-rom-license,atari]==0.21.0) (4.1.1)\n",
            "Requirement already satisfied: zipp>=0.5 in /usr/local/lib/python3.7/dist-packages (from importlib-metadata>=4.8.1->gym[accept-rom-license,atari]==0.21.0) (3.8.1)\n",
            "Requirement already satisfied: chardet<4,>=3.0.2 in /usr/local/lib/python3.7/dist-packages (from requests->autorom[accept-rom-license]~=0.4.2->gym[accept-rom-license,atari]==0.21.0) (3.0.4)\n",
            "Requirement already satisfied: urllib3!=1.25.0,!=1.25.1,<1.26,>=1.21.1 in /usr/local/lib/python3.7/dist-packages (from requests->autorom[accept-rom-license]~=0.4.2->gym[accept-rom-license,atari]==0.21.0) (1.24.3)\n",
            "Requirement already satisfied: idna<3,>=2.5 in /usr/local/lib/python3.7/dist-packages (from requests->autorom[accept-rom-license]~=0.4.2->gym[accept-rom-license,atari]==0.21.0) (2.10)\n",
            "Requirement already satisfied: certifi>=2017.4.17 in /usr/local/lib/python3.7/dist-packages (from requests->autorom[accept-rom-license]~=0.4.2->gym[accept-rom-license,atari]==0.21.0) (2022.6.15)\n",
            "Looking in indexes: https://pypi.org/simple, https://us-python.pkg.dev/colab-wheels/public/simple/\n",
            "Requirement already satisfied: imageio==2.4.1 in /usr/local/lib/python3.7/dist-packages (2.4.1)\n",
            "Requirement already satisfied: numpy in /usr/local/lib/python3.7/dist-packages (from imageio==2.4.1) (1.21.6)\n",
            "Requirement already satisfied: pillow in /usr/local/lib/python3.7/dist-packages (from imageio==2.4.1) (7.1.2)\n",
            "Looking in indexes: https://pypi.org/simple, https://us-python.pkg.dev/colab-wheels/public/simple/\n",
            "Requirement already satisfied: colabgymrender in /usr/local/lib/python3.7/dist-packages (1.1.0)\n",
            "Requirement already satisfied: moviepy in /usr/local/lib/python3.7/dist-packages (from colabgymrender) (0.2.3.5)\n",
            "Requirement already satisfied: imageio<3.0,>=2.1.2 in /usr/local/lib/python3.7/dist-packages (from moviepy->colabgymrender) (2.4.1)\n",
            "Requirement already satisfied: numpy in /usr/local/lib/python3.7/dist-packages (from moviepy->colabgymrender) (1.21.6)\n",
            "Requirement already satisfied: decorator<5.0,>=4.0.2 in /usr/local/lib/python3.7/dist-packages (from moviepy->colabgymrender) (4.4.2)\n",
            "Requirement already satisfied: tqdm<5.0,>=4.11.2 in /usr/local/lib/python3.7/dist-packages (from moviepy->colabgymrender) (4.64.1)\n",
            "Requirement already satisfied: pillow in /usr/local/lib/python3.7/dist-packages (from imageio<3.0,>=2.1.2->moviepy->colabgymrender) (7.1.2)\n"
          ]
        }
      ]
    },
    {
      "cell_type": "code",
      "source": [
        "import gym\n",
        "import numpy as np\n",
        "from colabgymrender.recorder import Recorder"
      ],
      "metadata": {
        "colab": {
          "base_uri": "https://localhost:8080/"
        },
        "id": "ELD7LDVoR-Z1",
        "outputId": "4c8904bc-f500-422a-86b4-eb92b1687237"
      },
      "execution_count": null,
      "outputs": [
        {
          "output_type": "stream",
          "name": "stdout",
          "text": [
            "pygame 2.1.0 (SDL 2.0.16, Python 3.7.14)\n",
            "Hello from the pygame community. https://www.pygame.org/contribute.html\n"
          ]
        }
      ]
    },
    {
      "cell_type": "markdown",
      "source": [
        "## 0. Load the Environment"
      ],
      "metadata": {
        "id": "PYd4Ru2pNZGM"
      }
    },
    {
      "cell_type": "code",
      "source": [
        "def load_frozen_lake(desc=None, map_name=None, is_slippery=False):\n",
        "    \"\"\"\n",
        "    loads the pre-made FrozenLakeEnv evnironment from OpenAI’s gym:\n",
        "\n",
        "    desc - None or a list of lists containing a custom description of the map to load for the environment\n",
        "    map_name - None or a string containing the pre-made map to load\n",
        "    \n",
        "    **If both desc and map_name are None, the environment will load a randomly generated 8x8 map\n",
        "\n",
        "    is_slippery - boolean to determine if the ice is slippery\n",
        "    \n",
        "    Returns: the environment\n",
        "    \"\"\"\n",
        "    if desc == None and map_name == None:\n",
        "        env = gym.make('FrozenLake-v1', desc=generate_random_map(), is_slippery=is_slippery)    \n",
        "    else:\n",
        "        env = gym.make('FrozenLake-v1', desc=desc, map_name=map_name, is_slippery=is_slippery)\n",
        "    return env\n",
        "\n",
        "def generate_random_map(size=8, p=0.8):\n",
        "    \"\"\"Generates a random valid map (one that has a path from start to goal)\n",
        "    Args:\n",
        "        size: size of each side of the grid\n",
        "        p: probability that a tile is frozen\n",
        "    Returns:\n",
        "        A random valid map\n",
        "    \"\"\"\n",
        "    valid = False\n",
        "    board = []  # initialize to make pyright happy\n",
        "\n",
        "    while not valid:\n",
        "        p = min(1, p)\n",
        "        board = np.random.choice([\"F\", \"H\"], (size, size), p=[p, 1 - p])\n",
        "        board[0][0] = \"S\"\n",
        "        board[-1][-1] = \"G\"\n",
        "        valid = is_valid(board, size)\n",
        "    return [\"\".join(x) for x in board]\n",
        "\n",
        "def is_valid(board, max_size):\n",
        "    \"\"\"\n",
        "    ensures a generated random board is valid\n",
        "    \"\"\"\n",
        "    frontier, discovered = [], set()\n",
        "    frontier.append((0, 0))\n",
        "    while frontier:\n",
        "        r, c = frontier.pop()\n",
        "        if not (r, c) in discovered:\n",
        "            discovered.add((r, c))\n",
        "            directions = [(1, 0), (0, 1), (-1, 0), (0, -1)]\n",
        "            for x, y in directions:\n",
        "                r_new = r + x\n",
        "                c_new = c + y\n",
        "                if r_new < 0 or r_new >= max_size or c_new < 0 or c_new >= max_size:\n",
        "                    continue\n",
        "                if board[r_new][c_new] == \"G\":\n",
        "                    return True\n",
        "                if board[r_new][c_new] != \"H\":\n",
        "                    frontier.append((r_new, c_new))\n",
        "    return False"
      ],
      "metadata": {
        "id": "VS9BoOXgNgoH"
      },
      "execution_count": null,
      "outputs": []
    },
    {
      "cell_type": "code",
      "source": [
        "np.random.seed(0)\n",
        "env = load_frozen_lake()\n",
        "print(env.desc)\n",
        "print(env.P[0][0])\n",
        "env = load_frozen_lake(is_slippery=True)\n",
        "print(env.desc)\n",
        "print(env.P[0][0])\n",
        "desc = [['S', 'F', 'F'], ['F', 'H', 'H'], ['F', 'F', 'G']]\n",
        "env = load_frozen_lake(desc=desc)\n",
        "print(env.desc)\n",
        "env = load_frozen_lake(map_name='4x4')\n",
        "print(env.desc)"
      ],
      "metadata": {
        "colab": {
          "base_uri": "https://localhost:8080/"
        },
        "id": "nJ9jG6LONaN9",
        "outputId": "1be765f2-b078-480a-9dd9-44b352e7fcc5"
      },
      "execution_count": null,
      "outputs": [
        {
          "output_type": "stream",
          "name": "stdout",
          "text": [
            "[[b'S' b'F' b'F' b'F' b'F' b'F' b'F' b'H']\n",
            " [b'H' b'F' b'F' b'F' b'F' b'H' b'F' b'F']\n",
            " [b'F' b'H' b'F' b'H' b'H' b'F' b'F' b'F']\n",
            " [b'F' b'F' b'F' b'H' b'F' b'F' b'F' b'F']\n",
            " [b'F' b'F' b'F' b'F' b'F' b'F' b'H' b'F']\n",
            " [b'F' b'F' b'F' b'F' b'F' b'F' b'F' b'F']\n",
            " [b'F' b'F' b'F' b'F' b'H' b'F' b'F' b'F']\n",
            " [b'F' b'F' b'F' b'F' b'F' b'F' b'F' b'G']]\n",
            "[(1.0, 0, 0.0, False)]\n",
            "[[b'S' b'F' b'H' b'F' b'H' b'F' b'H' b'F']\n",
            " [b'H' b'F' b'F' b'F' b'F' b'F' b'F' b'F']\n",
            " [b'F' b'F' b'F' b'F' b'F' b'F' b'F' b'F']\n",
            " [b'F' b'H' b'F' b'F' b'F' b'F' b'F' b'F']\n",
            " [b'F' b'F' b'H' b'F' b'F' b'F' b'F' b'H']\n",
            " [b'F' b'F' b'F' b'F' b'F' b'H' b'F' b'H']\n",
            " [b'F' b'F' b'H' b'F' b'H' b'F' b'H' b'F']\n",
            " [b'F' b'F' b'H' b'F' b'F' b'F' b'F' b'G']]\n",
            "[(0.3333333333333333, 0, 0.0, False), (0.3333333333333333, 0, 0.0, False), (0.3333333333333333, 8, 0.0, True)]\n",
            "[[b'S' b'F' b'F']\n",
            " [b'F' b'H' b'H']\n",
            " [b'F' b'F' b'G']]\n",
            "[[b'S' b'F' b'F' b'F']\n",
            " [b'F' b'H' b'F' b'H']\n",
            " [b'F' b'F' b'F' b'H']\n",
            " [b'H' b'F' b'F' b'G']]\n"
          ]
        }
      ]
    },
    {
      "cell_type": "code",
      "source": [
        "'''\n",
        "[[b'S' b'F' b'F' b'F' b'F' b'F' b'F' b'H']\n",
        " [b'H' b'F' b'F' b'F' b'F' b'H' b'F' b'F']\n",
        " [b'F' b'H' b'F' b'H' b'H' b'F' b'F' b'F']\n",
        " [b'F' b'F' b'F' b'H' b'F' b'F' b'F' b'F']\n",
        " [b'F' b'F' b'F' b'F' b'F' b'F' b'H' b'F']\n",
        " [b'F' b'F' b'F' b'F' b'F' b'F' b'F' b'F']\n",
        " [b'F' b'F' b'F' b'F' b'H' b'F' b'F' b'F']\n",
        " [b'F' b'F' b'F' b'F' b'F' b'F' b'F' b'G']]\n",
        "[(1.0, 0, 0.0, False)]\n",
        "[[b'S' b'F' b'H' b'F' b'H' b'F' b'H' b'F']\n",
        " [b'H' b'F' b'F' b'F' b'F' b'F' b'F' b'F']\n",
        " [b'F' b'F' b'F' b'F' b'F' b'F' b'F' b'F']\n",
        " [b'F' b'H' b'F' b'F' b'F' b'F' b'F' b'F']\n",
        " [b'F' b'F' b'H' b'F' b'F' b'F' b'F' b'H']\n",
        " [b'F' b'F' b'F' b'F' b'F' b'H' b'F' b'H']\n",
        " [b'F' b'F' b'H' b'F' b'H' b'F' b'H' b'F']\n",
        " [b'F' b'F' b'H' b'F' b'F' b'F' b'F' b'G']]\n",
        "[(0.3333333333333333, 0, 0.0, False), (0.3333333333333333, 0, 0.0, False), (0.3333333333333333, 8, 0.0, True)]\n",
        "[[b'S' b'F' b'F']\n",
        " [b'F' b'H' b'H']\n",
        " [b'F' b'F' b'G']]\n",
        "[[b'S' b'F' b'F' b'F']\n",
        " [b'F' b'H' b'F' b'H']\n",
        " [b'F' b'F' b'F' b'H']\n",
        " [b'H' b'F' b'F' b'G']]\n",
        "'''"
      ],
      "metadata": {
        "id": "e8eAYxa4S20g"
      },
      "execution_count": null,
      "outputs": []
    },
    {
      "cell_type": "markdown",
      "source": [
        "## 1. Initialize Q-table"
      ],
      "metadata": {
        "id": "_q0lFec9NVFC"
      }
    },
    {
      "cell_type": "code",
      "source": [
        "def q_init(env):\n",
        "    \"\"\"\n",
        "    initializes the Q-table:\n",
        "    env is the FrozenLakeEnv instance\n",
        "    Returns: the Q-table as a numpy.ndarray of zeros\n",
        "    \"\"\"\n",
        "    return np.zeros((env.observation_space.n, env.action_space.n))"
      ],
      "metadata": {
        "id": "IcZ85_89NWMy"
      },
      "execution_count": null,
      "outputs": []
    },
    {
      "cell_type": "code",
      "source": [
        "env = load_frozen_lake()\n",
        "Q = q_init(env)\n",
        "print(Q.shape)\n",
        "env = load_frozen_lake(is_slippery=True)\n",
        "Q = q_init(env)\n",
        "print(Q.shape)\n",
        "desc = [['S', 'F', 'F'], ['F', 'H', 'H'], ['F', 'F', 'G']]\n",
        "env = load_frozen_lake(desc=desc)\n",
        "Q = q_init(env)\n",
        "print(Q.shape)\n",
        "env = load_frozen_lake(map_name='4x4')\n",
        "Q = q_init(env)\n",
        "print(Q.shape)\n",
        "\n",
        "'''\n",
        "(64, 4)\n",
        "(64, 4)\n",
        "(9, 4)\n",
        "(16, 4)\n",
        "'''\n"
      ],
      "metadata": {
        "colab": {
          "base_uri": "https://localhost:8080/",
          "height": 105
        },
        "id": "I7g1bKd_RHA-",
        "outputId": "1e342bd2-e960-413e-e387-fd166626666e"
      },
      "execution_count": null,
      "outputs": [
        {
          "output_type": "stream",
          "name": "stdout",
          "text": [
            "(64, 4)\n",
            "(64, 4)\n",
            "(9, 4)\n",
            "(16, 4)\n"
          ]
        },
        {
          "output_type": "execute_result",
          "data": {
            "text/plain": [
              "'\\n(64, 4)\\n(64, 4)\\n(9, 4)\\n(16, 4)\\n'"
            ],
            "application/vnd.google.colaboratory.intrinsic+json": {
              "type": "string"
            }
          },
          "metadata": {},
          "execution_count": 37
        }
      ]
    },
    {
      "cell_type": "markdown",
      "source": [
        "## 2. Epsilon Greedy"
      ],
      "metadata": {
        "id": "af2Pjxh4_2jA"
      }
    },
    {
      "cell_type": "code",
      "source": [
        "def epsilon_greedy(Q, state, epsilon):\n",
        "    \"\"\"\n",
        "    uses epsilon-greedy to determine the next action:\n",
        "    \n",
        "    Q - numpy.ndarray containing the q-table\n",
        "    state - the current state = current_row * nrows + current_col (where both the row and col start at 0).\n",
        "    epsilon - the epsilon to use for the calculation\n",
        "    \n",
        "    samples p with numpy.random.uniformn to determine if agent should explore or exploit\n",
        "    If exploring, picks the next action with numpy.random.randint from all possible actions\n",
        "    \n",
        "    Returns: the next action index\n",
        "    \"\"\"\n",
        "    # print(\"Q\", Q, \"state\", state, \"epsilon\", epsilon)\n",
        "    rnd = np.random.rand()\n",
        "    if rnd > epsilon:\n",
        "      # gets best action index from each row, then chooses based on current column\n",
        "      return np.argmax(Q, axis=1)[state % Q.shape[0]]\n",
        "    else: \n",
        "      return np.random.randint(0, Q.shape[1])\n"
      ],
      "metadata": {
        "id": "-6IoDNGV_1AF"
      },
      "execution_count": null,
      "outputs": []
    },
    {
      "cell_type": "code",
      "source": [
        "desc = [['S', 'F', 'F'], ['F', 'H', 'H'], ['F', 'F', 'G']]\n",
        "env = load_frozen_lake(desc=desc)\n",
        "Q = q_init(env)\n",
        "Q[7] = np.array([0.5, 0.7, 1, -1])\n",
        "np.random.seed(0)\n",
        "print(epsilon_greedy(Q, 7, 0.5))\n",
        "np.random.seed(1)\n",
        "print(epsilon_greedy(Q, 7, 0.5))\n",
        "\n",
        "# 2\n",
        "# 0"
      ],
      "metadata": {
        "colab": {
          "base_uri": "https://localhost:8080/"
        },
        "id": "RBenaRkS_05C",
        "outputId": "a61560f0-5eab-46a0-da61-8ed1002baac6"
      },
      "execution_count": null,
      "outputs": [
        {
          "output_type": "stream",
          "name": "stdout",
          "text": [
            "2\n",
            "0\n"
          ]
        }
      ]
    },
    {
      "cell_type": "markdown",
      "source": [
        "## 3. Q-learning"
      ],
      "metadata": {
        "id": "PqghOWaWHCC0"
      }
    },
    {
      "cell_type": "code",
      "source": [
        "def train(env, Q, episodes=5000, max_steps=100, alpha=0.1, gamma=0.99, epsilon=1, min_epsilon=0.1, epsilon_decay=0.05):\n",
        "    \"\"\"\n",
        "    performs Q-learning:\n",
        "\n",
        "    env is the FrozenLakeEnv instance\n",
        "    Q is a numpy.ndarray containing the Q-table\n",
        "    episodes is the total number of episodes to train over\n",
        "    max_steps is the maximum number of steps per episode\n",
        "    alpha is the learning rate\n",
        "    gamma is the discount rate\n",
        "    epsilon is the initial threshold for epsilon greedy\n",
        "    min_epsilon is the minimum value that epsilon should decay to\n",
        "    epsilon_decay is the decay rate for updating epsilon between episodes\n",
        "    When the agent falls in a hole, the reward should be updated to be -1\n",
        "    Returns: Q, total_rewards\n",
        "        Q is the updated Q-table\n",
        "        total_rewards is a list containing the rewards per episode\n",
        "    \"\"\"\n",
        "    total_rewards = []\n",
        "    for episode in range(episodes):\n",
        "        state = env.reset()\n",
        "        rewards_current_episode = 0\n",
        "\n",
        "        for step in range(max_steps):\n",
        "            action = epsilon_greedy(Q, state, epsilon)\n",
        "            new_state, reward, done, info = env.step(action)\n",
        "\n",
        "            # Update Q-table for Q(s, a) using Belman equation\n",
        "            Q[state, action] = Q[state, action] * (1 - alpha) + alpha * (reward + gamma * np.max(Q[new_state, :]))\n",
        "\n",
        "            state = new_state\n",
        "            rewards_current_episode += reward\n",
        "\n",
        "            if done == True:\n",
        "                break\n",
        "\n",
        "            \n",
        "        epsilon = min_epsilon + (1 - min_epsilon) * np.exp(-epsilon_decay*episode)\n",
        "        total_rewards.append(rewards_current_episode)\n",
        "    return Q, total_rewards\n",
        "        \n",
        "        \n",
        "        "
      ],
      "metadata": {
        "id": "6J0tj5W8HCWR"
      },
      "execution_count": null,
      "outputs": []
    },
    {
      "cell_type": "code",
      "source": [
        "np.random.seed(0)\n",
        "desc = [['S', 'F', 'F'], ['F', 'H', 'H'], ['F', 'F', 'G']]\n",
        "env = load_frozen_lake(desc=desc)\n",
        "Q = q_init(env)\n",
        "\n",
        "Q, total_rewards  = train(env, Q)\n",
        "print(Q)\n",
        "split_rewards = np.split(np.array(total_rewards), 10)\n",
        "for i, rewards in enumerate(split_rewards):\n",
        "    print((i+1) * 500, ':', np.mean(rewards))"
      ],
      "metadata": {
        "colab": {
          "base_uri": "https://localhost:8080/"
        },
        "id": "WN5zcSWqHX6s",
        "outputId": "77769983-7a09-49fc-f83a-7d6d02e30839"
      },
      "execution_count": null,
      "outputs": [
        {
          "output_type": "stream",
          "name": "stdout",
          "text": [
            "[[0.96059593 0.970299   0.95098488 0.96059396]\n",
            " [0.96059557 0.         0.0094072  0.37627228]\n",
            " [0.18061285 0.         0.         0.        ]\n",
            " [0.97029877 0.9801     0.         0.96059583]\n",
            " [0.         0.         0.         0.        ]\n",
            " [0.         0.         0.         0.        ]\n",
            " [0.98009763 0.98009933 0.99       0.9702983 ]\n",
            " [0.98009922 0.98999782 1.         0.        ]\n",
            " [0.         0.         0.         0.        ]]\n",
            "500 : 0.906\n",
            "1000 : 0.94\n",
            "1500 : 0.95\n",
            "2000 : 0.95\n",
            "2500 : 0.94\n",
            "3000 : 0.922\n",
            "3500 : 0.946\n",
            "4000 : 0.948\n",
            "4500 : 0.926\n",
            "5000 : 0.964\n"
          ]
        }
      ]
    },
    {
      "cell_type": "code",
      "source": [
        "'''\n",
        "[[ 0.96059593  0.970299    0.95098488  0.96059396]\n",
        " [ 0.96059557 -0.77123208  0.0094072   0.37627228]\n",
        " [ 0.18061285 -0.1         0.          0.        ]\n",
        " [ 0.97029877  0.9801     -0.99999988  0.96059583]\n",
        " [ 0.          0.          0.          0.        ]\n",
        " [ 0.          0.          0.          0.        ]\n",
        " [ 0.98009763  0.98009933  0.99        0.9702983 ]\n",
        " [ 0.98009922  0.98999782  1.         -0.99999952]\n",
        " [ 0.          0.          0.          0.        ]]\n",
        "500 : 0.812\n",
        "1000 : 0.88\n",
        "1500 : 0.9\n",
        "2000 : 0.9\n",
        "2500 : 0.88\n",
        "3000 : 0.844\n",
        "3500 : 0.892\n",
        "4000 : 0.896\n",
        "4500 : 0.852\n",
        "5000 : 0.928\n",
        "'''"
      ],
      "metadata": {
        "id": "xR6nBvucHdU6"
      },
      "execution_count": null,
      "outputs": []
    },
    {
      "cell_type": "markdown",
      "source": [
        "## 4. Play"
      ],
      "metadata": {
        "id": "BkZMPOx0Qqdk"
      }
    },
    {
      "cell_type": "code",
      "source": [
        "def play(env, Q, max_steps=100):\n",
        "    \"\"\"\n",
        "    has a trained agent play an episode:\n",
        "\n",
        "    env is the FrozenLakeEnv instance\n",
        "    Q is a numpy.ndarray containing the Q-table\n",
        "    max_steps is the maximum number of steps in the episode\n",
        "    Each state of the board should be displayed via the console\n",
        "    You should always exploit the Q-table\n",
        "    Returns: the total rewards for the episode\n",
        "    \"\"\"\n",
        "    total_reward = 0\n",
        "    state = env.reset()\n",
        "    env.render()\n",
        "    for step in range(max_steps):\n",
        "      action = np.argmax(Q[state])\n",
        "      state, reward, done, info = env.step(action)\n",
        "      total_reward += reward\n",
        "      env.render()\n",
        "      if done == True:\n",
        "        break\n",
        "    return total_reward\n"
      ],
      "metadata": {
        "id": "OjsJXb0KQsd-"
      },
      "execution_count": null,
      "outputs": []
    },
    {
      "cell_type": "markdown",
      "source": [
        "Print:"
      ],
      "metadata": {
        "id": "bMBybYaMRpXg"
      }
    },
    {
      "cell_type": "code",
      "source": [
        "np.random.seed(0)\n",
        "desc = [['S', 'F', 'F'], ['F', 'H', 'H'], ['F', 'F', 'G']]\n",
        "env = load_frozen_lake(desc=desc)\n",
        "Q = q_init(env)\n",
        "\n",
        "Q, total_rewards  = train(env, Q)\n",
        "print(play(env, Q))"
      ],
      "metadata": {
        "colab": {
          "base_uri": "https://localhost:8080/"
        },
        "id": "OSReLepFQstl",
        "outputId": "b8b7925f-4bd3-4e42-c55f-f02a129afa60"
      },
      "execution_count": null,
      "outputs": [
        {
          "output_type": "stream",
          "name": "stdout",
          "text": [
            "\n",
            "\u001b[41mS\u001b[0mFF\n",
            "FHH\n",
            "FFG\n",
            "  (Down)\n",
            "SFF\n",
            "\u001b[41mF\u001b[0mHH\n",
            "FFG\n",
            "  (Down)\n",
            "SFF\n",
            "FHH\n",
            "\u001b[41mF\u001b[0mFG\n",
            "  (Right)\n",
            "SFF\n",
            "FHH\n",
            "F\u001b[41mF\u001b[0mG\n",
            "  (Right)\n",
            "SFF\n",
            "FHH\n",
            "FF\u001b[41mG\u001b[0m\n",
            "1.0\n"
          ]
        }
      ]
    },
    {
      "cell_type": "markdown",
      "source": [
        "## playground"
      ],
      "metadata": {
        "id": "RvOtFj_C_w-I"
      }
    },
    {
      "cell_type": "code",
      "source": [
        "print(dir(env))\n",
        "#print(env.action_space)\n",
        "print(dir(env.observation_space))\n",
        "print(env.observation_space.n)\n",
        "print(dir(env.action_space))\n",
        "print(env.action_space.n)\n",
        "print(env.action_space.np_random)\n",
        "#print(env.class_name)\n",
        "#print(env.close)\n",
        "#print(env.compute_reward)\n",
        "#print(env.env)\n",
        "#print(env.observation_space\n",
        "#print(env.render\n",
        "#print(env.reset\n",
        "#print(env.metadata)\n",
        "#print(env.spec)\n",
        "#print(env.unwrapped)\n",
        "#print(env.step())\n",
        "      \n",
        "# 'reward_range', '', 'step'\n",
        "print(env.reset())\n",
        "print(env.step(env.action_space.sample()))"
      ],
      "metadata": {
        "colab": {
          "base_uri": "https://localhost:8080/"
        },
        "id": "MB3M0aHJ_md3",
        "outputId": "fac0cc6e-97a7-4245-f7d6-00a4836dae70"
      },
      "execution_count": null,
      "outputs": [
        {
          "output_type": "stream",
          "name": "stdout",
          "text": [
            "['__class__', '__delattr__', '__dict__', '__dir__', '__doc__', '__enter__', '__eq__', '__exit__', '__format__', '__ge__', '__getattr__', '__getattribute__', '__gt__', '__hash__', '__init__', '__init_subclass__', '__le__', '__lt__', '__module__', '__ne__', '__new__', '__reduce__', '__reduce_ex__', '__repr__', '__setattr__', '__sizeof__', '__str__', '__subclasshook__', '__weakref__', '_action_space', '_elapsed_steps', '_max_episode_steps', '_metadata', '_observation_space', '_reward_range', 'action_space', 'class_name', 'close', 'compute_reward', 'env', 'metadata', 'observation_space', 'render', 'reset', 'reward_range', 'seed', 'spec', 'step', 'unwrapped']\n",
            "['__class__', '__contains__', '__delattr__', '__dict__', '__dir__', '__doc__', '__eq__', '__format__', '__ge__', '__getattribute__', '__gt__', '__hash__', '__init__', '__init_subclass__', '__le__', '__lt__', '__module__', '__ne__', '__new__', '__reduce__', '__reduce_ex__', '__repr__', '__setattr__', '__setstate__', '__sizeof__', '__str__', '__subclasshook__', '__weakref__', '_np_random', '_shape', 'contains', 'dtype', 'from_jsonable', 'n', 'np_random', 'sample', 'seed', 'shape', 'to_jsonable']\n",
            "9\n",
            "['__class__', '__contains__', '__delattr__', '__dict__', '__dir__', '__doc__', '__eq__', '__format__', '__ge__', '__getattribute__', '__gt__', '__hash__', '__init__', '__init_subclass__', '__le__', '__lt__', '__module__', '__ne__', '__new__', '__reduce__', '__reduce_ex__', '__repr__', '__setattr__', '__setstate__', '__sizeof__', '__str__', '__subclasshook__', '__weakref__', '_np_random', '_shape', 'contains', 'dtype', 'from_jsonable', 'n', 'np_random', 'sample', 'seed', 'shape', 'to_jsonable']\n",
            "4\n",
            "RandomState(MT19937)\n",
            "0\n",
            "(3, 0.0, False, {'prob': 1.0})\n"
          ]
        }
      ]
    },
    {
      "cell_type": "code",
      "source": [
        "env = gym.make(\"LunarLander-v2\", render_mode=\"human\")\n",
        "env.action_space.seed(42)\n",
        "\n",
        "observation, info = env.reset(seed=42)\n",
        "\n",
        "for _ in range(1000):\n",
        "    observation, reward, terminated, truncated, info = env.step(env.action_space.sample())\n",
        "\n",
        "    if terminated or truncated:\n",
        "        observation, info = env.reset()\n",
        "\n",
        "env.close()"
      ],
      "metadata": {
        "id": "XFiZ9GL-_rKH"
      },
      "execution_count": null,
      "outputs": []
    },
    {
      "cell_type": "code",
      "source": [
        "env = gym.make(\"ALE/Breakout-v5\")\n",
        "env = Recorder(env, './video')\n",
        "\n",
        "observation = env.reset()\n",
        "terminal = False\n",
        "\n",
        "while not terminal:\n",
        "  action = env.action_space.sample()\n",
        "  observation, reward, terminal, info = env.step(action)\n",
        "\n",
        "env.play()\n"
      ],
      "metadata": {
        "colab": {
          "base_uri": "https://localhost:8080/",
          "height": 302
        },
        "id": "T11H7Uc3_utW",
        "outputId": "df53f102-9030-44e2-fa1b-fc5c25bbab89"
      },
      "execution_count": null,
      "outputs": [
        {
          "output_type": "stream",
          "name": "stderr",
          "text": [
            "WARNING:py.warnings:/usr/local/lib/python3.7/dist-packages/moviepy/video/io/ffmpeg_reader.py:130: UserWarning: Warning: in file ./video/1664323174.623368.mp4, 100800 bytes wanted but 0 bytes read,at frame 197/198, at time 6.57/6.57 sec. Using the last valid frame instead.\n",
            "  UserWarning)\n",
            "\n"
          ]
        },
        {
          "output_type": "display_data",
          "data": {
            "text/plain": [
              "<IPython.core.display.Video object>"
            ],
            "text/html": [
              "<video controls  >\n",
              " <source src=\"data:video/mp4;base64,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\" type=\"video/mp4\">\n",
              " Your browser does not support the video tag.\n",
              " </video>"
            ]
          },
          "metadata": {}
        }
      ]
    },
    {
      "cell_type": "code",
      "source": [
        "env = gym.make(\"CartPole-v0\")\n",
        "env = Recorder(env, './video')\n",
        "\n",
        "observation = env.reset()\n",
        "terminal = False\n",
        "\n",
        "while not terminal:\n",
        "  action = env.action_space.sample()\n",
        "  observation, reward, terminal, info = env.step(action)\n",
        "\n",
        "env.play()\n"
      ],
      "metadata": {
        "colab": {
          "base_uri": "https://localhost:8080/",
          "height": 647
        },
        "id": "lwGrxu-lVdJ_",
        "outputId": "82b6bafc-bf2c-496d-d3f2-c3091fb326a6"
      },
      "execution_count": null,
      "outputs": [
        {
          "output_type": "error",
          "ename": "ImportError",
          "evalue": "ignored",
          "traceback": [
            "\u001b[0;31m---------------------------------------------------------------------------\u001b[0m",
            "\u001b[0;31mModuleNotFoundError\u001b[0m                       Traceback (most recent call last)",
            "\u001b[0;32m/usr/local/lib/python3.7/dist-packages/gym/envs/classic_control/rendering.py\u001b[0m in \u001b[0;36m<module>\u001b[0;34m\u001b[0m\n\u001b[1;32m     14\u001b[0m \u001b[0;32mtry\u001b[0m\u001b[0;34m:\u001b[0m\u001b[0;34m\u001b[0m\u001b[0;34m\u001b[0m\u001b[0m\n\u001b[0;32m---> 15\u001b[0;31m     \u001b[0;32mimport\u001b[0m \u001b[0mpyglet\u001b[0m\u001b[0;34m\u001b[0m\u001b[0;34m\u001b[0m\u001b[0m\n\u001b[0m\u001b[1;32m     16\u001b[0m \u001b[0;32mexcept\u001b[0m \u001b[0mImportError\u001b[0m \u001b[0;32mas\u001b[0m \u001b[0me\u001b[0m\u001b[0;34m:\u001b[0m\u001b[0;34m\u001b[0m\u001b[0;34m\u001b[0m\u001b[0m\n",
            "\u001b[0;31mModuleNotFoundError\u001b[0m: No module named 'pyglet'",
            "\nDuring handling of the above exception, another exception occurred:\n",
            "\u001b[0;31mImportError\u001b[0m                               Traceback (most recent call last)",
            "\u001b[0;32m<ipython-input-112-16fd8371925f>\u001b[0m in \u001b[0;36m<module>\u001b[0;34m\u001b[0m\n\u001b[1;32m      1\u001b[0m \u001b[0menv\u001b[0m \u001b[0;34m=\u001b[0m \u001b[0mgym\u001b[0m\u001b[0;34m.\u001b[0m\u001b[0mmake\u001b[0m\u001b[0;34m(\u001b[0m\u001b[0;34m\"CartPole-v0\"\u001b[0m\u001b[0;34m)\u001b[0m\u001b[0;34m\u001b[0m\u001b[0;34m\u001b[0m\u001b[0m\n\u001b[0;32m----> 2\u001b[0;31m \u001b[0menv\u001b[0m \u001b[0;34m=\u001b[0m \u001b[0mRecorder\u001b[0m\u001b[0;34m(\u001b[0m\u001b[0menv\u001b[0m\u001b[0;34m,\u001b[0m \u001b[0;34m'./video'\u001b[0m\u001b[0;34m)\u001b[0m\u001b[0;34m\u001b[0m\u001b[0;34m\u001b[0m\u001b[0m\n\u001b[0m\u001b[1;32m      3\u001b[0m \u001b[0;34m\u001b[0m\u001b[0m\n\u001b[1;32m      4\u001b[0m \u001b[0mobservation\u001b[0m \u001b[0;34m=\u001b[0m \u001b[0menv\u001b[0m\u001b[0;34m.\u001b[0m\u001b[0mreset\u001b[0m\u001b[0;34m(\u001b[0m\u001b[0;34m)\u001b[0m\u001b[0;34m\u001b[0m\u001b[0;34m\u001b[0m\u001b[0m\n\u001b[1;32m      5\u001b[0m \u001b[0mterminal\u001b[0m \u001b[0;34m=\u001b[0m \u001b[0;32mFalse\u001b[0m\u001b[0;34m\u001b[0m\u001b[0;34m\u001b[0m\u001b[0m\n",
            "\u001b[0;32m/usr/local/lib/python3.7/dist-packages/colabgymrender/recorder.py\u001b[0m in \u001b[0;36m__init__\u001b[0;34m(self, env, directory, auto_release, size, fps)\u001b[0m\n\u001b[1;32m     18\u001b[0m         \u001b[0;32mif\u001b[0m \u001b[0msize\u001b[0m \u001b[0;32mis\u001b[0m \u001b[0;32mNone\u001b[0m\u001b[0;34m:\u001b[0m\u001b[0;34m\u001b[0m\u001b[0;34m\u001b[0m\u001b[0m\n\u001b[1;32m     19\u001b[0m             \u001b[0mself\u001b[0m\u001b[0;34m.\u001b[0m\u001b[0menv\u001b[0m\u001b[0;34m.\u001b[0m\u001b[0mreset\u001b[0m\u001b[0;34m(\u001b[0m\u001b[0;34m)\u001b[0m\u001b[0;34m\u001b[0m\u001b[0;34m\u001b[0m\u001b[0m\n\u001b[0;32m---> 20\u001b[0;31m             \u001b[0mself\u001b[0m\u001b[0;34m.\u001b[0m\u001b[0msize\u001b[0m \u001b[0;34m=\u001b[0m \u001b[0mself\u001b[0m\u001b[0;34m.\u001b[0m\u001b[0menv\u001b[0m\u001b[0;34m.\u001b[0m\u001b[0mrender\u001b[0m\u001b[0;34m(\u001b[0m\u001b[0mmode\u001b[0m \u001b[0;34m=\u001b[0m \u001b[0;34m'rgb_array'\u001b[0m\u001b[0;34m)\u001b[0m\u001b[0;34m.\u001b[0m\u001b[0mshape\u001b[0m\u001b[0;34m[\u001b[0m\u001b[0;34m:\u001b[0m\u001b[0;36m2\u001b[0m\u001b[0;34m]\u001b[0m\u001b[0;34m[\u001b[0m\u001b[0;34m:\u001b[0m\u001b[0;34m:\u001b[0m\u001b[0;34m-\u001b[0m\u001b[0;36m1\u001b[0m\u001b[0;34m]\u001b[0m\u001b[0;34m\u001b[0m\u001b[0;34m\u001b[0m\u001b[0m\n\u001b[0m\u001b[1;32m     21\u001b[0m         \u001b[0;32melse\u001b[0m\u001b[0;34m:\u001b[0m\u001b[0;34m\u001b[0m\u001b[0;34m\u001b[0m\u001b[0m\n\u001b[1;32m     22\u001b[0m             \u001b[0mself\u001b[0m\u001b[0;34m.\u001b[0m\u001b[0msize\u001b[0m \u001b[0;34m=\u001b[0m \u001b[0msize\u001b[0m\u001b[0;34m\u001b[0m\u001b[0;34m\u001b[0m\u001b[0m\n",
            "\u001b[0;32m/usr/local/lib/python3.7/dist-packages/gym/core.py\u001b[0m in \u001b[0;36mrender\u001b[0;34m(self, mode, **kwargs)\u001b[0m\n\u001b[1;32m    293\u001b[0m \u001b[0;34m\u001b[0m\u001b[0m\n\u001b[1;32m    294\u001b[0m     \u001b[0;32mdef\u001b[0m \u001b[0mrender\u001b[0m\u001b[0;34m(\u001b[0m\u001b[0mself\u001b[0m\u001b[0;34m,\u001b[0m \u001b[0mmode\u001b[0m\u001b[0;34m=\u001b[0m\u001b[0;34m\"human\"\u001b[0m\u001b[0;34m,\u001b[0m \u001b[0;34m**\u001b[0m\u001b[0mkwargs\u001b[0m\u001b[0;34m)\u001b[0m\u001b[0;34m:\u001b[0m\u001b[0;34m\u001b[0m\u001b[0;34m\u001b[0m\u001b[0m\n\u001b[0;32m--> 295\u001b[0;31m         \u001b[0;32mreturn\u001b[0m \u001b[0mself\u001b[0m\u001b[0;34m.\u001b[0m\u001b[0menv\u001b[0m\u001b[0;34m.\u001b[0m\u001b[0mrender\u001b[0m\u001b[0;34m(\u001b[0m\u001b[0mmode\u001b[0m\u001b[0;34m,\u001b[0m \u001b[0;34m**\u001b[0m\u001b[0mkwargs\u001b[0m\u001b[0;34m)\u001b[0m\u001b[0;34m\u001b[0m\u001b[0;34m\u001b[0m\u001b[0m\n\u001b[0m\u001b[1;32m    296\u001b[0m \u001b[0;34m\u001b[0m\u001b[0m\n\u001b[1;32m    297\u001b[0m     \u001b[0;32mdef\u001b[0m \u001b[0mclose\u001b[0m\u001b[0;34m(\u001b[0m\u001b[0mself\u001b[0m\u001b[0;34m)\u001b[0m\u001b[0;34m:\u001b[0m\u001b[0;34m\u001b[0m\u001b[0;34m\u001b[0m\u001b[0m\n",
            "\u001b[0;32m/usr/local/lib/python3.7/dist-packages/gym/envs/classic_control/cartpole.py\u001b[0m in \u001b[0;36mrender\u001b[0;34m(self, mode)\u001b[0m\n\u001b[1;32m    177\u001b[0m \u001b[0;34m\u001b[0m\u001b[0m\n\u001b[1;32m    178\u001b[0m         \u001b[0;32mif\u001b[0m \u001b[0mself\u001b[0m\u001b[0;34m.\u001b[0m\u001b[0mviewer\u001b[0m \u001b[0;32mis\u001b[0m \u001b[0;32mNone\u001b[0m\u001b[0;34m:\u001b[0m\u001b[0;34m\u001b[0m\u001b[0;34m\u001b[0m\u001b[0m\n\u001b[0;32m--> 179\u001b[0;31m             \u001b[0;32mfrom\u001b[0m \u001b[0mgym\u001b[0m\u001b[0;34m.\u001b[0m\u001b[0menvs\u001b[0m\u001b[0;34m.\u001b[0m\u001b[0mclassic_control\u001b[0m \u001b[0;32mimport\u001b[0m \u001b[0mrendering\u001b[0m\u001b[0;34m\u001b[0m\u001b[0;34m\u001b[0m\u001b[0m\n\u001b[0m\u001b[1;32m    180\u001b[0m \u001b[0;34m\u001b[0m\u001b[0m\n\u001b[1;32m    181\u001b[0m             \u001b[0mself\u001b[0m\u001b[0;34m.\u001b[0m\u001b[0mviewer\u001b[0m \u001b[0;34m=\u001b[0m \u001b[0mrendering\u001b[0m\u001b[0;34m.\u001b[0m\u001b[0mViewer\u001b[0m\u001b[0;34m(\u001b[0m\u001b[0mscreen_width\u001b[0m\u001b[0;34m,\u001b[0m \u001b[0mscreen_height\u001b[0m\u001b[0;34m)\u001b[0m\u001b[0;34m\u001b[0m\u001b[0;34m\u001b[0m\u001b[0m\n",
            "\u001b[0;32m/usr/local/lib/python3.7/dist-packages/gym/envs/classic_control/rendering.py\u001b[0m in \u001b[0;36m<module>\u001b[0;34m\u001b[0m\n\u001b[1;32m     21\u001b[0m     \u001b[0mBut\u001b[0m \u001b[0;32mif\u001b[0m \u001b[0myou\u001b[0m \u001b[0mreally\u001b[0m \u001b[0mjust\u001b[0m \u001b[0mwant\u001b[0m \u001b[0mto\u001b[0m \u001b[0minstall\u001b[0m \u001b[0mall\u001b[0m \u001b[0mGym\u001b[0m \u001b[0mdependencies\u001b[0m \u001b[0;32mand\u001b[0m \u001b[0;32mnot\u001b[0m \u001b[0mhave\u001b[0m \u001b[0mto\u001b[0m \u001b[0mthink\u001b[0m \u001b[0mabout\u001b[0m \u001b[0mit\u001b[0m\u001b[0;34m,\u001b[0m\u001b[0;34m\u001b[0m\u001b[0;34m\u001b[0m\u001b[0m\n\u001b[1;32m     22\u001b[0m     \u001b[0;34m'pip install -e .[all]'\u001b[0m \u001b[0;32mor\u001b[0m \u001b[0;34m'pip install gym[all]'\u001b[0m \u001b[0mwill\u001b[0m \u001b[0mdo\u001b[0m \u001b[0mit\u001b[0m\u001b[0;34m.\u001b[0m\u001b[0;34m\u001b[0m\u001b[0;34m\u001b[0m\u001b[0m\n\u001b[0;32m---> 23\u001b[0;31m     \"\"\"\n\u001b[0m\u001b[1;32m     24\u001b[0m     )\n\u001b[1;32m     25\u001b[0m \u001b[0;34m\u001b[0m\u001b[0m\n",
            "\u001b[0;31mImportError\u001b[0m: \n    Cannot import pyglet.\n    HINT: you can install pyglet directly via 'pip install pyglet'.\n    But if you really just want to install all Gym dependencies and not have to think about it,\n    'pip install -e .[all]' or 'pip install gym[all]' will do it.\n    ",
            "",
            "\u001b[0;31m---------------------------------------------------------------------------\u001b[0;32m\nNOTE: If your import is failing due to a missing package, you can\nmanually install dependencies using either !pip or !apt.\n\nTo view examples of installing some common dependencies, click the\n\"Open Examples\" button below.\n\u001b[0;31m---------------------------------------------------------------------------\u001b[0m\n"
          ],
          "errorDetails": {
            "actions": [
              {
                "action": "open_url",
                "actionText": "Open Examples",
                "url": "/notebooks/snippets/importing_libraries.ipynb"
              }
            ]
          }
        }
      ]
    },
    {
      "cell_type": "code",
      "source": [
        "env = gym.make('FrozenLake-v1')\n",
        "env = Recorder(env, './video')\n",
        "\n",
        "observation = env.reset()\n",
        "terminal = False\n",
        "\n",
        "while not terminal:\n",
        "  action = env.action_space.sample()\n",
        "  observation, reward, terminal, info = env.step(action)\n",
        "\n",
        "env.play()\n"
      ],
      "metadata": {
        "colab": {
          "base_uri": "https://localhost:8080/",
          "height": 224
        },
        "id": "bPNAw4dFT-Uj",
        "outputId": "8bd8a28c-b838-4353-c3d7-2ccdf76b3bb8"
      },
      "execution_count": null,
      "outputs": [
        {
          "output_type": "error",
          "ename": "NameError",
          "evalue": "ignored",
          "traceback": [
            "\u001b[0;31m---------------------------------------------------------------------------\u001b[0m",
            "\u001b[0;31mNameError\u001b[0m                                 Traceback (most recent call last)",
            "\u001b[0;32m<ipython-input-1-9e916d371fd2>\u001b[0m in \u001b[0;36m<module>\u001b[0;34m\u001b[0m\n\u001b[0;32m----> 1\u001b[0;31m \u001b[0menv\u001b[0m \u001b[0;34m=\u001b[0m \u001b[0mgym\u001b[0m\u001b[0;34m.\u001b[0m\u001b[0mmake\u001b[0m\u001b[0;34m(\u001b[0m\u001b[0;34m'FrozenLake-v1'\u001b[0m\u001b[0;34m)\u001b[0m\u001b[0;34m\u001b[0m\u001b[0;34m\u001b[0m\u001b[0m\n\u001b[0m\u001b[1;32m      2\u001b[0m \u001b[0menv\u001b[0m \u001b[0;34m=\u001b[0m \u001b[0mRecorder\u001b[0m\u001b[0;34m(\u001b[0m\u001b[0menv\u001b[0m\u001b[0;34m,\u001b[0m \u001b[0;34m'./video'\u001b[0m\u001b[0;34m)\u001b[0m\u001b[0;34m\u001b[0m\u001b[0;34m\u001b[0m\u001b[0m\n\u001b[1;32m      3\u001b[0m \u001b[0;34m\u001b[0m\u001b[0m\n\u001b[1;32m      4\u001b[0m \u001b[0mobservation\u001b[0m \u001b[0;34m=\u001b[0m \u001b[0menv\u001b[0m\u001b[0;34m.\u001b[0m\u001b[0mreset\u001b[0m\u001b[0;34m(\u001b[0m\u001b[0;34m)\u001b[0m\u001b[0;34m\u001b[0m\u001b[0;34m\u001b[0m\u001b[0m\n\u001b[1;32m      5\u001b[0m \u001b[0mterminal\u001b[0m \u001b[0;34m=\u001b[0m \u001b[0;32mFalse\u001b[0m\u001b[0;34m\u001b[0m\u001b[0;34m\u001b[0m\u001b[0m\n",
            "\u001b[0;31mNameError\u001b[0m: name 'gym' is not defined"
          ]
        }
      ]
    },
    {
      "cell_type": "code",
      "source": [
        "print(env.metadata)"
      ],
      "metadata": {
        "colab": {
          "base_uri": "https://localhost:8080/"
        },
        "id": "C3SoPkJWXXj6",
        "outputId": "f0671bc4-3088-4649-9ef2-82fb1adc9d36"
      },
      "execution_count": null,
      "outputs": [
        {
          "output_type": "stream",
          "name": "stdout",
          "text": [
            "{'render.modes': ['human', 'ansi']}\n"
          ]
        }
      ]
    },
    {
      "cell_type": "code",
      "source": [
        "env = gym.make('FrozenLake-v1')\n",
        "env.reset()\n",
        "env.render(mode = 'human') #(mode = 'rgb_array').shape[:2][::-1]"
      ],
      "metadata": {
        "colab": {
          "base_uri": "https://localhost:8080/"
        },
        "id": "I0luWlfOWDQb",
        "outputId": "220a582f-d0a9-4182-e205-72fc082b03a4"
      },
      "execution_count": null,
      "outputs": [
        {
          "output_type": "stream",
          "name": "stdout",
          "text": [
            "\n",
            "\u001b[41mS\u001b[0mFFF\n",
            "FHFH\n",
            "FFFH\n",
            "HFFG\n"
          ]
        }
      ]
    }
  ]
}